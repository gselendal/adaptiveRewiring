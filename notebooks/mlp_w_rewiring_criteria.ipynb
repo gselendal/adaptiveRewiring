{
 "cells": [
  {
   "cell_type": "code",
   "execution_count": 1,
   "metadata": {
    "jupyter": {
     "source_hidden": true
    }
   },
   "outputs": [
    {
     "ename": "LoadError",
     "evalue": "UndefVarError: xWireNonHead not defined",
     "output_type": "error",
     "traceback": [
      "UndefVarError: xWireNonHead not defined",
      "",
      "Stacktrace:",
      " [1] top-level scope at In[1]:3",
      " [2] include_string(::Function, ::Module, ::String, ::String) at ./loading.jl:1091"
     ]
    }
   ],
   "source": [
    "\n",
    "\n",
    "\"\"\"function computeConsensusKernel(A, tau)\n",
    "\n",
    "    # estimate the in-degree Laplacian \n",
    "    n = size(A,1)\n",
    "    \n",
    "    # println(\"n: \", n)\n",
    "    #println(\"sum: \", size(sum(A, dims = 1)))\n",
    "\n",
    "    \n",
    "    Din = sum(A, dims = 1) .* Matrix(I, n, n)\n",
    "    \n",
    "    #println(\"Din: \", size(Din))\n",
    "    \n",
    "    Lin = Din .- A\n",
    "\n",
    "    # calculate the consensus kernel\n",
    "    kernel = exp(-tau .* Lin)\n",
    "    \n",
    "    return kernel\n",
    "end\n",
    "\n",
    "function computeAdvectionKernel(A, tau)\n",
    "\n",
    "    n = size(A,1)\n",
    "    Dout = sum(A, dims = 2) .* Matrix(I, n, n)\n",
    "    Lout = Dout .- A\n",
    "\n",
    "    # calculate the consensus kernel\n",
    "    kernel = exp(-tau .* Lout)\n",
    "    \n",
    "    return kernel\n",
    "end\n",
    "\n",
    "function pruneOutDegree(AInit, pRandPrune, tau)\n",
    "    A = copy(AInit)\n",
    "    numNodes = size(A, 1)\n",
    "    notX, nodeX = pickNodeWithInOutEdges(A, tau, pRandPrune)\n",
    "    \n",
    "        if pRandPrune <= rand()\n",
    "            # get node x's coldest head (excluding \"x\")\n",
    "            xHeads = findall(x -> x != 0, A[:, nodeX])\n",
    "            xCutHead = xHeads[argmin(A[xHeads, nodeX])]\n",
    "        else # else we randomly rewire    \n",
    "            xHeads = findall(x -> x != 0, A[:, nodeX])\n",
    "            ind = rand(1:length(xHeads))\n",
    "            xCutHead = xHeads[ind]\n",
    "        end\n",
    "        \n",
    "        o = A[xCutHead, nodeX]\n",
    "        A[xCutHead, nodeX] = 0 \n",
    "\n",
    "  \n",
    "    return A, o, xCutHead, nodeX\n",
    "end\n",
    "\n",
    "function pruneInDegree(AInit, pRandPrune, tau)\n",
    "\n",
    "    A = copy(AInit)\n",
    "    numNodes = size(A, 1)\n",
    "    \n",
    "        \n",
    "    notX, nodeX = pickNodeWithInOutEdges(A, tau, pRandPrune)\n",
    "                \n",
    "    if pRandPrune <= rand()\n",
    "        #println(\"1\")\n",
    "        # get node x's coldest tail (excluding \"x\")\n",
    "        xTails = findall(x -> x != 0, A[nodeX, :])\n",
    "        xCutTail = xTails[argmin(A[nodeX, xTails])]\n",
    "    else # else we randomly prune    \n",
    "        #println(\"2\")\n",
    "        xTails = findall(x -> x != 0, A[nodeX, :])\n",
    "        ind = rand(1:length(xTails))\n",
    "        xCutTail = xTails[ind]\n",
    "    end\n",
    "    \n",
    "    o = A[nodeX, xCutTail]\n",
    "    A[nodeX, xCutTail] = 0 \n",
    "    \n",
    "    \n",
    "    return A, o, xCutTail, nodeX \n",
    "end\n",
    "\n",
    "function rewireOutDegree(AInit, o, xCutHead, nodeX, pRandRewire)\n",
    "        A = copy(AInit)\n",
    "        numNodes = size(A, 1)\n",
    "\n",
    "        # keep a record of the other nodes\n",
    "        indAll = collect(1:numNodes)\n",
    "        notX = filter(x -> !(x in nodeX) && !(x == xCutHead), indAll)\n",
    "\n",
    "        # find the nodes with no incomings from \"x\"\n",
    "        xNonHeadBool = 1 .* Bool.(A[notX, nodeX] .== 0) \n",
    "        \n",
    "        if pRandRewire <= rand()\n",
    "            xNonHeads = notX[findall(x -> x != 0, xNonHeadBool)]\n",
    "            xWireNonHead = xNonHeads[argmax(A[xNonHeads, nodeX])]\n",
    "        else # else we randomly rewire    \n",
    "            xNonHeadBoolNonzero = findall(x -> x != 0, xNonHeadBool)\n",
    "            ind = rand(1:length(xNonHeadBoolNonzero))\n",
    "            xWireNonHead = notX[xNonHeadBoolNonzero[ind]]\n",
    "        end\n",
    "        \n",
    "        if xCutHead == xWireNonHead\n",
    "            println(\"PROBLEM\")\n",
    "            println(\"The A nodes rewired are $xWireNonHead and $nodeX with weight $A[xCutHead, nodeX]\")\n",
    "            println(\"The A nodes disconnected are $xCutHead and $nodeX\")\n",
    "        end\n",
    "    \n",
    "        A[xWireNonHead, nodeX] = o\n",
    "  \n",
    "    return A    \n",
    "end\n",
    "\n",
    "function rewireInDegree(AInit, o, xCutTail, nodeX, pRandRewire)\n",
    "       \n",
    "    A = copy(AInit)\n",
    "    numNodes = size(A, 1)\n",
    "    \n",
    "        \n",
    "    # keep a record of the other nodes\n",
    "    indAll = collect(1:numNodes)\n",
    "    notX = filter(x -> !(x in nodeX) && !(x == xCutTail), indAll)\n",
    "\n",
    "    # find the nodes with no incomings from \"x\"\n",
    "        \n",
    "    xNonTailBool = 1 .* Bool.(A[nodeX, notX] .== 0) \n",
    "        \n",
    "    if pRandRewire <= rand()\n",
    "        # get node x's hottest non-tail (excluding \"x\")\n",
    "        xNonTails = notX[findall(x -> x != 0, xNonTailBool)]\n",
    "        xWireNonTail = xNonTails[argmax(A[nodeX, xNonTails])]            \n",
    "    else # else we randomly rewire    \n",
    "        xNonTailBoolNonzero = findall(x -> x != 0, xNonTailBool)\n",
    "        ind = rand(1:length(xNonTailBoolNonzero))\n",
    "        xWireNonTail = notX[xNonTailBoolNonzero[ind]]\n",
    "    end\n",
    "        \n",
    "    if xCutTail == xWireNonTail\n",
    "        println(\"PROBLEM\")\n",
    "        println(\"The A nodes rewired are $xWireNonTail and $nodeX with weight $A[nodeX, xCutTail]\")\n",
    "        println(\"The A nodes disconnected are $xCutTail and $nodeX\")\n",
    "    end\n",
    "    \n",
    "    A[xWireNonTail, nodeX] = o\n",
    "\n",
    "    \n",
    "    return A\n",
    "end\"\"\"\n",
    "\n",
    "\n",
    "\n",
    "\n",
    "\"\"\"\n",
    "function backprop(w, b, niter, trainidx, testidx, n, ntest, nbatch, layer_dims; rewire = false, λ= 0.0, LR = 0.1, p = 0.0)\n",
    "    losstrn = []\n",
    "    losstst = []    \n",
    "    xtrn, ytrn, xtst, ytst = mlp.split_data(trainidx, testidx, n, ntest)\n",
    "    rho = []\n",
    "    tau = 4.5 \n",
    "    \n",
    "    t = 1 \n",
    "    for k in progress(1:niter)\n",
    "        xin = genbatch(trainidx, n,nbatch, ntest)\n",
    "        yin = sum(xin,dims=1).%2\n",
    "        dl = @diff loss(w,b,xin,yin; λ= λ)\n",
    "        for i=1:length(w)\n",
    "            w[i] .-= LR *grad(dl,w[i])\n",
    "            b[i] .-= LR *grad(dl,b[i])\n",
    "        end\n",
    "         \n",
    "        \n",
    "        if k == 2^t \n",
    "            t += 1 \n",
    "            \n",
    "            A = computeKernel(w,layer_dims)\n",
    "\n",
    "            A = runOutDynamics(A, p, tau, rewire = rewire)\n",
    "            A, o, xCutHead, nodeX = pruneOutDegree(A, p, tau)\n",
    "\n",
    "            if rewire == true\n",
    "                A = rewireOutDegree(A, o, xCutHead, nodeX, p)\n",
    "            end\n",
    "            \n",
    "            w = computeKernel_reverse(w, A, layer_dims)\n",
    "        end\n",
    "        \n",
    "        if (k%1000==1)\n",
    "            xin = genbatch(trainidx, n,ntest, ntest) # training set samples with size equal to test set\n",
    "            yin = sum(xin,dims=1).%2 \n",
    "            push!(losstrn,loss(w,b,xin,yin; λ= λ)) # record loss over 1000 samples\n",
    "            push!(losstst,loss(w,b,xtst,ytst; λ= λ))\n",
    "        end\n",
    "        \n",
    "    end\n",
    "    \n",
    "    return w, b, losstrn, losstst, rho\n",
    "end\n",
    "\"\"\"        "
   ]
  },
  {
   "cell_type": "code",
   "execution_count": 14,
   "metadata": {},
   "outputs": [],
   "source": [
    "using Revise\n",
    "includet(\"../codebase/mlp.jl\")\n",
    "includet(\"../codebase/rewiring.jl\")\n",
    "using Knet, Plots, Statistics, LinearAlgebra, Random, .mlp"
   ]
  },
  {
   "cell_type": "code",
   "execution_count": 15,
   "metadata": {},
   "outputs": [
    {
     "data": {
      "text/plain": [
       "90000"
      ]
     },
     "execution_count": 15,
     "metadata": {},
     "output_type": "execute_result"
    }
   ],
   "source": [
    "n=12 # length of input bit array\n",
    "xdim = n\n",
    "h1=h2=h3=2*n # hidden layer sizes\n",
    "ydim = 1 # output is the probability for even parity\n",
    "nbatch = 100 # number of bit strings presented at each iteration\n",
    "ntest = div(2^n,8) # keep 1/8-th as test set\n",
    "niter = 9*10^4 # number of training iterations"
   ]
  },
  {
   "cell_type": "code",
   "execution_count": 16,
   "metadata": {},
   "outputs": [
    {
     "data": {
      "text/plain": [
       "(12, 24, 24, 24, 1)"
      ]
     },
     "execution_count": 16,
     "metadata": {},
     "output_type": "execute_result"
    }
   ],
   "source": [
    "# NN parameters\n",
    "w1 = Param(randn(h1,xdim))\n",
    "b1 = Param(randn(h1))\n",
    "w2 = Param(randn(h2,h1))\n",
    "b2 = Param(randn(h2))\n",
    "w3 = Param(randn(h3,h2))\n",
    "b3 = Param(randn(h3))\n",
    "w4 = Param(randn(1,h3))\n",
    "b4 = Param(randn(1))\n",
    "w = (w1,w2,w3,w4)\n",
    "b = (b1,b2,b3,b4)\n",
    "layer_dims = (xdim, h1, h2, h3, ydim)"
   ]
  },
  {
   "cell_type": "code",
   "execution_count": null,
   "metadata": {},
   "outputs": [],
   "source": []
  },
  {
   "cell_type": "code",
   "execution_count": 17,
   "metadata": {},
   "outputs": [
    {
     "data": {
      "text/plain": [
       "([2, 3, 5, 6, 8, 9, 10, 11, 12, 13  …  4083, 4084, 4085, 4087, 4088, 4089, 4090, 4091, 4092, 4095], [480, 3040, 3937, 3427, 56, 1971, 2835, 1681, 3873, 23  …  4056, 1876, 1638, 303, 3764, 1726, 657, 1183, 143, 3956])"
      ]
     },
     "execution_count": 17,
     "metadata": {},
     "output_type": "execute_result"
    }
   ],
   "source": [
    "trainidx, testidx = mlp.gen_data(n, ntest)"
   ]
  },
  {
   "cell_type": "code",
   "execution_count": 18,
   "metadata": {},
   "outputs": [
    {
     "name": "stderr",
     "output_type": "stream",
     "text": [
      "┣                    ┫ [0.00%, 1/90000, 00:00/00:00, 232342.01i/s] "
     ]
    },
    {
     "name": "stdout",
     "output_type": "stream",
     "text": [
      "Rewiring: non-head (13,18) with head (1, 18)\n",
      "Loss increasing\n",
      "Rewiring: non-head (1,73) with head (40, 73)\n",
      "Loss increasing\n"
     ]
    },
    {
     "name": "stderr",
     "output_type": "stream",
     "text": [
      "┣▍                   ┫ [1.95%, 1756/90000, 00:01/00:51, 1754.99i/s] "
     ]
    },
    {
     "name": "stdout",
     "output_type": "stream",
     "text": [
      "Rewiring: non-head (1,70) with head (59, 70)\n",
      "Loss increasing\n",
      "Rewiring: non-head (13,21) with head (6, 21)\n",
      "Loss increasing\n"
     ]
    },
    {
     "name": "stderr",
     "output_type": "stream",
     "text": [
      "┣▊                   ┫ [3.95%, 3556/90000, 00:02/00:51, 1799.40i/s] "
     ]
    },
    {
     "name": "stdout",
     "output_type": "stream",
     "text": [
      "Rewiring: non-head (13,26) with head (2, 26)\n",
      "Loss increasing\n",
      "Rewiring: non-head (1,80) with head (37, 80)\n",
      "Loss increasing\n"
     ]
    },
    {
     "name": "stderr",
     "output_type": "stream",
     "text": [
      "┣█▏                  ┫ [5.96%, 5362/90000, 00:03/00:50, 1805.71i/s] "
     ]
    },
    {
     "name": "stdout",
     "output_type": "stream",
     "text": [
      "Rewiring: non-head (1,84) with head (49, 84)\n",
      "Loss increasing\n",
      "Rewiring: non-head (13,21) with head (3, 21)\n",
      "Loss increasing\n"
     ]
    },
    {
     "name": "stderr",
     "output_type": "stream",
     "text": [
      "┣█▌                  ┫ [8.01%, 7206/90000, 00:04/00:50, 1843.87i/s] "
     ]
    },
    {
     "name": "stdout",
     "output_type": "stream",
     "text": [
      "Rewiring: non-head (13,25) with head (4, 25)\n",
      "Loss increasing\n"
     ]
    },
    {
     "name": "stderr",
     "output_type": "stream",
     "text": [
      "┣██                  ┫ [10.06%, 9050/90000, 00:05/00:50, 1843.96i/s] "
     ]
    },
    {
     "name": "stdout",
     "output_type": "stream",
     "text": [
      "Rewiring: non-head (1,46) with head (20, 46)\n",
      "Loss increasing\n",
      "Rewiring: non-head (1,83) with head (47, 83)\n",
      "Loss increasing\n"
     ]
    },
    {
     "name": "stderr",
     "output_type": "stream",
     "text": [
      "┣██▍                 ┫ [12.05%, 10849/90000, 00:06/00:50, 1798.72i/s] "
     ]
    },
    {
     "name": "stdout",
     "output_type": "stream",
     "text": [
      "Rewiring: non-head (13,32) with head (3, 32)\n",
      "Loss increasing\n",
      "Rewiring: non-head (1,60) with head (14, 60)\n",
      "Loss increasing\n"
     ]
    },
    {
     "name": "stderr",
     "output_type": "stream",
     "text": [
      "┣██▊                 ┫ [13.76%, 12381/90000, 00:07/00:51, 1531.54i/s] "
     ]
    },
    {
     "name": "stdout",
     "output_type": "stream",
     "text": [
      "Rewiring: non-head (1,54) with head (25, 54)\n",
      "Loss increasing\n"
     ]
    },
    {
     "name": "stderr",
     "output_type": "stream",
     "text": [
      "┣███▏                ┫ [15.71%, 14141/90000, 00:08/00:51, 1742.66i/s] "
     ]
    },
    {
     "name": "stdout",
     "output_type": "stream",
     "text": [
      "Rewiring: non-head (13,16) with head (9, 16)\n",
      "Loss increasing\n",
      "Rewiring: non-head (1,38) with head (28, 38)\n",
      "Loss increasing\n"
     ]
    },
    {
     "name": "stderr",
     "output_type": "stream",
     "text": [
      "┣███▌                ┫ [17.89%, 16100/90000, 00:09/00:50, 1958.58i/s] "
     ]
    },
    {
     "name": "stdout",
     "output_type": "stream",
     "text": [
      "Rewiring: non-head (1,55) with head (31, 55)\n",
      "Loss increasing\n",
      "Rewiring: non-head (13,33) with head (9, 33)\n",
      "Loss increasing\n"
     ]
    },
    {
     "name": "stderr",
     "output_type": "stream",
     "text": [
      "┣███▉                ┫ [19.90%, 17910/90000, 00:10/00:50, 1784.21i/s] "
     ]
    },
    {
     "name": "stdout",
     "output_type": "stream",
     "text": [
      "Rewiring: non-head (1,76) with head (43, 76)\n",
      "Loss increasing\n",
      "Rewiring: non-head (13,30) with head (2, 30)\n",
      "Loss increasing\n"
     ]
    },
    {
     "name": "stderr",
     "output_type": "stream",
     "text": [
      "┣████▎               ┫ [21.66%, 19492/90000, 00:11/00:51, 1581.23i/s] "
     ]
    },
    {
     "name": "stdout",
     "output_type": "stream",
     "text": [
      "Rewiring: non-head (14,13) with head (9, 13)\n",
      "Loss increasing\n",
      "Rewiring: non-head (1,70) with head (59, 70)\n",
      "Loss increasing\n"
     ]
    },
    {
     "name": "stderr",
     "output_type": "stream",
     "text": [
      "┣████▋               ┫ [23.52%, 21166/90000, 00:12/00:51, 1673.35i/s] "
     ]
    },
    {
     "name": "stdout",
     "output_type": "stream",
     "text": [
      "Rewiring: non-head (1,68) with head (45, 68)\n",
      "Loss increasing\n"
     ]
    },
    {
     "name": "stderr",
     "output_type": "stream",
     "text": [
      "┣█████               ┫ [25.50%, 22946/90000, 00:13/00:51, 1779.76i/s] "
     ]
    },
    {
     "name": "stdout",
     "output_type": "stream",
     "text": [
      "Rewiring: non-head (1,82) with head (60, 82)\n",
      "Loss increasing\n",
      "Rewiring: non-head (13,15) with head (12, 15)\n",
      "Loss increasing\n"
     ]
    },
    {
     "name": "stderr",
     "output_type": "stream",
     "text": [
      "┣█████▍              ┫ [27.28%, 24555/90000, 00:14/00:51, 1599.50i/s] "
     ]
    },
    {
     "name": "stdout",
     "output_type": "stream",
     "text": [
      "Rewiring: non-head (1,58) with head (16, 58)\n",
      "Loss increasing\n",
      "Rewiring: non-head (13,31) with head (12, 31)\n",
      "Loss increasing\n"
     ]
    },
    {
     "name": "stderr",
     "output_type": "stream",
     "text": [
      "┣█████▊              ┫ [29.25%, 26327/90000, 00:15/00:51, 1764.07i/s] "
     ]
    },
    {
     "name": "stdout",
     "output_type": "stream",
     "text": [
      "Rewiring: non-head (13,22) with head (7, 22)\n",
      "Loss increasing\n",
      "Rewiring: non-head (1,71) with head (39, 71)\n",
      "Loss increasing\n"
     ]
    },
    {
     "name": "stderr",
     "output_type": "stream",
     "text": [
      "┣██████▎             ┫ [31.28%, 28156/90000, 00:16/00:51, 1828.75i/s] "
     ]
    },
    {
     "name": "stdout",
     "output_type": "stream",
     "text": [
      "Rewiring: non-head (13,28) with head (6, 28)\n",
      "Loss increasing\n"
     ]
    },
    {
     "name": "stderr",
     "output_type": "stream",
     "text": [
      "┣██████▋             ┫ [33.32%, 29992/90000, 00:17/00:51, 1835.38i/s] "
     ]
    },
    {
     "name": "stdout",
     "output_type": "stream",
     "text": [
      "Rewiring: non-head (1,66) with head (39, 66)\n",
      "Loss increasing\n",
      "Rewiring: non-head (13,36) with head (1, 36)\n",
      "Loss increasing\n"
     ]
    },
    {
     "name": "stderr",
     "output_type": "stream",
     "text": [
      "┣███████             ┫ [35.29%, 31758/90000, 00:18/00:51, 1765.98i/s] "
     ]
    },
    {
     "name": "stdout",
     "output_type": "stream",
     "text": [
      "Rewiring: non-head (1,45) with head (23, 45)\n",
      "Loss increasing\n",
      "Rewiring: non-head (1,49) with head (21, 49)\n",
      "Loss increasing\n"
     ]
    },
    {
     "name": "stderr",
     "output_type": "stream",
     "text": [
      "┣███████▍            ┫ [37.34%, 33607/90000, 00:19/00:51, 1848.87i/s] "
     ]
    },
    {
     "name": "stdout",
     "output_type": "stream",
     "text": [
      "Rewiring: non-head (13,23) with head (1, 23)\n",
      "Loss increasing\n",
      "Rewiring: non-head (1,53) with head (30, 53)\n",
      "Loss increasing\n"
     ]
    },
    {
     "name": "stderr",
     "output_type": "stream",
     "text": [
      "┣███████▊            ┫ [39.31%, 35383/90000, 00:20/00:51, 1775.60i/s] "
     ]
    },
    {
     "name": "stdout",
     "output_type": "stream",
     "text": [
      "Rewiring: non-head (1,41) with head (23, 41)\n",
      "Loss increasing\n"
     ]
    },
    {
     "name": "stderr",
     "output_type": "stream",
     "text": [
      "┣████████▎           ┫ [41.28%, 37149/90000, 00:21/00:51, 1765.12i/s] "
     ]
    },
    {
     "name": "stdout",
     "output_type": "stream",
     "text": [
      "Rewiring: non-head (1,47) with head (24, 47)\n",
      "Loss increasing\n",
      "Rewiring: non-head (13,16) with head (9, 16)\n",
      "Loss increasing\n"
     ]
    },
    {
     "name": "stderr",
     "output_type": "stream",
     "text": [
      "┣████████▋           ┫ [43.29%, 38964/90000, 00:22/00:51, 1809.28i/s] "
     ]
    },
    {
     "name": "stdout",
     "output_type": "stream",
     "text": [
      "Rewiring: non-head (1,44) with head (32, 44)\n",
      "Loss increasing\n",
      "Rewiring: non-head (13,26) with head (2, 26)\n",
      "Loss increasing\n"
     ]
    },
    {
     "name": "stderr",
     "output_type": "stream",
     "text": [
      "┣█████████           ┫ [45.34%, 40805/90000, 00:23/00:51, 1840.91i/s] "
     ]
    },
    {
     "name": "stdout",
     "output_type": "stream",
     "text": [
      "Rewiring: non-head (13,29) with head (12, 29)\n",
      "Loss increasing\n",
      "Rewiring: non-head (1,58) with head (16, 58)\n",
      "Loss increasing\n"
     ]
    },
    {
     "name": "stderr",
     "output_type": "stream",
     "text": [
      "┣█████████▍          ┫ [47.27%, 42545/90000, 00:24/00:51, 1739.83i/s] "
     ]
    },
    {
     "name": "stdout",
     "output_type": "stream",
     "text": [
      "Rewiring: non-head (1,63) with head (45, 63)\n",
      "Loss increasing\n",
      "Rewiring: non-head (13,19) with head (12, 19)\n",
      "Loss increasing\n"
     ]
    },
    {
     "name": "stderr",
     "output_type": "stream",
     "text": [
      "┣█████████▊          ┫ [49.22%, 44295/90000, 00:25/00:51, 1749.17i/s] "
     ]
    },
    {
     "name": "stdout",
     "output_type": "stream",
     "text": [
      "Rewiring: non-head (1,49) with head (21, 49)\n",
      "Loss increasing\n"
     ]
    },
    {
     "name": "stderr",
     "output_type": "stream",
     "text": [
      "┣██████████▏         ┫ [51.16%, 46047/90000, 00:26/00:51, 1751.32i/s] "
     ]
    },
    {
     "name": "stdout",
     "output_type": "stream",
     "text": [
      "Rewiring: non-head (1,76) with head (43, 76)\n",
      "Loss increasing\n",
      "Rewiring: non-head (1,64) with head (42, 64)\n",
      "Loss increasing\n"
     ]
    },
    {
     "name": "stderr",
     "output_type": "stream",
     "text": [
      "┣██████████▋         ┫ [53.15%, 47832/90000, 00:27/00:51, 1784.36i/s] "
     ]
    },
    {
     "name": "stdout",
     "output_type": "stream",
     "text": [
      "Rewiring: non-head (1,64) with head (42, 64)\n",
      "Loss increasing\n",
      "Rewiring: non-head (1,57) with head (22, 57)\n",
      "Loss increasing\n"
     ]
    },
    {
     "name": "stderr",
     "output_type": "stream",
     "text": [
      "┣███████████         ┫ [55.03%, 49528/90000, 00:28/00:51, 1695.46i/s] "
     ]
    },
    {
     "name": "stdout",
     "output_type": "stream",
     "text": [
      "Rewiring: non-head (1,54) with head (25, 54)\n",
      "Loss increasing\n",
      "Rewiring: non-head (13,34) with head (9, 34)\n",
      "Loss increasing\n"
     ]
    },
    {
     "name": "stderr",
     "output_type": "stream",
     "text": [
      "┣███████████▍        ┫ [56.94%, 51248/90000, 00:29/00:51, 1719.99i/s] "
     ]
    },
    {
     "name": "stdout",
     "output_type": "stream",
     "text": [
      "Rewiring: non-head (1,46) with head (20, 46)\n",
      "Loss increasing\n"
     ]
    },
    {
     "name": "stderr",
     "output_type": "stream",
     "text": [
      "┣███████████▊        ┫ [58.89%, 53002/90000, 00:30/00:51, 1751.81i/s] "
     ]
    },
    {
     "name": "stdout",
     "output_type": "stream",
     "text": [
      "Rewiring: non-head (13,17) with head (1, 17)\n",
      "Loss increasing\n",
      "Rewiring: non-head (1,69) with head (50, 69)\n",
      "Loss increasing\n"
     ]
    },
    {
     "name": "stderr",
     "output_type": "stream",
     "text": [
      "┣████████████▏       ┫ [60.93%, 54836/90000, 00:31/00:51, 1833.94i/s] "
     ]
    },
    {
     "name": "stdout",
     "output_type": "stream",
     "text": [
      "Rewiring: non-head (1,48) with head (27, 48)\n",
      "Loss increasing\n",
      "Rewiring: non-head (1,47) with head (24, 47)\n",
      "Loss increasing\n"
     ]
    },
    {
     "name": "stderr",
     "output_type": "stream",
     "text": [
      "┣████████████▌       ┫ [62.84%, 56557/90000, 00:32/00:51, 1720.46i/s] "
     ]
    },
    {
     "name": "stdout",
     "output_type": "stream",
     "text": [
      "Rewiring: non-head (13,34) with head (9, 34)\n",
      "Loss increasing\n",
      "Rewiring: non-head (1,42) with head (21, 42)\n",
      "Loss increasing\n"
     ]
    },
    {
     "name": "stderr",
     "output_type": "stream",
     "text": [
      "┣████████████▉       ┫ [64.83%, 58345/90000, 00:33/00:51, 1787.69i/s] "
     ]
    },
    {
     "name": "stdout",
     "output_type": "stream",
     "text": [
      "Rewiring: non-head (1,72) with head (37, 72)\n",
      "Loss increasing\n"
     ]
    },
    {
     "name": "stderr",
     "output_type": "stream",
     "text": [
      "┣█████████████▎      ┫ [66.76%, 60084/90000, 00:34/00:51, 1738.68i/s] "
     ]
    },
    {
     "name": "stdout",
     "output_type": "stream",
     "text": [
      "Rewiring: non-head (1,83) with head (47, 83)\n",
      "Loss increasing\n",
      "Rewiring: non-head (1,39) with head (22, 39)\n",
      "Loss increasing\n"
     ]
    },
    {
     "name": "stderr",
     "output_type": "stream",
     "text": [
      "┣█████████████▋      ┫ [68.68%, 61808/90000, 00:35/00:51, 1723.97i/s] "
     ]
    },
    {
     "name": "stdout",
     "output_type": "stream",
     "text": [
      "Rewiring: non-head (1,47) with head (24, 47)\n",
      "Loss increasing\n",
      "Rewiring: non-head (1,37) with head (28, 37)\n",
      "Loss increasing\n"
     ]
    },
    {
     "name": "stderr",
     "output_type": "stream",
     "text": [
      "┣██████████████      ┫ [70.58%, 63522/90000, 00:36/00:51, 1713.59i/s] "
     ]
    },
    {
     "name": "stdout",
     "output_type": "stream",
     "text": [
      "Rewiring: non-head (1,62) with head (55, 62)\n",
      "Loss increasing\n"
     ]
    },
    {
     "name": "stderr",
     "output_type": "stream",
     "text": [
      "┣██████████████▍     ┫ [72.34%, 65102/90000, 00:37/00:51, 1579.71i/s] "
     ]
    },
    {
     "name": "stdout",
     "output_type": "stream",
     "text": [
      "Rewiring: non-head (1,56) with head (21, 56)\n",
      "Loss increasing\n",
      "Rewiring: non-head (1,39) with head (22, 39)\n",
      "Loss increasing\n"
     ]
    },
    {
     "name": "stderr",
     "output_type": "stream",
     "text": [
      "┣██████████████▊     ┫ [74.31%, 66876/90000, 00:38/00:51, 1773.26i/s] "
     ]
    },
    {
     "name": "stdout",
     "output_type": "stream",
     "text": [
      "Rewiring: non-head (1,45) with head (23, 45)\n",
      "Loss increasing\n",
      "Rewiring: non-head (1,81) with head (38, 81)\n",
      "Loss increasing\n"
     ]
    },
    {
     "name": "stderr",
     "output_type": "stream",
     "text": [
      "┣███████████████▏    ┫ [76.10%, 68491/90000, 00:39/00:51, 1614.99i/s] "
     ]
    },
    {
     "name": "stdout",
     "output_type": "stream",
     "text": [
      "Rewiring: non-head (1,62) with head (44, 62)\n",
      "Loss increasing\n",
      "Rewiring: non-head (1,76) with head (43, 76)\n",
      "Loss increasing\n"
     ]
    },
    {
     "name": "stderr",
     "output_type": "stream",
     "text": [
      "┣███████████████▌    ┫ [77.99%, 70188/90000, 00:40/00:51, 1696.47i/s] "
     ]
    },
    {
     "name": "stdout",
     "output_type": "stream",
     "text": [
      "Rewiring: non-head (1,41) with head (23, 41)\n",
      "Loss increasing\n"
     ]
    },
    {
     "name": "stderr",
     "output_type": "stream",
     "text": [
      "┣███████████████▉    ┫ [79.90%, 71906/90000, 00:41/00:51, 1717.99i/s] "
     ]
    },
    {
     "name": "stdout",
     "output_type": "stream",
     "text": [
      "Rewiring: non-head (13,30) with head (3, 30)\n",
      "Loss increasing\n",
      "Rewiring: non-head (1,83) with head (47, 83)\n",
      "Loss increasing\n"
     ]
    },
    {
     "name": "stderr",
     "output_type": "stream",
     "text": [
      "┣████████████████▍   ┫ [81.90%, 73709/90000, 00:42/00:51, 1802.82i/s] "
     ]
    },
    {
     "name": "stdout",
     "output_type": "stream",
     "text": [
      "Rewiring: non-head (1,71) with head (39, 71)\n",
      "Loss increasing\n",
      "Rewiring: non-head (1,55) with head (31, 55)\n",
      "Loss increasing\n"
     ]
    },
    {
     "name": "stderr",
     "output_type": "stream",
     "text": [
      "┣████████████████▊   ┫ [83.97%, 75575/90000, 00:43/00:51, 1831.22i/s] "
     ]
    },
    {
     "name": "stdout",
     "output_type": "stream",
     "text": [
      "Rewiring: non-head (13,15) with head (12, 15)\n",
      "Loss increasing\n",
      "Rewiring: non-head (13,26) with head (2, 26)\n",
      "Loss increasing\n"
     ]
    },
    {
     "name": "stderr",
     "output_type": "stream",
     "text": [
      "┣█████████████████▏  ┫ [86.02%, 77414/90000, 00:44/00:51, 1838.95i/s] "
     ]
    },
    {
     "name": "stdout",
     "output_type": "stream",
     "text": [
      "Rewiring: non-head (1,84) with head (49, 84)\n",
      "Loss increasing\n",
      "Rewiring: non-head (1,58) with head (16, 58)\n",
      "Loss increasing\n"
     ]
    },
    {
     "name": "stderr",
     "output_type": "stream",
     "text": [
      "┣█████████████████▋  ┫ [88.13%, 79315/90000, 00:45/00:51, 1900.87i/s] "
     ]
    },
    {
     "name": "stdout",
     "output_type": "stream",
     "text": [
      "Rewiring: non-head (1,73) with head (40, 73)\n",
      "Loss increasing\n",
      "Rewiring: non-head (1,74) with head (44, 74)\n",
      "Loss increasing\n"
     ]
    },
    {
     "name": "stderr",
     "output_type": "stream",
     "text": [
      "┣██████████████████  ┫ [90.16%, 81145/90000, 00:46/00:51, 1829.14i/s] "
     ]
    },
    {
     "name": "stdout",
     "output_type": "stream",
     "text": [
      "Rewiring: non-head (1,45) with head (23, 45)\n",
      "Loss increasing\n"
     ]
    },
    {
     "name": "stderr",
     "output_type": "stream",
     "text": [
      "┣██████████████████▍ ┫ [92.31%, 83082/90000, 00:47/00:51, 1936.75i/s] "
     ]
    },
    {
     "name": "stdout",
     "output_type": "stream",
     "text": [
      "Rewiring: non-head (13,25) with head (10, 25)\n",
      "Loss increasing\n",
      "Rewiring: non-head (13,34) with head (9, 34)\n",
      "Loss increasing\n"
     ]
    },
    {
     "name": "stderr",
     "output_type": "stream",
     "text": [
      "┣██████████████████▊ ┫ [94.34%, 84906/90000, 00:48/00:51, 1810.38i/s] "
     ]
    },
    {
     "name": "stdout",
     "output_type": "stream",
     "text": [
      "Rewiring: non-head (1,80) with head (37, 80)\n",
      "Loss increasing\n",
      "Rewiring: non-head (13,36) with head (1, 36)\n",
      "Loss increasing\n"
     ]
    },
    {
     "name": "stderr",
     "output_type": "stream",
     "text": [
      "┣███████████████████▎┫ [96.42%, 86780/90000, 00:49/00:51, 1873.40i/s] "
     ]
    },
    {
     "name": "stdout",
     "output_type": "stream",
     "text": [
      "Rewiring: non-head (13,29) with head (12, 29)\n",
      "Loss increasing\n",
      "Rewiring: non-head (13,30) with head (3, 30)\n",
      "Loss increasing\n"
     ]
    },
    {
     "name": "stderr",
     "output_type": "stream",
     "text": [
      "┣███████████████████▋┫ [98.52%, 88667/90000, 00:50/00:51, 1886.52i/s] "
     ]
    },
    {
     "name": "stdout",
     "output_type": "stream",
     "text": [
      "Rewiring: non-head (1,42) with head (21, 42)\n",
      "Loss increasing\n"
     ]
    },
    {
     "name": "stderr",
     "output_type": "stream",
     "text": [
      "┣████████████████████┫ [100.00%, 90000/90000, 00:51/00:51, 1772.40i/s] \n"
     ]
    },
    {
     "name": "stdout",
     "output_type": "stream",
     "text": [
      " 50.780129 seconds (103.76 M allocations: 38.795 GiB, 18.17% gc time)\n"
     ]
    }
   ],
   "source": [
    "@time w, b, losstrn, losstst, rho = mlp.backprop(w, b, niter, trainidx, testidx, n, ntest, nbatch, layer_dims; LR = 0.1, λ= 0.001);"
   ]
  },
  {
   "cell_type": "code",
   "execution_count": 19,
   "metadata": {},
   "outputs": [
    {
     "data": {
      "image/svg+xml": [
       "<?xml version=\"1.0\" encoding=\"utf-8\"?>\n",
       "<svg xmlns=\"http://www.w3.org/2000/svg\" xmlns:xlink=\"http://www.w3.org/1999/xlink\" width=\"600\" height=\"400\" viewBox=\"0 0 2400 1600\">\n",
       "<defs>\n",
       "  <clipPath id=\"clip140\">\n",
       "    <rect x=\"0\" y=\"0\" width=\"2400\" height=\"1600\"/>\n",
       "  </clipPath>\n",
       "</defs>\n",
       "<path clip-path=\"url(#clip140)\" d=\"\n",
       "M0 1600 L2400 1600 L2400 0 L0 0  Z\n",
       "  \" fill=\"#ffffff\" fill-rule=\"evenodd\" fill-opacity=\"1\"/>\n",
       "<defs>\n",
       "  <clipPath id=\"clip141\">\n",
       "    <rect x=\"480\" y=\"0\" width=\"1681\" height=\"1600\"/>\n",
       "  </clipPath>\n",
       "</defs>\n",
       "<path clip-path=\"url(#clip140)\" d=\"\n",
       "M148.334 1486.45 L2352.76 1486.45 L2352.76 47.2441 L148.334 47.2441  Z\n",
       "  \" fill=\"#ffffff\" fill-rule=\"evenodd\" fill-opacity=\"1\"/>\n",
       "<defs>\n",
       "  <clipPath id=\"clip142\">\n",
       "    <rect x=\"148\" y=\"47\" width=\"2205\" height=\"1440\"/>\n",
       "  </clipPath>\n",
       "</defs>\n",
       "<polyline clip-path=\"url(#clip142)\" style=\"stroke:#000000; stroke-width:2; stroke-opacity:0.1; fill:none\" points=\"\n",
       "  187.617,1486.45 187.617,47.2441 \n",
       "  \"/>\n",
       "<polyline clip-path=\"url(#clip142)\" style=\"stroke:#000000; stroke-width:2; stroke-opacity:0.1; fill:none\" points=\"\n",
       "  649.759,1486.45 649.759,47.2441 \n",
       "  \"/>\n",
       "<polyline clip-path=\"url(#clip142)\" style=\"stroke:#000000; stroke-width:2; stroke-opacity:0.1; fill:none\" points=\"\n",
       "  1111.9,1486.45 1111.9,47.2441 \n",
       "  \"/>\n",
       "<polyline clip-path=\"url(#clip142)\" style=\"stroke:#000000; stroke-width:2; stroke-opacity:0.1; fill:none\" points=\"\n",
       "  1574.05,1486.45 1574.05,47.2441 \n",
       "  \"/>\n",
       "<polyline clip-path=\"url(#clip142)\" style=\"stroke:#000000; stroke-width:2; stroke-opacity:0.1; fill:none\" points=\"\n",
       "  2036.19,1486.45 2036.19,47.2441 \n",
       "  \"/>\n",
       "<polyline clip-path=\"url(#clip140)\" style=\"stroke:#000000; stroke-width:4; stroke-opacity:1; fill:none\" points=\"\n",
       "  148.334,1486.45 2352.76,1486.45 \n",
       "  \"/>\n",
       "<polyline clip-path=\"url(#clip140)\" style=\"stroke:#000000; stroke-width:4; stroke-opacity:1; fill:none\" points=\"\n",
       "  187.617,1486.45 187.617,1469.18 \n",
       "  \"/>\n",
       "<polyline clip-path=\"url(#clip140)\" style=\"stroke:#000000; stroke-width:4; stroke-opacity:1; fill:none\" points=\"\n",
       "  649.759,1486.45 649.759,1469.18 \n",
       "  \"/>\n",
       "<polyline clip-path=\"url(#clip140)\" style=\"stroke:#000000; stroke-width:4; stroke-opacity:1; fill:none\" points=\"\n",
       "  1111.9,1486.45 1111.9,1469.18 \n",
       "  \"/>\n",
       "<polyline clip-path=\"url(#clip140)\" style=\"stroke:#000000; stroke-width:4; stroke-opacity:1; fill:none\" points=\"\n",
       "  1574.05,1486.45 1574.05,1469.18 \n",
       "  \"/>\n",
       "<polyline clip-path=\"url(#clip140)\" style=\"stroke:#000000; stroke-width:4; stroke-opacity:1; fill:none\" points=\"\n",
       "  2036.19,1486.45 2036.19,1469.18 \n",
       "  \"/>\n",
       "<path clip-path=\"url(#clip140)\" d=\"M 0 0 M187.617 1515.64 Q184.005 1515.64 182.177 1519.2 Q180.371 1522.75 180.371 1529.87 Q180.371 1536.98 182.177 1540.55 Q184.005 1544.09 187.617 1544.09 Q191.251 1544.09 193.056 1540.55 Q194.885 1536.98 194.885 1529.87 Q194.885 1522.75 193.056 1519.2 Q191.251 1515.64 187.617 1515.64 M187.617 1511.93 Q193.427 1511.93 196.482 1516.54 Q199.561 1521.12 199.561 1529.87 Q199.561 1538.6 196.482 1543.21 Q193.427 1547.79 187.617 1547.79 Q181.806 1547.79 178.728 1543.21 Q175.672 1538.6 175.672 1529.87 Q175.672 1521.12 178.728 1516.54 Q181.806 1511.93 187.617 1511.93 Z\" fill=\"#000000\" fill-rule=\"evenodd\" fill-opacity=\"1\" /><path clip-path=\"url(#clip140)\" d=\"M 0 0 M630.905 1543.18 L647.225 1543.18 L647.225 1547.12 L625.28 1547.12 L625.28 1543.18 Q627.942 1540.43 632.526 1535.8 Q637.132 1531.15 638.313 1529.81 Q640.558 1527.28 641.438 1525.55 Q642.34 1523.79 642.34 1522.1 Q642.34 1519.34 640.396 1517.61 Q638.475 1515.87 635.373 1515.87 Q633.174 1515.87 630.72 1516.63 Q628.29 1517.4 625.512 1518.95 L625.512 1514.23 Q628.336 1513.09 630.79 1512.51 Q633.243 1511.93 635.28 1511.93 Q640.651 1511.93 643.845 1514.62 Q647.04 1517.31 647.04 1521.8 Q647.04 1523.93 646.229 1525.85 Q645.442 1527.74 643.336 1530.34 Q642.757 1531.01 639.655 1534.23 Q636.553 1537.42 630.905 1543.18 Z\" fill=\"#000000\" fill-rule=\"evenodd\" fill-opacity=\"1\" /><path clip-path=\"url(#clip140)\" d=\"M 0 0 M662.294 1515.64 Q658.683 1515.64 656.854 1519.2 Q655.049 1522.75 655.049 1529.87 Q655.049 1536.98 656.854 1540.55 Q658.683 1544.09 662.294 1544.09 Q665.928 1544.09 667.734 1540.55 Q669.563 1536.98 669.563 1529.87 Q669.563 1522.75 667.734 1519.2 Q665.928 1515.64 662.294 1515.64 M662.294 1511.93 Q668.104 1511.93 671.16 1516.54 Q674.238 1521.12 674.238 1529.87 Q674.238 1538.6 671.16 1543.21 Q668.104 1547.79 662.294 1547.79 Q656.484 1547.79 653.405 1543.21 Q650.35 1538.6 650.35 1529.87 Q650.35 1521.12 653.405 1516.54 Q656.484 1511.93 662.294 1511.93 Z\" fill=\"#000000\" fill-rule=\"evenodd\" fill-opacity=\"1\" /><path clip-path=\"url(#clip140)\" d=\"M 0 0 M1101.4 1516.63 L1089.6 1535.08 L1101.4 1535.08 L1101.4 1516.63 M1100.18 1512.56 L1106.06 1512.56 L1106.06 1535.08 L1110.99 1535.08 L1110.99 1538.97 L1106.06 1538.97 L1106.06 1547.12 L1101.4 1547.12 L1101.4 1538.97 L1085.8 1538.97 L1085.8 1534.46 L1100.18 1512.56 Z\" fill=\"#000000\" fill-rule=\"evenodd\" fill-opacity=\"1\" /><path clip-path=\"url(#clip140)\" d=\"M 0 0 M1126.06 1515.64 Q1122.45 1515.64 1120.62 1519.2 Q1118.81 1522.75 1118.81 1529.87 Q1118.81 1536.98 1120.62 1540.55 Q1122.45 1544.09 1126.06 1544.09 Q1129.69 1544.09 1131.5 1540.55 Q1133.33 1536.98 1133.33 1529.87 Q1133.33 1522.75 1131.5 1519.2 Q1129.69 1515.64 1126.06 1515.64 M1126.06 1511.93 Q1131.87 1511.93 1134.92 1516.54 Q1138 1521.12 1138 1529.87 Q1138 1538.6 1134.92 1543.21 Q1131.87 1547.79 1126.06 1547.79 Q1120.25 1547.79 1117.17 1543.21 Q1114.11 1538.6 1114.11 1529.87 Q1114.11 1521.12 1117.17 1516.54 Q1120.25 1511.93 1126.06 1511.93 Z\" fill=\"#000000\" fill-rule=\"evenodd\" fill-opacity=\"1\" /><path clip-path=\"url(#clip140)\" d=\"M 0 0 M1560.94 1527.98 Q1557.8 1527.98 1555.94 1530.13 Q1554.11 1532.28 1554.11 1536.03 Q1554.11 1539.76 1555.94 1541.93 Q1557.8 1544.09 1560.94 1544.09 Q1564.09 1544.09 1565.92 1541.93 Q1567.77 1539.76 1567.77 1536.03 Q1567.77 1532.28 1565.92 1530.13 Q1564.09 1527.98 1560.94 1527.98 M1570.23 1513.32 L1570.23 1517.58 Q1568.47 1516.75 1566.66 1516.31 Q1564.88 1515.87 1563.12 1515.87 Q1558.49 1515.87 1556.04 1519 Q1553.61 1522.12 1553.26 1528.44 Q1554.62 1526.43 1556.68 1525.36 Q1558.74 1524.27 1561.22 1524.27 Q1566.43 1524.27 1569.44 1527.44 Q1572.47 1530.59 1572.47 1536.03 Q1572.47 1541.36 1569.32 1544.57 Q1566.17 1547.79 1560.94 1547.79 Q1554.95 1547.79 1551.78 1543.21 Q1548.61 1538.6 1548.61 1529.87 Q1548.61 1521.68 1552.49 1516.82 Q1556.38 1511.93 1562.93 1511.93 Q1564.69 1511.93 1566.48 1512.28 Q1568.28 1512.63 1570.23 1513.32 Z\" fill=\"#000000\" fill-rule=\"evenodd\" fill-opacity=\"1\" /><path clip-path=\"url(#clip140)\" d=\"M 0 0 M1587.54 1515.64 Q1583.93 1515.64 1582.1 1519.2 Q1580.3 1522.75 1580.3 1529.87 Q1580.3 1536.98 1582.1 1540.55 Q1583.93 1544.09 1587.54 1544.09 Q1591.17 1544.09 1592.98 1540.55 Q1594.81 1536.98 1594.81 1529.87 Q1594.81 1522.75 1592.98 1519.2 Q1591.17 1515.64 1587.54 1515.64 M1587.54 1511.93 Q1593.35 1511.93 1596.41 1516.54 Q1599.48 1521.12 1599.48 1529.87 Q1599.48 1538.6 1596.41 1543.21 Q1593.35 1547.79 1587.54 1547.79 Q1581.73 1547.79 1578.65 1543.21 Q1575.6 1538.6 1575.6 1529.87 Q1575.6 1521.12 1578.65 1516.54 Q1581.73 1511.93 1587.54 1511.93 Z\" fill=\"#000000\" fill-rule=\"evenodd\" fill-opacity=\"1\" /><path clip-path=\"url(#clip140)\" d=\"M 0 0 M2022.68 1530.71 Q2019.35 1530.71 2017.43 1532.49 Q2015.53 1534.27 2015.53 1537.4 Q2015.53 1540.52 2017.43 1542.31 Q2019.35 1544.09 2022.68 1544.09 Q2026.01 1544.09 2027.94 1542.31 Q2029.86 1540.5 2029.86 1537.4 Q2029.86 1534.27 2027.94 1532.49 Q2026.04 1530.71 2022.68 1530.71 M2018.01 1528.72 Q2015 1527.98 2013.31 1525.92 Q2011.64 1523.86 2011.64 1520.89 Q2011.64 1516.75 2014.58 1514.34 Q2017.54 1511.93 2022.68 1511.93 Q2027.84 1511.93 2030.78 1514.34 Q2033.72 1516.75 2033.72 1520.89 Q2033.72 1523.86 2032.03 1525.92 Q2030.37 1527.98 2027.38 1528.72 Q2030.76 1529.5 2032.63 1531.8 Q2034.53 1534.09 2034.53 1537.4 Q2034.53 1542.42 2031.45 1545.11 Q2028.4 1547.79 2022.68 1547.79 Q2016.96 1547.79 2013.88 1545.11 Q2010.83 1542.42 2010.83 1537.4 Q2010.83 1534.09 2012.73 1531.8 Q2014.63 1529.5 2018.01 1528.72 M2016.29 1521.33 Q2016.29 1524.02 2017.96 1525.52 Q2019.65 1527.03 2022.68 1527.03 Q2025.69 1527.03 2027.38 1525.52 Q2029.09 1524.02 2029.09 1521.33 Q2029.09 1518.65 2027.38 1517.14 Q2025.69 1515.64 2022.68 1515.64 Q2019.65 1515.64 2017.96 1517.14 Q2016.29 1518.65 2016.29 1521.33 Z\" fill=\"#000000\" fill-rule=\"evenodd\" fill-opacity=\"1\" /><path clip-path=\"url(#clip140)\" d=\"M 0 0 M2049.6 1515.64 Q2045.99 1515.64 2044.16 1519.2 Q2042.36 1522.75 2042.36 1529.87 Q2042.36 1536.98 2044.16 1540.55 Q2045.99 1544.09 2049.6 1544.09 Q2053.24 1544.09 2055.04 1540.55 Q2056.87 1536.98 2056.87 1529.87 Q2056.87 1522.75 2055.04 1519.2 Q2053.24 1515.64 2049.6 1515.64 M2049.6 1511.93 Q2055.41 1511.93 2058.47 1516.54 Q2061.55 1521.12 2061.55 1529.87 Q2061.55 1538.6 2058.47 1543.21 Q2055.41 1547.79 2049.6 1547.79 Q2043.79 1547.79 2040.71 1543.21 Q2037.66 1538.6 2037.66 1529.87 Q2037.66 1521.12 2040.71 1516.54 Q2043.79 1511.93 2049.6 1511.93 Z\" fill=\"#000000\" fill-rule=\"evenodd\" fill-opacity=\"1\" /><polyline clip-path=\"url(#clip142)\" style=\"stroke:#000000; stroke-width:2; stroke-opacity:0.1; fill:none\" points=\"\n",
       "  148.334,1445.72 2352.76,1445.72 \n",
       "  \"/>\n",
       "<polyline clip-path=\"url(#clip142)\" style=\"stroke:#000000; stroke-width:2; stroke-opacity:0.1; fill:none\" points=\"\n",
       "  148.334,1242.98 2352.76,1242.98 \n",
       "  \"/>\n",
       "<polyline clip-path=\"url(#clip142)\" style=\"stroke:#000000; stroke-width:2; stroke-opacity:0.1; fill:none\" points=\"\n",
       "  148.334,1040.24 2352.76,1040.24 \n",
       "  \"/>\n",
       "<polyline clip-path=\"url(#clip142)\" style=\"stroke:#000000; stroke-width:2; stroke-opacity:0.1; fill:none\" points=\"\n",
       "  148.334,837.497 2352.76,837.497 \n",
       "  \"/>\n",
       "<polyline clip-path=\"url(#clip142)\" style=\"stroke:#000000; stroke-width:2; stroke-opacity:0.1; fill:none\" points=\"\n",
       "  148.334,634.757 2352.76,634.757 \n",
       "  \"/>\n",
       "<polyline clip-path=\"url(#clip142)\" style=\"stroke:#000000; stroke-width:2; stroke-opacity:0.1; fill:none\" points=\"\n",
       "  148.334,432.018 2352.76,432.018 \n",
       "  \"/>\n",
       "<polyline clip-path=\"url(#clip142)\" style=\"stroke:#000000; stroke-width:2; stroke-opacity:0.1; fill:none\" points=\"\n",
       "  148.334,229.278 2352.76,229.278 \n",
       "  \"/>\n",
       "<polyline clip-path=\"url(#clip140)\" style=\"stroke:#000000; stroke-width:4; stroke-opacity:1; fill:none\" points=\"\n",
       "  148.334,1486.45 148.334,47.2441 \n",
       "  \"/>\n",
       "<polyline clip-path=\"url(#clip140)\" style=\"stroke:#000000; stroke-width:4; stroke-opacity:1; fill:none\" points=\"\n",
       "  148.334,1445.72 174.787,1445.72 \n",
       "  \"/>\n",
       "<polyline clip-path=\"url(#clip140)\" style=\"stroke:#000000; stroke-width:4; stroke-opacity:1; fill:none\" points=\"\n",
       "  148.334,1242.98 174.787,1242.98 \n",
       "  \"/>\n",
       "<polyline clip-path=\"url(#clip140)\" style=\"stroke:#000000; stroke-width:4; stroke-opacity:1; fill:none\" points=\"\n",
       "  148.334,1040.24 174.787,1040.24 \n",
       "  \"/>\n",
       "<polyline clip-path=\"url(#clip140)\" style=\"stroke:#000000; stroke-width:4; stroke-opacity:1; fill:none\" points=\"\n",
       "  148.334,837.497 174.787,837.497 \n",
       "  \"/>\n",
       "<polyline clip-path=\"url(#clip140)\" style=\"stroke:#000000; stroke-width:4; stroke-opacity:1; fill:none\" points=\"\n",
       "  148.334,634.757 174.787,634.757 \n",
       "  \"/>\n",
       "<polyline clip-path=\"url(#clip140)\" style=\"stroke:#000000; stroke-width:4; stroke-opacity:1; fill:none\" points=\"\n",
       "  148.334,432.018 174.787,432.018 \n",
       "  \"/>\n",
       "<polyline clip-path=\"url(#clip140)\" style=\"stroke:#000000; stroke-width:4; stroke-opacity:1; fill:none\" points=\"\n",
       "  148.334,229.278 174.787,229.278 \n",
       "  \"/>\n",
       "<path clip-path=\"url(#clip140)\" d=\"M 0 0 M63.4226 1431.51 Q59.8115 1431.51 57.9828 1435.08 Q56.1773 1438.62 56.1773 1445.75 Q56.1773 1452.86 57.9828 1456.42 Q59.8115 1459.96 63.4226 1459.96 Q67.0569 1459.96 68.8624 1456.42 Q70.6911 1452.86 70.6911 1445.75 Q70.6911 1438.62 68.8624 1435.08 Q67.0569 1431.51 63.4226 1431.51 M63.4226 1427.81 Q69.2328 1427.81 72.2883 1432.42 Q75.367 1437 75.367 1445.75 Q75.367 1454.48 72.2883 1459.08 Q69.2328 1463.67 63.4226 1463.67 Q57.6125 1463.67 54.5338 1459.08 Q51.4782 1454.48 51.4782 1445.75 Q51.4782 1437 54.5338 1432.42 Q57.6125 1427.81 63.4226 1427.81 Z\" fill=\"#000000\" fill-rule=\"evenodd\" fill-opacity=\"1\" /><path clip-path=\"url(#clip140)\" d=\"M 0 0 M80.4364 1457.12 L85.3206 1457.12 L85.3206 1463 L80.4364 1463 L80.4364 1457.12 Z\" fill=\"#000000\" fill-rule=\"evenodd\" fill-opacity=\"1\" /><path clip-path=\"url(#clip140)\" d=\"M 0 0 M100.39 1431.51 Q96.7789 1431.51 94.9502 1435.08 Q93.1447 1438.62 93.1447 1445.75 Q93.1447 1452.86 94.9502 1456.42 Q96.7789 1459.96 100.39 1459.96 Q104.024 1459.96 105.83 1456.42 Q107.658 1452.86 107.658 1445.75 Q107.658 1438.62 105.83 1435.08 Q104.024 1431.51 100.39 1431.51 M100.39 1427.81 Q106.2 1427.81 109.256 1432.42 Q112.334 1437 112.334 1445.75 Q112.334 1454.48 109.256 1459.08 Q106.2 1463.67 100.39 1463.67 Q94.5799 1463.67 91.5012 1459.08 Q88.4456 1454.48 88.4456 1445.75 Q88.4456 1437 91.5012 1432.42 Q94.5799 1427.81 100.39 1427.81 Z\" fill=\"#000000\" fill-rule=\"evenodd\" fill-opacity=\"1\" /><path clip-path=\"url(#clip140)\" d=\"M 0 0 M64.6495 1228.77 Q61.0384 1228.77 59.2097 1232.34 Q57.4041 1235.88 57.4041 1243.01 Q57.4041 1250.12 59.2097 1253.68 Q61.0384 1257.22 64.6495 1257.22 Q68.2837 1257.22 70.0892 1253.68 Q71.9179 1250.12 71.9179 1243.01 Q71.9179 1235.88 70.0892 1232.34 Q68.2837 1228.77 64.6495 1228.77 M64.6495 1225.07 Q70.4596 1225.07 73.5152 1229.68 Q76.5938 1234.26 76.5938 1243.01 Q76.5938 1251.74 73.5152 1256.34 Q70.4596 1260.93 64.6495 1260.93 Q58.8393 1260.93 55.7606 1256.34 Q52.7051 1251.74 52.7051 1243.01 Q52.7051 1234.26 55.7606 1229.68 Q58.8393 1225.07 64.6495 1225.07 Z\" fill=\"#000000\" fill-rule=\"evenodd\" fill-opacity=\"1\" /><path clip-path=\"url(#clip140)\" d=\"M 0 0 M81.6633 1254.38 L86.5475 1254.38 L86.5475 1260.26 L81.6633 1260.26 L81.6633 1254.38 Z\" fill=\"#000000\" fill-rule=\"evenodd\" fill-opacity=\"1\" /><path clip-path=\"url(#clip140)\" d=\"M 0 0 M92.4271 1256.32 L100.066 1256.32 L100.066 1229.96 L91.7558 1231.62 L91.7558 1227.36 L100.02 1225.7 L104.696 1225.7 L104.696 1256.32 L112.334 1256.32 L112.334 1260.26 L92.4271 1260.26 L92.4271 1256.32 Z\" fill=\"#000000\" fill-rule=\"evenodd\" fill-opacity=\"1\" /><path clip-path=\"url(#clip140)\" d=\"M 0 0 M65.0198 1026.04 Q61.4087 1026.04 59.58 1029.6 Q57.7745 1033.14 57.7745 1040.27 Q57.7745 1047.38 59.58 1050.94 Q61.4087 1054.48 65.0198 1054.48 Q68.6541 1054.48 70.4596 1050.94 Q72.2883 1047.38 72.2883 1040.27 Q72.2883 1033.14 70.4596 1029.6 Q68.6541 1026.04 65.0198 1026.04 M65.0198 1022.33 Q70.83 1022.33 73.8855 1026.94 Q76.9642 1031.52 76.9642 1040.27 Q76.9642 1049 73.8855 1053.6 Q70.83 1058.19 65.0198 1058.19 Q59.2097 1058.19 56.131 1053.6 Q53.0754 1049 53.0754 1040.27 Q53.0754 1031.52 56.131 1026.94 Q59.2097 1022.33 65.0198 1022.33 Z\" fill=\"#000000\" fill-rule=\"evenodd\" fill-opacity=\"1\" /><path clip-path=\"url(#clip140)\" d=\"M 0 0 M82.0336 1051.64 L86.9179 1051.64 L86.9179 1057.52 L82.0336 1057.52 L82.0336 1051.64 Z\" fill=\"#000000\" fill-rule=\"evenodd\" fill-opacity=\"1\" /><path clip-path=\"url(#clip140)\" d=\"M 0 0 M96.015 1053.58 L112.334 1053.58 L112.334 1057.52 L90.3901 1057.52 L90.3901 1053.58 Q93.0521 1050.83 97.6354 1046.2 Q102.242 1041.54 103.422 1040.2 Q105.668 1037.68 106.547 1035.94 Q107.45 1034.18 107.45 1032.49 Q107.45 1029.74 105.506 1028 Q103.584 1026.27 100.483 1026.27 Q98.2835 1026.27 95.8298 1027.03 Q93.3993 1027.79 90.6215 1029.35 L90.6215 1024.62 Q93.4456 1023.49 95.8993 1022.91 Q98.353 1022.33 100.39 1022.33 Q105.76 1022.33 108.955 1025.02 Q112.149 1027.7 112.149 1032.19 Q112.149 1034.32 111.339 1036.24 Q110.552 1038.14 108.446 1040.73 Q107.867 1041.41 104.765 1044.62 Q101.663 1047.82 96.015 1053.58 Z\" fill=\"#000000\" fill-rule=\"evenodd\" fill-opacity=\"1\" /><path clip-path=\"url(#clip140)\" d=\"M 0 0 M64.0708 823.296 Q60.4597 823.296 58.631 826.861 Q56.8254 830.402 56.8254 837.532 Q56.8254 844.638 58.631 848.203 Q60.4597 851.745 64.0708 851.745 Q67.705 851.745 69.5105 848.203 Q71.3392 844.638 71.3392 837.532 Q71.3392 830.402 69.5105 826.861 Q67.705 823.296 64.0708 823.296 M64.0708 819.592 Q69.8809 819.592 72.9365 824.198 Q76.0151 828.782 76.0151 837.532 Q76.0151 846.259 72.9365 850.865 Q69.8809 855.448 64.0708 855.448 Q58.2606 855.448 55.1819 850.865 Q52.1264 846.259 52.1264 837.532 Q52.1264 828.782 55.1819 824.198 Q58.2606 819.592 64.0708 819.592 Z\" fill=\"#000000\" fill-rule=\"evenodd\" fill-opacity=\"1\" /><path clip-path=\"url(#clip140)\" d=\"M 0 0 M81.0846 848.897 L85.9688 848.897 L85.9688 854.777 L81.0846 854.777 L81.0846 848.897 Z\" fill=\"#000000\" fill-rule=\"evenodd\" fill-opacity=\"1\" /><path clip-path=\"url(#clip140)\" d=\"M 0 0 M105.205 836.143 Q108.561 836.86 110.436 839.129 Q112.334 841.397 112.334 844.731 Q112.334 849.847 108.816 852.647 Q105.297 855.448 98.8159 855.448 Q96.64 855.448 94.3252 855.009 Q92.0336 854.592 89.5799 853.735 L89.5799 849.222 Q91.5243 850.356 93.8391 850.934 Q96.1539 851.513 98.6771 851.513 Q103.075 851.513 105.367 849.777 Q107.682 848.041 107.682 844.731 Q107.682 841.675 105.529 839.962 Q103.399 838.226 99.5798 838.226 L95.5521 838.226 L95.5521 834.384 L99.765 834.384 Q103.214 834.384 105.043 833.018 Q106.871 831.629 106.871 829.036 Q106.871 826.374 104.973 824.962 Q103.098 823.527 99.5798 823.527 Q97.6585 823.527 95.4595 823.944 Q93.2604 824.361 90.6215 825.24 L90.6215 821.074 Q93.2836 820.333 95.5984 819.962 Q97.9363 819.592 99.9965 819.592 Q105.321 819.592 108.422 822.023 Q111.524 824.43 111.524 828.55 Q111.524 831.421 109.881 833.411 Q108.237 835.379 105.205 836.143 Z\" fill=\"#000000\" fill-rule=\"evenodd\" fill-opacity=\"1\" /><path clip-path=\"url(#clip140)\" d=\"M 0 0 M62.9365 620.556 Q59.3254 620.556 57.4967 624.121 Q55.6912 627.663 55.6912 634.792 Q55.6912 641.899 57.4967 645.463 Q59.3254 649.005 62.9365 649.005 Q66.5707 649.005 68.3763 645.463 Q70.205 641.899 70.205 634.792 Q70.205 627.663 68.3763 624.121 Q66.5707 620.556 62.9365 620.556 M62.9365 616.852 Q68.7467 616.852 71.8022 621.459 Q74.8809 626.042 74.8809 634.792 Q74.8809 643.519 71.8022 648.125 Q68.7467 652.709 62.9365 652.709 Q57.1264 652.709 54.0477 648.125 Q50.9921 643.519 50.9921 634.792 Q50.9921 626.042 54.0477 621.459 Q57.1264 616.852 62.9365 616.852 Z\" fill=\"#000000\" fill-rule=\"evenodd\" fill-opacity=\"1\" /><path clip-path=\"url(#clip140)\" d=\"M 0 0 M79.9503 646.158 L84.8345 646.158 L84.8345 652.037 L79.9503 652.037 L79.9503 646.158 Z\" fill=\"#000000\" fill-rule=\"evenodd\" fill-opacity=\"1\" /><path clip-path=\"url(#clip140)\" d=\"M 0 0 M102.751 621.552 L90.9456 640.001 L102.751 640.001 L102.751 621.552 M101.524 617.477 L107.404 617.477 L107.404 640.001 L112.334 640.001 L112.334 643.889 L107.404 643.889 L107.404 652.037 L102.751 652.037 L102.751 643.889 L87.1493 643.889 L87.1493 639.376 L101.524 617.477 Z\" fill=\"#000000\" fill-rule=\"evenodd\" fill-opacity=\"1\" /><path clip-path=\"url(#clip140)\" d=\"M 0 0 M64.418 417.817 Q60.8069 417.817 58.9782 421.381 Q57.1726 424.923 57.1726 432.053 Q57.1726 439.159 58.9782 442.724 Q60.8069 446.266 64.418 446.266 Q68.0522 446.266 69.8578 442.724 Q71.6865 439.159 71.6865 432.053 Q71.6865 424.923 69.8578 421.381 Q68.0522 417.817 64.418 417.817 M64.418 414.113 Q70.2281 414.113 73.2837 418.719 Q76.3624 423.303 76.3624 432.053 Q76.3624 440.779 73.2837 445.386 Q70.2281 449.969 64.418 449.969 Q58.6078 449.969 55.5291 445.386 Q52.4736 440.779 52.4736 432.053 Q52.4736 423.303 55.5291 418.719 Q58.6078 414.113 64.418 414.113 Z\" fill=\"#000000\" fill-rule=\"evenodd\" fill-opacity=\"1\" /><path clip-path=\"url(#clip140)\" d=\"M 0 0 M81.4318 443.418 L86.316 443.418 L86.316 449.298 L81.4318 449.298 L81.4318 443.418 Z\" fill=\"#000000\" fill-rule=\"evenodd\" fill-opacity=\"1\" /><path clip-path=\"url(#clip140)\" d=\"M 0 0 M91.4317 414.738 L109.788 414.738 L109.788 418.673 L95.7141 418.673 L95.7141 427.145 Q96.7326 426.798 97.7511 426.636 Q98.7696 426.451 99.7882 426.451 Q105.575 426.451 108.955 429.622 Q112.334 432.793 112.334 438.21 Q112.334 443.789 108.862 446.891 Q105.39 449.969 99.0706 449.969 Q96.8947 449.969 94.6262 449.599 Q92.3808 449.228 89.9734 448.488 L89.9734 443.789 Q92.0567 444.923 94.2789 445.479 Q96.5011 446.034 98.978 446.034 Q102.983 446.034 105.321 443.928 Q107.658 441.821 107.658 438.21 Q107.658 434.599 105.321 432.492 Q102.983 430.386 98.978 430.386 Q97.103 430.386 95.228 430.803 Q93.3762 431.219 91.4317 432.099 L91.4317 414.738 Z\" fill=\"#000000\" fill-rule=\"evenodd\" fill-opacity=\"1\" /><path clip-path=\"url(#clip140)\" d=\"M 0 0 M63.2606 215.077 Q59.6495 215.077 57.8208 218.642 Q56.0152 222.184 56.0152 229.313 Q56.0152 236.42 57.8208 239.984 Q59.6495 243.526 63.2606 243.526 Q66.8948 243.526 68.7004 239.984 Q70.5291 236.42 70.5291 229.313 Q70.5291 222.184 68.7004 218.642 Q66.8948 215.077 63.2606 215.077 M63.2606 211.373 Q69.0707 211.373 72.1263 215.98 Q75.205 220.563 75.205 229.313 Q75.205 238.04 72.1263 242.646 Q69.0707 247.23 63.2606 247.23 Q57.4504 247.23 54.3717 242.646 Q51.3162 238.04 51.3162 229.313 Q51.3162 220.563 54.3717 215.98 Q57.4504 211.373 63.2606 211.373 Z\" fill=\"#000000\" fill-rule=\"evenodd\" fill-opacity=\"1\" /><path clip-path=\"url(#clip140)\" d=\"M 0 0 M80.2744 240.679 L85.1586 240.679 L85.1586 246.558 L80.2744 246.558 L80.2744 240.679 Z\" fill=\"#000000\" fill-rule=\"evenodd\" fill-opacity=\"1\" /><path clip-path=\"url(#clip140)\" d=\"M 0 0 M100.807 227.415 Q97.6585 227.415 95.8067 229.568 Q93.978 231.721 93.978 235.47 Q93.978 239.197 95.8067 241.373 Q97.6585 243.526 100.807 243.526 Q103.955 243.526 105.783 241.373 Q107.635 239.197 107.635 235.47 Q107.635 231.721 105.783 229.568 Q103.955 227.415 100.807 227.415 M110.089 212.762 L110.089 217.022 Q108.33 216.188 106.524 215.748 Q104.742 215.309 102.983 215.309 Q98.353 215.309 95.8993 218.434 Q93.4688 221.559 93.1215 227.878 Q94.4873 225.864 96.5474 224.799 Q98.6076 223.711 101.084 223.711 Q106.293 223.711 109.302 226.883 Q112.334 230.031 112.334 235.47 Q112.334 240.795 109.186 244.012 Q106.038 247.23 100.807 247.23 Q94.8113 247.23 91.6401 242.646 Q88.4688 238.04 88.4688 229.313 Q88.4688 221.119 92.3576 216.258 Q96.2465 211.373 102.797 211.373 Q104.557 211.373 106.339 211.721 Q108.145 212.068 110.089 212.762 Z\" fill=\"#000000\" fill-rule=\"evenodd\" fill-opacity=\"1\" /><polyline clip-path=\"url(#clip142)\" style=\"stroke:#009af9; stroke-width:4; stroke-opacity:1; fill:none\" points=\"\n",
       "  210.724,1445.72 233.831,120.831 256.938,262.349 280.045,433.558 303.152,651.895 326.259,661.611 349.367,676.189 372.474,695.784 395.581,679.551 418.688,701.559 \n",
       "  441.795,711.973 464.902,706.113 488.009,731.764 511.117,731.88 534.224,760.136 557.331,817.116 580.438,884.575 603.545,933.197 626.652,1020.53 649.759,1168.62 \n",
       "  672.867,1178.38 695.974,1177.36 719.081,1186.25 742.188,1192.77 765.295,1201.84 788.402,1216.96 811.509,1216.92 834.617,1201.56 857.724,1204.46 880.831,816.862 \n",
       "  903.938,1223.01 927.045,1230.51 950.152,1235.49 973.259,1234.77 996.367,994.791 1019.47,1221.5 1042.58,1246.04 1065.69,1209.22 1088.8,1236.03 1111.9,1258.6 \n",
       "  1135.01,1208.67 1158.12,1232.55 1181.22,1239.3 1204.33,1277.53 1227.44,1272 1250.55,1262.72 1273.65,1064.2 1296.76,1264.03 1319.87,1151.61 1342.97,1161.93 \n",
       "  1366.08,1282.89 1389.19,1277.45 1412.3,1285.65 1435.4,1285.69 1458.51,1295.8 1481.62,1282.55 1504.72,1082.34 1527.83,1278.61 1550.94,1279.45 1574.05,1279.57 \n",
       "  1597.15,1296.58 1620.26,1290.33 1643.37,1308.14 1666.47,1302.15 1689.58,1319.78 1712.69,1309.82 1735.8,1018.84 1758.9,1313.14 1782.01,1318.51 1805.12,1324.71 \n",
       "  1828.22,1314.4 1851.33,1316.25 1874.44,1312.5 1897.55,1335.01 1920.65,1325.01 1943.76,720.035 1966.87,1330.49 1989.97,1347.27 2013.08,1342.69 2036.19,1344.87 \n",
       "  2059.3,1350.37 2082.4,1362.52 2105.51,1095.21 2128.62,1345.2 2151.72,1355.33 2174.83,1352.15 2197.94,1358.4 2221.05,1355.63 2244.15,1356.84 2267.26,1369.62 \n",
       "  2290.37,1349.76 \n",
       "  \"/>\n",
       "<polyline clip-path=\"url(#clip142)\" style=\"stroke:#e26f46; stroke-width:4; stroke-opacity:1; fill:none\" points=\"\n",
       "  210.724,1445.72 233.831,188.578 256.938,87.9763 280.045,314.197 303.152,622.413 326.259,628.176 349.367,623.216 372.474,630.541 395.581,626.647 418.688,640.903 \n",
       "  441.795,636.832 464.902,621.732 488.009,633.909 511.117,653.995 534.224,675.709 557.331,771.559 580.438,846.167 603.545,861.112 626.652,1013.42 649.759,1117.48 \n",
       "  672.867,1147.48 695.974,1157.85 719.081,1163.19 742.188,1166.72 765.295,1172.98 788.402,1176.5 811.509,1180.86 834.617,1167.98 857.724,1188.27 880.831,791.232 \n",
       "  903.938,1195.17 927.045,1198.7 950.152,1197.27 973.259,1200.06 996.367,1000.89 1019.47,1209.22 1042.58,1214.19 1065.69,1187.06 1088.8,1220.11 1111.9,1223.05 \n",
       "  1135.01,1174.85 1158.12,1228.52 1181.22,1231.37 1204.33,1233.94 1227.44,1236.5 1250.55,1238.99 1273.65,1071.32 1296.76,1244.32 1319.87,1139.77 1342.97,1142.17 \n",
       "  1366.08,1251.23 1389.19,1253.75 1412.3,1254.37 1435.4,1258 1458.51,1260.26 1481.62,1262.74 1504.72,1086.15 1527.83,1266.77 1550.94,1267.64 1574.05,1247.41 \n",
       "  1597.15,1272.76 1620.26,1274.53 1643.37,1276.39 1666.47,1278.39 1689.58,1280.15 1712.69,1282.08 1735.8,1070.99 1758.9,1285.45 1782.01,1286.91 1805.12,1289.1 \n",
       "  1828.22,1284.48 1851.33,1292.49 1874.44,1292.73 1897.55,1295.36 1920.65,1297.23 1943.76,714.609 1966.87,1307.91 1989.97,1317.96 2013.08,1324.69 2036.19,1331.14 \n",
       "  2059.3,1348.89 2082.4,1355.28 2105.51,1119.86 2128.62,1360.53 2151.72,1362.69 2174.83,1362.32 2197.94,1365.58 2221.05,1366.74 2244.15,1368.37 2267.26,1369.32 \n",
       "  2290.37,1350.31 \n",
       "  \"/>\n",
       "<path clip-path=\"url(#clip140)\" d=\"\n",
       "M1983.32 276.658 L2279.28 276.658 L2279.28 95.2176 L1983.32 95.2176  Z\n",
       "  \" fill=\"#ffffff\" fill-rule=\"evenodd\" fill-opacity=\"1\"/>\n",
       "<polyline clip-path=\"url(#clip140)\" style=\"stroke:#000000; stroke-width:4; stroke-opacity:1; fill:none\" points=\"\n",
       "  1983.32,276.658 2279.28,276.658 2279.28,95.2176 1983.32,95.2176 1983.32,276.658 \n",
       "  \"/>\n",
       "<polyline clip-path=\"url(#clip140)\" style=\"stroke:#009af9; stroke-width:4; stroke-opacity:1; fill:none\" points=\"\n",
       "  2007.81,155.698 2154.78,155.698 \n",
       "  \"/>\n",
       "<path clip-path=\"url(#clip140)\" d=\"M 0 0 M2193.11 175.385 Q2191.31 180.015 2189.59 181.427 Q2187.88 182.839 2185.01 182.839 L2181.61 182.839 L2181.61 179.274 L2184.11 179.274 Q2185.87 179.274 2186.84 178.44 Q2187.81 177.607 2188.99 174.505 L2189.76 172.561 L2179.27 147.052 L2183.78 147.052 L2191.89 167.329 L2199.99 147.052 L2204.5 147.052 L2193.11 175.385 Z\" fill=\"#000000\" fill-rule=\"evenodd\" fill-opacity=\"1\" /><path clip-path=\"url(#clip140)\" d=\"M 0 0 M2210.38 169.042 L2218.02 169.042 L2218.02 142.677 L2209.71 144.343 L2209.71 140.084 L2217.97 138.418 L2222.65 138.418 L2222.65 169.042 L2230.29 169.042 L2230.29 172.978 L2210.38 172.978 L2210.38 169.042 Z\" fill=\"#000000\" fill-rule=\"evenodd\" fill-opacity=\"1\" /><polyline clip-path=\"url(#clip140)\" style=\"stroke:#e26f46; stroke-width:4; stroke-opacity:1; fill:none\" points=\"\n",
       "  2007.81,216.178 2154.78,216.178 \n",
       "  \"/>\n",
       "<path clip-path=\"url(#clip140)\" d=\"M 0 0 M2193.11 235.865 Q2191.31 240.495 2189.59 241.907 Q2187.88 243.319 2185.01 243.319 L2181.61 243.319 L2181.61 239.754 L2184.11 239.754 Q2185.87 239.754 2186.84 238.92 Q2187.81 238.087 2188.99 234.985 L2189.76 233.041 L2179.27 207.532 L2183.78 207.532 L2191.89 227.809 L2199.99 207.532 L2204.5 207.532 L2193.11 235.865 Z\" fill=\"#000000\" fill-rule=\"evenodd\" fill-opacity=\"1\" /><path clip-path=\"url(#clip140)\" d=\"M 0 0 M2213.6 229.522 L2229.92 229.522 L2229.92 233.458 L2207.97 233.458 L2207.97 229.522 Q2210.64 226.768 2215.22 222.138 Q2219.83 217.485 2221.01 216.143 Q2223.25 213.62 2224.13 211.884 Q2225.03 210.124 2225.03 208.435 Q2225.03 205.68 2223.09 203.944 Q2221.17 202.208 2218.07 202.208 Q2215.87 202.208 2213.41 202.972 Q2210.98 203.735 2208.2 205.286 L2208.2 200.564 Q2211.03 199.43 2213.48 198.851 Q2215.94 198.273 2217.97 198.273 Q2223.34 198.273 2226.54 200.958 Q2229.73 203.643 2229.73 208.134 Q2229.73 210.263 2228.92 212.185 Q2228.14 214.083 2226.03 216.675 Q2225.45 217.347 2222.35 220.564 Q2219.25 223.759 2213.6 229.522 Z\" fill=\"#000000\" fill-rule=\"evenodd\" fill-opacity=\"1\" /></svg>\n"
      ]
     },
     "execution_count": 19,
     "metadata": {},
     "output_type": "execute_result"
    }
   ],
   "source": [
    "plot(losstrn)\n",
    "plot!(losstst) "
   ]
  },
  {
   "cell_type": "code",
   "execution_count": 20,
   "metadata": {},
   "outputs": [
    {
     "data": {
      "text/plain": [
       "([0 0 … 1 1; 0 0 … 1 1; … ; 1 1 … 0 1; 0 1 … 0 1], [1 0 … 0 0], [0 1 … 0 1; 0 0 … 0 1; … ; 0 0 … 1 0; 0 0 … 1 0], [0 0 … 1 0])"
      ]
     },
     "execution_count": 20,
     "metadata": {},
     "output_type": "execute_result"
    }
   ],
   "source": [
    "xtrn, ytrn, xtst, ytst = mlp.split_data(trainidx, testidx, n, ntest)"
   ]
  },
  {
   "cell_type": "code",
   "execution_count": 21,
   "metadata": {},
   "outputs": [
    {
     "data": {
      "image/svg+xml": [
       "<?xml version=\"1.0\" encoding=\"utf-8\"?>\n",
       "<svg xmlns=\"http://www.w3.org/2000/svg\" xmlns:xlink=\"http://www.w3.org/1999/xlink\" width=\"600\" height=\"400\" viewBox=\"0 0 2400 1600\">\n",
       "<defs>\n",
       "  <clipPath id=\"clip180\">\n",
       "    <rect x=\"0\" y=\"0\" width=\"2400\" height=\"1600\"/>\n",
       "  </clipPath>\n",
       "</defs>\n",
       "<path clip-path=\"url(#clip180)\" d=\"\n",
       "M0 1600 L2400 1600 L2400 0 L0 0  Z\n",
       "  \" fill=\"#ffffff\" fill-rule=\"evenodd\" fill-opacity=\"1\"/>\n",
       "<defs>\n",
       "  <clipPath id=\"clip181\">\n",
       "    <rect x=\"480\" y=\"0\" width=\"1681\" height=\"1600\"/>\n",
       "  </clipPath>\n",
       "</defs>\n",
       "<path clip-path=\"url(#clip180)\" d=\"\n",
       "M174.862 1486.45 L2352.76 1486.45 L2352.76 47.2441 L174.862 47.2441  Z\n",
       "  \" fill=\"#ffffff\" fill-rule=\"evenodd\" fill-opacity=\"1\"/>\n",
       "<defs>\n",
       "  <clipPath id=\"clip182\">\n",
       "    <rect x=\"174\" y=\"47\" width=\"2179\" height=\"1440\"/>\n",
       "  </clipPath>\n",
       "</defs>\n",
       "<polyline clip-path=\"url(#clip182)\" style=\"stroke:#000000; stroke-width:2; stroke-opacity:0.1; fill:none\" points=\"\n",
       "  203.888,1486.45 203.888,47.2441 \n",
       "  \"/>\n",
       "<polyline clip-path=\"url(#clip182)\" style=\"stroke:#000000; stroke-width:2; stroke-opacity:0.1; fill:none\" points=\"\n",
       "  530.017,1486.45 530.017,47.2441 \n",
       "  \"/>\n",
       "<polyline clip-path=\"url(#clip182)\" style=\"stroke:#000000; stroke-width:2; stroke-opacity:0.1; fill:none\" points=\"\n",
       "  856.147,1486.45 856.147,47.2441 \n",
       "  \"/>\n",
       "<polyline clip-path=\"url(#clip182)\" style=\"stroke:#000000; stroke-width:2; stroke-opacity:0.1; fill:none\" points=\"\n",
       "  1182.28,1486.45 1182.28,47.2441 \n",
       "  \"/>\n",
       "<polyline clip-path=\"url(#clip182)\" style=\"stroke:#000000; stroke-width:2; stroke-opacity:0.1; fill:none\" points=\"\n",
       "  1508.41,1486.45 1508.41,47.2441 \n",
       "  \"/>\n",
       "<polyline clip-path=\"url(#clip182)\" style=\"stroke:#000000; stroke-width:2; stroke-opacity:0.1; fill:none\" points=\"\n",
       "  1834.54,1486.45 1834.54,47.2441 \n",
       "  \"/>\n",
       "<polyline clip-path=\"url(#clip182)\" style=\"stroke:#000000; stroke-width:2; stroke-opacity:0.1; fill:none\" points=\"\n",
       "  2160.67,1486.45 2160.67,47.2441 \n",
       "  \"/>\n",
       "<polyline clip-path=\"url(#clip180)\" style=\"stroke:#000000; stroke-width:4; stroke-opacity:1; fill:none\" points=\"\n",
       "  174.862,1486.45 2352.76,1486.45 \n",
       "  \"/>\n",
       "<polyline clip-path=\"url(#clip180)\" style=\"stroke:#000000; stroke-width:4; stroke-opacity:1; fill:none\" points=\"\n",
       "  203.888,1486.45 203.888,1469.18 \n",
       "  \"/>\n",
       "<polyline clip-path=\"url(#clip180)\" style=\"stroke:#000000; stroke-width:4; stroke-opacity:1; fill:none\" points=\"\n",
       "  530.017,1486.45 530.017,1469.18 \n",
       "  \"/>\n",
       "<polyline clip-path=\"url(#clip180)\" style=\"stroke:#000000; stroke-width:4; stroke-opacity:1; fill:none\" points=\"\n",
       "  856.147,1486.45 856.147,1469.18 \n",
       "  \"/>\n",
       "<polyline clip-path=\"url(#clip180)\" style=\"stroke:#000000; stroke-width:4; stroke-opacity:1; fill:none\" points=\"\n",
       "  1182.28,1486.45 1182.28,1469.18 \n",
       "  \"/>\n",
       "<polyline clip-path=\"url(#clip180)\" style=\"stroke:#000000; stroke-width:4; stroke-opacity:1; fill:none\" points=\"\n",
       "  1508.41,1486.45 1508.41,1469.18 \n",
       "  \"/>\n",
       "<polyline clip-path=\"url(#clip180)\" style=\"stroke:#000000; stroke-width:4; stroke-opacity:1; fill:none\" points=\"\n",
       "  1834.54,1486.45 1834.54,1469.18 \n",
       "  \"/>\n",
       "<polyline clip-path=\"url(#clip180)\" style=\"stroke:#000000; stroke-width:4; stroke-opacity:1; fill:none\" points=\"\n",
       "  2160.67,1486.45 2160.67,1469.18 \n",
       "  \"/>\n",
       "<path clip-path=\"url(#clip180)\" d=\"M 0 0 M203.888 1515.64 Q200.276 1515.64 198.448 1519.2 Q196.642 1522.75 196.642 1529.87 Q196.642 1536.98 198.448 1540.55 Q200.276 1544.09 203.888 1544.09 Q207.522 1544.09 209.327 1540.55 Q211.156 1536.98 211.156 1529.87 Q211.156 1522.75 209.327 1519.2 Q207.522 1515.64 203.888 1515.64 M203.888 1511.93 Q209.698 1511.93 212.753 1516.54 Q215.832 1521.12 215.832 1529.87 Q215.832 1538.6 212.753 1543.21 Q209.698 1547.79 203.888 1547.79 Q198.077 1547.79 194.999 1543.21 Q191.943 1538.6 191.943 1529.87 Q191.943 1521.12 194.999 1516.54 Q198.077 1511.93 203.888 1511.93 Z\" fill=\"#000000\" fill-rule=\"evenodd\" fill-opacity=\"1\" /><path clip-path=\"url(#clip180)\" d=\"M 0 0 M506.892 1543.18 L514.531 1543.18 L514.531 1516.82 L506.221 1518.49 L506.221 1514.23 L514.485 1512.56 L519.161 1512.56 L519.161 1543.18 L526.8 1543.18 L526.8 1547.12 L506.892 1547.12 L506.892 1543.18 Z\" fill=\"#000000\" fill-rule=\"evenodd\" fill-opacity=\"1\" /><path clip-path=\"url(#clip180)\" d=\"M 0 0 M541.869 1515.64 Q538.258 1515.64 536.429 1519.2 Q534.624 1522.75 534.624 1529.87 Q534.624 1536.98 536.429 1540.55 Q538.258 1544.09 541.869 1544.09 Q545.503 1544.09 547.309 1540.55 Q549.137 1536.98 549.137 1529.87 Q549.137 1522.75 547.309 1519.2 Q545.503 1515.64 541.869 1515.64 M541.869 1511.93 Q547.679 1511.93 550.735 1516.54 Q553.813 1521.12 553.813 1529.87 Q553.813 1538.6 550.735 1543.21 Q547.679 1547.79 541.869 1547.79 Q536.059 1547.79 532.98 1543.21 Q529.925 1538.6 529.925 1529.87 Q529.925 1521.12 532.98 1516.54 Q536.059 1511.93 541.869 1511.93 Z\" fill=\"#000000\" fill-rule=\"evenodd\" fill-opacity=\"1\" /><path clip-path=\"url(#clip180)\" d=\"M 0 0 M837.293 1543.18 L853.612 1543.18 L853.612 1547.12 L831.668 1547.12 L831.668 1543.18 Q834.33 1540.43 838.913 1535.8 Q843.52 1531.15 844.7 1529.81 Q846.946 1527.28 847.825 1525.55 Q848.728 1523.79 848.728 1522.1 Q848.728 1519.34 846.784 1517.61 Q844.862 1515.87 841.76 1515.87 Q839.561 1515.87 837.108 1516.63 Q834.677 1517.4 831.899 1518.95 L831.899 1514.23 Q834.723 1513.09 837.177 1512.51 Q839.631 1511.93 841.668 1511.93 Q847.038 1511.93 850.233 1514.62 Q853.427 1517.31 853.427 1521.8 Q853.427 1523.93 852.617 1525.85 Q851.83 1527.74 849.723 1530.34 Q849.145 1531.01 846.043 1534.23 Q842.941 1537.42 837.293 1543.18 Z\" fill=\"#000000\" fill-rule=\"evenodd\" fill-opacity=\"1\" /><path clip-path=\"url(#clip180)\" d=\"M 0 0 M868.682 1515.64 Q865.07 1515.64 863.242 1519.2 Q861.436 1522.75 861.436 1529.87 Q861.436 1536.98 863.242 1540.55 Q865.07 1544.09 868.682 1544.09 Q872.316 1544.09 874.121 1540.55 Q875.95 1536.98 875.95 1529.87 Q875.95 1522.75 874.121 1519.2 Q872.316 1515.64 868.682 1515.64 M868.682 1511.93 Q874.492 1511.93 877.547 1516.54 Q880.626 1521.12 880.626 1529.87 Q880.626 1538.6 877.547 1543.21 Q874.492 1547.79 868.682 1547.79 Q862.871 1547.79 859.793 1543.21 Q856.737 1538.6 856.737 1529.87 Q856.737 1521.12 859.793 1516.54 Q862.871 1511.93 868.682 1511.93 Z\" fill=\"#000000\" fill-rule=\"evenodd\" fill-opacity=\"1\" /><path clip-path=\"url(#clip180)\" d=\"M 0 0 M1173.02 1528.49 Q1176.37 1529.2 1178.25 1531.47 Q1180.15 1533.74 1180.15 1537.07 Q1180.15 1542.19 1176.63 1544.99 Q1173.11 1547.79 1166.63 1547.79 Q1164.45 1547.79 1162.14 1547.35 Q1159.85 1546.93 1157.39 1546.08 L1157.39 1541.56 Q1159.34 1542.7 1161.65 1543.28 Q1163.97 1543.86 1166.49 1543.86 Q1170.89 1543.86 1173.18 1542.12 Q1175.49 1540.38 1175.49 1537.07 Q1175.49 1534.02 1173.34 1532.31 Q1171.21 1530.57 1167.39 1530.57 L1163.36 1530.57 L1163.36 1526.73 L1167.58 1526.73 Q1171.03 1526.73 1172.86 1525.36 Q1174.68 1523.97 1174.68 1521.38 Q1174.68 1518.72 1172.79 1517.31 Q1170.91 1515.87 1167.39 1515.87 Q1165.47 1515.87 1163.27 1516.29 Q1161.07 1516.7 1158.43 1517.58 L1158.43 1513.42 Q1161.1 1512.68 1163.41 1512.31 Q1165.75 1511.93 1167.81 1511.93 Q1173.13 1511.93 1176.23 1514.37 Q1179.34 1516.77 1179.34 1520.89 Q1179.34 1523.76 1177.69 1525.75 Q1176.05 1527.72 1173.02 1528.49 Z\" fill=\"#000000\" fill-rule=\"evenodd\" fill-opacity=\"1\" /><path clip-path=\"url(#clip180)\" d=\"M 0 0 M1195.22 1515.64 Q1191.61 1515.64 1189.78 1519.2 Q1187.97 1522.75 1187.97 1529.87 Q1187.97 1536.98 1189.78 1540.55 Q1191.61 1544.09 1195.22 1544.09 Q1198.85 1544.09 1200.66 1540.55 Q1202.48 1536.98 1202.48 1529.87 Q1202.48 1522.75 1200.66 1519.2 Q1198.85 1515.64 1195.22 1515.64 M1195.22 1511.93 Q1201.03 1511.93 1204.08 1516.54 Q1207.16 1521.12 1207.16 1529.87 Q1207.16 1538.6 1204.08 1543.21 Q1201.03 1547.79 1195.22 1547.79 Q1189.41 1547.79 1186.33 1543.21 Q1183.27 1538.6 1183.27 1529.87 Q1183.27 1521.12 1186.33 1516.54 Q1189.41 1511.93 1195.22 1511.93 Z\" fill=\"#000000\" fill-rule=\"evenodd\" fill-opacity=\"1\" /><path clip-path=\"url(#clip180)\" d=\"M 0 0 M1497.91 1516.63 L1486.1 1535.08 L1497.91 1535.08 L1497.91 1516.63 M1496.68 1512.56 L1502.56 1512.56 L1502.56 1535.08 L1507.49 1535.08 L1507.49 1538.97 L1502.56 1538.97 L1502.56 1547.12 L1497.91 1547.12 L1497.91 1538.97 L1482.31 1538.97 L1482.31 1534.46 L1496.68 1512.56 Z\" fill=\"#000000\" fill-rule=\"evenodd\" fill-opacity=\"1\" /><path clip-path=\"url(#clip180)\" d=\"M 0 0 M1522.56 1515.64 Q1518.95 1515.64 1517.12 1519.2 Q1515.32 1522.75 1515.32 1529.87 Q1515.32 1536.98 1517.12 1540.55 Q1518.95 1544.09 1522.56 1544.09 Q1526.2 1544.09 1528 1540.55 Q1529.83 1536.98 1529.83 1529.87 Q1529.83 1522.75 1528 1519.2 Q1526.2 1515.64 1522.56 1515.64 M1522.56 1511.93 Q1528.37 1511.93 1531.43 1516.54 Q1534.51 1521.12 1534.51 1529.87 Q1534.51 1538.6 1531.43 1543.21 Q1528.37 1547.79 1522.56 1547.79 Q1516.75 1547.79 1513.67 1543.21 Q1510.62 1538.6 1510.62 1529.87 Q1510.62 1521.12 1513.67 1516.54 Q1516.75 1511.93 1522.56 1511.93 Z\" fill=\"#000000\" fill-rule=\"evenodd\" fill-opacity=\"1\" /><path clip-path=\"url(#clip180)\" d=\"M 0 0 M1811.31 1512.56 L1829.66 1512.56 L1829.66 1516.5 L1815.59 1516.5 L1815.59 1524.97 Q1816.61 1524.62 1817.63 1524.46 Q1818.64 1524.27 1819.66 1524.27 Q1825.45 1524.27 1828.83 1527.44 Q1832.21 1530.62 1832.21 1536.03 Q1832.21 1541.61 1828.74 1544.71 Q1825.27 1547.79 1818.95 1547.79 Q1816.77 1547.79 1814.5 1547.42 Q1812.26 1547.05 1809.85 1546.31 L1809.85 1541.61 Q1811.93 1542.74 1814.15 1543.3 Q1816.38 1543.86 1818.85 1543.86 Q1822.86 1543.86 1825.2 1541.75 Q1827.53 1539.64 1827.53 1536.03 Q1827.53 1532.42 1825.2 1530.31 Q1822.86 1528.21 1818.85 1528.21 Q1816.98 1528.21 1815.1 1528.62 Q1813.25 1529.04 1811.31 1529.92 L1811.31 1512.56 Z\" fill=\"#000000\" fill-rule=\"evenodd\" fill-opacity=\"1\" /><path clip-path=\"url(#clip180)\" d=\"M 0 0 M1847.28 1515.64 Q1843.67 1515.64 1841.84 1519.2 Q1840.03 1522.75 1840.03 1529.87 Q1840.03 1536.98 1841.84 1540.55 Q1843.67 1544.09 1847.28 1544.09 Q1850.91 1544.09 1852.72 1540.55 Q1854.55 1536.98 1854.55 1529.87 Q1854.55 1522.75 1852.72 1519.2 Q1850.91 1515.64 1847.28 1515.64 M1847.28 1511.93 Q1853.09 1511.93 1856.14 1516.54 Q1859.22 1521.12 1859.22 1529.87 Q1859.22 1538.6 1856.14 1543.21 Q1853.09 1547.79 1847.28 1547.79 Q1841.47 1547.79 1838.39 1543.21 Q1835.33 1538.6 1835.33 1529.87 Q1835.33 1521.12 1838.39 1516.54 Q1841.47 1511.93 1847.28 1511.93 Z\" fill=\"#000000\" fill-rule=\"evenodd\" fill-opacity=\"1\" /><path clip-path=\"url(#clip180)\" d=\"M 0 0 M2147.56 1527.98 Q2144.42 1527.98 2142.56 1530.13 Q2140.74 1532.28 2140.74 1536.03 Q2140.74 1539.76 2142.56 1541.93 Q2144.42 1544.09 2147.56 1544.09 Q2150.71 1544.09 2152.54 1541.93 Q2154.39 1539.76 2154.39 1536.03 Q2154.39 1532.28 2152.54 1530.13 Q2150.71 1527.98 2147.56 1527.98 M2156.85 1513.32 L2156.85 1517.58 Q2155.09 1516.75 2153.28 1516.31 Q2151.5 1515.87 2149.74 1515.87 Q2145.11 1515.87 2142.66 1519 Q2140.23 1522.12 2139.88 1528.44 Q2141.24 1526.43 2143.3 1525.36 Q2145.36 1524.27 2147.84 1524.27 Q2153.05 1524.27 2156.06 1527.44 Q2159.09 1530.59 2159.09 1536.03 Q2159.09 1541.36 2155.94 1544.57 Q2152.8 1547.79 2147.56 1547.79 Q2141.57 1547.79 2138.4 1543.21 Q2135.23 1538.6 2135.23 1529.87 Q2135.23 1521.68 2139.11 1516.82 Q2143 1511.93 2149.55 1511.93 Q2151.31 1511.93 2153.1 1512.28 Q2154.9 1512.63 2156.85 1513.32 Z\" fill=\"#000000\" fill-rule=\"evenodd\" fill-opacity=\"1\" /><path clip-path=\"url(#clip180)\" d=\"M 0 0 M2174.16 1515.64 Q2170.55 1515.64 2168.72 1519.2 Q2166.92 1522.75 2166.92 1529.87 Q2166.92 1536.98 2168.72 1540.55 Q2170.55 1544.09 2174.16 1544.09 Q2177.8 1544.09 2179.6 1540.55 Q2181.43 1536.98 2181.43 1529.87 Q2181.43 1522.75 2179.6 1519.2 Q2177.8 1515.64 2174.16 1515.64 M2174.16 1511.93 Q2179.97 1511.93 2183.03 1516.54 Q2186.11 1521.12 2186.11 1529.87 Q2186.11 1538.6 2183.03 1543.21 Q2179.97 1547.79 2174.16 1547.79 Q2168.35 1547.79 2165.27 1543.21 Q2162.22 1538.6 2162.22 1529.87 Q2162.22 1521.12 2165.27 1516.54 Q2168.35 1511.93 2174.16 1511.93 Z\" fill=\"#000000\" fill-rule=\"evenodd\" fill-opacity=\"1\" /><polyline clip-path=\"url(#clip182)\" style=\"stroke:#000000; stroke-width:2; stroke-opacity:0.1; fill:none\" points=\"\n",
       "  174.862,1445.72 2352.76,1445.72 \n",
       "  \"/>\n",
       "<polyline clip-path=\"url(#clip182)\" style=\"stroke:#000000; stroke-width:2; stroke-opacity:0.1; fill:none\" points=\"\n",
       "  174.862,1106.28 2352.76,1106.28 \n",
       "  \"/>\n",
       "<polyline clip-path=\"url(#clip182)\" style=\"stroke:#000000; stroke-width:2; stroke-opacity:0.1; fill:none\" points=\"\n",
       "  174.862,766.846 2352.76,766.846 \n",
       "  \"/>\n",
       "<polyline clip-path=\"url(#clip182)\" style=\"stroke:#000000; stroke-width:2; stroke-opacity:0.1; fill:none\" points=\"\n",
       "  174.862,427.411 2352.76,427.411 \n",
       "  \"/>\n",
       "<polyline clip-path=\"url(#clip182)\" style=\"stroke:#000000; stroke-width:2; stroke-opacity:0.1; fill:none\" points=\"\n",
       "  174.862,87.9763 2352.76,87.9763 \n",
       "  \"/>\n",
       "<polyline clip-path=\"url(#clip180)\" style=\"stroke:#000000; stroke-width:4; stroke-opacity:1; fill:none\" points=\"\n",
       "  174.862,1486.45 174.862,47.2441 \n",
       "  \"/>\n",
       "<polyline clip-path=\"url(#clip180)\" style=\"stroke:#000000; stroke-width:4; stroke-opacity:1; fill:none\" points=\"\n",
       "  174.862,1445.72 200.997,1445.72 \n",
       "  \"/>\n",
       "<polyline clip-path=\"url(#clip180)\" style=\"stroke:#000000; stroke-width:4; stroke-opacity:1; fill:none\" points=\"\n",
       "  174.862,1106.28 200.997,1106.28 \n",
       "  \"/>\n",
       "<polyline clip-path=\"url(#clip180)\" style=\"stroke:#000000; stroke-width:4; stroke-opacity:1; fill:none\" points=\"\n",
       "  174.862,766.846 200.997,766.846 \n",
       "  \"/>\n",
       "<polyline clip-path=\"url(#clip180)\" style=\"stroke:#000000; stroke-width:4; stroke-opacity:1; fill:none\" points=\"\n",
       "  174.862,427.411 200.997,427.411 \n",
       "  \"/>\n",
       "<polyline clip-path=\"url(#clip180)\" style=\"stroke:#000000; stroke-width:4; stroke-opacity:1; fill:none\" points=\"\n",
       "  174.862,87.9763 200.997,87.9763 \n",
       "  \"/>\n",
       "<path clip-path=\"url(#clip180)\" d=\"M 0 0 M62.9365 1431.51 Q59.3254 1431.51 57.4967 1435.08 Q55.6912 1438.62 55.6912 1445.75 Q55.6912 1452.86 57.4967 1456.42 Q59.3254 1459.96 62.9365 1459.96 Q66.5707 1459.96 68.3763 1456.42 Q70.205 1452.86 70.205 1445.75 Q70.205 1438.62 68.3763 1435.08 Q66.5707 1431.51 62.9365 1431.51 M62.9365 1427.81 Q68.7467 1427.81 71.8022 1432.42 Q74.8809 1437 74.8809 1445.75 Q74.8809 1454.48 71.8022 1459.08 Q68.7467 1463.67 62.9365 1463.67 Q57.1264 1463.67 54.0477 1459.08 Q50.9921 1454.48 50.9921 1445.75 Q50.9921 1437 54.0477 1432.42 Q57.1264 1427.81 62.9365 1427.81 Z\" fill=\"#000000\" fill-rule=\"evenodd\" fill-opacity=\"1\" /><path clip-path=\"url(#clip180)\" d=\"M 0 0 M79.9503 1457.12 L84.8345 1457.12 L84.8345 1463 L79.9503 1463 L79.9503 1457.12 Z\" fill=\"#000000\" fill-rule=\"evenodd\" fill-opacity=\"1\" /><path clip-path=\"url(#clip180)\" d=\"M 0 0 M99.9039 1431.51 Q96.2928 1431.51 94.4641 1435.08 Q92.6586 1438.62 92.6586 1445.75 Q92.6586 1452.86 94.4641 1456.42 Q96.2928 1459.96 99.9039 1459.96 Q103.538 1459.96 105.344 1456.42 Q107.172 1452.86 107.172 1445.75 Q107.172 1438.62 105.344 1435.08 Q103.538 1431.51 99.9039 1431.51 M99.9039 1427.81 Q105.714 1427.81 108.77 1432.42 Q111.848 1437 111.848 1445.75 Q111.848 1454.48 108.77 1459.08 Q105.714 1463.67 99.9039 1463.67 Q94.0937 1463.67 91.0151 1459.08 Q87.9595 1454.48 87.9595 1445.75 Q87.9595 1437 91.0151 1432.42 Q94.0937 1427.81 99.9039 1427.81 Z\" fill=\"#000000\" fill-rule=\"evenodd\" fill-opacity=\"1\" /><path clip-path=\"url(#clip180)\" d=\"M 0 0 M126.918 1431.51 Q123.307 1431.51 121.478 1435.08 Q119.672 1438.62 119.672 1445.75 Q119.672 1452.86 121.478 1456.42 Q123.307 1459.96 126.918 1459.96 Q130.552 1459.96 132.357 1456.42 Q134.186 1452.86 134.186 1445.75 Q134.186 1438.62 132.357 1435.08 Q130.552 1431.51 126.918 1431.51 M126.918 1427.81 Q132.728 1427.81 135.783 1432.42 Q138.862 1437 138.862 1445.75 Q138.862 1454.48 135.783 1459.08 Q132.728 1463.67 126.918 1463.67 Q121.107 1463.67 118.029 1459.08 Q114.973 1454.48 114.973 1445.75 Q114.973 1437 118.029 1432.42 Q121.107 1427.81 126.918 1427.81 Z\" fill=\"#000000\" fill-rule=\"evenodd\" fill-opacity=\"1\" /><path clip-path=\"url(#clip180)\" d=\"M 0 0 M65.5291 1092.08 Q61.918 1092.08 60.0893 1095.64 Q58.2838 1099.19 58.2838 1106.32 Q58.2838 1113.42 60.0893 1116.99 Q61.918 1120.53 65.5291 1120.53 Q69.1633 1120.53 70.9689 1116.99 Q72.7976 1113.42 72.7976 1106.32 Q72.7976 1099.19 70.9689 1095.64 Q69.1633 1092.08 65.5291 1092.08 M65.5291 1088.38 Q71.3392 1088.38 74.3948 1092.98 Q77.4735 1097.57 77.4735 1106.32 Q77.4735 1115.04 74.3948 1119.65 Q71.3392 1124.23 65.5291 1124.23 Q59.7189 1124.23 56.6402 1119.65 Q53.5847 1115.04 53.5847 1106.32 Q53.5847 1097.57 56.6402 1092.98 Q59.7189 1088.38 65.5291 1088.38 Z\" fill=\"#000000\" fill-rule=\"evenodd\" fill-opacity=\"1\" /><path clip-path=\"url(#clip180)\" d=\"M 0 0 M82.5429 1117.68 L87.4271 1117.68 L87.4271 1123.56 L82.5429 1123.56 L82.5429 1117.68 Z\" fill=\"#000000\" fill-rule=\"evenodd\" fill-opacity=\"1\" /><path clip-path=\"url(#clip180)\" d=\"M 0 0 M96.5243 1119.63 L112.844 1119.63 L112.844 1123.56 L90.8993 1123.56 L90.8993 1119.63 Q93.5613 1116.87 98.1447 1112.24 Q102.751 1107.59 103.932 1106.25 Q106.177 1103.72 107.057 1101.99 Q107.959 1100.23 107.959 1098.54 Q107.959 1095.78 106.015 1094.05 Q104.094 1092.31 100.992 1092.31 Q98.7928 1092.31 96.3391 1093.07 Q93.9086 1093.84 91.1308 1095.39 L91.1308 1090.67 Q93.9549 1089.53 96.4085 1088.95 Q98.8622 1088.38 100.899 1088.38 Q106.27 1088.38 109.464 1091.06 Q112.658 1093.75 112.658 1098.24 Q112.658 1100.37 111.848 1102.29 Q111.061 1104.19 108.955 1106.78 Q108.376 1107.45 105.274 1110.67 Q102.172 1113.86 96.5243 1119.63 Z\" fill=\"#000000\" fill-rule=\"evenodd\" fill-opacity=\"1\" /><path clip-path=\"url(#clip180)\" d=\"M 0 0 M117.959 1089 L136.316 1089 L136.316 1092.94 L122.242 1092.94 L122.242 1101.41 Q123.26 1101.06 124.279 1100.9 Q125.297 1100.71 126.316 1100.71 Q132.103 1100.71 135.482 1103.89 Q138.862 1107.06 138.862 1112.47 Q138.862 1118.05 135.39 1121.15 Q131.918 1124.23 125.598 1124.23 Q123.422 1124.23 121.154 1123.86 Q118.908 1123.49 116.501 1122.75 L116.501 1118.05 Q118.584 1119.19 120.807 1119.74 Q123.029 1120.3 125.506 1120.3 Q129.51 1120.3 131.848 1118.19 Q134.186 1116.08 134.186 1112.47 Q134.186 1108.86 131.848 1106.76 Q129.51 1104.65 125.506 1104.65 Q123.631 1104.65 121.756 1105.07 Q119.904 1105.48 117.959 1106.36 L117.959 1089 Z\" fill=\"#000000\" fill-rule=\"evenodd\" fill-opacity=\"1\" /><path clip-path=\"url(#clip180)\" d=\"M 0 0 M63.9319 752.645 Q60.3208 752.645 58.4921 756.209 Q56.6865 759.751 56.6865 766.881 Q56.6865 773.987 58.4921 777.552 Q60.3208 781.094 63.9319 781.094 Q67.5661 781.094 69.3717 777.552 Q71.2004 773.987 71.2004 766.881 Q71.2004 759.751 69.3717 756.209 Q67.5661 752.645 63.9319 752.645 M63.9319 748.941 Q69.742 748.941 72.7976 753.547 Q75.8763 758.131 75.8763 766.881 Q75.8763 775.608 72.7976 780.214 Q69.742 784.797 63.9319 784.797 Q58.1217 784.797 55.043 780.214 Q51.9875 775.608 51.9875 766.881 Q51.9875 758.131 55.043 753.547 Q58.1217 748.941 63.9319 748.941 Z\" fill=\"#000000\" fill-rule=\"evenodd\" fill-opacity=\"1\" /><path clip-path=\"url(#clip180)\" d=\"M 0 0 M80.9457 778.246 L85.8299 778.246 L85.8299 784.126 L80.9457 784.126 L80.9457 778.246 Z\" fill=\"#000000\" fill-rule=\"evenodd\" fill-opacity=\"1\" /><path clip-path=\"url(#clip180)\" d=\"M 0 0 M90.9456 749.566 L109.302 749.566 L109.302 753.501 L95.228 753.501 L95.228 761.973 Q96.2465 761.626 97.265 761.464 Q98.2835 761.279 99.3021 761.279 Q105.089 761.279 108.469 764.45 Q111.848 767.621 111.848 773.038 Q111.848 778.617 108.376 781.719 Q104.904 784.797 98.5845 784.797 Q96.4085 784.797 94.14 784.427 Q91.8947 784.057 89.4873 783.316 L89.4873 778.617 Q91.5706 779.751 93.7928 780.307 Q96.015 780.862 98.4919 780.862 Q102.496 780.862 104.834 778.756 Q107.172 776.649 107.172 773.038 Q107.172 769.427 104.834 767.321 Q102.496 765.214 98.4919 765.214 Q96.6169 765.214 94.7419 765.631 Q92.89 766.047 90.9456 766.927 L90.9456 749.566 Z\" fill=\"#000000\" fill-rule=\"evenodd\" fill-opacity=\"1\" /><path clip-path=\"url(#clip180)\" d=\"M 0 0 M126.918 752.645 Q123.307 752.645 121.478 756.209 Q119.672 759.751 119.672 766.881 Q119.672 773.987 121.478 777.552 Q123.307 781.094 126.918 781.094 Q130.552 781.094 132.357 777.552 Q134.186 773.987 134.186 766.881 Q134.186 759.751 132.357 756.209 Q130.552 752.645 126.918 752.645 M126.918 748.941 Q132.728 748.941 135.783 753.547 Q138.862 758.131 138.862 766.881 Q138.862 775.608 135.783 780.214 Q132.728 784.797 126.918 784.797 Q121.107 784.797 118.029 780.214 Q114.973 775.608 114.973 766.881 Q114.973 758.131 118.029 753.547 Q121.107 748.941 126.918 748.941 Z\" fill=\"#000000\" fill-rule=\"evenodd\" fill-opacity=\"1\" /><path clip-path=\"url(#clip180)\" d=\"M 0 0 M64.8346 413.21 Q61.2236 413.21 59.3949 416.775 Q57.5893 420.316 57.5893 427.446 Q57.5893 434.552 59.3949 438.117 Q61.2236 441.659 64.8346 441.659 Q68.4689 441.659 70.2744 438.117 Q72.1031 434.552 72.1031 427.446 Q72.1031 420.316 70.2744 416.775 Q68.4689 413.21 64.8346 413.21 M64.8346 409.506 Q70.6448 409.506 73.7003 414.113 Q76.779 418.696 76.779 427.446 Q76.779 436.173 73.7003 440.779 Q70.6448 445.362 64.8346 445.362 Q59.0245 445.362 55.9458 440.779 Q52.8903 436.173 52.8903 427.446 Q52.8903 418.696 55.9458 414.113 Q59.0245 409.506 64.8346 409.506 Z\" fill=\"#000000\" fill-rule=\"evenodd\" fill-opacity=\"1\" /><path clip-path=\"url(#clip180)\" d=\"M 0 0 M81.8484 438.812 L86.7327 438.812 L86.7327 444.691 L81.8484 444.691 L81.8484 438.812 Z\" fill=\"#000000\" fill-rule=\"evenodd\" fill-opacity=\"1\" /><path clip-path=\"url(#clip180)\" d=\"M 0 0 M90.6215 410.131 L112.844 410.131 L112.844 412.122 L100.297 444.691 L95.4132 444.691 L107.219 414.066 L90.6215 414.066 L90.6215 410.131 Z\" fill=\"#000000\" fill-rule=\"evenodd\" fill-opacity=\"1\" /><path clip-path=\"url(#clip180)\" d=\"M 0 0 M117.959 410.131 L136.316 410.131 L136.316 414.066 L122.242 414.066 L122.242 422.538 Q123.26 422.191 124.279 422.029 Q125.297 421.844 126.316 421.844 Q132.103 421.844 135.482 425.015 Q138.862 428.187 138.862 433.603 Q138.862 439.182 135.39 442.284 Q131.918 445.362 125.598 445.362 Q123.422 445.362 121.154 444.992 Q118.908 444.622 116.501 443.881 L116.501 439.182 Q118.584 440.316 120.807 440.872 Q123.029 441.427 125.506 441.427 Q129.51 441.427 131.848 439.321 Q134.186 437.214 134.186 433.603 Q134.186 429.992 131.848 427.886 Q129.51 425.779 125.506 425.779 Q123.631 425.779 121.756 426.196 Q119.904 426.613 117.959 427.492 L117.959 410.131 Z\" fill=\"#000000\" fill-rule=\"evenodd\" fill-opacity=\"1\" /><path clip-path=\"url(#clip180)\" d=\"M 0 0 M54.9736 101.321 L62.6124 101.321 L62.6124 74.9555 L54.3023 76.6222 L54.3023 72.3629 L62.5661 70.6963 L67.242 70.6963 L67.242 101.321 L74.8809 101.321 L74.8809 105.256 L54.9736 105.256 L54.9736 101.321 Z\" fill=\"#000000\" fill-rule=\"evenodd\" fill-opacity=\"1\" /><path clip-path=\"url(#clip180)\" d=\"M 0 0 M79.9503 99.3767 L84.8345 99.3767 L84.8345 105.256 L79.9503 105.256 L79.9503 99.3767 Z\" fill=\"#000000\" fill-rule=\"evenodd\" fill-opacity=\"1\" /><path clip-path=\"url(#clip180)\" d=\"M 0 0 M99.9039 73.775 Q96.2928 73.775 94.4641 77.3398 Q92.6586 80.8814 92.6586 88.011 Q92.6586 95.1174 94.4641 98.6822 Q96.2928 102.224 99.9039 102.224 Q103.538 102.224 105.344 98.6822 Q107.172 95.1174 107.172 88.011 Q107.172 80.8814 105.344 77.3398 Q103.538 73.775 99.9039 73.775 M99.9039 70.0713 Q105.714 70.0713 108.77 74.6777 Q111.848 79.261 111.848 88.011 Q111.848 96.7378 108.77 101.344 Q105.714 105.928 99.9039 105.928 Q94.0937 105.928 91.0151 101.344 Q87.9595 96.7378 87.9595 88.011 Q87.9595 79.261 91.0151 74.6777 Q94.0937 70.0713 99.9039 70.0713 Z\" fill=\"#000000\" fill-rule=\"evenodd\" fill-opacity=\"1\" /><path clip-path=\"url(#clip180)\" d=\"M 0 0 M126.918 73.775 Q123.307 73.775 121.478 77.3398 Q119.672 80.8814 119.672 88.011 Q119.672 95.1174 121.478 98.6822 Q123.307 102.224 126.918 102.224 Q130.552 102.224 132.357 98.6822 Q134.186 95.1174 134.186 88.011 Q134.186 80.8814 132.357 77.3398 Q130.552 73.775 126.918 73.775 M126.918 70.0713 Q132.728 70.0713 135.783 74.6777 Q138.862 79.261 138.862 88.011 Q138.862 96.7378 135.783 101.344 Q132.728 105.928 126.918 105.928 Q121.107 105.928 118.029 101.344 Q114.973 96.7378 114.973 88.011 Q114.973 79.261 118.029 74.6777 Q121.107 70.0713 126.918 70.0713 Z\" fill=\"#000000\" fill-rule=\"evenodd\" fill-opacity=\"1\" /><circle clip-path=\"url(#clip182)\" cx=\"236.501\" cy=\"1414.23\" r=\"14\" fill=\"#009af9\" fill-rule=\"evenodd\" fill-opacity=\"1\" stroke=\"#000000\" stroke-opacity=\"1\" stroke-width=\"3.2\"/>\n",
       "<circle clip-path=\"url(#clip182)\" cx=\"269.113\" cy=\"1324.7\" r=\"14\" fill=\"#009af9\" fill-rule=\"evenodd\" fill-opacity=\"1\" stroke=\"#000000\" stroke-opacity=\"1\" stroke-width=\"3.2\"/>\n",
       "<circle clip-path=\"url(#clip182)\" cx=\"301.726\" cy=\"115.462\" r=\"14\" fill=\"#009af9\" fill-rule=\"evenodd\" fill-opacity=\"1\" stroke=\"#000000\" stroke-opacity=\"1\" stroke-width=\"3.2\"/>\n",
       "<circle clip-path=\"url(#clip182)\" cx=\"334.339\" cy=\"114.602\" r=\"14\" fill=\"#009af9\" fill-rule=\"evenodd\" fill-opacity=\"1\" stroke=\"#000000\" stroke-opacity=\"1\" stroke-width=\"3.2\"/>\n",
       "<circle clip-path=\"url(#clip182)\" cx=\"366.952\" cy=\"125.924\" r=\"14\" fill=\"#009af9\" fill-rule=\"evenodd\" fill-opacity=\"1\" stroke=\"#000000\" stroke-opacity=\"1\" stroke-width=\"3.2\"/>\n",
       "<circle clip-path=\"url(#clip182)\" cx=\"399.565\" cy=\"1434.89\" r=\"14\" fill=\"#009af9\" fill-rule=\"evenodd\" fill-opacity=\"1\" stroke=\"#000000\" stroke-opacity=\"1\" stroke-width=\"3.2\"/>\n",
       "<circle clip-path=\"url(#clip182)\" cx=\"432.178\" cy=\"1424.06\" r=\"14\" fill=\"#009af9\" fill-rule=\"evenodd\" fill-opacity=\"1\" stroke=\"#000000\" stroke-opacity=\"1\" stroke-width=\"3.2\"/>\n",
       "<circle clip-path=\"url(#clip182)\" cx=\"464.791\" cy=\"101.638\" r=\"14\" fill=\"#009af9\" fill-rule=\"evenodd\" fill-opacity=\"1\" stroke=\"#000000\" stroke-opacity=\"1\" stroke-width=\"3.2\"/>\n",
       "<circle clip-path=\"url(#clip182)\" cx=\"497.404\" cy=\"1433.86\" r=\"14\" fill=\"#009af9\" fill-rule=\"evenodd\" fill-opacity=\"1\" stroke=\"#000000\" stroke-opacity=\"1\" stroke-width=\"3.2\"/>\n",
       "<circle clip-path=\"url(#clip182)\" cx=\"530.017\" cy=\"1418.88\" r=\"14\" fill=\"#009af9\" fill-rule=\"evenodd\" fill-opacity=\"1\" stroke=\"#000000\" stroke-opacity=\"1\" stroke-width=\"3.2\"/>\n",
       "<circle clip-path=\"url(#clip182)\" cx=\"562.63\" cy=\"143.039\" r=\"14\" fill=\"#009af9\" fill-rule=\"evenodd\" fill-opacity=\"1\" stroke=\"#000000\" stroke-opacity=\"1\" stroke-width=\"3.2\"/>\n",
       "<circle clip-path=\"url(#clip182)\" cx=\"595.243\" cy=\"1432.77\" r=\"14\" fill=\"#009af9\" fill-rule=\"evenodd\" fill-opacity=\"1\" stroke=\"#000000\" stroke-opacity=\"1\" stroke-width=\"3.2\"/>\n",
       "<circle clip-path=\"url(#clip182)\" cx=\"627.856\" cy=\"1433.62\" r=\"14\" fill=\"#009af9\" fill-rule=\"evenodd\" fill-opacity=\"1\" stroke=\"#000000\" stroke-opacity=\"1\" stroke-width=\"3.2\"/>\n",
       "<circle clip-path=\"url(#clip182)\" cx=\"660.469\" cy=\"100.921\" r=\"14\" fill=\"#009af9\" fill-rule=\"evenodd\" fill-opacity=\"1\" stroke=\"#000000\" stroke-opacity=\"1\" stroke-width=\"3.2\"/>\n",
       "<circle clip-path=\"url(#clip182)\" cx=\"693.082\" cy=\"148.177\" r=\"14\" fill=\"#009af9\" fill-rule=\"evenodd\" fill-opacity=\"1\" stroke=\"#000000\" stroke-opacity=\"1\" stroke-width=\"3.2\"/>\n",
       "<circle clip-path=\"url(#clip182)\" cx=\"725.695\" cy=\"114.839\" r=\"14\" fill=\"#009af9\" fill-rule=\"evenodd\" fill-opacity=\"1\" stroke=\"#000000\" stroke-opacity=\"1\" stroke-width=\"3.2\"/>\n",
       "<circle clip-path=\"url(#clip182)\" cx=\"758.308\" cy=\"1433.54\" r=\"14\" fill=\"#009af9\" fill-rule=\"evenodd\" fill-opacity=\"1\" stroke=\"#000000\" stroke-opacity=\"1\" stroke-width=\"3.2\"/>\n",
       "<circle clip-path=\"url(#clip182)\" cx=\"790.921\" cy=\"113.806\" r=\"14\" fill=\"#009af9\" fill-rule=\"evenodd\" fill-opacity=\"1\" stroke=\"#000000\" stroke-opacity=\"1\" stroke-width=\"3.2\"/>\n",
       "<circle clip-path=\"url(#clip182)\" cx=\"823.534\" cy=\"149.791\" r=\"14\" fill=\"#009af9\" fill-rule=\"evenodd\" fill-opacity=\"1\" stroke=\"#000000\" stroke-opacity=\"1\" stroke-width=\"3.2\"/>\n",
       "<circle clip-path=\"url(#clip182)\" cx=\"856.147\" cy=\"110.474\" r=\"14\" fill=\"#009af9\" fill-rule=\"evenodd\" fill-opacity=\"1\" stroke=\"#000000\" stroke-opacity=\"1\" stroke-width=\"3.2\"/>\n",
       "<circle clip-path=\"url(#clip182)\" cx=\"888.76\" cy=\"1433.27\" r=\"14\" fill=\"#009af9\" fill-rule=\"evenodd\" fill-opacity=\"1\" stroke=\"#000000\" stroke-opacity=\"1\" stroke-width=\"3.2\"/>\n",
       "<circle clip-path=\"url(#clip182)\" cx=\"921.373\" cy=\"1432.25\" r=\"14\" fill=\"#009af9\" fill-rule=\"evenodd\" fill-opacity=\"1\" stroke=\"#000000\" stroke-opacity=\"1\" stroke-width=\"3.2\"/>\n",
       "<circle clip-path=\"url(#clip182)\" cx=\"953.986\" cy=\"1434.8\" r=\"14\" fill=\"#009af9\" fill-rule=\"evenodd\" fill-opacity=\"1\" stroke=\"#000000\" stroke-opacity=\"1\" stroke-width=\"3.2\"/>\n",
       "<circle clip-path=\"url(#clip182)\" cx=\"986.599\" cy=\"103.378\" r=\"14\" fill=\"#009af9\" fill-rule=\"evenodd\" fill-opacity=\"1\" stroke=\"#000000\" stroke-opacity=\"1\" stroke-width=\"3.2\"/>\n",
       "<circle clip-path=\"url(#clip182)\" cx=\"1019.21\" cy=\"117.349\" r=\"14\" fill=\"#009af9\" fill-rule=\"evenodd\" fill-opacity=\"1\" stroke=\"#000000\" stroke-opacity=\"1\" stroke-width=\"3.2\"/>\n",
       "<circle clip-path=\"url(#clip182)\" cx=\"1051.82\" cy=\"1340.55\" r=\"14\" fill=\"#009af9\" fill-rule=\"evenodd\" fill-opacity=\"1\" stroke=\"#000000\" stroke-opacity=\"1\" stroke-width=\"3.2\"/>\n",
       "<circle clip-path=\"url(#clip182)\" cx=\"1084.44\" cy=\"151.482\" r=\"14\" fill=\"#009af9\" fill-rule=\"evenodd\" fill-opacity=\"1\" stroke=\"#000000\" stroke-opacity=\"1\" stroke-width=\"3.2\"/>\n",
       "<circle clip-path=\"url(#clip182)\" cx=\"1117.05\" cy=\"1422.02\" r=\"14\" fill=\"#009af9\" fill-rule=\"evenodd\" fill-opacity=\"1\" stroke=\"#000000\" stroke-opacity=\"1\" stroke-width=\"3.2\"/>\n",
       "<circle clip-path=\"url(#clip182)\" cx=\"1149.66\" cy=\"101.728\" r=\"14\" fill=\"#009af9\" fill-rule=\"evenodd\" fill-opacity=\"1\" stroke=\"#000000\" stroke-opacity=\"1\" stroke-width=\"3.2\"/>\n",
       "<circle clip-path=\"url(#clip182)\" cx=\"1182.28\" cy=\"1433.1\" r=\"14\" fill=\"#009af9\" fill-rule=\"evenodd\" fill-opacity=\"1\" stroke=\"#000000\" stroke-opacity=\"1\" stroke-width=\"3.2\"/>\n",
       "<circle clip-path=\"url(#clip182)\" cx=\"1214.89\" cy=\"1428.11\" r=\"14\" fill=\"#009af9\" fill-rule=\"evenodd\" fill-opacity=\"1\" stroke=\"#000000\" stroke-opacity=\"1\" stroke-width=\"3.2\"/>\n",
       "<circle clip-path=\"url(#clip182)\" cx=\"1247.5\" cy=\"1432.97\" r=\"14\" fill=\"#009af9\" fill-rule=\"evenodd\" fill-opacity=\"1\" stroke=\"#000000\" stroke-opacity=\"1\" stroke-width=\"3.2\"/>\n",
       "<circle clip-path=\"url(#clip182)\" cx=\"1280.12\" cy=\"107.188\" r=\"14\" fill=\"#009af9\" fill-rule=\"evenodd\" fill-opacity=\"1\" stroke=\"#000000\" stroke-opacity=\"1\" stroke-width=\"3.2\"/>\n",
       "<circle clip-path=\"url(#clip182)\" cx=\"1312.73\" cy=\"1423.18\" r=\"14\" fill=\"#009af9\" fill-rule=\"evenodd\" fill-opacity=\"1\" stroke=\"#000000\" stroke-opacity=\"1\" stroke-width=\"3.2\"/>\n",
       "<circle clip-path=\"url(#clip182)\" cx=\"1345.34\" cy=\"1434.15\" r=\"14\" fill=\"#009af9\" fill-rule=\"evenodd\" fill-opacity=\"1\" stroke=\"#000000\" stroke-opacity=\"1\" stroke-width=\"3.2\"/>\n",
       "<circle clip-path=\"url(#clip182)\" cx=\"1377.95\" cy=\"1420.56\" r=\"14\" fill=\"#009af9\" fill-rule=\"evenodd\" fill-opacity=\"1\" stroke=\"#000000\" stroke-opacity=\"1\" stroke-width=\"3.2\"/>\n",
       "<circle clip-path=\"url(#clip182)\" cx=\"1410.57\" cy=\"109.074\" r=\"14\" fill=\"#009af9\" fill-rule=\"evenodd\" fill-opacity=\"1\" stroke=\"#000000\" stroke-opacity=\"1\" stroke-width=\"3.2\"/>\n",
       "<circle clip-path=\"url(#clip182)\" cx=\"1443.18\" cy=\"105.65\" r=\"14\" fill=\"#009af9\" fill-rule=\"evenodd\" fill-opacity=\"1\" stroke=\"#000000\" stroke-opacity=\"1\" stroke-width=\"3.2\"/>\n",
       "<circle clip-path=\"url(#clip182)\" cx=\"1475.79\" cy=\"1433.09\" r=\"14\" fill=\"#009af9\" fill-rule=\"evenodd\" fill-opacity=\"1\" stroke=\"#000000\" stroke-opacity=\"1\" stroke-width=\"3.2\"/>\n",
       "<circle clip-path=\"url(#clip182)\" cx=\"1508.41\" cy=\"1312.36\" r=\"14\" fill=\"#009af9\" fill-rule=\"evenodd\" fill-opacity=\"1\" stroke=\"#000000\" stroke-opacity=\"1\" stroke-width=\"3.2\"/>\n",
       "<circle clip-path=\"url(#clip182)\" cx=\"1541.02\" cy=\"1433.65\" r=\"14\" fill=\"#009af9\" fill-rule=\"evenodd\" fill-opacity=\"1\" stroke=\"#000000\" stroke-opacity=\"1\" stroke-width=\"3.2\"/>\n",
       "<circle clip-path=\"url(#clip182)\" cx=\"1573.63\" cy=\"1433.34\" r=\"14\" fill=\"#009af9\" fill-rule=\"evenodd\" fill-opacity=\"1\" stroke=\"#000000\" stroke-opacity=\"1\" stroke-width=\"3.2\"/>\n",
       "<circle clip-path=\"url(#clip182)\" cx=\"1606.25\" cy=\"101.249\" r=\"14\" fill=\"#009af9\" fill-rule=\"evenodd\" fill-opacity=\"1\" stroke=\"#000000\" stroke-opacity=\"1\" stroke-width=\"3.2\"/>\n",
       "<circle clip-path=\"url(#clip182)\" cx=\"1638.86\" cy=\"1419.55\" r=\"14\" fill=\"#009af9\" fill-rule=\"evenodd\" fill-opacity=\"1\" stroke=\"#000000\" stroke-opacity=\"1\" stroke-width=\"3.2\"/>\n",
       "<circle clip-path=\"url(#clip182)\" cx=\"1671.47\" cy=\"1431.31\" r=\"14\" fill=\"#009af9\" fill-rule=\"evenodd\" fill-opacity=\"1\" stroke=\"#000000\" stroke-opacity=\"1\" stroke-width=\"3.2\"/>\n",
       "<circle clip-path=\"url(#clip182)\" cx=\"1704.08\" cy=\"134.765\" r=\"14\" fill=\"#009af9\" fill-rule=\"evenodd\" fill-opacity=\"1\" stroke=\"#000000\" stroke-opacity=\"1\" stroke-width=\"3.2\"/>\n",
       "<circle clip-path=\"url(#clip182)\" cx=\"1736.7\" cy=\"1417.2\" r=\"14\" fill=\"#009af9\" fill-rule=\"evenodd\" fill-opacity=\"1\" stroke=\"#000000\" stroke-opacity=\"1\" stroke-width=\"3.2\"/>\n",
       "<circle clip-path=\"url(#clip182)\" cx=\"1769.31\" cy=\"102.185\" r=\"14\" fill=\"#009af9\" fill-rule=\"evenodd\" fill-opacity=\"1\" stroke=\"#000000\" stroke-opacity=\"1\" stroke-width=\"3.2\"/>\n",
       "<circle clip-path=\"url(#clip182)\" cx=\"1801.92\" cy=\"1416.75\" r=\"14\" fill=\"#009af9\" fill-rule=\"evenodd\" fill-opacity=\"1\" stroke=\"#000000\" stroke-opacity=\"1\" stroke-width=\"3.2\"/>\n",
       "<circle clip-path=\"url(#clip182)\" cx=\"1834.54\" cy=\"129.031\" r=\"14\" fill=\"#009af9\" fill-rule=\"evenodd\" fill-opacity=\"1\" stroke=\"#000000\" stroke-opacity=\"1\" stroke-width=\"3.2\"/>\n",
       "<circle clip-path=\"url(#clip182)\" cx=\"1867.15\" cy=\"1434.23\" r=\"14\" fill=\"#009af9\" fill-rule=\"evenodd\" fill-opacity=\"1\" stroke=\"#000000\" stroke-opacity=\"1\" stroke-width=\"3.2\"/>\n",
       "<circle clip-path=\"url(#clip182)\" cx=\"1899.76\" cy=\"1328.85\" r=\"14\" fill=\"#009af9\" fill-rule=\"evenodd\" fill-opacity=\"1\" stroke=\"#000000\" stroke-opacity=\"1\" stroke-width=\"3.2\"/>\n",
       "<circle clip-path=\"url(#clip182)\" cx=\"1932.37\" cy=\"1432.12\" r=\"14\" fill=\"#009af9\" fill-rule=\"evenodd\" fill-opacity=\"1\" stroke=\"#000000\" stroke-opacity=\"1\" stroke-width=\"3.2\"/>\n",
       "<circle clip-path=\"url(#clip182)\" cx=\"1964.99\" cy=\"121.118\" r=\"14\" fill=\"#009af9\" fill-rule=\"evenodd\" fill-opacity=\"1\" stroke=\"#000000\" stroke-opacity=\"1\" stroke-width=\"3.2\"/>\n",
       "<circle clip-path=\"url(#clip182)\" cx=\"1997.6\" cy=\"101.604\" r=\"14\" fill=\"#009af9\" fill-rule=\"evenodd\" fill-opacity=\"1\" stroke=\"#000000\" stroke-opacity=\"1\" stroke-width=\"3.2\"/>\n",
       "<circle clip-path=\"url(#clip182)\" cx=\"2030.21\" cy=\"1421\" r=\"14\" fill=\"#009af9\" fill-rule=\"evenodd\" fill-opacity=\"1\" stroke=\"#000000\" stroke-opacity=\"1\" stroke-width=\"3.2\"/>\n",
       "<circle clip-path=\"url(#clip182)\" cx=\"2062.83\" cy=\"105.37\" r=\"14\" fill=\"#009af9\" fill-rule=\"evenodd\" fill-opacity=\"1\" stroke=\"#000000\" stroke-opacity=\"1\" stroke-width=\"3.2\"/>\n",
       "<circle clip-path=\"url(#clip182)\" cx=\"2095.44\" cy=\"160.887\" r=\"14\" fill=\"#009af9\" fill-rule=\"evenodd\" fill-opacity=\"1\" stroke=\"#000000\" stroke-opacity=\"1\" stroke-width=\"3.2\"/>\n",
       "<circle clip-path=\"url(#clip182)\" cx=\"2128.05\" cy=\"111.694\" r=\"14\" fill=\"#009af9\" fill-rule=\"evenodd\" fill-opacity=\"1\" stroke=\"#000000\" stroke-opacity=\"1\" stroke-width=\"3.2\"/>\n",
       "<circle clip-path=\"url(#clip182)\" cx=\"2160.67\" cy=\"1416.67\" r=\"14\" fill=\"#009af9\" fill-rule=\"evenodd\" fill-opacity=\"1\" stroke=\"#000000\" stroke-opacity=\"1\" stroke-width=\"3.2\"/>\n",
       "<circle clip-path=\"url(#clip182)\" cx=\"2193.28\" cy=\"1421.43\" r=\"14\" fill=\"#009af9\" fill-rule=\"evenodd\" fill-opacity=\"1\" stroke=\"#000000\" stroke-opacity=\"1\" stroke-width=\"3.2\"/>\n",
       "<circle clip-path=\"url(#clip182)\" cx=\"2225.89\" cy=\"118.538\" r=\"14\" fill=\"#009af9\" fill-rule=\"evenodd\" fill-opacity=\"1\" stroke=\"#000000\" stroke-opacity=\"1\" stroke-width=\"3.2\"/>\n",
       "<circle clip-path=\"url(#clip182)\" cx=\"2258.5\" cy=\"109.958\" r=\"14\" fill=\"#009af9\" fill-rule=\"evenodd\" fill-opacity=\"1\" stroke=\"#000000\" stroke-opacity=\"1\" stroke-width=\"3.2\"/>\n",
       "<circle clip-path=\"url(#clip182)\" cx=\"2291.12\" cy=\"1325.19\" r=\"14\" fill=\"#009af9\" fill-rule=\"evenodd\" fill-opacity=\"1\" stroke=\"#000000\" stroke-opacity=\"1\" stroke-width=\"3.2\"/>\n",
       "<polyline clip-path=\"url(#clip182)\" style=\"stroke:#e26f46; stroke-width:4; stroke-opacity:1; fill:none\" points=\"\n",
       "  236.501,1445.72 269.113,1445.72 301.726,87.9763 334.339,87.9763 366.952,87.9763 399.565,1445.72 432.178,1445.72 464.791,87.9763 497.404,1445.72 530.017,1445.72 \n",
       "  562.63,87.9763 595.243,1445.72 627.856,1445.72 660.469,87.9763 693.082,87.9763 725.695,87.9763 758.308,1445.72 790.921,87.9763 823.534,87.9763 856.147,87.9763 \n",
       "  888.76,1445.72 921.373,1445.72 953.986,1445.72 986.599,87.9763 1019.21,87.9763 1051.82,1445.72 1084.44,87.9763 1117.05,1445.72 1149.66,87.9763 1182.28,1445.72 \n",
       "  1214.89,1445.72 1247.5,1445.72 1280.12,87.9763 1312.73,1445.72 1345.34,1445.72 1377.95,1445.72 1410.57,87.9763 1443.18,87.9763 1475.79,1445.72 1508.41,1445.72 \n",
       "  1541.02,1445.72 1573.63,1445.72 1606.25,87.9763 1638.86,1445.72 1671.47,1445.72 1704.08,87.9763 1736.7,1445.72 1769.31,87.9763 1801.92,1445.72 1834.54,87.9763 \n",
       "  1867.15,1445.72 1899.76,1445.72 1932.37,1445.72 1964.99,87.9763 1997.6,87.9763 2030.21,1445.72 2062.83,87.9763 2095.44,87.9763 2128.05,87.9763 2160.67,1445.72 \n",
       "  2193.28,1445.72 2225.89,87.9763 2258.5,87.9763 2291.12,1445.72 \n",
       "  \"/>\n",
       "<path clip-path=\"url(#clip180)\" d=\"\n",
       "M1987.15 276.658 L2280.16 276.658 L2280.16 95.2176 L1987.15 95.2176  Z\n",
       "  \" fill=\"#ffffff\" fill-rule=\"evenodd\" fill-opacity=\"1\"/>\n",
       "<polyline clip-path=\"url(#clip180)\" style=\"stroke:#000000; stroke-width:4; stroke-opacity:1; fill:none\" points=\"\n",
       "  1987.15,276.658 2280.16,276.658 2280.16,95.2176 1987.15,95.2176 1987.15,276.658 \n",
       "  \"/>\n",
       "<circle clip-path=\"url(#clip180)\" cx=\"2083.95\" cy=\"155.698\" r=\"23\" fill=\"#009af9\" fill-rule=\"evenodd\" fill-opacity=\"1\" stroke=\"#000000\" stroke-opacity=\"1\" stroke-width=\"5.12\"/>\n",
       "<path clip-path=\"url(#clip180)\" d=\"M 0 0 M2194.59 175.385 Q2192.78 180.015 2191.07 181.427 Q2189.35 182.839 2186.48 182.839 L2183.08 182.839 L2183.08 179.274 L2185.58 179.274 Q2187.34 179.274 2188.31 178.44 Q2189.29 177.607 2190.47 174.505 L2191.23 172.561 L2180.74 147.052 L2185.26 147.052 L2193.36 167.329 L2201.46 147.052 L2205.97 147.052 L2194.59 175.385 Z\" fill=\"#000000\" fill-rule=\"evenodd\" fill-opacity=\"1\" /><path clip-path=\"url(#clip180)\" d=\"M 0 0 M2211.85 169.042 L2219.49 169.042 L2219.49 142.677 L2211.18 144.343 L2211.18 140.084 L2219.45 138.418 L2224.12 138.418 L2224.12 169.042 L2231.76 169.042 L2231.76 172.978 L2211.85 172.978 L2211.85 169.042 Z\" fill=\"#000000\" fill-rule=\"evenodd\" fill-opacity=\"1\" /><polyline clip-path=\"url(#clip180)\" style=\"stroke:#e26f46; stroke-width:4; stroke-opacity:1; fill:none\" points=\"\n",
       "  2011.35,216.178 2156.54,216.178 \n",
       "  \"/>\n",
       "<path clip-path=\"url(#clip180)\" d=\"M 0 0 M2194.59 235.865 Q2192.78 240.495 2191.07 241.907 Q2189.35 243.319 2186.48 243.319 L2183.08 243.319 L2183.08 239.754 L2185.58 239.754 Q2187.34 239.754 2188.31 238.92 Q2189.29 238.087 2190.47 234.985 L2191.23 233.041 L2180.74 207.532 L2185.26 207.532 L2193.36 227.809 L2201.46 207.532 L2205.97 207.532 L2194.59 235.865 Z\" fill=\"#000000\" fill-rule=\"evenodd\" fill-opacity=\"1\" /><path clip-path=\"url(#clip180)\" d=\"M 0 0 M2215.07 229.522 L2231.39 229.522 L2231.39 233.458 L2209.45 233.458 L2209.45 229.522 Q2212.11 226.768 2216.69 222.138 Q2221.3 217.485 2222.48 216.143 Q2224.72 213.62 2225.6 211.884 Q2226.51 210.124 2226.51 208.435 Q2226.51 205.68 2224.56 203.944 Q2222.64 202.208 2219.54 202.208 Q2217.34 202.208 2214.89 202.972 Q2212.46 203.735 2209.68 205.286 L2209.68 200.564 Q2212.5 199.43 2214.96 198.851 Q2217.41 198.273 2219.45 198.273 Q2224.82 198.273 2228.01 200.958 Q2231.21 203.643 2231.21 208.134 Q2231.21 210.263 2230.4 212.185 Q2229.61 214.083 2227.5 216.675 Q2226.92 217.347 2223.82 220.564 Q2220.72 223.759 2215.07 229.522 Z\" fill=\"#000000\" fill-rule=\"evenodd\" fill-opacity=\"1\" /></svg>\n"
      ]
     },
     "execution_count": 21,
     "metadata": {},
     "output_type": "execute_result"
    }
   ],
   "source": [
    "np=min(ntest,64)\n",
    "scatter(pred(w,b,xtst)[1:np]\n",
    "#    ,xlim=(0,np)\n",
    ")\n",
    "plot!(ytst[1:np])"
   ]
  },
  {
   "cell_type": "code",
   "execution_count": 22,
   "metadata": {},
   "outputs": [
    {
     "data": {
      "text/plain": [
       "([0 0 … 1 1; 0 0 … 1 1; … ; 0 1 … 0 1; 1 0 … 1 1], [1 1 … 1 0], [1 1 … 1 1; 0 0 … 1 0; … ; 1 1 … 1 1; 0 1 … 1 0], [0 1 … 1 1])"
      ]
     },
     "execution_count": 22,
     "metadata": {},
     "output_type": "execute_result"
    }
   ],
   "source": [
    "# accuracy\n",
    "function acc(x,y)\n",
    "    cnt = 0\n",
    "    tot = length(x[1,:])\n",
    "    for i=1:tot-1\n",
    "        chk = (pred(w,b,x[:,i])[1] - y[i][1])^2\n",
    "        if (chk < 0.5)\n",
    "            cnt += 1\n",
    "        end\n",
    "    end\n",
    "    return 1.0*cnt/tot\n",
    "end\n",
    "\n",
    "trainidx, testidx = mlp.gen_data(n, ntest)\n",
    "xtrn, ytrn, xtst, ytst = mlp.split_data(trainidx, testidx, n, ntest)"
   ]
  },
  {
   "cell_type": "code",
   "execution_count": 23,
   "metadata": {},
   "outputs": [
    {
     "data": {
      "text/plain": [
       "(0.9938598939436226, 0.9921875)"
      ]
     },
     "execution_count": 23,
     "metadata": {},
     "output_type": "execute_result"
    }
   ],
   "source": [
    "acc(xtrn,ytrn),acc(xtst,ytst)"
   ]
  },
  {
   "cell_type": "code",
   "execution_count": 24,
   "metadata": {},
   "outputs": [
    {
     "data": {
      "text/plain": [
       "(0.9938710577728156, 0.99212890625)"
      ]
     },
     "execution_count": 24,
     "metadata": {},
     "output_type": "execute_result"
    }
   ],
   "source": [
    "sumtrn = 0.0; sumtst = 0.0\n",
    "\n",
    "for i=1:100\n",
    "    trainidx, testidx = mlp.gen_data(n, ntest)\n",
    "    xtrn, ytrn, xtst, ytst = mlp.split_data(trainidx, testidx, n, ntest)\n",
    "    sumtrn += acc(xtrn,ytrn); sumtst += acc(xtst,ytst)\n",
    "end\n",
    "\n",
    "(sumtrn/100,sumtst/100) "
   ]
  },
  {
   "cell_type": "code",
   "execution_count": 25,
   "metadata": {},
   "outputs": [
    {
     "ename": "LoadError",
     "evalue": "UndefVarError: losscheck not defined",
     "output_type": "error",
     "traceback": [
      "UndefVarError: losscheck not defined",
      "",
      "Stacktrace:",
      " [1] top-level scope at In[25]:1",
      " [2] include_string(::Function, ::Module, ::String, ::String) at ./loading.jl:1091"
     ]
    }
   ],
   "source": [
    "plot(losscheck)"
   ]
  },
  {
   "cell_type": "code",
   "execution_count": null,
   "metadata": {},
   "outputs": [],
   "source": []
  }
 ],
 "metadata": {
  "kernelspec": {
   "display_name": "Julia 1.5.3",
   "language": "julia",
   "name": "julia-1.5"
  },
  "language_info": {
   "file_extension": ".jl",
   "mimetype": "application/julia",
   "name": "julia",
   "version": "1.5.3"
  }
 },
 "nbformat": 4,
 "nbformat_minor": 4
}
