{
 "cells": [
  {
   "cell_type": "code",
   "execution_count": 1,
   "metadata": {},
   "outputs": [
    {
     "ename": "LoadError",
     "evalue": "UndefVarError: xWireNonHead not defined",
     "output_type": "error",
     "traceback": [
      "UndefVarError: xWireNonHead not defined",
      "",
      "Stacktrace:",
      " [1] top-level scope at In[1]:3",
      " [2] include_string(::Function, ::Module, ::String, ::String) at ./loading.jl:1091"
     ]
    }
   ],
   "source": [
    "\n",
    "\n",
    "\"\"\"function computeConsensusKernel(A, tau)\n",
    "\n",
    "    # estimate the in-degree Laplacian \n",
    "    n = size(A,1)\n",
    "    \n",
    "    # println(\"n: \", n)\n",
    "    #println(\"sum: \", size(sum(A, dims = 1)))\n",
    "\n",
    "    \n",
    "    Din = sum(A, dims = 1) .* Matrix(I, n, n)\n",
    "    \n",
    "    #println(\"Din: \", size(Din))\n",
    "    \n",
    "    Lin = Din .- A\n",
    "\n",
    "    # calculate the consensus kernel\n",
    "    kernel = exp(-tau .* Lin)\n",
    "    \n",
    "    return kernel\n",
    "end\n",
    "\n",
    "function computeAdvectionKernel(A, tau)\n",
    "\n",
    "    n = size(A,1)\n",
    "    Dout = sum(A, dims = 2) .* Matrix(I, n, n)\n",
    "    Lout = Dout .- A\n",
    "\n",
    "    # calculate the consensus kernel\n",
    "    kernel = exp(-tau .* Lout)\n",
    "    \n",
    "    return kernel\n",
    "end\n",
    "\n",
    "function pruneOutDegree(AInit, pRandPrune, tau)\n",
    "    A = copy(AInit)\n",
    "    numNodes = size(A, 1)\n",
    "    notX, nodeX = pickNodeWithInOutEdges(A, tau, pRandPrune)\n",
    "    \n",
    "        if pRandPrune <= rand()\n",
    "            # get node x's coldest head (excluding \"x\")\n",
    "            xHeads = findall(x -> x != 0, A[:, nodeX])\n",
    "            xCutHead = xHeads[argmin(A[xHeads, nodeX])]\n",
    "        else # else we randomly rewire    \n",
    "            xHeads = findall(x -> x != 0, A[:, nodeX])\n",
    "            ind = rand(1:length(xHeads))\n",
    "            xCutHead = xHeads[ind]\n",
    "        end\n",
    "        \n",
    "        o = A[xCutHead, nodeX]\n",
    "        A[xCutHead, nodeX] = 0 \n",
    "\n",
    "  \n",
    "    return A, o, xCutHead, nodeX\n",
    "end\n",
    "\n",
    "function pruneInDegree(AInit, pRandPrune, tau)\n",
    "\n",
    "    A = copy(AInit)\n",
    "    numNodes = size(A, 1)\n",
    "    \n",
    "        \n",
    "    notX, nodeX = pickNodeWithInOutEdges(A, tau, pRandPrune)\n",
    "                \n",
    "    if pRandPrune <= rand()\n",
    "        #println(\"1\")\n",
    "        # get node x's coldest tail (excluding \"x\")\n",
    "        xTails = findall(x -> x != 0, A[nodeX, :])\n",
    "        xCutTail = xTails[argmin(A[nodeX, xTails])]\n",
    "    else # else we randomly prune    \n",
    "        #println(\"2\")\n",
    "        xTails = findall(x -> x != 0, A[nodeX, :])\n",
    "        ind = rand(1:length(xTails))\n",
    "        xCutTail = xTails[ind]\n",
    "    end\n",
    "    \n",
    "    o = A[nodeX, xCutTail]\n",
    "    A[nodeX, xCutTail] = 0 \n",
    "    \n",
    "    \n",
    "    return A, o, xCutTail, nodeX \n",
    "end\n",
    "\n",
    "function rewireOutDegree(AInit, o, xCutHead, nodeX, pRandRewire)\n",
    "        A = copy(AInit)\n",
    "        numNodes = size(A, 1)\n",
    "\n",
    "        # keep a record of the other nodes\n",
    "        indAll = collect(1:numNodes)\n",
    "        notX = filter(x -> !(x in nodeX) && !(x == xCutHead), indAll)\n",
    "\n",
    "        # find the nodes with no incomings from \"x\"\n",
    "        xNonHeadBool = 1 .* Bool.(A[notX, nodeX] .== 0) \n",
    "        \n",
    "        if pRandRewire <= rand()\n",
    "            xNonHeads = notX[findall(x -> x != 0, xNonHeadBool)]\n",
    "            xWireNonHead = xNonHeads[argmax(A[xNonHeads, nodeX])]\n",
    "        else # else we randomly rewire    \n",
    "            xNonHeadBoolNonzero = findall(x -> x != 0, xNonHeadBool)\n",
    "            ind = rand(1:length(xNonHeadBoolNonzero))\n",
    "            xWireNonHead = notX[xNonHeadBoolNonzero[ind]]\n",
    "        end\n",
    "        \n",
    "        if xCutHead == xWireNonHead\n",
    "            println(\"PROBLEM\")\n",
    "            println(\"The A nodes rewired are $xWireNonHead and $nodeX with weight $A[xCutHead, nodeX]\")\n",
    "            println(\"The A nodes disconnected are $xCutHead and $nodeX\")\n",
    "        end\n",
    "    \n",
    "        A[xWireNonHead, nodeX] = o\n",
    "  \n",
    "    return A    \n",
    "end\n",
    "\n",
    "function rewireInDegree(AInit, o, xCutTail, nodeX, pRandRewire)\n",
    "       \n",
    "    A = copy(AInit)\n",
    "    numNodes = size(A, 1)\n",
    "    \n",
    "        \n",
    "    # keep a record of the other nodes\n",
    "    indAll = collect(1:numNodes)\n",
    "    notX = filter(x -> !(x in nodeX) && !(x == xCutTail), indAll)\n",
    "\n",
    "    # find the nodes with no incomings from \"x\"\n",
    "        \n",
    "    xNonTailBool = 1 .* Bool.(A[nodeX, notX] .== 0) \n",
    "        \n",
    "    if pRandRewire <= rand()\n",
    "        # get node x's hottest non-tail (excluding \"x\")\n",
    "        xNonTails = notX[findall(x -> x != 0, xNonTailBool)]\n",
    "        xWireNonTail = xNonTails[argmax(A[nodeX, xNonTails])]            \n",
    "    else # else we randomly rewire    \n",
    "        xNonTailBoolNonzero = findall(x -> x != 0, xNonTailBool)\n",
    "        ind = rand(1:length(xNonTailBoolNonzero))\n",
    "        xWireNonTail = notX[xNonTailBoolNonzero[ind]]\n",
    "    end\n",
    "        \n",
    "    if xCutTail == xWireNonTail\n",
    "        println(\"PROBLEM\")\n",
    "        println(\"The A nodes rewired are $xWireNonTail and $nodeX with weight $A[nodeX, xCutTail]\")\n",
    "        println(\"The A nodes disconnected are $xCutTail and $nodeX\")\n",
    "    end\n",
    "    \n",
    "    A[xWireNonTail, nodeX] = o\n",
    "\n",
    "    \n",
    "    return A\n",
    "end\"\"\"\n",
    "\n",
    "\n",
    "\n",
    "\n",
    "\"\"\"\n",
    "function backprop(w, b, niter, trainidx, testidx, n, ntest, nbatch, layer_dims; rewire = false, λ= 0.0, LR = 0.1, p = 0.0)\n",
    "    losstrn = []\n",
    "    losstst = []    \n",
    "    xtrn, ytrn, xtst, ytst = mlp.split_data(trainidx, testidx, n, ntest)\n",
    "    rho = []\n",
    "    tau = 4.5 \n",
    "    \n",
    "    t = 1 \n",
    "    for k in progress(1:niter)\n",
    "        xin = genbatch(trainidx, n,nbatch, ntest)\n",
    "        yin = sum(xin,dims=1).%2\n",
    "        dl = @diff loss(w,b,xin,yin; λ= λ)\n",
    "        for i=1:length(w)\n",
    "            w[i] .-= LR *grad(dl,w[i])\n",
    "            b[i] .-= LR *grad(dl,b[i])\n",
    "        end\n",
    "         \n",
    "        \n",
    "        if k == 2^t \n",
    "            t += 1 \n",
    "            \n",
    "            A = computeKernel(w,layer_dims)\n",
    "\n",
    "            A = runOutDynamics(A, p, tau, rewire = rewire)\n",
    "            A, o, xCutHead, nodeX = pruneOutDegree(A, p, tau)\n",
    "\n",
    "            if rewire == true\n",
    "                A = rewireOutDegree(A, o, xCutHead, nodeX, p)\n",
    "            end\n",
    "            \n",
    "            w = computeKernel_reverse(w, A, layer_dims)\n",
    "        end\n",
    "        \n",
    "        if (k%1000==1)\n",
    "            xin = genbatch(trainidx, n,ntest, ntest) # training set samples with size equal to test set\n",
    "            yin = sum(xin,dims=1).%2 \n",
    "            push!(losstrn,loss(w,b,xin,yin; λ= λ)) # record loss over 1000 samples\n",
    "            push!(losstst,loss(w,b,xtst,ytst; λ= λ))\n",
    "        end\n",
    "        \n",
    "    end\n",
    "    \n",
    "    return w, b, losstrn, losstst, rho\n",
    "end\n",
    "\"\"\"        "
   ]
  },
  {
   "cell_type": "code",
   "execution_count": 2,
   "metadata": {},
   "outputs": [
    {
     "name": "stderr",
     "output_type": "stream",
     "text": [
      "WARNING: replacing module rewiring.\n",
      "WARNING: replacing module metrics.\n",
      "WARNING: replacing module utils.\n"
     ]
    }
   ],
   "source": [
    "using Revise\n",
    "includet(\"../codebase/mlp.jl\")\n",
    "includet(\"../codebase/rewiring.jl\")\n",
    "using Knet, Plots, Statistics, LinearAlgebra, Random, .mlp"
   ]
  },
  {
   "cell_type": "code",
   "execution_count": 3,
   "metadata": {},
   "outputs": [
    {
     "data": {
      "text/plain": [
       "90000"
      ]
     },
     "execution_count": 3,
     "metadata": {},
     "output_type": "execute_result"
    }
   ],
   "source": [
    "n=12 # length of input bit array\n",
    "xdim = n\n",
    "h1=h2=h3=2*n # hidden layer sizes\n",
    "ydim = 1 # output is the probability for even parity\n",
    "nbatch = 100 # number of bit strings presented at each iteration\n",
    "ntest = div(2^n,8) # keep 1/8-th as test set\n",
    "niter = 9*10^4 # number of training iterations"
   ]
  },
  {
   "cell_type": "code",
   "execution_count": 4,
   "metadata": {},
   "outputs": [
    {
     "data": {
      "text/plain": [
       "(12, 24, 24, 24, 1)"
      ]
     },
     "execution_count": 4,
     "metadata": {},
     "output_type": "execute_result"
    }
   ],
   "source": [
    "# NN parameters\n",
    "w1 = Param(randn(h1,xdim))\n",
    "b1 = Param(randn(h1))\n",
    "w2 = Param(randn(h2,h1))\n",
    "b2 = Param(randn(h2))\n",
    "w3 = Param(randn(h3,h2))\n",
    "b3 = Param(randn(h3))\n",
    "w4 = Param(randn(1,h3))\n",
    "b4 = Param(randn(1))\n",
    "w = (w1,w2,w3,w4)\n",
    "b = (b1,b2,b3,b4)\n",
    "layer_dims = (xdim, h1, h2, h3, ydim)"
   ]
  },
  {
   "cell_type": "code",
   "execution_count": null,
   "metadata": {},
   "outputs": [],
   "source": []
  },
  {
   "cell_type": "code",
   "execution_count": 5,
   "metadata": {},
   "outputs": [
    {
     "data": {
      "text/plain": [
       "([1, 2, 3, 4, 5, 6, 7, 8, 9, 10  …  4085, 4086, 4087, 4089, 4090, 4091, 4092, 4093, 4094, 4095], [2272, 3512, 811, 1709, 3025, 2828, 1281, 3013, 3045, 152  …  3586, 2121, 749, 1392, 452, 137, 3027, 2593, 2034, 1130])"
      ]
     },
     "execution_count": 5,
     "metadata": {},
     "output_type": "execute_result"
    }
   ],
   "source": [
    "trainidx, testidx = mlp.gen_data(n, ntest)"
   ]
  },
  {
   "cell_type": "code",
   "execution_count": 6,
   "metadata": {},
   "outputs": [
    {
     "name": "stderr",
     "output_type": "stream",
     "text": [
      "┣                    ┫ [0.00%, 1/90000, 00:00/01:34, 954.79i/s] "
     ]
    },
    {
     "name": "stdout",
     "output_type": "stream",
     "text": [
      "Pruning: (8, 17)\n"
     ]
    },
    {
     "name": "stderr",
     "output_type": "stream",
     "text": [
      "┣                    ┫ [0.00%, 2/90000, 00:05/57:45:31, 4.62s/i] "
     ]
    },
    {
     "name": "stdout",
     "output_type": "stream",
     "text": [
      "Loss increasing\n",
      "Pruning: (30, 37)\n",
      "Loss increasing\n"
     ]
    },
    {
     "name": "stderr",
     "output_type": "stream",
     "text": [
      "┣▍                   ┫ [1.91%, 1719/90000, 00:06/04:54, 1716.46i/s] "
     ]
    },
    {
     "name": "stdout",
     "output_type": "stream",
     "text": [
      "Pruning: (2, 68)\n",
      "Loss increasing\n",
      "Pruning: (1, 81)\n",
      "Loss increasing\n"
     ]
    },
    {
     "name": "stderr",
     "output_type": "stream",
     "text": [
      "┣▊                   ┫ [3.84%, 3456/90000, 00:07/02:53, 1716.46i/s] "
     ]
    },
    {
     "name": "stdout",
     "output_type": "stream",
     "text": [
      "Pruning: (68, 48)\n",
      "Loss increasing\n",
      "Pruning: (2, 58)\n",
      "Loss increasing\n"
     ]
    },
    {
     "name": "stderr",
     "output_type": "stream",
     "text": [
      "┣█▏                  ┫ [5.75%, 5175/90000, 00:08/02:13, 1718.81i/s] "
     ]
    },
    {
     "name": "stdout",
     "output_type": "stream",
     "text": [
      "Pruning: (10, 16)\n",
      "Loss increasing\n"
     ]
    },
    {
     "name": "stderr",
     "output_type": "stream",
     "text": [
      "┣█▌                  ┫ [7.83%, 7051/90000, 00:09/01:50, 1875.86i/s] "
     ]
    },
    {
     "name": "stdout",
     "output_type": "stream",
     "text": [
      "Pruning: (30, 37)\n",
      "Loss increasing\n",
      "Pruning: (1, 79)\n",
      "Loss increasing\n"
     ]
    },
    {
     "name": "stderr",
     "output_type": "stream",
     "text": [
      "┣█▉                  ┫ [9.77%, 8793/90000, 00:10/01:39, 1738.44i/s] "
     ]
    },
    {
     "name": "stdout",
     "output_type": "stream",
     "text": [
      "Pruning: (3, 23)\n",
      "Loss increasing\n",
      "Pruning: (3, 23)\n",
      "Loss increasing\n"
     ]
    },
    {
     "name": "stderr",
     "output_type": "stream",
     "text": [
      "┣██▎                 ┫ [11.84%, 10655/90000, 00:11/01:30, 1861.40i/s] "
     ]
    },
    {
     "name": "stdout",
     "output_type": "stream",
     "text": [
      "Pruning: (2, 56)\n",
      "Loss increasing\n",
      "Pruning: (9, 14)\n",
      "Loss increasing\n"
     ]
    },
    {
     "name": "stderr",
     "output_type": "stream",
     "text": [
      "┣██▊                 ┫ [13.85%, 12463/90000, 00:12/01:24, 1807.20i/s] "
     ]
    },
    {
     "name": "stdout",
     "output_type": "stream",
     "text": [
      "Pruning: (1, 53)\n",
      "Loss increasing\n",
      "Pruning: (2, 56)\n",
      "Loss increasing\n"
     ]
    },
    {
     "name": "stderr",
     "output_type": "stream",
     "text": [
      "┣███▏                ┫ [15.93%, 14341/90000, 00:13/01:19, 1852.75i/s] "
     ]
    },
    {
     "name": "stdout",
     "output_type": "stream",
     "text": [
      "Pruning: (2, 78)\n",
      "Loss increasing\n",
      "Pruning: (5, 15)\n",
      "Loss increasing\n"
     ]
    },
    {
     "name": "stderr",
     "output_type": "stream",
     "text": [
      "┣███▌                ┫ [18.04%, 16233/90000, 00:14/01:16, 1891.43i/s] "
     ]
    },
    {
     "name": "stdout",
     "output_type": "stream",
     "text": [
      "Pruning: (24, 38)\n",
      "Loss increasing\n"
     ]
    },
    {
     "name": "stderr",
     "output_type": "stream",
     "text": [
      "┣████                ┫ [20.07%, 18066/90000, 00:15/01:13, 1832.40i/s] "
     ]
    },
    {
     "name": "stdout",
     "output_type": "stream",
     "text": [
      "Pruning: (2, 74)\n",
      "Loss increasing\n",
      "Pruning: (5, 15)\n",
      "Loss increasing\n"
     ]
    },
    {
     "name": "stderr",
     "output_type": "stream",
     "text": [
      "┣████▍               ┫ [22.16%, 19942/90000, 00:16/01:11, 1875.52i/s] "
     ]
    },
    {
     "name": "stdout",
     "output_type": "stream",
     "text": [
      "Pruning: (1, 53)\n",
      "Loss increasing\n",
      "Pruning: (7, 25)\n",
      "Loss increasing\n"
     ]
    },
    {
     "name": "stderr",
     "output_type": "stream",
     "text": [
      "┣████▊               ┫ [24.20%, 21777/90000, 00:17/01:09, 1834.64i/s] "
     ]
    },
    {
     "name": "stdout",
     "output_type": "stream",
     "text": [
      "Pruning: (2, 82)\n",
      "Loss increasing\n",
      "Pruning: (8, 28)\n",
      "Loss increasing\n"
     ]
    },
    {
     "name": "stderr",
     "output_type": "stream",
     "text": [
      "┣█████▏              ┫ [26.14%, 23525/90000, 00:18/01:08, 1721.81i/s] "
     ]
    },
    {
     "name": "stdout",
     "output_type": "stream",
     "text": [
      "Pruning: (1, 65)\n",
      "Loss increasing\n",
      "Pruning: (1, 63)\n",
      "Loss increasing\n"
     ]
    },
    {
     "name": "stderr",
     "output_type": "stream",
     "text": [
      "┣█████▋              ┫ [28.22%, 25396/90000, 00:19/01:06, 1870.35i/s] "
     ]
    },
    {
     "name": "stdout",
     "output_type": "stream",
     "text": [
      "Pruning: (24, 38)\n",
      "Loss increasing\n",
      "Pruning: (10, 16)\n",
      "Loss increasing\n"
     ]
    },
    {
     "name": "stderr",
     "output_type": "stream",
     "text": [
      "┣██████              ┫ [30.17%, 27154/90000, 00:20/01:05, 1735.68i/s] "
     ]
    },
    {
     "name": "stdout",
     "output_type": "stream",
     "text": [
      "Pruning: (2, 68)\n",
      "Loss increasing\n"
     ]
    },
    {
     "name": "stderr",
     "output_type": "stream",
     "text": [
      "┣██████▍             ┫ [31.99%, 28792/90000, 00:21/01:05, 1637.70i/s] "
     ]
    },
    {
     "name": "stdout",
     "output_type": "stream",
     "text": [
      "Pruning: (34, 47)\n",
      "Loss increasing\n",
      "Pruning: (2, 66)\n",
      "Loss increasing\n"
     ]
    },
    {
     "name": "stderr",
     "output_type": "stream",
     "text": [
      "┣██████▊             ┫ [33.89%, 30499/90000, 00:22/01:04, 1706.86i/s] "
     ]
    },
    {
     "name": "stdout",
     "output_type": "stream",
     "text": [
      "Pruning: (1, 83)\n",
      "Loss increasing\n",
      "Pruning: (5, 15)\n",
      "Loss increasing\n"
     ]
    },
    {
     "name": "stderr",
     "output_type": "stream",
     "text": [
      "┣███████▏            ┫ [35.87%, 32279/90000, 00:23/01:03, 1779.50i/s] "
     ]
    },
    {
     "name": "stdout",
     "output_type": "stream",
     "text": [
      "Pruning: (5, 18)\n",
      "Loss increasing\n"
     ]
    },
    {
     "name": "stderr",
     "output_type": "stream",
     "text": [
      "┣███████▌            ┫ [37.76%, 33981/90000, 00:24/01:03, 1701.48i/s] "
     ]
    },
    {
     "name": "stdout",
     "output_type": "stream",
     "text": [
      "Pruning: (1, 49)\n",
      "Loss increasing\n",
      "Pruning: (7, 25)\n",
      "Loss increasing\n"
     ]
    },
    {
     "name": "stderr",
     "output_type": "stream",
     "text": [
      "┣███████▉            ┫ [39.72%, 35746/90000, 00:25/01:02, 1764.75i/s] "
     ]
    },
    {
     "name": "stdout",
     "output_type": "stream",
     "text": [
      "Pruning: (34, 47)\n",
      "Loss increasing\n",
      "Pruning: (30, 43)\n",
      "Loss increasing\n"
     ]
    },
    {
     "name": "stderr",
     "output_type": "stream",
     "text": [
      "┣████████▎           ┫ [41.69%, 37522/90000, 00:26/01:02, 1775.20i/s] "
     ]
    },
    {
     "name": "stdout",
     "output_type": "stream",
     "text": [
      "Pruning: (2, 84)\n",
      "Loss increasing\n",
      "Pruning: (30, 43)\n",
      "Loss increasing\n"
     ]
    },
    {
     "name": "stderr",
     "output_type": "stream",
     "text": [
      "┣████████▋           ┫ [43.73%, 39359/90000, 00:27/01:01, 1836.60i/s] "
     ]
    },
    {
     "name": "stdout",
     "output_type": "stream",
     "text": [
      "Pruning: (10, 24)\n",
      "Loss increasing\n",
      "Pruning: (12, 17)\n",
      "Loss increasing\n"
     ]
    },
    {
     "name": "stderr",
     "output_type": "stream",
     "text": [
      "┣█████████▏          ┫ [45.81%, 41226/90000, 00:28/01:00, 1866.32i/s] "
     ]
    },
    {
     "name": "stdout",
     "output_type": "stream",
     "text": [
      "Pruning: (1, 49)\n",
      "Loss increasing\n"
     ]
    },
    {
     "name": "stderr",
     "output_type": "stream",
     "text": [
      "┣█████████▌          ┫ [47.84%, 43052/90000, 00:29/01:00, 1825.49i/s] "
     ]
    },
    {
     "name": "stdout",
     "output_type": "stream",
     "text": [
      "Pruning: (1, 49)\n",
      "Loss increasing\n",
      "Pruning: (34, 39)\n",
      "Loss increasing\n"
     ]
    },
    {
     "name": "stderr",
     "output_type": "stream",
     "text": [
      "┣█████████▉          ┫ [49.88%, 44893/90000, 00:30/01:00, 1808.94i/s] "
     ]
    },
    {
     "name": "stdout",
     "output_type": "stream",
     "text": [
      "Pruning: (8, 28)\n",
      "Loss increasing\n",
      "Pruning: (1, 49)\n",
      "Loss increasing\n"
     ]
    },
    {
     "name": "stderr",
     "output_type": "stream",
     "text": [
      "┣██████████▍         ┫ [51.95%, 46752/90000, 00:31/00:59, 1858.85i/s] "
     ]
    },
    {
     "name": "stdout",
     "output_type": "stream",
     "text": [
      "Pruning: (12, 17)\n",
      "Loss increasing\n",
      "Pruning: (7, 25)\n",
      "Loss increasing\n"
     ]
    },
    {
     "name": "stderr",
     "output_type": "stream",
     "text": [
      "┣██████████▊         ┫ [53.94%, 48550/90000, 00:32/00:59, 1797.17i/s] "
     ]
    },
    {
     "name": "stdout",
     "output_type": "stream",
     "text": [
      "Pruning: (1, 36)\n",
      "Loss increasing\n",
      "Pruning: (2, 74)\n",
      "Loss increasing\n"
     ]
    },
    {
     "name": "stderr",
     "output_type": "stream",
     "text": [
      "┣███████████▏        ┫ [55.98%, 50384/90000, 00:33/00:58, 1833.13i/s] "
     ]
    },
    {
     "name": "stdout",
     "output_type": "stream",
     "text": [
      "Pruning: (1, 85)\n",
      "Loss increasing\n",
      "Pruning: (2, 62)\n",
      "Loss increasing\n"
     ]
    },
    {
     "name": "stderr",
     "output_type": "stream",
     "text": [
      "┣███████████▌        ┫ [57.97%, 52177/90000, 00:34/00:58, 1792.89i/s] "
     ]
    },
    {
     "name": "stdout",
     "output_type": "stream",
     "text": [
      "Pruning: (30, 37)\n",
      "Loss increasing\n"
     ]
    },
    {
     "name": "stderr",
     "output_type": "stream",
     "text": [
      "┣████████████        ┫ [60.07%, 54064/90000, 00:35/00:58, 1886.52i/s] "
     ]
    },
    {
     "name": "stdout",
     "output_type": "stream",
     "text": [
      "Pruning: (8, 17)\n",
      "Loss increasing\n",
      "Pruning: (1, 63)\n",
      "Loss increasing\n"
     ]
    },
    {
     "name": "stderr",
     "output_type": "stream",
     "text": [
      "┣████████████▍       ┫ [62.01%, 55810/90000, 00:36/00:58, 1745.41i/s] "
     ]
    },
    {
     "name": "stdout",
     "output_type": "stream",
     "text": [
      "Pruning: (2, 50)\n",
      "Loss increasing\n",
      "Pruning: (2, 31)\n",
      "Loss increasing\n"
     ]
    },
    {
     "name": "stderr",
     "output_type": "stream",
     "text": [
      "┣████████████▊       ┫ [64.05%, 57641/90000, 00:37/00:57, 1830.52i/s] "
     ]
    },
    {
     "name": "stdout",
     "output_type": "stream",
     "text": [
      "Pruning: (1, 36)\n",
      "Loss increasing\n",
      "Pruning: (1, 59)\n",
      "Loss increasing\n"
     ]
    },
    {
     "name": "stderr",
     "output_type": "stream",
     "text": [
      "┣█████████████▏      ┫ [65.99%, 59392/90000, 00:38/00:57, 1750.74i/s] "
     ]
    },
    {
     "name": "stdout",
     "output_type": "stream",
     "text": [
      "Pruning: (5, 18)\n",
      "Loss increasing\n",
      "Pruning: (2, 50)\n",
      "Loss increasing\n"
     ]
    },
    {
     "name": "stderr",
     "output_type": "stream",
     "text": [
      "┣█████████████▌      ┫ [67.97%, 61176/90000, 00:39/00:57, 1783.66i/s] "
     ]
    },
    {
     "name": "stdout",
     "output_type": "stream",
     "text": [
      "Pruning: (2, 58)\n",
      "Loss increasing\n"
     ]
    },
    {
     "name": "stderr",
     "output_type": "stream",
     "text": [
      "┣██████████████      ┫ [70.06%, 63053/90000, 00:40/00:57, 1875.69i/s] "
     ]
    },
    {
     "name": "stdout",
     "output_type": "stream",
     "text": [
      "Pruning: (20, 45)\n",
      "Loss increasing\n",
      "Pruning: (2, 31)\n",
      "Loss increasing\n"
     ]
    },
    {
     "name": "stderr",
     "output_type": "stream",
     "text": [
      "┣██████████████▍     ┫ [72.05%, 64849/90000, 00:41/00:56, 1795.41i/s] "
     ]
    },
    {
     "name": "stdout",
     "output_type": "stream",
     "text": [
      "Pruning: (2, 78)\n",
      "Loss increasing\n",
      "Pruning: (9, 35)\n",
      "Loss increasing\n"
     ]
    },
    {
     "name": "stderr",
     "output_type": "stream",
     "text": [
      "┣██████████████▊     ┫ [73.97%, 66576/90000, 00:42/00:56, 1726.38i/s] "
     ]
    },
    {
     "name": "stdout",
     "output_type": "stream",
     "text": [
      "Pruning: (1, 59)\n",
      "Loss increasing\n",
      "Pruning: (1, 36)\n",
      "Loss increasing\n"
     ]
    },
    {
     "name": "stderr",
     "output_type": "stream",
     "text": [
      "┣███████████████▏    ┫ [75.98%, 68380/90000, 00:43/00:56, 1803.59i/s] "
     ]
    },
    {
     "name": "stdout",
     "output_type": "stream",
     "text": [
      "Pruning: (5, 15)\n",
      "Loss increasing\n",
      "Pruning: (1, 71)\n",
      "Loss increasing\n"
     ]
    },
    {
     "name": "stderr",
     "output_type": "stream",
     "text": [
      "┣███████████████▌    ┫ [78.02%, 70221/90000, 00:44/00:56, 1840.58i/s] "
     ]
    },
    {
     "name": "stdout",
     "output_type": "stream",
     "text": [
      "Pruning: (24, 38)\n",
      "Loss increasing\n"
     ]
    },
    {
     "name": "stderr",
     "output_type": "stream",
     "text": [
      "┣████████████████    ┫ [80.13%, 72114/90000, 00:45/00:56, 1892.65i/s] "
     ]
    },
    {
     "name": "stdout",
     "output_type": "stream",
     "text": [
      "Pruning: (2, 76)\n",
      "Loss increasing\n",
      "Pruning: (1, 55)\n",
      "Loss increasing\n"
     ]
    },
    {
     "name": "stderr",
     "output_type": "stream",
     "text": [
      "┣████████████████▍   ┫ [82.21%, 73985/90000, 00:46/00:56, 1870.72i/s] "
     ]
    },
    {
     "name": "stdout",
     "output_type": "stream",
     "text": [
      "Pruning: (1, 75)\n",
      "Loss increasing\n",
      "Pruning: (2, 70)\n",
      "Loss increasing\n"
     ]
    },
    {
     "name": "stderr",
     "output_type": "stream",
     "text": [
      "┣████████████████▊   ┫ [84.27%, 75840/90000, 00:47/00:55, 1854.79i/s] "
     ]
    },
    {
     "name": "stdout",
     "output_type": "stream",
     "text": [
      "Pruning: (1, 59)\n",
      "Loss increasing\n",
      "Pruning: (34, 47)\n",
      "Loss increasing\n"
     ]
    },
    {
     "name": "stderr",
     "output_type": "stream",
     "text": [
      "┣█████████████████▏  ┫ [86.25%, 77622/90000, 00:48/00:55, 1781.71i/s] "
     ]
    },
    {
     "name": "stdout",
     "output_type": "stream",
     "text": [
      "Pruning: (2, 70)\n",
      "Loss increasing\n",
      "Pruning: (2, 62)\n",
      "Loss increasing\n"
     ]
    },
    {
     "name": "stderr",
     "output_type": "stream",
     "text": [
      "┣█████████████████▌  ┫ [88.10%, 79294/90000, 00:49/00:55, 1671.62i/s] "
     ]
    },
    {
     "name": "stdout",
     "output_type": "stream",
     "text": [
      "Pruning: (1, 65)\n",
      "Loss increasing\n"
     ]
    },
    {
     "name": "stderr",
     "output_type": "stream",
     "text": [
      "┣██████████████████  ┫ [90.15%, 81131/90000, 00:50/00:55, 1836.90i/s] "
     ]
    },
    {
     "name": "stdout",
     "output_type": "stream",
     "text": [
      "Pruning: (2, 84)\n",
      "Loss increasing\n",
      "Pruning: (25, 46)\n",
      "Loss increasing\n"
     ]
    },
    {
     "name": "stderr",
     "output_type": "stream",
     "text": [
      "┣██████████████████▍ ┫ [92.20%, 82983/90000, 00:51/00:55, 1851.61i/s] "
     ]
    },
    {
     "name": "stdout",
     "output_type": "stream",
     "text": [
      "Pruning: (1, 73)\n",
      "Loss increasing\n",
      "Pruning: (2, 76)\n",
      "Loss increasing\n"
     ]
    },
    {
     "name": "stderr",
     "output_type": "stream",
     "text": [
      "┣██████████████████▊ ┫ [94.31%, 84875/90000, 00:52/00:55, 1891.20i/s] "
     ]
    },
    {
     "name": "stdout",
     "output_type": "stream",
     "text": [
      "Pruning: (3, 23)\n",
      "Loss increasing\n",
      "Pruning: (2, 76)\n",
      "Loss increasing\n"
     ]
    },
    {
     "name": "stderr",
     "output_type": "stream",
     "text": [
      "┣███████████████████▎┫ [96.34%, 86705/90000, 00:53/00:55, 1829.54i/s] "
     ]
    },
    {
     "name": "stdout",
     "output_type": "stream",
     "text": [
      "Pruning: (2, 56)\n",
      "Loss increasing\n",
      "Pruning: (11, 29)\n",
      "Loss increasing\n"
     ]
    },
    {
     "name": "stderr",
     "output_type": "stream",
     "text": [
      "┣███████████████████▋┫ [98.37%, 88533/90000, 00:54/00:55, 1807.30i/s] "
     ]
    },
    {
     "name": "stdout",
     "output_type": "stream",
     "text": [
      "Pruning: (7, 25)\n",
      "Loss increasing\n"
     ]
    },
    {
     "name": "stderr",
     "output_type": "stream",
     "text": [
      "┣████████████████████┫ [100.00%, 90000/90000, 00:54/00:54, 1651.80i/s] \n"
     ]
    },
    {
     "name": "stdout",
     "output_type": "stream",
     "text": [
      " 56.734922 seconds (123.91 M allocations: 39.780 GiB, 17.18% gc time)\n"
     ]
    }
   ],
   "source": [
    "@time w, b, losstrn, losstst, rho = mlp.backprop(w, b, niter, trainidx, testidx, n, ntest, nbatch, layer_dims; LR = 0.1, λ= 0.001);"
   ]
  },
  {
   "cell_type": "code",
   "execution_count": 7,
   "metadata": {},
   "outputs": [
    {
     "data": {
      "image/svg+xml": [
       "<?xml version=\"1.0\" encoding=\"utf-8\"?>\n",
       "<svg xmlns=\"http://www.w3.org/2000/svg\" xmlns:xlink=\"http://www.w3.org/1999/xlink\" width=\"600\" height=\"400\" viewBox=\"0 0 2400 1600\">\n",
       "<defs>\n",
       "  <clipPath id=\"clip530\">\n",
       "    <rect x=\"0\" y=\"0\" width=\"2400\" height=\"1600\"/>\n",
       "  </clipPath>\n",
       "</defs>\n",
       "<path clip-path=\"url(#clip530)\" d=\"\n",
       "M0 1600 L2400 1600 L2400 0 L0 0  Z\n",
       "  \" fill=\"#ffffff\" fill-rule=\"evenodd\" fill-opacity=\"1\"/>\n",
       "<defs>\n",
       "  <clipPath id=\"clip531\">\n",
       "    <rect x=\"480\" y=\"0\" width=\"1681\" height=\"1600\"/>\n",
       "  </clipPath>\n",
       "</defs>\n",
       "<path clip-path=\"url(#clip530)\" d=\"\n",
       "M148.334 1486.45 L2352.76 1486.45 L2352.76 47.2441 L148.334 47.2441  Z\n",
       "  \" fill=\"#ffffff\" fill-rule=\"evenodd\" fill-opacity=\"1\"/>\n",
       "<defs>\n",
       "  <clipPath id=\"clip532\">\n",
       "    <rect x=\"148\" y=\"47\" width=\"2205\" height=\"1440\"/>\n",
       "  </clipPath>\n",
       "</defs>\n",
       "<polyline clip-path=\"url(#clip532)\" style=\"stroke:#000000; stroke-width:2; stroke-opacity:0.1; fill:none\" points=\"\n",
       "  187.617,1486.45 187.617,47.2441 \n",
       "  \"/>\n",
       "<polyline clip-path=\"url(#clip532)\" style=\"stroke:#000000; stroke-width:2; stroke-opacity:0.1; fill:none\" points=\"\n",
       "  649.759,1486.45 649.759,47.2441 \n",
       "  \"/>\n",
       "<polyline clip-path=\"url(#clip532)\" style=\"stroke:#000000; stroke-width:2; stroke-opacity:0.1; fill:none\" points=\"\n",
       "  1111.9,1486.45 1111.9,47.2441 \n",
       "  \"/>\n",
       "<polyline clip-path=\"url(#clip532)\" style=\"stroke:#000000; stroke-width:2; stroke-opacity:0.1; fill:none\" points=\"\n",
       "  1574.05,1486.45 1574.05,47.2441 \n",
       "  \"/>\n",
       "<polyline clip-path=\"url(#clip532)\" style=\"stroke:#000000; stroke-width:2; stroke-opacity:0.1; fill:none\" points=\"\n",
       "  2036.19,1486.45 2036.19,47.2441 \n",
       "  \"/>\n",
       "<polyline clip-path=\"url(#clip530)\" style=\"stroke:#000000; stroke-width:4; stroke-opacity:1; fill:none\" points=\"\n",
       "  148.334,1486.45 2352.76,1486.45 \n",
       "  \"/>\n",
       "<polyline clip-path=\"url(#clip530)\" style=\"stroke:#000000; stroke-width:4; stroke-opacity:1; fill:none\" points=\"\n",
       "  187.617,1486.45 187.617,1469.18 \n",
       "  \"/>\n",
       "<polyline clip-path=\"url(#clip530)\" style=\"stroke:#000000; stroke-width:4; stroke-opacity:1; fill:none\" points=\"\n",
       "  649.759,1486.45 649.759,1469.18 \n",
       "  \"/>\n",
       "<polyline clip-path=\"url(#clip530)\" style=\"stroke:#000000; stroke-width:4; stroke-opacity:1; fill:none\" points=\"\n",
       "  1111.9,1486.45 1111.9,1469.18 \n",
       "  \"/>\n",
       "<polyline clip-path=\"url(#clip530)\" style=\"stroke:#000000; stroke-width:4; stroke-opacity:1; fill:none\" points=\"\n",
       "  1574.05,1486.45 1574.05,1469.18 \n",
       "  \"/>\n",
       "<polyline clip-path=\"url(#clip530)\" style=\"stroke:#000000; stroke-width:4; stroke-opacity:1; fill:none\" points=\"\n",
       "  2036.19,1486.45 2036.19,1469.18 \n",
       "  \"/>\n",
       "<path clip-path=\"url(#clip530)\" d=\"M 0 0 M187.617 1515.64 Q184.005 1515.64 182.177 1519.2 Q180.371 1522.75 180.371 1529.87 Q180.371 1536.98 182.177 1540.55 Q184.005 1544.09 187.617 1544.09 Q191.251 1544.09 193.056 1540.55 Q194.885 1536.98 194.885 1529.87 Q194.885 1522.75 193.056 1519.2 Q191.251 1515.64 187.617 1515.64 M187.617 1511.93 Q193.427 1511.93 196.482 1516.54 Q199.561 1521.12 199.561 1529.87 Q199.561 1538.6 196.482 1543.21 Q193.427 1547.79 187.617 1547.79 Q181.806 1547.79 178.728 1543.21 Q175.672 1538.6 175.672 1529.87 Q175.672 1521.12 178.728 1516.54 Q181.806 1511.93 187.617 1511.93 Z\" fill=\"#000000\" fill-rule=\"evenodd\" fill-opacity=\"1\" /><path clip-path=\"url(#clip530)\" d=\"M 0 0 M630.905 1543.18 L647.225 1543.18 L647.225 1547.12 L625.28 1547.12 L625.28 1543.18 Q627.942 1540.43 632.526 1535.8 Q637.132 1531.15 638.313 1529.81 Q640.558 1527.28 641.438 1525.55 Q642.34 1523.79 642.34 1522.1 Q642.34 1519.34 640.396 1517.61 Q638.475 1515.87 635.373 1515.87 Q633.174 1515.87 630.72 1516.63 Q628.29 1517.4 625.512 1518.95 L625.512 1514.23 Q628.336 1513.09 630.79 1512.51 Q633.243 1511.93 635.28 1511.93 Q640.651 1511.93 643.845 1514.62 Q647.04 1517.31 647.04 1521.8 Q647.04 1523.93 646.229 1525.85 Q645.442 1527.74 643.336 1530.34 Q642.757 1531.01 639.655 1534.23 Q636.553 1537.42 630.905 1543.18 Z\" fill=\"#000000\" fill-rule=\"evenodd\" fill-opacity=\"1\" /><path clip-path=\"url(#clip530)\" d=\"M 0 0 M662.294 1515.64 Q658.683 1515.64 656.854 1519.2 Q655.049 1522.75 655.049 1529.87 Q655.049 1536.98 656.854 1540.55 Q658.683 1544.09 662.294 1544.09 Q665.928 1544.09 667.734 1540.55 Q669.563 1536.98 669.563 1529.87 Q669.563 1522.75 667.734 1519.2 Q665.928 1515.64 662.294 1515.64 M662.294 1511.93 Q668.104 1511.93 671.16 1516.54 Q674.238 1521.12 674.238 1529.87 Q674.238 1538.6 671.16 1543.21 Q668.104 1547.79 662.294 1547.79 Q656.484 1547.79 653.405 1543.21 Q650.35 1538.6 650.35 1529.87 Q650.35 1521.12 653.405 1516.54 Q656.484 1511.93 662.294 1511.93 Z\" fill=\"#000000\" fill-rule=\"evenodd\" fill-opacity=\"1\" /><path clip-path=\"url(#clip530)\" d=\"M 0 0 M1101.4 1516.63 L1089.6 1535.08 L1101.4 1535.08 L1101.4 1516.63 M1100.18 1512.56 L1106.06 1512.56 L1106.06 1535.08 L1110.99 1535.08 L1110.99 1538.97 L1106.06 1538.97 L1106.06 1547.12 L1101.4 1547.12 L1101.4 1538.97 L1085.8 1538.97 L1085.8 1534.46 L1100.18 1512.56 Z\" fill=\"#000000\" fill-rule=\"evenodd\" fill-opacity=\"1\" /><path clip-path=\"url(#clip530)\" d=\"M 0 0 M1126.06 1515.64 Q1122.45 1515.64 1120.62 1519.2 Q1118.81 1522.75 1118.81 1529.87 Q1118.81 1536.98 1120.62 1540.55 Q1122.45 1544.09 1126.06 1544.09 Q1129.69 1544.09 1131.5 1540.55 Q1133.33 1536.98 1133.33 1529.87 Q1133.33 1522.75 1131.5 1519.2 Q1129.69 1515.64 1126.06 1515.64 M1126.06 1511.93 Q1131.87 1511.93 1134.92 1516.54 Q1138 1521.12 1138 1529.87 Q1138 1538.6 1134.92 1543.21 Q1131.87 1547.79 1126.06 1547.79 Q1120.25 1547.79 1117.17 1543.21 Q1114.11 1538.6 1114.11 1529.87 Q1114.11 1521.12 1117.17 1516.54 Q1120.25 1511.93 1126.06 1511.93 Z\" fill=\"#000000\" fill-rule=\"evenodd\" fill-opacity=\"1\" /><path clip-path=\"url(#clip530)\" d=\"M 0 0 M1560.94 1527.98 Q1557.8 1527.98 1555.94 1530.13 Q1554.11 1532.28 1554.11 1536.03 Q1554.11 1539.76 1555.94 1541.93 Q1557.8 1544.09 1560.94 1544.09 Q1564.09 1544.09 1565.92 1541.93 Q1567.77 1539.76 1567.77 1536.03 Q1567.77 1532.28 1565.92 1530.13 Q1564.09 1527.98 1560.94 1527.98 M1570.23 1513.32 L1570.23 1517.58 Q1568.47 1516.75 1566.66 1516.31 Q1564.88 1515.87 1563.12 1515.87 Q1558.49 1515.87 1556.04 1519 Q1553.61 1522.12 1553.26 1528.44 Q1554.62 1526.43 1556.68 1525.36 Q1558.74 1524.27 1561.22 1524.27 Q1566.43 1524.27 1569.44 1527.44 Q1572.47 1530.59 1572.47 1536.03 Q1572.47 1541.36 1569.32 1544.57 Q1566.17 1547.79 1560.94 1547.79 Q1554.95 1547.79 1551.78 1543.21 Q1548.61 1538.6 1548.61 1529.87 Q1548.61 1521.68 1552.49 1516.82 Q1556.38 1511.93 1562.93 1511.93 Q1564.69 1511.93 1566.48 1512.28 Q1568.28 1512.63 1570.23 1513.32 Z\" fill=\"#000000\" fill-rule=\"evenodd\" fill-opacity=\"1\" /><path clip-path=\"url(#clip530)\" d=\"M 0 0 M1587.54 1515.64 Q1583.93 1515.64 1582.1 1519.2 Q1580.3 1522.75 1580.3 1529.87 Q1580.3 1536.98 1582.1 1540.55 Q1583.93 1544.09 1587.54 1544.09 Q1591.17 1544.09 1592.98 1540.55 Q1594.81 1536.98 1594.81 1529.87 Q1594.81 1522.75 1592.98 1519.2 Q1591.17 1515.64 1587.54 1515.64 M1587.54 1511.93 Q1593.35 1511.93 1596.41 1516.54 Q1599.48 1521.12 1599.48 1529.87 Q1599.48 1538.6 1596.41 1543.21 Q1593.35 1547.79 1587.54 1547.79 Q1581.73 1547.79 1578.65 1543.21 Q1575.6 1538.6 1575.6 1529.87 Q1575.6 1521.12 1578.65 1516.54 Q1581.73 1511.93 1587.54 1511.93 Z\" fill=\"#000000\" fill-rule=\"evenodd\" fill-opacity=\"1\" /><path clip-path=\"url(#clip530)\" d=\"M 0 0 M2022.68 1530.71 Q2019.35 1530.71 2017.43 1532.49 Q2015.53 1534.27 2015.53 1537.4 Q2015.53 1540.52 2017.43 1542.31 Q2019.35 1544.09 2022.68 1544.09 Q2026.01 1544.09 2027.94 1542.31 Q2029.86 1540.5 2029.86 1537.4 Q2029.86 1534.27 2027.94 1532.49 Q2026.04 1530.71 2022.68 1530.71 M2018.01 1528.72 Q2015 1527.98 2013.31 1525.92 Q2011.64 1523.86 2011.64 1520.89 Q2011.64 1516.75 2014.58 1514.34 Q2017.54 1511.93 2022.68 1511.93 Q2027.84 1511.93 2030.78 1514.34 Q2033.72 1516.75 2033.72 1520.89 Q2033.72 1523.86 2032.03 1525.92 Q2030.37 1527.98 2027.38 1528.72 Q2030.76 1529.5 2032.63 1531.8 Q2034.53 1534.09 2034.53 1537.4 Q2034.53 1542.42 2031.45 1545.11 Q2028.4 1547.79 2022.68 1547.79 Q2016.96 1547.79 2013.88 1545.11 Q2010.83 1542.42 2010.83 1537.4 Q2010.83 1534.09 2012.73 1531.8 Q2014.63 1529.5 2018.01 1528.72 M2016.29 1521.33 Q2016.29 1524.02 2017.96 1525.52 Q2019.65 1527.03 2022.68 1527.03 Q2025.69 1527.03 2027.38 1525.52 Q2029.09 1524.02 2029.09 1521.33 Q2029.09 1518.65 2027.38 1517.14 Q2025.69 1515.64 2022.68 1515.64 Q2019.65 1515.64 2017.96 1517.14 Q2016.29 1518.65 2016.29 1521.33 Z\" fill=\"#000000\" fill-rule=\"evenodd\" fill-opacity=\"1\" /><path clip-path=\"url(#clip530)\" d=\"M 0 0 M2049.6 1515.64 Q2045.99 1515.64 2044.16 1519.2 Q2042.36 1522.75 2042.36 1529.87 Q2042.36 1536.98 2044.16 1540.55 Q2045.99 1544.09 2049.6 1544.09 Q2053.24 1544.09 2055.04 1540.55 Q2056.87 1536.98 2056.87 1529.87 Q2056.87 1522.75 2055.04 1519.2 Q2053.24 1515.64 2049.6 1515.64 M2049.6 1511.93 Q2055.41 1511.93 2058.47 1516.54 Q2061.55 1521.12 2061.55 1529.87 Q2061.55 1538.6 2058.47 1543.21 Q2055.41 1547.79 2049.6 1547.79 Q2043.79 1547.79 2040.71 1543.21 Q2037.66 1538.6 2037.66 1529.87 Q2037.66 1521.12 2040.71 1516.54 Q2043.79 1511.93 2049.6 1511.93 Z\" fill=\"#000000\" fill-rule=\"evenodd\" fill-opacity=\"1\" /><polyline clip-path=\"url(#clip532)\" style=\"stroke:#000000; stroke-width:2; stroke-opacity:0.1; fill:none\" points=\"\n",
       "  148.334,1445.72 2352.76,1445.72 \n",
       "  \"/>\n",
       "<polyline clip-path=\"url(#clip532)\" style=\"stroke:#000000; stroke-width:2; stroke-opacity:0.1; fill:none\" points=\"\n",
       "  148.334,1048.2 2352.76,1048.2 \n",
       "  \"/>\n",
       "<polyline clip-path=\"url(#clip532)\" style=\"stroke:#000000; stroke-width:2; stroke-opacity:0.1; fill:none\" points=\"\n",
       "  148.334,650.679 2352.76,650.679 \n",
       "  \"/>\n",
       "<polyline clip-path=\"url(#clip532)\" style=\"stroke:#000000; stroke-width:2; stroke-opacity:0.1; fill:none\" points=\"\n",
       "  148.334,253.16 2352.76,253.16 \n",
       "  \"/>\n",
       "<polyline clip-path=\"url(#clip530)\" style=\"stroke:#000000; stroke-width:4; stroke-opacity:1; fill:none\" points=\"\n",
       "  148.334,1486.45 148.334,47.2441 \n",
       "  \"/>\n",
       "<polyline clip-path=\"url(#clip530)\" style=\"stroke:#000000; stroke-width:4; stroke-opacity:1; fill:none\" points=\"\n",
       "  148.334,1445.72 174.787,1445.72 \n",
       "  \"/>\n",
       "<polyline clip-path=\"url(#clip530)\" style=\"stroke:#000000; stroke-width:4; stroke-opacity:1; fill:none\" points=\"\n",
       "  148.334,1048.2 174.787,1048.2 \n",
       "  \"/>\n",
       "<polyline clip-path=\"url(#clip530)\" style=\"stroke:#000000; stroke-width:4; stroke-opacity:1; fill:none\" points=\"\n",
       "  148.334,650.679 174.787,650.679 \n",
       "  \"/>\n",
       "<polyline clip-path=\"url(#clip530)\" style=\"stroke:#000000; stroke-width:4; stroke-opacity:1; fill:none\" points=\"\n",
       "  148.334,253.16 174.787,253.16 \n",
       "  \"/>\n",
       "<path clip-path=\"url(#clip530)\" d=\"M 0 0 M63.4226 1431.51 Q59.8115 1431.51 57.9828 1435.08 Q56.1773 1438.62 56.1773 1445.75 Q56.1773 1452.86 57.9828 1456.42 Q59.8115 1459.96 63.4226 1459.96 Q67.0569 1459.96 68.8624 1456.42 Q70.6911 1452.86 70.6911 1445.75 Q70.6911 1438.62 68.8624 1435.08 Q67.0569 1431.51 63.4226 1431.51 M63.4226 1427.81 Q69.2328 1427.81 72.2883 1432.42 Q75.367 1437 75.367 1445.75 Q75.367 1454.48 72.2883 1459.08 Q69.2328 1463.67 63.4226 1463.67 Q57.6125 1463.67 54.5338 1459.08 Q51.4782 1454.48 51.4782 1445.75 Q51.4782 1437 54.5338 1432.42 Q57.6125 1427.81 63.4226 1427.81 Z\" fill=\"#000000\" fill-rule=\"evenodd\" fill-opacity=\"1\" /><path clip-path=\"url(#clip530)\" d=\"M 0 0 M80.4364 1457.12 L85.3206 1457.12 L85.3206 1463 L80.4364 1463 L80.4364 1457.12 Z\" fill=\"#000000\" fill-rule=\"evenodd\" fill-opacity=\"1\" /><path clip-path=\"url(#clip530)\" d=\"M 0 0 M100.39 1431.51 Q96.7789 1431.51 94.9502 1435.08 Q93.1447 1438.62 93.1447 1445.75 Q93.1447 1452.86 94.9502 1456.42 Q96.7789 1459.96 100.39 1459.96 Q104.024 1459.96 105.83 1456.42 Q107.658 1452.86 107.658 1445.75 Q107.658 1438.62 105.83 1435.08 Q104.024 1431.51 100.39 1431.51 M100.39 1427.81 Q106.2 1427.81 109.256 1432.42 Q112.334 1437 112.334 1445.75 Q112.334 1454.48 109.256 1459.08 Q106.2 1463.67 100.39 1463.67 Q94.5799 1463.67 91.5012 1459.08 Q88.4456 1454.48 88.4456 1445.75 Q88.4456 1437 91.5012 1432.42 Q94.5799 1427.81 100.39 1427.81 Z\" fill=\"#000000\" fill-rule=\"evenodd\" fill-opacity=\"1\" /><path clip-path=\"url(#clip530)\" d=\"M 0 0 M65.0198 1034 Q61.4087 1034 59.58 1037.56 Q57.7745 1041.1 57.7745 1048.23 Q57.7745 1055.34 59.58 1058.9 Q61.4087 1062.44 65.0198 1062.44 Q68.6541 1062.44 70.4596 1058.9 Q72.2883 1055.34 72.2883 1048.23 Q72.2883 1041.1 70.4596 1037.56 Q68.6541 1034 65.0198 1034 M65.0198 1030.29 Q70.83 1030.29 73.8855 1034.9 Q76.9642 1039.48 76.9642 1048.23 Q76.9642 1056.96 73.8855 1061.57 Q70.83 1066.15 65.0198 1066.15 Q59.2097 1066.15 56.131 1061.57 Q53.0754 1056.96 53.0754 1048.23 Q53.0754 1039.48 56.131 1034.9 Q59.2097 1030.29 65.0198 1030.29 Z\" fill=\"#000000\" fill-rule=\"evenodd\" fill-opacity=\"1\" /><path clip-path=\"url(#clip530)\" d=\"M 0 0 M82.0336 1059.6 L86.9179 1059.6 L86.9179 1065.48 L82.0336 1065.48 L82.0336 1059.6 Z\" fill=\"#000000\" fill-rule=\"evenodd\" fill-opacity=\"1\" /><path clip-path=\"url(#clip530)\" d=\"M 0 0 M96.015 1061.54 L112.334 1061.54 L112.334 1065.48 L90.3901 1065.48 L90.3901 1061.54 Q93.0521 1058.79 97.6354 1054.16 Q102.242 1049.5 103.422 1048.16 Q105.668 1045.64 106.547 1043.9 Q107.45 1042.14 107.45 1040.45 Q107.45 1037.7 105.506 1035.96 Q103.584 1034.23 100.483 1034.23 Q98.2835 1034.23 95.8298 1034.99 Q93.3993 1035.76 90.6215 1037.31 L90.6215 1032.58 Q93.4456 1031.45 95.8993 1030.87 Q98.353 1030.29 100.39 1030.29 Q105.76 1030.29 108.955 1032.98 Q112.149 1035.66 112.149 1040.15 Q112.149 1042.28 111.339 1044.2 Q110.552 1046.1 108.446 1048.69 Q107.867 1049.37 104.765 1052.58 Q101.663 1055.78 96.015 1061.54 Z\" fill=\"#000000\" fill-rule=\"evenodd\" fill-opacity=\"1\" /><path clip-path=\"url(#clip530)\" d=\"M 0 0 M62.9365 636.477 Q59.3254 636.477 57.4967 640.042 Q55.6912 643.584 55.6912 650.713 Q55.6912 657.82 57.4967 661.385 Q59.3254 664.926 62.9365 664.926 Q66.5707 664.926 68.3763 661.385 Q70.205 657.82 70.205 650.713 Q70.205 643.584 68.3763 640.042 Q66.5707 636.477 62.9365 636.477 M62.9365 632.774 Q68.7467 632.774 71.8022 637.38 Q74.8809 641.963 74.8809 650.713 Q74.8809 659.44 71.8022 664.047 Q68.7467 668.63 62.9365 668.63 Q57.1264 668.63 54.0477 664.047 Q50.9921 659.44 50.9921 650.713 Q50.9921 641.963 54.0477 637.38 Q57.1264 632.774 62.9365 632.774 Z\" fill=\"#000000\" fill-rule=\"evenodd\" fill-opacity=\"1\" /><path clip-path=\"url(#clip530)\" d=\"M 0 0 M79.9503 662.079 L84.8345 662.079 L84.8345 667.959 L79.9503 667.959 L79.9503 662.079 Z\" fill=\"#000000\" fill-rule=\"evenodd\" fill-opacity=\"1\" /><path clip-path=\"url(#clip530)\" d=\"M 0 0 M102.751 637.473 L90.9456 655.922 L102.751 655.922 L102.751 637.473 M101.524 633.399 L107.404 633.399 L107.404 655.922 L112.334 655.922 L112.334 659.81 L107.404 659.81 L107.404 667.959 L102.751 667.959 L102.751 659.81 L87.1493 659.81 L87.1493 655.297 L101.524 633.399 Z\" fill=\"#000000\" fill-rule=\"evenodd\" fill-opacity=\"1\" /><path clip-path=\"url(#clip530)\" d=\"M 0 0 M63.2606 238.959 Q59.6495 238.959 57.8208 242.523 Q56.0152 246.065 56.0152 253.195 Q56.0152 260.301 57.8208 263.866 Q59.6495 267.408 63.2606 267.408 Q66.8948 267.408 68.7004 263.866 Q70.5291 260.301 70.5291 253.195 Q70.5291 246.065 68.7004 242.523 Q66.8948 238.959 63.2606 238.959 M63.2606 235.255 Q69.0707 235.255 72.1263 239.861 Q75.205 244.445 75.205 253.195 Q75.205 261.922 72.1263 266.528 Q69.0707 271.111 63.2606 271.111 Q57.4504 271.111 54.3717 266.528 Q51.3162 261.922 51.3162 253.195 Q51.3162 244.445 54.3717 239.861 Q57.4504 235.255 63.2606 235.255 Z\" fill=\"#000000\" fill-rule=\"evenodd\" fill-opacity=\"1\" /><path clip-path=\"url(#clip530)\" d=\"M 0 0 M80.2744 264.56 L85.1586 264.56 L85.1586 270.44 L80.2744 270.44 L80.2744 264.56 Z\" fill=\"#000000\" fill-rule=\"evenodd\" fill-opacity=\"1\" /><path clip-path=\"url(#clip530)\" d=\"M 0 0 M100.807 251.297 Q97.6585 251.297 95.8067 253.449 Q93.978 255.602 93.978 259.352 Q93.978 263.079 95.8067 265.255 Q97.6585 267.408 100.807 267.408 Q103.955 267.408 105.783 265.255 Q107.635 263.079 107.635 259.352 Q107.635 255.602 105.783 253.449 Q103.955 251.297 100.807 251.297 M110.089 236.644 L110.089 240.903 Q108.33 240.07 106.524 239.63 Q104.742 239.19 102.983 239.19 Q98.353 239.19 95.8993 242.315 Q93.4688 245.44 93.1215 251.76 Q94.4873 249.746 96.5474 248.681 Q98.6076 247.593 101.084 247.593 Q106.293 247.593 109.302 250.764 Q112.334 253.912 112.334 259.352 Q112.334 264.676 109.186 267.894 Q106.038 271.111 100.807 271.111 Q94.8113 271.111 91.6401 266.528 Q88.4688 261.922 88.4688 253.195 Q88.4688 245 92.3576 240.139 Q96.2465 235.255 102.797 235.255 Q104.557 235.255 106.339 235.602 Q108.145 235.949 110.089 236.644 Z\" fill=\"#000000\" fill-rule=\"evenodd\" fill-opacity=\"1\" /><polyline clip-path=\"url(#clip532)\" style=\"stroke:#009af9; stroke-width:4; stroke-opacity:1; fill:none\" points=\"\n",
       "  210.724,1445.72 233.831,182.607 256.938,87.9763 280.045,119.091 303.152,247.21 326.259,275.37 349.367,166.009 372.474,238.974 395.581,235.467 418.688,525.381 \n",
       "  441.795,660.202 464.902,720.355 488.009,706.645 511.117,726.105 534.224,729.6 557.331,746.201 580.438,772.351 603.545,763.32 626.652,811.462 649.759,893.069 \n",
       "  672.867,964.653 695.974,1033.46 719.081,1107.67 742.188,1151.18 765.295,1187.13 788.402,1164.69 811.509,1179.94 834.617,1172.31 857.724,1210.86 880.831,1209.99 \n",
       "  903.938,949.647 927.045,1201.11 950.152,1235.41 973.259,1224.66 996.367,1226.54 1019.47,1225.33 1042.58,1252.22 1065.69,976.77 1088.8,1230.83 1111.9,1233.13 \n",
       "  1135.01,1240.41 1158.12,1231.24 1181.22,1237.57 1204.33,1240.1 1227.44,1258.33 1250.55,1245.57 1273.65,1252.03 1296.76,1254.19 1319.87,1244.95 1342.97,1278.85 \n",
       "  1366.08,1252.88 1389.19,1263.38 1412.3,1265.63 1435.4,1244.56 1458.51,1266.36 1481.62,1260.38 1504.72,1285.8 1527.83,1256.72 1550.94,1254.93 1574.05,1248.5 \n",
       "  1597.15,1293.62 1620.26,1268.58 1643.37,1254.68 1666.47,1287.54 1689.58,1278.04 1712.69,1264.07 1735.8,1316.12 1758.9,1267.68 1782.01,1296.15 1805.12,1298 \n",
       "  1828.22,1292.79 1851.33,1304.92 1874.44,1271.65 1897.55,1311.86 1920.65,1321.1 1943.76,1314.75 1966.87,1312.3 1989.97,1329.19 2013.08,721.919 2036.19,1296.99 \n",
       "  2059.3,1317.69 2082.4,1346.17 2105.51,1308.59 2128.62,1306.07 2151.72,1330.38 2174.83,1323.81 2197.94,1333.17 2221.05,1306.67 2244.15,1300.03 2267.26,1316.77 \n",
       "  2290.37,1337.54 \n",
       "  \"/>\n",
       "<polyline clip-path=\"url(#clip532)\" style=\"stroke:#e26f46; stroke-width:4; stroke-opacity:1; fill:none\" points=\"\n",
       "  210.724,1445.72 233.831,154.145 256.938,224.33 280.045,243.349 303.152,248.338 326.259,257.117 349.367,265.827 372.474,161.259 395.581,180.399 418.688,406.566 \n",
       "  441.795,663.231 464.902,686.737 488.009,677.65 511.117,694.808 534.224,682.098 557.331,675.743 580.438,678.099 603.545,677.627 626.652,719.031 649.759,819.142 \n",
       "  672.867,861.488 695.974,963.651 719.081,1085.82 742.188,1166.61 765.295,1176.15 788.402,1179.95 811.509,1183.8 834.617,1187.71 857.724,1191.36 880.831,1194.47 \n",
       "  903.938,963.9 927.045,1201.12 950.152,1204.37 973.259,1194.57 996.367,1210.99 1019.47,1213.72 1042.58,1217.31 1065.69,990.294 1088.8,1223.09 1111.9,1225.41 \n",
       "  1135.01,1228.71 1158.12,1231.25 1181.22,1233.67 1204.33,1236.29 1227.44,1238.89 1250.55,1241.64 1273.65,1244.21 1296.76,1246.39 1319.87,1248.81 1342.97,1251.66 \n",
       "  1366.08,1252.54 1389.19,1255.68 1412.3,1257.89 1435.4,1260.07 1458.51,1262.47 1481.62,1264.3 1504.72,1266.36 1527.83,1268.39 1550.94,1270.52 1574.05,1272.37 \n",
       "  1597.15,1274.24 1620.26,1276.37 1643.37,1277.98 1666.47,1279.8 1689.58,1282.02 1712.69,1283.48 1735.8,1285.07 1758.9,1287.08 1782.01,1288.45 1805.12,1290.28 \n",
       "  1828.22,1289.2 1851.33,1293.3 1874.44,1294.96 1897.55,1296.36 1920.65,1297.83 1943.76,1299.26 1966.87,1300.67 1989.97,1302.06 2013.08,824.843 2036.19,1304.76 \n",
       "  2059.3,1306.07 2082.4,1307.36 2105.51,1308.6 2128.62,1309.96 2151.72,1311 2174.83,1312.17 2197.94,1313.78 2221.05,1314.46 2244.15,1315.57 2267.26,1316.78 \n",
       "  2290.37,1318.16 \n",
       "  \"/>\n",
       "<path clip-path=\"url(#clip530)\" d=\"\n",
       "M1983.32 276.658 L2279.28 276.658 L2279.28 95.2176 L1983.32 95.2176  Z\n",
       "  \" fill=\"#ffffff\" fill-rule=\"evenodd\" fill-opacity=\"1\"/>\n",
       "<polyline clip-path=\"url(#clip530)\" style=\"stroke:#000000; stroke-width:4; stroke-opacity:1; fill:none\" points=\"\n",
       "  1983.32,276.658 2279.28,276.658 2279.28,95.2176 1983.32,95.2176 1983.32,276.658 \n",
       "  \"/>\n",
       "<polyline clip-path=\"url(#clip530)\" style=\"stroke:#009af9; stroke-width:4; stroke-opacity:1; fill:none\" points=\"\n",
       "  2007.81,155.698 2154.78,155.698 \n",
       "  \"/>\n",
       "<path clip-path=\"url(#clip530)\" d=\"M 0 0 M2193.11 175.385 Q2191.31 180.015 2189.59 181.427 Q2187.88 182.839 2185.01 182.839 L2181.61 182.839 L2181.61 179.274 L2184.11 179.274 Q2185.87 179.274 2186.84 178.44 Q2187.81 177.607 2188.99 174.505 L2189.76 172.561 L2179.27 147.052 L2183.78 147.052 L2191.89 167.329 L2199.99 147.052 L2204.5 147.052 L2193.11 175.385 Z\" fill=\"#000000\" fill-rule=\"evenodd\" fill-opacity=\"1\" /><path clip-path=\"url(#clip530)\" d=\"M 0 0 M2210.38 169.042 L2218.02 169.042 L2218.02 142.677 L2209.71 144.343 L2209.71 140.084 L2217.97 138.418 L2222.65 138.418 L2222.65 169.042 L2230.29 169.042 L2230.29 172.978 L2210.38 172.978 L2210.38 169.042 Z\" fill=\"#000000\" fill-rule=\"evenodd\" fill-opacity=\"1\" /><polyline clip-path=\"url(#clip530)\" style=\"stroke:#e26f46; stroke-width:4; stroke-opacity:1; fill:none\" points=\"\n",
       "  2007.81,216.178 2154.78,216.178 \n",
       "  \"/>\n",
       "<path clip-path=\"url(#clip530)\" d=\"M 0 0 M2193.11 235.865 Q2191.31 240.495 2189.59 241.907 Q2187.88 243.319 2185.01 243.319 L2181.61 243.319 L2181.61 239.754 L2184.11 239.754 Q2185.87 239.754 2186.84 238.92 Q2187.81 238.087 2188.99 234.985 L2189.76 233.041 L2179.27 207.532 L2183.78 207.532 L2191.89 227.809 L2199.99 207.532 L2204.5 207.532 L2193.11 235.865 Z\" fill=\"#000000\" fill-rule=\"evenodd\" fill-opacity=\"1\" /><path clip-path=\"url(#clip530)\" d=\"M 0 0 M2213.6 229.522 L2229.92 229.522 L2229.92 233.458 L2207.97 233.458 L2207.97 229.522 Q2210.64 226.768 2215.22 222.138 Q2219.83 217.485 2221.01 216.143 Q2223.25 213.62 2224.13 211.884 Q2225.03 210.124 2225.03 208.435 Q2225.03 205.68 2223.09 203.944 Q2221.17 202.208 2218.07 202.208 Q2215.87 202.208 2213.41 202.972 Q2210.98 203.735 2208.2 205.286 L2208.2 200.564 Q2211.03 199.43 2213.48 198.851 Q2215.94 198.273 2217.97 198.273 Q2223.34 198.273 2226.54 200.958 Q2229.73 203.643 2229.73 208.134 Q2229.73 210.263 2228.92 212.185 Q2228.14 214.083 2226.03 216.675 Q2225.45 217.347 2222.35 220.564 Q2219.25 223.759 2213.6 229.522 Z\" fill=\"#000000\" fill-rule=\"evenodd\" fill-opacity=\"1\" /></svg>\n"
      ]
     },
     "execution_count": 7,
     "metadata": {},
     "output_type": "execute_result"
    }
   ],
   "source": [
    "plot(losstrn)\n",
    "plot!(losstst) "
   ]
  },
  {
   "cell_type": "code",
   "execution_count": 8,
   "metadata": {},
   "outputs": [
    {
     "data": {
      "text/plain": [
       "([0 0 … 1 1; 0 0 … 1 1; … ; 0 1 … 1 1; 1 0 … 0 1], [1 1 … 1 0], [1 1 … 0 0; 0 1 … 1 1; … ; 0 0 … 1 1; 0 0 … 0 0], [0 1 … 0 1])"
      ]
     },
     "execution_count": 8,
     "metadata": {},
     "output_type": "execute_result"
    }
   ],
   "source": [
    "xtrn, ytrn, xtst, ytst = mlp.split_data(trainidx, testidx, n, ntest)"
   ]
  },
  {
   "cell_type": "code",
   "execution_count": 9,
   "metadata": {},
   "outputs": [
    {
     "data": {
      "image/svg+xml": [
       "<?xml version=\"1.0\" encoding=\"utf-8\"?>\n",
       "<svg xmlns=\"http://www.w3.org/2000/svg\" xmlns:xlink=\"http://www.w3.org/1999/xlink\" width=\"600\" height=\"400\" viewBox=\"0 0 2400 1600\">\n",
       "<defs>\n",
       "  <clipPath id=\"clip570\">\n",
       "    <rect x=\"0\" y=\"0\" width=\"2400\" height=\"1600\"/>\n",
       "  </clipPath>\n",
       "</defs>\n",
       "<path clip-path=\"url(#clip570)\" d=\"\n",
       "M0 1600 L2400 1600 L2400 0 L0 0  Z\n",
       "  \" fill=\"#ffffff\" fill-rule=\"evenodd\" fill-opacity=\"1\"/>\n",
       "<defs>\n",
       "  <clipPath id=\"clip571\">\n",
       "    <rect x=\"480\" y=\"0\" width=\"1681\" height=\"1600\"/>\n",
       "  </clipPath>\n",
       "</defs>\n",
       "<path clip-path=\"url(#clip570)\" d=\"\n",
       "M174.862 1486.45 L2352.76 1486.45 L2352.76 47.2441 L174.862 47.2441  Z\n",
       "  \" fill=\"#ffffff\" fill-rule=\"evenodd\" fill-opacity=\"1\"/>\n",
       "<defs>\n",
       "  <clipPath id=\"clip572\">\n",
       "    <rect x=\"174\" y=\"47\" width=\"2179\" height=\"1440\"/>\n",
       "  </clipPath>\n",
       "</defs>\n",
       "<polyline clip-path=\"url(#clip572)\" style=\"stroke:#000000; stroke-width:2; stroke-opacity:0.1; fill:none\" points=\"\n",
       "  203.888,1486.45 203.888,47.2441 \n",
       "  \"/>\n",
       "<polyline clip-path=\"url(#clip572)\" style=\"stroke:#000000; stroke-width:2; stroke-opacity:0.1; fill:none\" points=\"\n",
       "  530.017,1486.45 530.017,47.2441 \n",
       "  \"/>\n",
       "<polyline clip-path=\"url(#clip572)\" style=\"stroke:#000000; stroke-width:2; stroke-opacity:0.1; fill:none\" points=\"\n",
       "  856.147,1486.45 856.147,47.2441 \n",
       "  \"/>\n",
       "<polyline clip-path=\"url(#clip572)\" style=\"stroke:#000000; stroke-width:2; stroke-opacity:0.1; fill:none\" points=\"\n",
       "  1182.28,1486.45 1182.28,47.2441 \n",
       "  \"/>\n",
       "<polyline clip-path=\"url(#clip572)\" style=\"stroke:#000000; stroke-width:2; stroke-opacity:0.1; fill:none\" points=\"\n",
       "  1508.41,1486.45 1508.41,47.2441 \n",
       "  \"/>\n",
       "<polyline clip-path=\"url(#clip572)\" style=\"stroke:#000000; stroke-width:2; stroke-opacity:0.1; fill:none\" points=\"\n",
       "  1834.54,1486.45 1834.54,47.2441 \n",
       "  \"/>\n",
       "<polyline clip-path=\"url(#clip572)\" style=\"stroke:#000000; stroke-width:2; stroke-opacity:0.1; fill:none\" points=\"\n",
       "  2160.67,1486.45 2160.67,47.2441 \n",
       "  \"/>\n",
       "<polyline clip-path=\"url(#clip570)\" style=\"stroke:#000000; stroke-width:4; stroke-opacity:1; fill:none\" points=\"\n",
       "  174.862,1486.45 2352.76,1486.45 \n",
       "  \"/>\n",
       "<polyline clip-path=\"url(#clip570)\" style=\"stroke:#000000; stroke-width:4; stroke-opacity:1; fill:none\" points=\"\n",
       "  203.888,1486.45 203.888,1469.18 \n",
       "  \"/>\n",
       "<polyline clip-path=\"url(#clip570)\" style=\"stroke:#000000; stroke-width:4; stroke-opacity:1; fill:none\" points=\"\n",
       "  530.017,1486.45 530.017,1469.18 \n",
       "  \"/>\n",
       "<polyline clip-path=\"url(#clip570)\" style=\"stroke:#000000; stroke-width:4; stroke-opacity:1; fill:none\" points=\"\n",
       "  856.147,1486.45 856.147,1469.18 \n",
       "  \"/>\n",
       "<polyline clip-path=\"url(#clip570)\" style=\"stroke:#000000; stroke-width:4; stroke-opacity:1; fill:none\" points=\"\n",
       "  1182.28,1486.45 1182.28,1469.18 \n",
       "  \"/>\n",
       "<polyline clip-path=\"url(#clip570)\" style=\"stroke:#000000; stroke-width:4; stroke-opacity:1; fill:none\" points=\"\n",
       "  1508.41,1486.45 1508.41,1469.18 \n",
       "  \"/>\n",
       "<polyline clip-path=\"url(#clip570)\" style=\"stroke:#000000; stroke-width:4; stroke-opacity:1; fill:none\" points=\"\n",
       "  1834.54,1486.45 1834.54,1469.18 \n",
       "  \"/>\n",
       "<polyline clip-path=\"url(#clip570)\" style=\"stroke:#000000; stroke-width:4; stroke-opacity:1; fill:none\" points=\"\n",
       "  2160.67,1486.45 2160.67,1469.18 \n",
       "  \"/>\n",
       "<path clip-path=\"url(#clip570)\" d=\"M 0 0 M203.888 1515.64 Q200.276 1515.64 198.448 1519.2 Q196.642 1522.75 196.642 1529.87 Q196.642 1536.98 198.448 1540.55 Q200.276 1544.09 203.888 1544.09 Q207.522 1544.09 209.327 1540.55 Q211.156 1536.98 211.156 1529.87 Q211.156 1522.75 209.327 1519.2 Q207.522 1515.64 203.888 1515.64 M203.888 1511.93 Q209.698 1511.93 212.753 1516.54 Q215.832 1521.12 215.832 1529.87 Q215.832 1538.6 212.753 1543.21 Q209.698 1547.79 203.888 1547.79 Q198.077 1547.79 194.999 1543.21 Q191.943 1538.6 191.943 1529.87 Q191.943 1521.12 194.999 1516.54 Q198.077 1511.93 203.888 1511.93 Z\" fill=\"#000000\" fill-rule=\"evenodd\" fill-opacity=\"1\" /><path clip-path=\"url(#clip570)\" d=\"M 0 0 M506.892 1543.18 L514.531 1543.18 L514.531 1516.82 L506.221 1518.49 L506.221 1514.23 L514.485 1512.56 L519.161 1512.56 L519.161 1543.18 L526.8 1543.18 L526.8 1547.12 L506.892 1547.12 L506.892 1543.18 Z\" fill=\"#000000\" fill-rule=\"evenodd\" fill-opacity=\"1\" /><path clip-path=\"url(#clip570)\" d=\"M 0 0 M541.869 1515.64 Q538.258 1515.64 536.429 1519.2 Q534.624 1522.75 534.624 1529.87 Q534.624 1536.98 536.429 1540.55 Q538.258 1544.09 541.869 1544.09 Q545.503 1544.09 547.309 1540.55 Q549.137 1536.98 549.137 1529.87 Q549.137 1522.75 547.309 1519.2 Q545.503 1515.64 541.869 1515.64 M541.869 1511.93 Q547.679 1511.93 550.735 1516.54 Q553.813 1521.12 553.813 1529.87 Q553.813 1538.6 550.735 1543.21 Q547.679 1547.79 541.869 1547.79 Q536.059 1547.79 532.98 1543.21 Q529.925 1538.6 529.925 1529.87 Q529.925 1521.12 532.98 1516.54 Q536.059 1511.93 541.869 1511.93 Z\" fill=\"#000000\" fill-rule=\"evenodd\" fill-opacity=\"1\" /><path clip-path=\"url(#clip570)\" d=\"M 0 0 M837.293 1543.18 L853.612 1543.18 L853.612 1547.12 L831.668 1547.12 L831.668 1543.18 Q834.33 1540.43 838.913 1535.8 Q843.52 1531.15 844.7 1529.81 Q846.946 1527.28 847.825 1525.55 Q848.728 1523.79 848.728 1522.1 Q848.728 1519.34 846.784 1517.61 Q844.862 1515.87 841.76 1515.87 Q839.561 1515.87 837.108 1516.63 Q834.677 1517.4 831.899 1518.95 L831.899 1514.23 Q834.723 1513.09 837.177 1512.51 Q839.631 1511.93 841.668 1511.93 Q847.038 1511.93 850.233 1514.62 Q853.427 1517.31 853.427 1521.8 Q853.427 1523.93 852.617 1525.85 Q851.83 1527.74 849.723 1530.34 Q849.145 1531.01 846.043 1534.23 Q842.941 1537.42 837.293 1543.18 Z\" fill=\"#000000\" fill-rule=\"evenodd\" fill-opacity=\"1\" /><path clip-path=\"url(#clip570)\" d=\"M 0 0 M868.682 1515.64 Q865.07 1515.64 863.242 1519.2 Q861.436 1522.75 861.436 1529.87 Q861.436 1536.98 863.242 1540.55 Q865.07 1544.09 868.682 1544.09 Q872.316 1544.09 874.121 1540.55 Q875.95 1536.98 875.95 1529.87 Q875.95 1522.75 874.121 1519.2 Q872.316 1515.64 868.682 1515.64 M868.682 1511.93 Q874.492 1511.93 877.547 1516.54 Q880.626 1521.12 880.626 1529.87 Q880.626 1538.6 877.547 1543.21 Q874.492 1547.79 868.682 1547.79 Q862.871 1547.79 859.793 1543.21 Q856.737 1538.6 856.737 1529.87 Q856.737 1521.12 859.793 1516.54 Q862.871 1511.93 868.682 1511.93 Z\" fill=\"#000000\" fill-rule=\"evenodd\" fill-opacity=\"1\" /><path clip-path=\"url(#clip570)\" d=\"M 0 0 M1173.02 1528.49 Q1176.37 1529.2 1178.25 1531.47 Q1180.15 1533.74 1180.15 1537.07 Q1180.15 1542.19 1176.63 1544.99 Q1173.11 1547.79 1166.63 1547.79 Q1164.45 1547.79 1162.14 1547.35 Q1159.85 1546.93 1157.39 1546.08 L1157.39 1541.56 Q1159.34 1542.7 1161.65 1543.28 Q1163.97 1543.86 1166.49 1543.86 Q1170.89 1543.86 1173.18 1542.12 Q1175.49 1540.38 1175.49 1537.07 Q1175.49 1534.02 1173.34 1532.31 Q1171.21 1530.57 1167.39 1530.57 L1163.36 1530.57 L1163.36 1526.73 L1167.58 1526.73 Q1171.03 1526.73 1172.86 1525.36 Q1174.68 1523.97 1174.68 1521.38 Q1174.68 1518.72 1172.79 1517.31 Q1170.91 1515.87 1167.39 1515.87 Q1165.47 1515.87 1163.27 1516.29 Q1161.07 1516.7 1158.43 1517.58 L1158.43 1513.42 Q1161.1 1512.68 1163.41 1512.31 Q1165.75 1511.93 1167.81 1511.93 Q1173.13 1511.93 1176.23 1514.37 Q1179.34 1516.77 1179.34 1520.89 Q1179.34 1523.76 1177.69 1525.75 Q1176.05 1527.72 1173.02 1528.49 Z\" fill=\"#000000\" fill-rule=\"evenodd\" fill-opacity=\"1\" /><path clip-path=\"url(#clip570)\" d=\"M 0 0 M1195.22 1515.64 Q1191.61 1515.64 1189.78 1519.2 Q1187.97 1522.75 1187.97 1529.87 Q1187.97 1536.98 1189.78 1540.55 Q1191.61 1544.09 1195.22 1544.09 Q1198.85 1544.09 1200.66 1540.55 Q1202.48 1536.98 1202.48 1529.87 Q1202.48 1522.75 1200.66 1519.2 Q1198.85 1515.64 1195.22 1515.64 M1195.22 1511.93 Q1201.03 1511.93 1204.08 1516.54 Q1207.16 1521.12 1207.16 1529.87 Q1207.16 1538.6 1204.08 1543.21 Q1201.03 1547.79 1195.22 1547.79 Q1189.41 1547.79 1186.33 1543.21 Q1183.27 1538.6 1183.27 1529.87 Q1183.27 1521.12 1186.33 1516.54 Q1189.41 1511.93 1195.22 1511.93 Z\" fill=\"#000000\" fill-rule=\"evenodd\" fill-opacity=\"1\" /><path clip-path=\"url(#clip570)\" d=\"M 0 0 M1497.91 1516.63 L1486.1 1535.08 L1497.91 1535.08 L1497.91 1516.63 M1496.68 1512.56 L1502.56 1512.56 L1502.56 1535.08 L1507.49 1535.08 L1507.49 1538.97 L1502.56 1538.97 L1502.56 1547.12 L1497.91 1547.12 L1497.91 1538.97 L1482.31 1538.97 L1482.31 1534.46 L1496.68 1512.56 Z\" fill=\"#000000\" fill-rule=\"evenodd\" fill-opacity=\"1\" /><path clip-path=\"url(#clip570)\" d=\"M 0 0 M1522.56 1515.64 Q1518.95 1515.64 1517.12 1519.2 Q1515.32 1522.75 1515.32 1529.87 Q1515.32 1536.98 1517.12 1540.55 Q1518.95 1544.09 1522.56 1544.09 Q1526.2 1544.09 1528 1540.55 Q1529.83 1536.98 1529.83 1529.87 Q1529.83 1522.75 1528 1519.2 Q1526.2 1515.64 1522.56 1515.64 M1522.56 1511.93 Q1528.37 1511.93 1531.43 1516.54 Q1534.51 1521.12 1534.51 1529.87 Q1534.51 1538.6 1531.43 1543.21 Q1528.37 1547.79 1522.56 1547.79 Q1516.75 1547.79 1513.67 1543.21 Q1510.62 1538.6 1510.62 1529.87 Q1510.62 1521.12 1513.67 1516.54 Q1516.75 1511.93 1522.56 1511.93 Z\" fill=\"#000000\" fill-rule=\"evenodd\" fill-opacity=\"1\" /><path clip-path=\"url(#clip570)\" d=\"M 0 0 M1811.31 1512.56 L1829.66 1512.56 L1829.66 1516.5 L1815.59 1516.5 L1815.59 1524.97 Q1816.61 1524.62 1817.63 1524.46 Q1818.64 1524.27 1819.66 1524.27 Q1825.45 1524.27 1828.83 1527.44 Q1832.21 1530.62 1832.21 1536.03 Q1832.21 1541.61 1828.74 1544.71 Q1825.27 1547.79 1818.95 1547.79 Q1816.77 1547.79 1814.5 1547.42 Q1812.26 1547.05 1809.85 1546.31 L1809.85 1541.61 Q1811.93 1542.74 1814.15 1543.3 Q1816.38 1543.86 1818.85 1543.86 Q1822.86 1543.86 1825.2 1541.75 Q1827.53 1539.64 1827.53 1536.03 Q1827.53 1532.42 1825.2 1530.31 Q1822.86 1528.21 1818.85 1528.21 Q1816.98 1528.21 1815.1 1528.62 Q1813.25 1529.04 1811.31 1529.92 L1811.31 1512.56 Z\" fill=\"#000000\" fill-rule=\"evenodd\" fill-opacity=\"1\" /><path clip-path=\"url(#clip570)\" d=\"M 0 0 M1847.28 1515.64 Q1843.67 1515.64 1841.84 1519.2 Q1840.03 1522.75 1840.03 1529.87 Q1840.03 1536.98 1841.84 1540.55 Q1843.67 1544.09 1847.28 1544.09 Q1850.91 1544.09 1852.72 1540.55 Q1854.55 1536.98 1854.55 1529.87 Q1854.55 1522.75 1852.72 1519.2 Q1850.91 1515.64 1847.28 1515.64 M1847.28 1511.93 Q1853.09 1511.93 1856.14 1516.54 Q1859.22 1521.12 1859.22 1529.87 Q1859.22 1538.6 1856.14 1543.21 Q1853.09 1547.79 1847.28 1547.79 Q1841.47 1547.79 1838.39 1543.21 Q1835.33 1538.6 1835.33 1529.87 Q1835.33 1521.12 1838.39 1516.54 Q1841.47 1511.93 1847.28 1511.93 Z\" fill=\"#000000\" fill-rule=\"evenodd\" fill-opacity=\"1\" /><path clip-path=\"url(#clip570)\" d=\"M 0 0 M2147.56 1527.98 Q2144.42 1527.98 2142.56 1530.13 Q2140.74 1532.28 2140.74 1536.03 Q2140.74 1539.76 2142.56 1541.93 Q2144.42 1544.09 2147.56 1544.09 Q2150.71 1544.09 2152.54 1541.93 Q2154.39 1539.76 2154.39 1536.03 Q2154.39 1532.28 2152.54 1530.13 Q2150.71 1527.98 2147.56 1527.98 M2156.85 1513.32 L2156.85 1517.58 Q2155.09 1516.75 2153.28 1516.31 Q2151.5 1515.87 2149.74 1515.87 Q2145.11 1515.87 2142.66 1519 Q2140.23 1522.12 2139.88 1528.44 Q2141.24 1526.43 2143.3 1525.36 Q2145.36 1524.27 2147.84 1524.27 Q2153.05 1524.27 2156.06 1527.44 Q2159.09 1530.59 2159.09 1536.03 Q2159.09 1541.36 2155.94 1544.57 Q2152.8 1547.79 2147.56 1547.79 Q2141.57 1547.79 2138.4 1543.21 Q2135.23 1538.6 2135.23 1529.87 Q2135.23 1521.68 2139.11 1516.82 Q2143 1511.93 2149.55 1511.93 Q2151.31 1511.93 2153.1 1512.28 Q2154.9 1512.63 2156.85 1513.32 Z\" fill=\"#000000\" fill-rule=\"evenodd\" fill-opacity=\"1\" /><path clip-path=\"url(#clip570)\" d=\"M 0 0 M2174.16 1515.64 Q2170.55 1515.64 2168.72 1519.2 Q2166.92 1522.75 2166.92 1529.87 Q2166.92 1536.98 2168.72 1540.55 Q2170.55 1544.09 2174.16 1544.09 Q2177.8 1544.09 2179.6 1540.55 Q2181.43 1536.98 2181.43 1529.87 Q2181.43 1522.75 2179.6 1519.2 Q2177.8 1515.64 2174.16 1515.64 M2174.16 1511.93 Q2179.97 1511.93 2183.03 1516.54 Q2186.11 1521.12 2186.11 1529.87 Q2186.11 1538.6 2183.03 1543.21 Q2179.97 1547.79 2174.16 1547.79 Q2168.35 1547.79 2165.27 1543.21 Q2162.22 1538.6 2162.22 1529.87 Q2162.22 1521.12 2165.27 1516.54 Q2168.35 1511.93 2174.16 1511.93 Z\" fill=\"#000000\" fill-rule=\"evenodd\" fill-opacity=\"1\" /><polyline clip-path=\"url(#clip572)\" style=\"stroke:#000000; stroke-width:2; stroke-opacity:0.1; fill:none\" points=\"\n",
       "  174.862,1445.72 2352.76,1445.72 \n",
       "  \"/>\n",
       "<polyline clip-path=\"url(#clip572)\" style=\"stroke:#000000; stroke-width:2; stroke-opacity:0.1; fill:none\" points=\"\n",
       "  174.862,1106.28 2352.76,1106.28 \n",
       "  \"/>\n",
       "<polyline clip-path=\"url(#clip572)\" style=\"stroke:#000000; stroke-width:2; stroke-opacity:0.1; fill:none\" points=\"\n",
       "  174.862,766.846 2352.76,766.846 \n",
       "  \"/>\n",
       "<polyline clip-path=\"url(#clip572)\" style=\"stroke:#000000; stroke-width:2; stroke-opacity:0.1; fill:none\" points=\"\n",
       "  174.862,427.411 2352.76,427.411 \n",
       "  \"/>\n",
       "<polyline clip-path=\"url(#clip572)\" style=\"stroke:#000000; stroke-width:2; stroke-opacity:0.1; fill:none\" points=\"\n",
       "  174.862,87.9763 2352.76,87.9763 \n",
       "  \"/>\n",
       "<polyline clip-path=\"url(#clip570)\" style=\"stroke:#000000; stroke-width:4; stroke-opacity:1; fill:none\" points=\"\n",
       "  174.862,1486.45 174.862,47.2441 \n",
       "  \"/>\n",
       "<polyline clip-path=\"url(#clip570)\" style=\"stroke:#000000; stroke-width:4; stroke-opacity:1; fill:none\" points=\"\n",
       "  174.862,1445.72 200.997,1445.72 \n",
       "  \"/>\n",
       "<polyline clip-path=\"url(#clip570)\" style=\"stroke:#000000; stroke-width:4; stroke-opacity:1; fill:none\" points=\"\n",
       "  174.862,1106.28 200.997,1106.28 \n",
       "  \"/>\n",
       "<polyline clip-path=\"url(#clip570)\" style=\"stroke:#000000; stroke-width:4; stroke-opacity:1; fill:none\" points=\"\n",
       "  174.862,766.846 200.997,766.846 \n",
       "  \"/>\n",
       "<polyline clip-path=\"url(#clip570)\" style=\"stroke:#000000; stroke-width:4; stroke-opacity:1; fill:none\" points=\"\n",
       "  174.862,427.411 200.997,427.411 \n",
       "  \"/>\n",
       "<polyline clip-path=\"url(#clip570)\" style=\"stroke:#000000; stroke-width:4; stroke-opacity:1; fill:none\" points=\"\n",
       "  174.862,87.9763 200.997,87.9763 \n",
       "  \"/>\n",
       "<path clip-path=\"url(#clip570)\" d=\"M 0 0 M62.9365 1431.51 Q59.3254 1431.51 57.4967 1435.08 Q55.6912 1438.62 55.6912 1445.75 Q55.6912 1452.86 57.4967 1456.42 Q59.3254 1459.96 62.9365 1459.96 Q66.5707 1459.96 68.3763 1456.42 Q70.205 1452.86 70.205 1445.75 Q70.205 1438.62 68.3763 1435.08 Q66.5707 1431.51 62.9365 1431.51 M62.9365 1427.81 Q68.7467 1427.81 71.8022 1432.42 Q74.8809 1437 74.8809 1445.75 Q74.8809 1454.48 71.8022 1459.08 Q68.7467 1463.67 62.9365 1463.67 Q57.1264 1463.67 54.0477 1459.08 Q50.9921 1454.48 50.9921 1445.75 Q50.9921 1437 54.0477 1432.42 Q57.1264 1427.81 62.9365 1427.81 Z\" fill=\"#000000\" fill-rule=\"evenodd\" fill-opacity=\"1\" /><path clip-path=\"url(#clip570)\" d=\"M 0 0 M79.9503 1457.12 L84.8345 1457.12 L84.8345 1463 L79.9503 1463 L79.9503 1457.12 Z\" fill=\"#000000\" fill-rule=\"evenodd\" fill-opacity=\"1\" /><path clip-path=\"url(#clip570)\" d=\"M 0 0 M99.9039 1431.51 Q96.2928 1431.51 94.4641 1435.08 Q92.6586 1438.62 92.6586 1445.75 Q92.6586 1452.86 94.4641 1456.42 Q96.2928 1459.96 99.9039 1459.96 Q103.538 1459.96 105.344 1456.42 Q107.172 1452.86 107.172 1445.75 Q107.172 1438.62 105.344 1435.08 Q103.538 1431.51 99.9039 1431.51 M99.9039 1427.81 Q105.714 1427.81 108.77 1432.42 Q111.848 1437 111.848 1445.75 Q111.848 1454.48 108.77 1459.08 Q105.714 1463.67 99.9039 1463.67 Q94.0937 1463.67 91.0151 1459.08 Q87.9595 1454.48 87.9595 1445.75 Q87.9595 1437 91.0151 1432.42 Q94.0937 1427.81 99.9039 1427.81 Z\" fill=\"#000000\" fill-rule=\"evenodd\" fill-opacity=\"1\" /><path clip-path=\"url(#clip570)\" d=\"M 0 0 M126.918 1431.51 Q123.307 1431.51 121.478 1435.08 Q119.672 1438.62 119.672 1445.75 Q119.672 1452.86 121.478 1456.42 Q123.307 1459.96 126.918 1459.96 Q130.552 1459.96 132.357 1456.42 Q134.186 1452.86 134.186 1445.75 Q134.186 1438.62 132.357 1435.08 Q130.552 1431.51 126.918 1431.51 M126.918 1427.81 Q132.728 1427.81 135.783 1432.42 Q138.862 1437 138.862 1445.75 Q138.862 1454.48 135.783 1459.08 Q132.728 1463.67 126.918 1463.67 Q121.107 1463.67 118.029 1459.08 Q114.973 1454.48 114.973 1445.75 Q114.973 1437 118.029 1432.42 Q121.107 1427.81 126.918 1427.81 Z\" fill=\"#000000\" fill-rule=\"evenodd\" fill-opacity=\"1\" /><path clip-path=\"url(#clip570)\" d=\"M 0 0 M65.5291 1092.08 Q61.918 1092.08 60.0893 1095.64 Q58.2838 1099.19 58.2838 1106.32 Q58.2838 1113.42 60.0893 1116.99 Q61.918 1120.53 65.5291 1120.53 Q69.1633 1120.53 70.9689 1116.99 Q72.7976 1113.42 72.7976 1106.32 Q72.7976 1099.19 70.9689 1095.64 Q69.1633 1092.08 65.5291 1092.08 M65.5291 1088.38 Q71.3392 1088.38 74.3948 1092.98 Q77.4735 1097.57 77.4735 1106.32 Q77.4735 1115.04 74.3948 1119.65 Q71.3392 1124.23 65.5291 1124.23 Q59.7189 1124.23 56.6402 1119.65 Q53.5847 1115.04 53.5847 1106.32 Q53.5847 1097.57 56.6402 1092.98 Q59.7189 1088.38 65.5291 1088.38 Z\" fill=\"#000000\" fill-rule=\"evenodd\" fill-opacity=\"1\" /><path clip-path=\"url(#clip570)\" d=\"M 0 0 M82.5429 1117.68 L87.4271 1117.68 L87.4271 1123.56 L82.5429 1123.56 L82.5429 1117.68 Z\" fill=\"#000000\" fill-rule=\"evenodd\" fill-opacity=\"1\" /><path clip-path=\"url(#clip570)\" d=\"M 0 0 M96.5243 1119.63 L112.844 1119.63 L112.844 1123.56 L90.8993 1123.56 L90.8993 1119.63 Q93.5613 1116.87 98.1447 1112.24 Q102.751 1107.59 103.932 1106.25 Q106.177 1103.72 107.057 1101.99 Q107.959 1100.23 107.959 1098.54 Q107.959 1095.78 106.015 1094.05 Q104.094 1092.31 100.992 1092.31 Q98.7928 1092.31 96.3391 1093.07 Q93.9086 1093.84 91.1308 1095.39 L91.1308 1090.67 Q93.9549 1089.53 96.4085 1088.95 Q98.8622 1088.38 100.899 1088.38 Q106.27 1088.38 109.464 1091.06 Q112.658 1093.75 112.658 1098.24 Q112.658 1100.37 111.848 1102.29 Q111.061 1104.19 108.955 1106.78 Q108.376 1107.45 105.274 1110.67 Q102.172 1113.86 96.5243 1119.63 Z\" fill=\"#000000\" fill-rule=\"evenodd\" fill-opacity=\"1\" /><path clip-path=\"url(#clip570)\" d=\"M 0 0 M117.959 1089 L136.316 1089 L136.316 1092.94 L122.242 1092.94 L122.242 1101.41 Q123.26 1101.06 124.279 1100.9 Q125.297 1100.71 126.316 1100.71 Q132.103 1100.71 135.482 1103.89 Q138.862 1107.06 138.862 1112.47 Q138.862 1118.05 135.39 1121.15 Q131.918 1124.23 125.598 1124.23 Q123.422 1124.23 121.154 1123.86 Q118.908 1123.49 116.501 1122.75 L116.501 1118.05 Q118.584 1119.19 120.807 1119.74 Q123.029 1120.3 125.506 1120.3 Q129.51 1120.3 131.848 1118.19 Q134.186 1116.08 134.186 1112.47 Q134.186 1108.86 131.848 1106.76 Q129.51 1104.65 125.506 1104.65 Q123.631 1104.65 121.756 1105.07 Q119.904 1105.48 117.959 1106.36 L117.959 1089 Z\" fill=\"#000000\" fill-rule=\"evenodd\" fill-opacity=\"1\" /><path clip-path=\"url(#clip570)\" d=\"M 0 0 M63.9319 752.645 Q60.3208 752.645 58.4921 756.209 Q56.6865 759.751 56.6865 766.881 Q56.6865 773.987 58.4921 777.552 Q60.3208 781.094 63.9319 781.094 Q67.5661 781.094 69.3717 777.552 Q71.2004 773.987 71.2004 766.881 Q71.2004 759.751 69.3717 756.209 Q67.5661 752.645 63.9319 752.645 M63.9319 748.941 Q69.742 748.941 72.7976 753.547 Q75.8763 758.131 75.8763 766.881 Q75.8763 775.608 72.7976 780.214 Q69.742 784.797 63.9319 784.797 Q58.1217 784.797 55.043 780.214 Q51.9875 775.608 51.9875 766.881 Q51.9875 758.131 55.043 753.547 Q58.1217 748.941 63.9319 748.941 Z\" fill=\"#000000\" fill-rule=\"evenodd\" fill-opacity=\"1\" /><path clip-path=\"url(#clip570)\" d=\"M 0 0 M80.9457 778.246 L85.8299 778.246 L85.8299 784.126 L80.9457 784.126 L80.9457 778.246 Z\" fill=\"#000000\" fill-rule=\"evenodd\" fill-opacity=\"1\" /><path clip-path=\"url(#clip570)\" d=\"M 0 0 M90.9456 749.566 L109.302 749.566 L109.302 753.501 L95.228 753.501 L95.228 761.973 Q96.2465 761.626 97.265 761.464 Q98.2835 761.279 99.3021 761.279 Q105.089 761.279 108.469 764.45 Q111.848 767.621 111.848 773.038 Q111.848 778.617 108.376 781.719 Q104.904 784.797 98.5845 784.797 Q96.4085 784.797 94.14 784.427 Q91.8947 784.057 89.4873 783.316 L89.4873 778.617 Q91.5706 779.751 93.7928 780.307 Q96.015 780.862 98.4919 780.862 Q102.496 780.862 104.834 778.756 Q107.172 776.649 107.172 773.038 Q107.172 769.427 104.834 767.321 Q102.496 765.214 98.4919 765.214 Q96.6169 765.214 94.7419 765.631 Q92.89 766.047 90.9456 766.927 L90.9456 749.566 Z\" fill=\"#000000\" fill-rule=\"evenodd\" fill-opacity=\"1\" /><path clip-path=\"url(#clip570)\" d=\"M 0 0 M126.918 752.645 Q123.307 752.645 121.478 756.209 Q119.672 759.751 119.672 766.881 Q119.672 773.987 121.478 777.552 Q123.307 781.094 126.918 781.094 Q130.552 781.094 132.357 777.552 Q134.186 773.987 134.186 766.881 Q134.186 759.751 132.357 756.209 Q130.552 752.645 126.918 752.645 M126.918 748.941 Q132.728 748.941 135.783 753.547 Q138.862 758.131 138.862 766.881 Q138.862 775.608 135.783 780.214 Q132.728 784.797 126.918 784.797 Q121.107 784.797 118.029 780.214 Q114.973 775.608 114.973 766.881 Q114.973 758.131 118.029 753.547 Q121.107 748.941 126.918 748.941 Z\" fill=\"#000000\" fill-rule=\"evenodd\" fill-opacity=\"1\" /><path clip-path=\"url(#clip570)\" d=\"M 0 0 M64.8346 413.21 Q61.2236 413.21 59.3949 416.775 Q57.5893 420.316 57.5893 427.446 Q57.5893 434.552 59.3949 438.117 Q61.2236 441.659 64.8346 441.659 Q68.4689 441.659 70.2744 438.117 Q72.1031 434.552 72.1031 427.446 Q72.1031 420.316 70.2744 416.775 Q68.4689 413.21 64.8346 413.21 M64.8346 409.506 Q70.6448 409.506 73.7003 414.113 Q76.779 418.696 76.779 427.446 Q76.779 436.173 73.7003 440.779 Q70.6448 445.362 64.8346 445.362 Q59.0245 445.362 55.9458 440.779 Q52.8903 436.173 52.8903 427.446 Q52.8903 418.696 55.9458 414.113 Q59.0245 409.506 64.8346 409.506 Z\" fill=\"#000000\" fill-rule=\"evenodd\" fill-opacity=\"1\" /><path clip-path=\"url(#clip570)\" d=\"M 0 0 M81.8484 438.812 L86.7327 438.812 L86.7327 444.691 L81.8484 444.691 L81.8484 438.812 Z\" fill=\"#000000\" fill-rule=\"evenodd\" fill-opacity=\"1\" /><path clip-path=\"url(#clip570)\" d=\"M 0 0 M90.6215 410.131 L112.844 410.131 L112.844 412.122 L100.297 444.691 L95.4132 444.691 L107.219 414.066 L90.6215 414.066 L90.6215 410.131 Z\" fill=\"#000000\" fill-rule=\"evenodd\" fill-opacity=\"1\" /><path clip-path=\"url(#clip570)\" d=\"M 0 0 M117.959 410.131 L136.316 410.131 L136.316 414.066 L122.242 414.066 L122.242 422.538 Q123.26 422.191 124.279 422.029 Q125.297 421.844 126.316 421.844 Q132.103 421.844 135.482 425.015 Q138.862 428.187 138.862 433.603 Q138.862 439.182 135.39 442.284 Q131.918 445.362 125.598 445.362 Q123.422 445.362 121.154 444.992 Q118.908 444.622 116.501 443.881 L116.501 439.182 Q118.584 440.316 120.807 440.872 Q123.029 441.427 125.506 441.427 Q129.51 441.427 131.848 439.321 Q134.186 437.214 134.186 433.603 Q134.186 429.992 131.848 427.886 Q129.51 425.779 125.506 425.779 Q123.631 425.779 121.756 426.196 Q119.904 426.613 117.959 427.492 L117.959 410.131 Z\" fill=\"#000000\" fill-rule=\"evenodd\" fill-opacity=\"1\" /><path clip-path=\"url(#clip570)\" d=\"M 0 0 M54.9736 101.321 L62.6124 101.321 L62.6124 74.9555 L54.3023 76.6222 L54.3023 72.3629 L62.5661 70.6963 L67.242 70.6963 L67.242 101.321 L74.8809 101.321 L74.8809 105.256 L54.9736 105.256 L54.9736 101.321 Z\" fill=\"#000000\" fill-rule=\"evenodd\" fill-opacity=\"1\" /><path clip-path=\"url(#clip570)\" d=\"M 0 0 M79.9503 99.3767 L84.8345 99.3767 L84.8345 105.256 L79.9503 105.256 L79.9503 99.3767 Z\" fill=\"#000000\" fill-rule=\"evenodd\" fill-opacity=\"1\" /><path clip-path=\"url(#clip570)\" d=\"M 0 0 M99.9039 73.775 Q96.2928 73.775 94.4641 77.3398 Q92.6586 80.8814 92.6586 88.011 Q92.6586 95.1174 94.4641 98.6822 Q96.2928 102.224 99.9039 102.224 Q103.538 102.224 105.344 98.6822 Q107.172 95.1174 107.172 88.011 Q107.172 80.8814 105.344 77.3398 Q103.538 73.775 99.9039 73.775 M99.9039 70.0713 Q105.714 70.0713 108.77 74.6777 Q111.848 79.261 111.848 88.011 Q111.848 96.7378 108.77 101.344 Q105.714 105.928 99.9039 105.928 Q94.0937 105.928 91.0151 101.344 Q87.9595 96.7378 87.9595 88.011 Q87.9595 79.261 91.0151 74.6777 Q94.0937 70.0713 99.9039 70.0713 Z\" fill=\"#000000\" fill-rule=\"evenodd\" fill-opacity=\"1\" /><path clip-path=\"url(#clip570)\" d=\"M 0 0 M126.918 73.775 Q123.307 73.775 121.478 77.3398 Q119.672 80.8814 119.672 88.011 Q119.672 95.1174 121.478 98.6822 Q123.307 102.224 126.918 102.224 Q130.552 102.224 132.357 98.6822 Q134.186 95.1174 134.186 88.011 Q134.186 80.8814 132.357 77.3398 Q130.552 73.775 126.918 73.775 M126.918 70.0713 Q132.728 70.0713 135.783 74.6777 Q138.862 79.261 138.862 88.011 Q138.862 96.7378 135.783 101.344 Q132.728 105.928 126.918 105.928 Q121.107 105.928 118.029 101.344 Q114.973 96.7378 114.973 88.011 Q114.973 79.261 118.029 74.6777 Q121.107 70.0713 126.918 70.0713 Z\" fill=\"#000000\" fill-rule=\"evenodd\" fill-opacity=\"1\" /><circle clip-path=\"url(#clip572)\" cx=\"236.501\" cy=\"1421.39\" r=\"14\" fill=\"#009af9\" fill-rule=\"evenodd\" fill-opacity=\"1\" stroke=\"#000000\" stroke-opacity=\"1\" stroke-width=\"3.2\"/>\n",
       "<circle clip-path=\"url(#clip572)\" cx=\"269.113\" cy=\"102.306\" r=\"14\" fill=\"#009af9\" fill-rule=\"evenodd\" fill-opacity=\"1\" stroke=\"#000000\" stroke-opacity=\"1\" stroke-width=\"3.2\"/>\n",
       "<circle clip-path=\"url(#clip572)\" cx=\"301.726\" cy=\"1436.47\" r=\"14\" fill=\"#009af9\" fill-rule=\"evenodd\" fill-opacity=\"1\" stroke=\"#000000\" stroke-opacity=\"1\" stroke-width=\"3.2\"/>\n",
       "<circle clip-path=\"url(#clip572)\" cx=\"334.339\" cy=\"101.99\" r=\"14\" fill=\"#009af9\" fill-rule=\"evenodd\" fill-opacity=\"1\" stroke=\"#000000\" stroke-opacity=\"1\" stroke-width=\"3.2\"/>\n",
       "<circle clip-path=\"url(#clip572)\" cx=\"366.952\" cy=\"101.916\" r=\"14\" fill=\"#009af9\" fill-rule=\"evenodd\" fill-opacity=\"1\" stroke=\"#000000\" stroke-opacity=\"1\" stroke-width=\"3.2\"/>\n",
       "<circle clip-path=\"url(#clip572)\" cx=\"399.565\" cy=\"108.857\" r=\"14\" fill=\"#009af9\" fill-rule=\"evenodd\" fill-opacity=\"1\" stroke=\"#000000\" stroke-opacity=\"1\" stroke-width=\"3.2\"/>\n",
       "<circle clip-path=\"url(#clip572)\" cx=\"432.178\" cy=\"110.414\" r=\"14\" fill=\"#009af9\" fill-rule=\"evenodd\" fill-opacity=\"1\" stroke=\"#000000\" stroke-opacity=\"1\" stroke-width=\"3.2\"/>\n",
       "<circle clip-path=\"url(#clip572)\" cx=\"464.791\" cy=\"110.68\" r=\"14\" fill=\"#009af9\" fill-rule=\"evenodd\" fill-opacity=\"1\" stroke=\"#000000\" stroke-opacity=\"1\" stroke-width=\"3.2\"/>\n",
       "<circle clip-path=\"url(#clip572)\" cx=\"497.404\" cy=\"1428.28\" r=\"14\" fill=\"#009af9\" fill-rule=\"evenodd\" fill-opacity=\"1\" stroke=\"#000000\" stroke-opacity=\"1\" stroke-width=\"3.2\"/>\n",
       "<circle clip-path=\"url(#clip572)\" cx=\"530.017\" cy=\"102.582\" r=\"14\" fill=\"#009af9\" fill-rule=\"evenodd\" fill-opacity=\"1\" stroke=\"#000000\" stroke-opacity=\"1\" stroke-width=\"3.2\"/>\n",
       "<circle clip-path=\"url(#clip572)\" cx=\"562.63\" cy=\"111.909\" r=\"14\" fill=\"#009af9\" fill-rule=\"evenodd\" fill-opacity=\"1\" stroke=\"#000000\" stroke-opacity=\"1\" stroke-width=\"3.2\"/>\n",
       "<circle clip-path=\"url(#clip572)\" cx=\"595.243\" cy=\"1428.64\" r=\"14\" fill=\"#009af9\" fill-rule=\"evenodd\" fill-opacity=\"1\" stroke=\"#000000\" stroke-opacity=\"1\" stroke-width=\"3.2\"/>\n",
       "<circle clip-path=\"url(#clip572)\" cx=\"627.856\" cy=\"108.901\" r=\"14\" fill=\"#009af9\" fill-rule=\"evenodd\" fill-opacity=\"1\" stroke=\"#000000\" stroke-opacity=\"1\" stroke-width=\"3.2\"/>\n",
       "<circle clip-path=\"url(#clip572)\" cx=\"660.469\" cy=\"1425.92\" r=\"14\" fill=\"#009af9\" fill-rule=\"evenodd\" fill-opacity=\"1\" stroke=\"#000000\" stroke-opacity=\"1\" stroke-width=\"3.2\"/>\n",
       "<circle clip-path=\"url(#clip572)\" cx=\"693.082\" cy=\"114.62\" r=\"14\" fill=\"#009af9\" fill-rule=\"evenodd\" fill-opacity=\"1\" stroke=\"#000000\" stroke-opacity=\"1\" stroke-width=\"3.2\"/>\n",
       "<circle clip-path=\"url(#clip572)\" cx=\"725.695\" cy=\"115.998\" r=\"14\" fill=\"#009af9\" fill-rule=\"evenodd\" fill-opacity=\"1\" stroke=\"#000000\" stroke-opacity=\"1\" stroke-width=\"3.2\"/>\n",
       "<circle clip-path=\"url(#clip572)\" cx=\"758.308\" cy=\"111.472\" r=\"14\" fill=\"#009af9\" fill-rule=\"evenodd\" fill-opacity=\"1\" stroke=\"#000000\" stroke-opacity=\"1\" stroke-width=\"3.2\"/>\n",
       "<circle clip-path=\"url(#clip572)\" cx=\"790.921\" cy=\"110.47\" r=\"14\" fill=\"#009af9\" fill-rule=\"evenodd\" fill-opacity=\"1\" stroke=\"#000000\" stroke-opacity=\"1\" stroke-width=\"3.2\"/>\n",
       "<circle clip-path=\"url(#clip572)\" cx=\"823.534\" cy=\"111.496\" r=\"14\" fill=\"#009af9\" fill-rule=\"evenodd\" fill-opacity=\"1\" stroke=\"#000000\" stroke-opacity=\"1\" stroke-width=\"3.2\"/>\n",
       "<circle clip-path=\"url(#clip572)\" cx=\"856.147\" cy=\"1436.47\" r=\"14\" fill=\"#009af9\" fill-rule=\"evenodd\" fill-opacity=\"1\" stroke=\"#000000\" stroke-opacity=\"1\" stroke-width=\"3.2\"/>\n",
       "<circle clip-path=\"url(#clip572)\" cx=\"888.76\" cy=\"1436.91\" r=\"14\" fill=\"#009af9\" fill-rule=\"evenodd\" fill-opacity=\"1\" stroke=\"#000000\" stroke-opacity=\"1\" stroke-width=\"3.2\"/>\n",
       "<circle clip-path=\"url(#clip572)\" cx=\"921.373\" cy=\"114.997\" r=\"14\" fill=\"#009af9\" fill-rule=\"evenodd\" fill-opacity=\"1\" stroke=\"#000000\" stroke-opacity=\"1\" stroke-width=\"3.2\"/>\n",
       "<circle clip-path=\"url(#clip572)\" cx=\"953.986\" cy=\"109.745\" r=\"14\" fill=\"#009af9\" fill-rule=\"evenodd\" fill-opacity=\"1\" stroke=\"#000000\" stroke-opacity=\"1\" stroke-width=\"3.2\"/>\n",
       "<circle clip-path=\"url(#clip572)\" cx=\"986.599\" cy=\"1427.79\" r=\"14\" fill=\"#009af9\" fill-rule=\"evenodd\" fill-opacity=\"1\" stroke=\"#000000\" stroke-opacity=\"1\" stroke-width=\"3.2\"/>\n",
       "<circle clip-path=\"url(#clip572)\" cx=\"1019.21\" cy=\"112.308\" r=\"14\" fill=\"#009af9\" fill-rule=\"evenodd\" fill-opacity=\"1\" stroke=\"#000000\" stroke-opacity=\"1\" stroke-width=\"3.2\"/>\n",
       "<circle clip-path=\"url(#clip572)\" cx=\"1051.82\" cy=\"1427.68\" r=\"14\" fill=\"#009af9\" fill-rule=\"evenodd\" fill-opacity=\"1\" stroke=\"#000000\" stroke-opacity=\"1\" stroke-width=\"3.2\"/>\n",
       "<circle clip-path=\"url(#clip572)\" cx=\"1084.44\" cy=\"1427.17\" r=\"14\" fill=\"#009af9\" fill-rule=\"evenodd\" fill-opacity=\"1\" stroke=\"#000000\" stroke-opacity=\"1\" stroke-width=\"3.2\"/>\n",
       "<circle clip-path=\"url(#clip572)\" cx=\"1117.05\" cy=\"1424.06\" r=\"14\" fill=\"#009af9\" fill-rule=\"evenodd\" fill-opacity=\"1\" stroke=\"#000000\" stroke-opacity=\"1\" stroke-width=\"3.2\"/>\n",
       "<circle clip-path=\"url(#clip572)\" cx=\"1149.66\" cy=\"1436.18\" r=\"14\" fill=\"#009af9\" fill-rule=\"evenodd\" fill-opacity=\"1\" stroke=\"#000000\" stroke-opacity=\"1\" stroke-width=\"3.2\"/>\n",
       "<circle clip-path=\"url(#clip572)\" cx=\"1182.28\" cy=\"109.454\" r=\"14\" fill=\"#009af9\" fill-rule=\"evenodd\" fill-opacity=\"1\" stroke=\"#000000\" stroke-opacity=\"1\" stroke-width=\"3.2\"/>\n",
       "<circle clip-path=\"url(#clip572)\" cx=\"1214.89\" cy=\"1428.03\" r=\"14\" fill=\"#009af9\" fill-rule=\"evenodd\" fill-opacity=\"1\" stroke=\"#000000\" stroke-opacity=\"1\" stroke-width=\"3.2\"/>\n",
       "<circle clip-path=\"url(#clip572)\" cx=\"1247.5\" cy=\"108.763\" r=\"14\" fill=\"#009af9\" fill-rule=\"evenodd\" fill-opacity=\"1\" stroke=\"#000000\" stroke-opacity=\"1\" stroke-width=\"3.2\"/>\n",
       "<circle clip-path=\"url(#clip572)\" cx=\"1280.12\" cy=\"108.813\" r=\"14\" fill=\"#009af9\" fill-rule=\"evenodd\" fill-opacity=\"1\" stroke=\"#000000\" stroke-opacity=\"1\" stroke-width=\"3.2\"/>\n",
       "<circle clip-path=\"url(#clip572)\" cx=\"1312.73\" cy=\"1445.72\" r=\"14\" fill=\"#009af9\" fill-rule=\"evenodd\" fill-opacity=\"1\" stroke=\"#000000\" stroke-opacity=\"1\" stroke-width=\"3.2\"/>\n",
       "<circle clip-path=\"url(#clip572)\" cx=\"1345.34\" cy=\"102.347\" r=\"14\" fill=\"#009af9\" fill-rule=\"evenodd\" fill-opacity=\"1\" stroke=\"#000000\" stroke-opacity=\"1\" stroke-width=\"3.2\"/>\n",
       "<circle clip-path=\"url(#clip572)\" cx=\"1377.95\" cy=\"110.675\" r=\"14\" fill=\"#009af9\" fill-rule=\"evenodd\" fill-opacity=\"1\" stroke=\"#000000\" stroke-opacity=\"1\" stroke-width=\"3.2\"/>\n",
       "<circle clip-path=\"url(#clip572)\" cx=\"1410.57\" cy=\"1422.11\" r=\"14\" fill=\"#009af9\" fill-rule=\"evenodd\" fill-opacity=\"1\" stroke=\"#000000\" stroke-opacity=\"1\" stroke-width=\"3.2\"/>\n",
       "<circle clip-path=\"url(#clip572)\" cx=\"1443.18\" cy=\"1423.69\" r=\"14\" fill=\"#009af9\" fill-rule=\"evenodd\" fill-opacity=\"1\" stroke=\"#000000\" stroke-opacity=\"1\" stroke-width=\"3.2\"/>\n",
       "<circle clip-path=\"url(#clip572)\" cx=\"1475.79\" cy=\"1427.95\" r=\"14\" fill=\"#009af9\" fill-rule=\"evenodd\" fill-opacity=\"1\" stroke=\"#000000\" stroke-opacity=\"1\" stroke-width=\"3.2\"/>\n",
       "<circle clip-path=\"url(#clip572)\" cx=\"1508.41\" cy=\"1435.85\" r=\"14\" fill=\"#009af9\" fill-rule=\"evenodd\" fill-opacity=\"1\" stroke=\"#000000\" stroke-opacity=\"1\" stroke-width=\"3.2\"/>\n",
       "<circle clip-path=\"url(#clip572)\" cx=\"1541.02\" cy=\"114.727\" r=\"14\" fill=\"#009af9\" fill-rule=\"evenodd\" fill-opacity=\"1\" stroke=\"#000000\" stroke-opacity=\"1\" stroke-width=\"3.2\"/>\n",
       "<circle clip-path=\"url(#clip572)\" cx=\"1573.63\" cy=\"101.989\" r=\"14\" fill=\"#009af9\" fill-rule=\"evenodd\" fill-opacity=\"1\" stroke=\"#000000\" stroke-opacity=\"1\" stroke-width=\"3.2\"/>\n",
       "<circle clip-path=\"url(#clip572)\" cx=\"1606.25\" cy=\"1436.82\" r=\"14\" fill=\"#009af9\" fill-rule=\"evenodd\" fill-opacity=\"1\" stroke=\"#000000\" stroke-opacity=\"1\" stroke-width=\"3.2\"/>\n",
       "<circle clip-path=\"url(#clip572)\" cx=\"1638.86\" cy=\"1428.28\" r=\"14\" fill=\"#009af9\" fill-rule=\"evenodd\" fill-opacity=\"1\" stroke=\"#000000\" stroke-opacity=\"1\" stroke-width=\"3.2\"/>\n",
       "<circle clip-path=\"url(#clip572)\" cx=\"1671.47\" cy=\"1427.88\" r=\"14\" fill=\"#009af9\" fill-rule=\"evenodd\" fill-opacity=\"1\" stroke=\"#000000\" stroke-opacity=\"1\" stroke-width=\"3.2\"/>\n",
       "<circle clip-path=\"url(#clip572)\" cx=\"1704.08\" cy=\"1424.16\" r=\"14\" fill=\"#009af9\" fill-rule=\"evenodd\" fill-opacity=\"1\" stroke=\"#000000\" stroke-opacity=\"1\" stroke-width=\"3.2\"/>\n",
       "<circle clip-path=\"url(#clip572)\" cx=\"1736.7\" cy=\"1427.49\" r=\"14\" fill=\"#009af9\" fill-rule=\"evenodd\" fill-opacity=\"1\" stroke=\"#000000\" stroke-opacity=\"1\" stroke-width=\"3.2\"/>\n",
       "<circle clip-path=\"url(#clip572)\" cx=\"1769.31\" cy=\"103.18\" r=\"14\" fill=\"#009af9\" fill-rule=\"evenodd\" fill-opacity=\"1\" stroke=\"#000000\" stroke-opacity=\"1\" stroke-width=\"3.2\"/>\n",
       "<circle clip-path=\"url(#clip572)\" cx=\"1801.92\" cy=\"1428.63\" r=\"14\" fill=\"#009af9\" fill-rule=\"evenodd\" fill-opacity=\"1\" stroke=\"#000000\" stroke-opacity=\"1\" stroke-width=\"3.2\"/>\n",
       "<circle clip-path=\"url(#clip572)\" cx=\"1834.54\" cy=\"1428.51\" r=\"14\" fill=\"#009af9\" fill-rule=\"evenodd\" fill-opacity=\"1\" stroke=\"#000000\" stroke-opacity=\"1\" stroke-width=\"3.2\"/>\n",
       "<circle clip-path=\"url(#clip572)\" cx=\"1867.15\" cy=\"1427.44\" r=\"14\" fill=\"#009af9\" fill-rule=\"evenodd\" fill-opacity=\"1\" stroke=\"#000000\" stroke-opacity=\"1\" stroke-width=\"3.2\"/>\n",
       "<circle clip-path=\"url(#clip572)\" cx=\"1899.76\" cy=\"1445.71\" r=\"14\" fill=\"#009af9\" fill-rule=\"evenodd\" fill-opacity=\"1\" stroke=\"#000000\" stroke-opacity=\"1\" stroke-width=\"3.2\"/>\n",
       "<circle clip-path=\"url(#clip572)\" cx=\"1932.37\" cy=\"110.413\" r=\"14\" fill=\"#009af9\" fill-rule=\"evenodd\" fill-opacity=\"1\" stroke=\"#000000\" stroke-opacity=\"1\" stroke-width=\"3.2\"/>\n",
       "<circle clip-path=\"url(#clip572)\" cx=\"1964.99\" cy=\"1427.95\" r=\"14\" fill=\"#009af9\" fill-rule=\"evenodd\" fill-opacity=\"1\" stroke=\"#000000\" stroke-opacity=\"1\" stroke-width=\"3.2\"/>\n",
       "<circle clip-path=\"url(#clip572)\" cx=\"1997.6\" cy=\"1425.5\" r=\"14\" fill=\"#009af9\" fill-rule=\"evenodd\" fill-opacity=\"1\" stroke=\"#000000\" stroke-opacity=\"1\" stroke-width=\"3.2\"/>\n",
       "<circle clip-path=\"url(#clip572)\" cx=\"2030.21\" cy=\"1428.12\" r=\"14\" fill=\"#009af9\" fill-rule=\"evenodd\" fill-opacity=\"1\" stroke=\"#000000\" stroke-opacity=\"1\" stroke-width=\"3.2\"/>\n",
       "<circle clip-path=\"url(#clip572)\" cx=\"2062.83\" cy=\"109.247\" r=\"14\" fill=\"#009af9\" fill-rule=\"evenodd\" fill-opacity=\"1\" stroke=\"#000000\" stroke-opacity=\"1\" stroke-width=\"3.2\"/>\n",
       "<circle clip-path=\"url(#clip572)\" cx=\"2095.44\" cy=\"111.132\" r=\"14\" fill=\"#009af9\" fill-rule=\"evenodd\" fill-opacity=\"1\" stroke=\"#000000\" stroke-opacity=\"1\" stroke-width=\"3.2\"/>\n",
       "<circle clip-path=\"url(#clip572)\" cx=\"2128.05\" cy=\"112.313\" r=\"14\" fill=\"#009af9\" fill-rule=\"evenodd\" fill-opacity=\"1\" stroke=\"#000000\" stroke-opacity=\"1\" stroke-width=\"3.2\"/>\n",
       "<circle clip-path=\"url(#clip572)\" cx=\"2160.67\" cy=\"110.811\" r=\"14\" fill=\"#009af9\" fill-rule=\"evenodd\" fill-opacity=\"1\" stroke=\"#000000\" stroke-opacity=\"1\" stroke-width=\"3.2\"/>\n",
       "<circle clip-path=\"url(#clip572)\" cx=\"2193.28\" cy=\"1427.95\" r=\"14\" fill=\"#009af9\" fill-rule=\"evenodd\" fill-opacity=\"1\" stroke=\"#000000\" stroke-opacity=\"1\" stroke-width=\"3.2\"/>\n",
       "<circle clip-path=\"url(#clip572)\" cx=\"2225.89\" cy=\"1425.45\" r=\"14\" fill=\"#009af9\" fill-rule=\"evenodd\" fill-opacity=\"1\" stroke=\"#000000\" stroke-opacity=\"1\" stroke-width=\"3.2\"/>\n",
       "<circle clip-path=\"url(#clip572)\" cx=\"2258.5\" cy=\"102.45\" r=\"14\" fill=\"#009af9\" fill-rule=\"evenodd\" fill-opacity=\"1\" stroke=\"#000000\" stroke-opacity=\"1\" stroke-width=\"3.2\"/>\n",
       "<circle clip-path=\"url(#clip572)\" cx=\"2291.12\" cy=\"1428.24\" r=\"14\" fill=\"#009af9\" fill-rule=\"evenodd\" fill-opacity=\"1\" stroke=\"#000000\" stroke-opacity=\"1\" stroke-width=\"3.2\"/>\n",
       "<polyline clip-path=\"url(#clip572)\" style=\"stroke:#e26f46; stroke-width:4; stroke-opacity:1; fill:none\" points=\"\n",
       "  236.501,1445.72 269.113,87.9763 301.726,1445.72 334.339,87.9763 366.952,87.9763 399.565,87.9763 432.178,87.9763 464.791,87.9763 497.404,1445.72 530.017,87.9763 \n",
       "  562.63,87.9763 595.243,1445.72 627.856,87.9763 660.469,1445.72 693.082,87.9763 725.695,87.9763 758.308,87.9763 790.921,87.9763 823.534,87.9763 856.147,1445.72 \n",
       "  888.76,1445.72 921.373,87.9763 953.986,87.9763 986.599,1445.72 1019.21,87.9763 1051.82,1445.72 1084.44,1445.72 1117.05,1445.72 1149.66,1445.72 1182.28,87.9763 \n",
       "  1214.89,1445.72 1247.5,87.9763 1280.12,87.9763 1312.73,87.9763 1345.34,87.9763 1377.95,87.9763 1410.57,1445.72 1443.18,1445.72 1475.79,1445.72 1508.41,1445.72 \n",
       "  1541.02,87.9763 1573.63,87.9763 1606.25,1445.72 1638.86,1445.72 1671.47,1445.72 1704.08,1445.72 1736.7,1445.72 1769.31,87.9763 1801.92,1445.72 1834.54,1445.72 \n",
       "  1867.15,1445.72 1899.76,87.9763 1932.37,87.9763 1964.99,1445.72 1997.6,1445.72 2030.21,1445.72 2062.83,87.9763 2095.44,87.9763 2128.05,87.9763 2160.67,87.9763 \n",
       "  2193.28,1445.72 2225.89,1445.72 2258.5,87.9763 2291.12,1445.72 \n",
       "  \"/>\n",
       "<path clip-path=\"url(#clip570)\" d=\"\n",
       "M1987.15 276.658 L2280.16 276.658 L2280.16 95.2176 L1987.15 95.2176  Z\n",
       "  \" fill=\"#ffffff\" fill-rule=\"evenodd\" fill-opacity=\"1\"/>\n",
       "<polyline clip-path=\"url(#clip570)\" style=\"stroke:#000000; stroke-width:4; stroke-opacity:1; fill:none\" points=\"\n",
       "  1987.15,276.658 2280.16,276.658 2280.16,95.2176 1987.15,95.2176 1987.15,276.658 \n",
       "  \"/>\n",
       "<circle clip-path=\"url(#clip570)\" cx=\"2083.95\" cy=\"155.698\" r=\"23\" fill=\"#009af9\" fill-rule=\"evenodd\" fill-opacity=\"1\" stroke=\"#000000\" stroke-opacity=\"1\" stroke-width=\"5.12\"/>\n",
       "<path clip-path=\"url(#clip570)\" d=\"M 0 0 M2194.59 175.385 Q2192.78 180.015 2191.07 181.427 Q2189.35 182.839 2186.48 182.839 L2183.08 182.839 L2183.08 179.274 L2185.58 179.274 Q2187.34 179.274 2188.31 178.44 Q2189.29 177.607 2190.47 174.505 L2191.23 172.561 L2180.74 147.052 L2185.26 147.052 L2193.36 167.329 L2201.46 147.052 L2205.97 147.052 L2194.59 175.385 Z\" fill=\"#000000\" fill-rule=\"evenodd\" fill-opacity=\"1\" /><path clip-path=\"url(#clip570)\" d=\"M 0 0 M2211.85 169.042 L2219.49 169.042 L2219.49 142.677 L2211.18 144.343 L2211.18 140.084 L2219.45 138.418 L2224.12 138.418 L2224.12 169.042 L2231.76 169.042 L2231.76 172.978 L2211.85 172.978 L2211.85 169.042 Z\" fill=\"#000000\" fill-rule=\"evenodd\" fill-opacity=\"1\" /><polyline clip-path=\"url(#clip570)\" style=\"stroke:#e26f46; stroke-width:4; stroke-opacity:1; fill:none\" points=\"\n",
       "  2011.35,216.178 2156.54,216.178 \n",
       "  \"/>\n",
       "<path clip-path=\"url(#clip570)\" d=\"M 0 0 M2194.59 235.865 Q2192.78 240.495 2191.07 241.907 Q2189.35 243.319 2186.48 243.319 L2183.08 243.319 L2183.08 239.754 L2185.58 239.754 Q2187.34 239.754 2188.31 238.92 Q2189.29 238.087 2190.47 234.985 L2191.23 233.041 L2180.74 207.532 L2185.26 207.532 L2193.36 227.809 L2201.46 207.532 L2205.97 207.532 L2194.59 235.865 Z\" fill=\"#000000\" fill-rule=\"evenodd\" fill-opacity=\"1\" /><path clip-path=\"url(#clip570)\" d=\"M 0 0 M2215.07 229.522 L2231.39 229.522 L2231.39 233.458 L2209.45 233.458 L2209.45 229.522 Q2212.11 226.768 2216.69 222.138 Q2221.3 217.485 2222.48 216.143 Q2224.72 213.62 2225.6 211.884 Q2226.51 210.124 2226.51 208.435 Q2226.51 205.68 2224.56 203.944 Q2222.64 202.208 2219.54 202.208 Q2217.34 202.208 2214.89 202.972 Q2212.46 203.735 2209.68 205.286 L2209.68 200.564 Q2212.5 199.43 2214.96 198.851 Q2217.41 198.273 2219.45 198.273 Q2224.82 198.273 2228.01 200.958 Q2231.21 203.643 2231.21 208.134 Q2231.21 210.263 2230.4 212.185 Q2229.61 214.083 2227.5 216.675 Q2226.92 217.347 2223.82 220.564 Q2220.72 223.759 2215.07 229.522 Z\" fill=\"#000000\" fill-rule=\"evenodd\" fill-opacity=\"1\" /></svg>\n"
      ]
     },
     "execution_count": 9,
     "metadata": {},
     "output_type": "execute_result"
    }
   ],
   "source": [
    "np=min(ntest,64)\n",
    "scatter(pred(w,b,xtst)[1:np]\n",
    "#    ,xlim=(0,np)\n",
    ")\n",
    "plot!(ytst[1:np])"
   ]
  },
  {
   "cell_type": "code",
   "execution_count": 10,
   "metadata": {},
   "outputs": [
    {
     "data": {
      "text/plain": [
       "([0 0 … 1 1; 0 0 … 1 1; … ; 0 1 … 1 1; 1 0 … 0 1], [1 1 … 1 0], [1 0 … 0 1; 0 1 … 0 0; … ; 1 1 … 0 1; 1 0 … 1 0], [1 0 … 1 1])"
      ]
     },
     "execution_count": 10,
     "metadata": {},
     "output_type": "execute_result"
    }
   ],
   "source": [
    "# accuracy\n",
    "function acc(x,y)\n",
    "    cnt = 0\n",
    "    tot = length(x[1,:])\n",
    "    for i=1:tot-1\n",
    "        chk = (pred(w,b,x[:,i])[1] - y[i][1])^2\n",
    "        if (chk < 0.5)\n",
    "            cnt += 1\n",
    "        end\n",
    "    end\n",
    "    return 1.0*cnt/tot\n",
    "end\n",
    "\n",
    "trainidx, testidx = mlp.gen_data(n, ntest)\n",
    "xtrn, ytrn, xtst, ytst = mlp.split_data(trainidx, testidx, n, ntest)"
   ]
  },
  {
   "cell_type": "code",
   "execution_count": 11,
   "metadata": {},
   "outputs": [
    {
     "data": {
      "text/plain": [
       "(0.9662294166899247, 0.970703125)"
      ]
     },
     "execution_count": 11,
     "metadata": {},
     "output_type": "execute_result"
    }
   ],
   "source": [
    "acc(xtrn,ytrn),acc(xtst,ytst)"
   ]
  },
  {
   "cell_type": "code",
   "execution_count": 12,
   "metadata": {},
   "outputs": [
    {
     "data": {
      "text/plain": [
       "(0.9670248395199557, 0.96515625)"
      ]
     },
     "execution_count": 12,
     "metadata": {},
     "output_type": "execute_result"
    }
   ],
   "source": [
    "sumtrn = 0.0; sumtst = 0.0\n",
    "\n",
    "for i=1:100\n",
    "    trainidx, testidx = mlp.gen_data(n, ntest)\n",
    "    xtrn, ytrn, xtst, ytst = mlp.split_data(trainidx, testidx, n, ntest)\n",
    "    sumtrn += acc(xtrn,ytrn); sumtst += acc(xtst,ytst)\n",
    "end\n",
    "\n",
    "(sumtrn/100,sumtst/100) "
   ]
  },
  {
   "cell_type": "code",
   "execution_count": null,
   "metadata": {},
   "outputs": [],
   "source": []
  }
 ],
 "metadata": {
  "kernelspec": {
   "display_name": "Julia 1.5.3",
   "language": "julia",
   "name": "julia-1.5"
  },
  "language_info": {
   "file_extension": ".jl",
   "mimetype": "application/julia",
   "name": "julia",
   "version": "1.5.3"
  }
 },
 "nbformat": 4,
 "nbformat_minor": 4
}
