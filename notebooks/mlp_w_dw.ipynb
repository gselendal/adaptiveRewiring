{
 "cells": [
  {
   "cell_type": "code",
   "execution_count": 1,
   "metadata": {},
   "outputs": [
    {
     "name": "stderr",
     "output_type": "stream",
     "text": [
      "WARNING: replacing module rewiring.\n",
      "WARNING: replacing module metrics.\n",
      "WARNING: replacing module utils.\n"
     ]
    }
   ],
   "source": [
    "using Revise\n",
    "includet(\"../codebase/mlp.jl\")\n",
    "includet(\"../codebase/rewiring.jl\")\n",
    "using Knet, Plots, Statistics, LinearAlgebra, Random, .mlp"
   ]
  },
  {
   "cell_type": "code",
   "execution_count": 313,
   "metadata": {},
   "outputs": [
    {
     "data": {
      "text/plain": [
       "0.0"
      ]
     },
     "execution_count": 313,
     "metadata": {},
     "output_type": "execute_result"
    }
   ],
   "source": [
    "n = 12 # length of input bit array\n",
    "xdim = n\n",
    "h1=h2=h3=2*n # hidden layer sizes\n",
    "ydim = 1 # output is the probability for even parity\n",
    "nbatch = 100 # number of bit strings presented at each iteration\n",
    "ntest = div(2^n,8) # keep 1/8-th as test set\n",
    "niter = 9*10^4 # number of training iterations\n",
    "LR = 0.1\n",
    "p = 0.0"
   ]
  },
  {
   "cell_type": "code",
   "execution_count": 314,
   "metadata": {},
   "outputs": [
    {
     "data": {
      "text/plain": [
       "(12, 24, 24, 24, 1)"
      ]
     },
     "execution_count": 314,
     "metadata": {},
     "output_type": "execute_result"
    }
   ],
   "source": [
    "# NN parameters\n",
    "w1 = Param(randn(h1,xdim))\n",
    "b1 = Param(randn(h1))\n",
    "w2 = Param(randn(h2,h1))\n",
    "b2 = Param(randn(h2))\n",
    "w3 = Param(randn(h3,h2))\n",
    "b3 = Param(randn(h3))\n",
    "w4 = Param(randn(1,h3))\n",
    "b4 = Param(randn(1))\n",
    "w = (w1,w2,w3,w4)\n",
    "b = (b1,b2,b3,b4)\n",
    "layer_dims = (xdim, h1, h2, h3, ydim)"
   ]
  },
  {
   "cell_type": "code",
   "execution_count": 315,
   "metadata": {},
   "outputs": [
    {
     "name": "stdout",
     "output_type": "stream",
     "text": [
      "Sparsity of layer#1 0.2708333333333333\n",
      "Sparsity of layer#2 0.3611111111111111\n",
      "Sparsity of layer#3 0.3142361111111111\n",
      "Sparsity of layer#4 0.5\n"
     ]
    }
   ],
   "source": [
    "for i=1:length(w)\n",
    "    s1 = size(w[i],1) \n",
    "    s2 = size(w[i],2) \n",
    "    w[i] .*= abs.(rand(1:3,s1, s2).-2) # generates another matrix with same dimensions including either\n",
    "                                                       # 0 or 1 as elements with ~1:2 ratio, multiplies with w[i]\n",
    "                                                        # deletes overall 1/3\n",
    "    \n",
    "    println(\"Sparsity of layer#\", i, \" \", sum(map(i -> i == 0.0 ? 1 : 0,w[i]))/(s1*s2))\n",
    "end\n"
   ]
  },
  {
   "cell_type": "code",
   "execution_count": 316,
   "metadata": {},
   "outputs": [
    {
     "data": {
      "text/plain": [
       "([1, 2, 3, 4, 5, 6, 7, 8, 9, 11  …  4084, 4085, 4086, 4087, 4088, 4089, 4092, 4093, 4094, 4095], [3632, 1555, 909, 2752, 3846, 3471, 2122, 3416, 186, 1157  …  3287, 815, 2335, 2626, 1669, 3312, 2508, 3835, 3579, 3638])"
      ]
     },
     "execution_count": 316,
     "metadata": {},
     "output_type": "execute_result"
    }
   ],
   "source": [
    "# training and test set, a different subset is selected every 1000 iterations in training\n",
    "trainidx, testidx = mlp.gen_data(n, ntest)"
   ]
  },
  {
   "cell_type": "code",
   "execution_count": null,
   "metadata": {},
   "outputs": [
    {
     "name": "stderr",
     "output_type": "stream",
     "text": [
      "┣                    ┫ [0.00%, 1/90000, 00:00/00:00, 282326.37i/s] "
     ]
    },
    {
     "name": "stdout",
     "output_type": "stream",
     "text": [
      "Rewiring: non-head (22,45) with head (25, 45)\n"
     ]
    },
    {
     "name": "stderr",
     "output_type": "stream",
     "text": [
      "┣▎                   ┫ [1.42%, 1280/90000, 00:01/01:10, 1278.71i/s] "
     ]
    },
    {
     "name": "stdout",
     "output_type": "stream",
     "text": [
      "Rewiring: non-head (46,77) with head (38, 77)\n"
     ]
    },
    {
     "name": "stderr",
     "output_type": "stream",
     "text": [
      "┣█▎                  ┫ [6.34%, 5707/90000, 00:04/01:03, 1437.88i/s] "
     ]
    },
    {
     "name": "stdout",
     "output_type": "stream",
     "text": [
      "Loss increasing\n"
     ]
    },
    {
     "name": "stderr",
     "output_type": "stream",
     "text": [
      "┣██▍                 ┫ [12.33%, 11098/90000, 00:08/01:05, 1463.78i/s] "
     ]
    },
    {
     "name": "stdout",
     "output_type": "stream",
     "text": [
      "Rewiring: non-head (46,82) with head (56, 82)\n"
     ]
    },
    {
     "name": "stderr",
     "output_type": "stream",
     "text": [
      "┣██▊                 ┫ [13.84%, 12452/90000, 00:09/01:06, 1353.26i/s] "
     ]
    },
    {
     "name": "stdout",
     "output_type": "stream",
     "text": [
      "Rewiring: non-head (46,62) with head (60, 62)\n"
     ]
    },
    {
     "name": "stderr",
     "output_type": "stream",
     "text": [
      "┣███▍                ┫ [17.05%, 15344/90000, 00:11/01:05, 1460.34i/s] "
     ]
    },
    {
     "name": "stdout",
     "output_type": "stream",
     "text": [
      "Loss increasing\n"
     ]
    },
    {
     "name": "stderr",
     "output_type": "stream",
     "text": [
      "┣███▉                ┫ [19.83%, 17848/90000, 00:13/01:06, 1141.21i/s] "
     ]
    },
    {
     "name": "stdout",
     "output_type": "stream",
     "text": [
      "Rewiring: non-head (20,60) with head (28, 60)\n",
      "Loss increasing\n"
     ]
    },
    {
     "name": "stderr",
     "output_type": "stream",
     "text": [
      "┣████▏               ┫ [21.16%, 19043/90000, 00:14/01:07, 1194.81i/s] "
     ]
    },
    {
     "name": "stdout",
     "output_type": "stream",
     "text": [
      "Rewiring: non-head (46,76) with head (56, 76)\n"
     ]
    },
    {
     "name": "stderr",
     "output_type": "stream",
     "text": [
      "┣██████▍             ┫ [31.88%, 28692/90000, 00:21/01:06, 1468.56i/s] "
     ]
    },
    {
     "name": "stdout",
     "output_type": "stream",
     "text": [
      "Loss increasing\n"
     ]
    },
    {
     "name": "stderr",
     "output_type": "stream",
     "text": [
      "┣██████▋             ┫ [33.46%, 30118/90000, 00:22/01:06, 1425.30i/s] "
     ]
    },
    {
     "name": "stdout",
     "output_type": "stream",
     "text": [
      "Loss increasing\n"
     ]
    },
    {
     "name": "stderr",
     "output_type": "stream",
     "text": [
      "┣██████▉             ┫ [34.97%, 31474/90000, 00:23/01:06, 1355.33i/s] "
     ]
    },
    {
     "name": "stdout",
     "output_type": "stream",
     "text": [
      "Rewiring: non-head (18,56) with head (26, 56)\n"
     ]
    },
    {
     "name": "stderr",
     "output_type": "stream",
     "text": [
      "┣███████▎            ┫ [36.40%, 32764/90000, 00:24/01:06, 1289.57i/s] "
     ]
    },
    {
     "name": "stdout",
     "output_type": "stream",
     "text": [
      "Rewiring: non-head (18,46) with head (21, 46)\n",
      "Loss increasing\n",
      "Loss increasing\n"
     ]
    },
    {
     "name": "stderr",
     "output_type": "stream",
     "text": [
      "┣███████▌            ┫ [37.95%, 34152/90000, 00:25/01:06, 1366.21i/s] "
     ]
    },
    {
     "name": "stdout",
     "output_type": "stream",
     "text": [
      "Loss increasing\n"
     ]
    },
    {
     "name": "stderr",
     "output_type": "stream",
     "text": [
      "┣████████▏           ┫ [40.97%, 36877/90000, 00:27/01:06, 1282.74i/s] "
     ]
    },
    {
     "name": "stdout",
     "output_type": "stream",
     "text": [
      "Loss increasing\n"
     ]
    },
    {
     "name": "stderr",
     "output_type": "stream",
     "text": [
      "┣████████▌           ┫ [42.66%, 38392/90000, 00:28/01:06, 1514.60i/s] "
     ]
    },
    {
     "name": "stdout",
     "output_type": "stream",
     "text": [
      "Rewiring: non-head (12,18) with head (6, 18)\n"
     ]
    },
    {
     "name": "stderr",
     "output_type": "stream",
     "text": [
      "┣████████▊           ┫ [44.14%, 39729/90000, 00:29/01:06, 1336.65i/s] "
     ]
    },
    {
     "name": "stdout",
     "output_type": "stream",
     "text": [
      "Loss increasing\n",
      "Rewiring: non-head (18,42) with head (34, 42)\n",
      "Loss increasing\n"
     ]
    },
    {
     "name": "stderr",
     "output_type": "stream",
     "text": [
      "┣█████████▏          ┫ [45.70%, 41127/90000, 00:30/01:06, 1365.34i/s] "
     ]
    },
    {
     "name": "stdout",
     "output_type": "stream",
     "text": [
      "Loss increasing\n"
     ]
    },
    {
     "name": "stderr",
     "output_type": "stream",
     "text": [
      "┣█████████▍          ┫ [47.39%, 42650/90000, 00:31/01:06, 1522.55i/s] "
     ]
    },
    {
     "name": "stdout",
     "output_type": "stream",
     "text": [
      "Loss increasing\n"
     ]
    },
    {
     "name": "stderr",
     "output_type": "stream",
     "text": [
      "┣█████████▊          ┫ [48.93%, 44036/90000, 00:32/01:06, 1385.39i/s] "
     ]
    },
    {
     "name": "stdout",
     "output_type": "stream",
     "text": [
      "Loss increasing\n"
     ]
    },
    {
     "name": "stderr",
     "output_type": "stream",
     "text": [
      "┣██████████          ┫ [50.49%, 45437/90000, 00:33/01:06, 1400.88i/s] "
     ]
    },
    {
     "name": "stdout",
     "output_type": "stream",
     "text": [
      "Rewiring: non-head (18,44) with head (19, 44)\n"
     ]
    },
    {
     "name": "stderr",
     "output_type": "stream",
     "text": [
      "┣██████████▋         ┫ [53.50%, 48147/90000, 00:35/01:06, 1243.79i/s] "
     ]
    },
    {
     "name": "stdout",
     "output_type": "stream",
     "text": [
      "Rewiring: non-head (18,40) with head (22, 40)\n"
     ]
    },
    {
     "name": "stderr",
     "output_type": "stream",
     "text": [
      "┣███████████▎        ┫ [56.54%, 50883/90000, 00:37/01:06, 1312.54i/s] "
     ]
    },
    {
     "name": "stdout",
     "output_type": "stream",
     "text": [
      "Rewiring: non-head (18,47) with head (27, 47)\n",
      "Rewiring: non-head (22,56) with head (18, 56)\n"
     ]
    },
    {
     "name": "stderr",
     "output_type": "stream",
     "text": [
      "┣███████████▌        ┫ [58.11%, 52297/90000, 00:38/01:06, 1413.20i/s] "
     ]
    },
    {
     "name": "stdout",
     "output_type": "stream",
     "text": [
      "Rewiring: non-head (18,55) with head (36, 55)\n"
     ]
    },
    {
     "name": "stderr",
     "output_type": "stream",
     "text": [
      "┣███████████▉        ┫ [59.60%, 53643/90000, 00:39/01:06, 1345.65i/s] "
     ]
    },
    {
     "name": "stdout",
     "output_type": "stream",
     "text": [
      "Loss increasing\n",
      "Rewiring: non-head (46,83) with head (60, 83)\n",
      "Loss increasing\n"
     ]
    },
    {
     "name": "stderr",
     "output_type": "stream",
     "text": [
      "┣████████████▏       ┫ [61.22%, 55097/90000, 00:40/01:06, 1375.41i/s] "
     ]
    },
    {
     "name": "stdout",
     "output_type": "stream",
     "text": [
      "Loss increasing\n"
     ]
    },
    {
     "name": "stderr",
     "output_type": "stream",
     "text": [
      "┣████████████▌       ┫ [62.90%, 56610/90000, 00:41/01:06, 1512.58i/s] "
     ]
    },
    {
     "name": "stdout",
     "output_type": "stream",
     "text": [
      "Loss increasing\n"
     ]
    },
    {
     "name": "stderr",
     "output_type": "stream",
     "text": [
      "┣████████████▉       ┫ [64.43%, 57988/90000, 00:42/01:06, 1377.38i/s] "
     ]
    },
    {
     "name": "stdout",
     "output_type": "stream",
     "text": [
      "Rewiring: non-head (18,56) with head (22, 56)\n"
     ]
    },
    {
     "name": "stderr",
     "output_type": "stream",
     "text": [
      "┣█████████████▌      ┫ [67.64%, 60879/90000, 00:44/01:05, 1467.46i/s] "
     ]
    },
    {
     "name": "stdout",
     "output_type": "stream",
     "text": [
      "Loss increasing\n"
     ]
    },
    {
     "name": "stderr",
     "output_type": "stream",
     "text": [
      "┣██████████████▏     ┫ [70.80%, 63724/90000, 00:46/01:05, 1357.48i/s] "
     ]
    },
    {
     "name": "stdout",
     "output_type": "stream",
     "text": [
      "Loss increasing\n"
     ]
    },
    {
     "name": "stderr",
     "output_type": "stream",
     "text": [
      "┣██████████████▊     ┫ [74.00%, 66596/90000, 00:48/01:05, 1445.88i/s] "
     ]
    },
    {
     "name": "stdout",
     "output_type": "stream",
     "text": [
      "Rewiring: non-head (18,57) with head (34, 57)\n",
      "Loss increasing\n"
     ]
    },
    {
     "name": "stderr",
     "output_type": "stream",
     "text": [
      "┣███████████████▍    ┫ [77.13%, 69414/90000, 00:50/01:05, 1384.84i/s] "
     ]
    },
    {
     "name": "stdout",
     "output_type": "stream",
     "text": [
      "Loss increasing\n"
     ]
    },
    {
     "name": "stderr",
     "output_type": "stream",
     "text": [
      "┣████████████████    ┫ [80.40%, 72364/90000, 00:52/01:05, 1433.60i/s] "
     ]
    }
   ],
   "source": [
    "losstrn = [0.0]\n",
    "losstst = [0.0]    \n",
    "losscheck = [Inf]\n",
    "xtrn, ytrn, xtst, ytst = mlp.split_data(trainidx, testidx, n, ntest)\n",
    "    \n",
    "for k in progress(1:niter)\n",
    "    dw = []\n",
    "    W = Param(rewiring.computeKernel(w, layer_dims))\n",
    "    \n",
    "    xin = genbatch(trainidx, n,nbatch, ntest)\n",
    "    yin = sum(xin,dims=1).%2\n",
    "    dl = @diff loss(w,b,xin,yin; λ= 0.0)\n",
    "    \n",
    "  \"\"\"  s = 1\n",
    "    for i=1:length(layer_dims)\n",
    "        W[s:s+layer_dims[i],:] .-=  LR * grad(dl,W[s:s+layer_dims[i],:]) \n",
    "        b[i] .-= LR *grad(dl,b[i])\n",
    "        s += layer_dims[i]\n",
    "    end\"\"\"\n",
    "    \n",
    "        for i=1:length(w)\n",
    "            w[i] .-= LR *grad(dl,w[i])\n",
    "            b[i] .-= LR *grad(dl,b[i])\n",
    "            push!(dw, grad(dl,w[i]))\n",
    "        end\n",
    "    \n",
    "    if (k%1000==1)\n",
    "        W = rewiring.computeKernel(w,layer_dims) #  adjacency  matrix of weights, 85x85\n",
    "        D = rewiring.computeKernel(dw,layer_dims) # dw values as a 85x85 matrix\n",
    "        W_wired = rewiring.rewireOutdegree(W, D, p, layer_dims)\n",
    "        w = rewiring.computeKernel_reverse(w, W_wired, layer_dims)\n",
    "\n",
    "            \n",
    "        xin = genbatch(trainidx, n,ntest, ntest) # training set samples with size equal to test set\n",
    "        yin = sum(xin,dims=1).%2 \n",
    "        push!(losstrn,loss(w,b,xin,yin; λ= 0.0)) # record loss over 1000 samples\n",
    "        push!(losstst,loss(w,b,xtst,ytst; λ= 0.0))\n",
    "            \n",
    "        if (losscheck[end]-losstrn[end]) < 0 \n",
    "            println(\"Loss increasing\")\n",
    "            w = rewiring.computeKernel_reverse(w, W, layer_dims)\n",
    "        else\n",
    "            push!(losscheck,loss(w,b,xtrn,ytrn; λ= 0.0)) # checkpoint loss when rewiring is accepted    \n",
    "        end\n",
    "    end    \n",
    "end"
   ]
  },
  {
   "cell_type": "code",
   "execution_count": null,
   "metadata": {},
   "outputs": [],
   "source": [
    "plot(losstrn[1:end])\n",
    "plot!(losstst[1:end]) "
   ]
  },
  {
   "cell_type": "code",
   "execution_count": 302,
   "metadata": {},
   "outputs": [
    {
     "data": {
      "image/svg+xml": [
       "<?xml version=\"1.0\" encoding=\"utf-8\"?>\n",
       "<svg xmlns=\"http://www.w3.org/2000/svg\" xmlns:xlink=\"http://www.w3.org/1999/xlink\" width=\"600\" height=\"400\" viewBox=\"0 0 2400 1600\">\n",
       "<defs>\n",
       "  <clipPath id=\"clip550\">\n",
       "    <rect x=\"0\" y=\"0\" width=\"2400\" height=\"1600\"/>\n",
       "  </clipPath>\n",
       "</defs>\n",
       "<path clip-path=\"url(#clip550)\" d=\"\n",
       "M0 1600 L2400 1600 L2400 0 L0 0  Z\n",
       "  \" fill=\"#ffffff\" fill-rule=\"evenodd\" fill-opacity=\"1\"/>\n",
       "<defs>\n",
       "  <clipPath id=\"clip551\">\n",
       "    <rect x=\"480\" y=\"0\" width=\"1681\" height=\"1600\"/>\n",
       "  </clipPath>\n",
       "</defs>\n",
       "<path clip-path=\"url(#clip550)\" d=\"\n",
       "M174.862 1486.45 L2352.76 1486.45 L2352.76 47.2441 L174.862 47.2441  Z\n",
       "  \" fill=\"#ffffff\" fill-rule=\"evenodd\" fill-opacity=\"1\"/>\n",
       "<defs>\n",
       "  <clipPath id=\"clip552\">\n",
       "    <rect x=\"174\" y=\"47\" width=\"2179\" height=\"1440\"/>\n",
       "  </clipPath>\n",
       "</defs>\n",
       "<polyline clip-path=\"url(#clip552)\" style=\"stroke:#000000; stroke-width:2; stroke-opacity:0.1; fill:none\" points=\"\n",
       "  203.888,1486.45 203.888,47.2441 \n",
       "  \"/>\n",
       "<polyline clip-path=\"url(#clip552)\" style=\"stroke:#000000; stroke-width:2; stroke-opacity:0.1; fill:none\" points=\"\n",
       "  530.017,1486.45 530.017,47.2441 \n",
       "  \"/>\n",
       "<polyline clip-path=\"url(#clip552)\" style=\"stroke:#000000; stroke-width:2; stroke-opacity:0.1; fill:none\" points=\"\n",
       "  856.147,1486.45 856.147,47.2441 \n",
       "  \"/>\n",
       "<polyline clip-path=\"url(#clip552)\" style=\"stroke:#000000; stroke-width:2; stroke-opacity:0.1; fill:none\" points=\"\n",
       "  1182.28,1486.45 1182.28,47.2441 \n",
       "  \"/>\n",
       "<polyline clip-path=\"url(#clip552)\" style=\"stroke:#000000; stroke-width:2; stroke-opacity:0.1; fill:none\" points=\"\n",
       "  1508.41,1486.45 1508.41,47.2441 \n",
       "  \"/>\n",
       "<polyline clip-path=\"url(#clip552)\" style=\"stroke:#000000; stroke-width:2; stroke-opacity:0.1; fill:none\" points=\"\n",
       "  1834.54,1486.45 1834.54,47.2441 \n",
       "  \"/>\n",
       "<polyline clip-path=\"url(#clip552)\" style=\"stroke:#000000; stroke-width:2; stroke-opacity:0.1; fill:none\" points=\"\n",
       "  2160.67,1486.45 2160.67,47.2441 \n",
       "  \"/>\n",
       "<polyline clip-path=\"url(#clip550)\" style=\"stroke:#000000; stroke-width:4; stroke-opacity:1; fill:none\" points=\"\n",
       "  174.862,1486.45 2352.76,1486.45 \n",
       "  \"/>\n",
       "<polyline clip-path=\"url(#clip550)\" style=\"stroke:#000000; stroke-width:4; stroke-opacity:1; fill:none\" points=\"\n",
       "  203.888,1486.45 203.888,1469.18 \n",
       "  \"/>\n",
       "<polyline clip-path=\"url(#clip550)\" style=\"stroke:#000000; stroke-width:4; stroke-opacity:1; fill:none\" points=\"\n",
       "  530.017,1486.45 530.017,1469.18 \n",
       "  \"/>\n",
       "<polyline clip-path=\"url(#clip550)\" style=\"stroke:#000000; stroke-width:4; stroke-opacity:1; fill:none\" points=\"\n",
       "  856.147,1486.45 856.147,1469.18 \n",
       "  \"/>\n",
       "<polyline clip-path=\"url(#clip550)\" style=\"stroke:#000000; stroke-width:4; stroke-opacity:1; fill:none\" points=\"\n",
       "  1182.28,1486.45 1182.28,1469.18 \n",
       "  \"/>\n",
       "<polyline clip-path=\"url(#clip550)\" style=\"stroke:#000000; stroke-width:4; stroke-opacity:1; fill:none\" points=\"\n",
       "  1508.41,1486.45 1508.41,1469.18 \n",
       "  \"/>\n",
       "<polyline clip-path=\"url(#clip550)\" style=\"stroke:#000000; stroke-width:4; stroke-opacity:1; fill:none\" points=\"\n",
       "  1834.54,1486.45 1834.54,1469.18 \n",
       "  \"/>\n",
       "<polyline clip-path=\"url(#clip550)\" style=\"stroke:#000000; stroke-width:4; stroke-opacity:1; fill:none\" points=\"\n",
       "  2160.67,1486.45 2160.67,1469.18 \n",
       "  \"/>\n",
       "<path clip-path=\"url(#clip550)\" d=\"M 0 0 M203.888 1515.64 Q200.276 1515.64 198.448 1519.2 Q196.642 1522.75 196.642 1529.87 Q196.642 1536.98 198.448 1540.55 Q200.276 1544.09 203.888 1544.09 Q207.522 1544.09 209.327 1540.55 Q211.156 1536.98 211.156 1529.87 Q211.156 1522.75 209.327 1519.2 Q207.522 1515.64 203.888 1515.64 M203.888 1511.93 Q209.698 1511.93 212.753 1516.54 Q215.832 1521.12 215.832 1529.87 Q215.832 1538.6 212.753 1543.21 Q209.698 1547.79 203.888 1547.79 Q198.077 1547.79 194.999 1543.21 Q191.943 1538.6 191.943 1529.87 Q191.943 1521.12 194.999 1516.54 Q198.077 1511.93 203.888 1511.93 Z\" fill=\"#000000\" fill-rule=\"evenodd\" fill-opacity=\"1\" /><path clip-path=\"url(#clip550)\" d=\"M 0 0 M506.892 1543.18 L514.531 1543.18 L514.531 1516.82 L506.221 1518.49 L506.221 1514.23 L514.485 1512.56 L519.161 1512.56 L519.161 1543.18 L526.8 1543.18 L526.8 1547.12 L506.892 1547.12 L506.892 1543.18 Z\" fill=\"#000000\" fill-rule=\"evenodd\" fill-opacity=\"1\" /><path clip-path=\"url(#clip550)\" d=\"M 0 0 M541.869 1515.64 Q538.258 1515.64 536.429 1519.2 Q534.624 1522.75 534.624 1529.87 Q534.624 1536.98 536.429 1540.55 Q538.258 1544.09 541.869 1544.09 Q545.503 1544.09 547.309 1540.55 Q549.137 1536.98 549.137 1529.87 Q549.137 1522.75 547.309 1519.2 Q545.503 1515.64 541.869 1515.64 M541.869 1511.93 Q547.679 1511.93 550.735 1516.54 Q553.813 1521.12 553.813 1529.87 Q553.813 1538.6 550.735 1543.21 Q547.679 1547.79 541.869 1547.79 Q536.059 1547.79 532.98 1543.21 Q529.925 1538.6 529.925 1529.87 Q529.925 1521.12 532.98 1516.54 Q536.059 1511.93 541.869 1511.93 Z\" fill=\"#000000\" fill-rule=\"evenodd\" fill-opacity=\"1\" /><path clip-path=\"url(#clip550)\" d=\"M 0 0 M837.293 1543.18 L853.612 1543.18 L853.612 1547.12 L831.668 1547.12 L831.668 1543.18 Q834.33 1540.43 838.913 1535.8 Q843.52 1531.15 844.7 1529.81 Q846.946 1527.28 847.825 1525.55 Q848.728 1523.79 848.728 1522.1 Q848.728 1519.34 846.784 1517.61 Q844.862 1515.87 841.76 1515.87 Q839.561 1515.87 837.108 1516.63 Q834.677 1517.4 831.899 1518.95 L831.899 1514.23 Q834.723 1513.09 837.177 1512.51 Q839.631 1511.93 841.668 1511.93 Q847.038 1511.93 850.233 1514.62 Q853.427 1517.31 853.427 1521.8 Q853.427 1523.93 852.617 1525.85 Q851.83 1527.74 849.723 1530.34 Q849.145 1531.01 846.043 1534.23 Q842.941 1537.42 837.293 1543.18 Z\" fill=\"#000000\" fill-rule=\"evenodd\" fill-opacity=\"1\" /><path clip-path=\"url(#clip550)\" d=\"M 0 0 M868.682 1515.64 Q865.07 1515.64 863.242 1519.2 Q861.436 1522.75 861.436 1529.87 Q861.436 1536.98 863.242 1540.55 Q865.07 1544.09 868.682 1544.09 Q872.316 1544.09 874.121 1540.55 Q875.95 1536.98 875.95 1529.87 Q875.95 1522.75 874.121 1519.2 Q872.316 1515.64 868.682 1515.64 M868.682 1511.93 Q874.492 1511.93 877.547 1516.54 Q880.626 1521.12 880.626 1529.87 Q880.626 1538.6 877.547 1543.21 Q874.492 1547.79 868.682 1547.79 Q862.871 1547.79 859.793 1543.21 Q856.737 1538.6 856.737 1529.87 Q856.737 1521.12 859.793 1516.54 Q862.871 1511.93 868.682 1511.93 Z\" fill=\"#000000\" fill-rule=\"evenodd\" fill-opacity=\"1\" /><path clip-path=\"url(#clip550)\" d=\"M 0 0 M1173.02 1528.49 Q1176.37 1529.2 1178.25 1531.47 Q1180.15 1533.74 1180.15 1537.07 Q1180.15 1542.19 1176.63 1544.99 Q1173.11 1547.79 1166.63 1547.79 Q1164.45 1547.79 1162.14 1547.35 Q1159.85 1546.93 1157.39 1546.08 L1157.39 1541.56 Q1159.34 1542.7 1161.65 1543.28 Q1163.97 1543.86 1166.49 1543.86 Q1170.89 1543.86 1173.18 1542.12 Q1175.49 1540.38 1175.49 1537.07 Q1175.49 1534.02 1173.34 1532.31 Q1171.21 1530.57 1167.39 1530.57 L1163.36 1530.57 L1163.36 1526.73 L1167.58 1526.73 Q1171.03 1526.73 1172.86 1525.36 Q1174.68 1523.97 1174.68 1521.38 Q1174.68 1518.72 1172.79 1517.31 Q1170.91 1515.87 1167.39 1515.87 Q1165.47 1515.87 1163.27 1516.29 Q1161.07 1516.7 1158.43 1517.58 L1158.43 1513.42 Q1161.1 1512.68 1163.41 1512.31 Q1165.75 1511.93 1167.81 1511.93 Q1173.13 1511.93 1176.23 1514.37 Q1179.34 1516.77 1179.34 1520.89 Q1179.34 1523.76 1177.69 1525.75 Q1176.05 1527.72 1173.02 1528.49 Z\" fill=\"#000000\" fill-rule=\"evenodd\" fill-opacity=\"1\" /><path clip-path=\"url(#clip550)\" d=\"M 0 0 M1195.22 1515.64 Q1191.61 1515.64 1189.78 1519.2 Q1187.97 1522.75 1187.97 1529.87 Q1187.97 1536.98 1189.78 1540.55 Q1191.61 1544.09 1195.22 1544.09 Q1198.85 1544.09 1200.66 1540.55 Q1202.48 1536.98 1202.48 1529.87 Q1202.48 1522.75 1200.66 1519.2 Q1198.85 1515.64 1195.22 1515.64 M1195.22 1511.93 Q1201.03 1511.93 1204.08 1516.54 Q1207.16 1521.12 1207.16 1529.87 Q1207.16 1538.6 1204.08 1543.21 Q1201.03 1547.79 1195.22 1547.79 Q1189.41 1547.79 1186.33 1543.21 Q1183.27 1538.6 1183.27 1529.87 Q1183.27 1521.12 1186.33 1516.54 Q1189.41 1511.93 1195.22 1511.93 Z\" fill=\"#000000\" fill-rule=\"evenodd\" fill-opacity=\"1\" /><path clip-path=\"url(#clip550)\" d=\"M 0 0 M1497.91 1516.63 L1486.1 1535.08 L1497.91 1535.08 L1497.91 1516.63 M1496.68 1512.56 L1502.56 1512.56 L1502.56 1535.08 L1507.49 1535.08 L1507.49 1538.97 L1502.56 1538.97 L1502.56 1547.12 L1497.91 1547.12 L1497.91 1538.97 L1482.31 1538.97 L1482.31 1534.46 L1496.68 1512.56 Z\" fill=\"#000000\" fill-rule=\"evenodd\" fill-opacity=\"1\" /><path clip-path=\"url(#clip550)\" d=\"M 0 0 M1522.56 1515.64 Q1518.95 1515.64 1517.12 1519.2 Q1515.32 1522.75 1515.32 1529.87 Q1515.32 1536.98 1517.12 1540.55 Q1518.95 1544.09 1522.56 1544.09 Q1526.2 1544.09 1528 1540.55 Q1529.83 1536.98 1529.83 1529.87 Q1529.83 1522.75 1528 1519.2 Q1526.2 1515.64 1522.56 1515.64 M1522.56 1511.93 Q1528.37 1511.93 1531.43 1516.54 Q1534.51 1521.12 1534.51 1529.87 Q1534.51 1538.6 1531.43 1543.21 Q1528.37 1547.79 1522.56 1547.79 Q1516.75 1547.79 1513.67 1543.21 Q1510.62 1538.6 1510.62 1529.87 Q1510.62 1521.12 1513.67 1516.54 Q1516.75 1511.93 1522.56 1511.93 Z\" fill=\"#000000\" fill-rule=\"evenodd\" fill-opacity=\"1\" /><path clip-path=\"url(#clip550)\" d=\"M 0 0 M1811.31 1512.56 L1829.66 1512.56 L1829.66 1516.5 L1815.59 1516.5 L1815.59 1524.97 Q1816.61 1524.62 1817.63 1524.46 Q1818.64 1524.27 1819.66 1524.27 Q1825.45 1524.27 1828.83 1527.44 Q1832.21 1530.62 1832.21 1536.03 Q1832.21 1541.61 1828.74 1544.71 Q1825.27 1547.79 1818.95 1547.79 Q1816.77 1547.79 1814.5 1547.42 Q1812.26 1547.05 1809.85 1546.31 L1809.85 1541.61 Q1811.93 1542.74 1814.15 1543.3 Q1816.38 1543.86 1818.85 1543.86 Q1822.86 1543.86 1825.2 1541.75 Q1827.53 1539.64 1827.53 1536.03 Q1827.53 1532.42 1825.2 1530.31 Q1822.86 1528.21 1818.85 1528.21 Q1816.98 1528.21 1815.1 1528.62 Q1813.25 1529.04 1811.31 1529.92 L1811.31 1512.56 Z\" fill=\"#000000\" fill-rule=\"evenodd\" fill-opacity=\"1\" /><path clip-path=\"url(#clip550)\" d=\"M 0 0 M1847.28 1515.64 Q1843.67 1515.64 1841.84 1519.2 Q1840.03 1522.75 1840.03 1529.87 Q1840.03 1536.98 1841.84 1540.55 Q1843.67 1544.09 1847.28 1544.09 Q1850.91 1544.09 1852.72 1540.55 Q1854.55 1536.98 1854.55 1529.87 Q1854.55 1522.75 1852.72 1519.2 Q1850.91 1515.64 1847.28 1515.64 M1847.28 1511.93 Q1853.09 1511.93 1856.14 1516.54 Q1859.22 1521.12 1859.22 1529.87 Q1859.22 1538.6 1856.14 1543.21 Q1853.09 1547.79 1847.28 1547.79 Q1841.47 1547.79 1838.39 1543.21 Q1835.33 1538.6 1835.33 1529.87 Q1835.33 1521.12 1838.39 1516.54 Q1841.47 1511.93 1847.28 1511.93 Z\" fill=\"#000000\" fill-rule=\"evenodd\" fill-opacity=\"1\" /><path clip-path=\"url(#clip550)\" d=\"M 0 0 M2147.56 1527.98 Q2144.42 1527.98 2142.56 1530.13 Q2140.74 1532.28 2140.74 1536.03 Q2140.74 1539.76 2142.56 1541.93 Q2144.42 1544.09 2147.56 1544.09 Q2150.71 1544.09 2152.54 1541.93 Q2154.39 1539.76 2154.39 1536.03 Q2154.39 1532.28 2152.54 1530.13 Q2150.71 1527.98 2147.56 1527.98 M2156.85 1513.32 L2156.85 1517.58 Q2155.09 1516.75 2153.28 1516.31 Q2151.5 1515.87 2149.74 1515.87 Q2145.11 1515.87 2142.66 1519 Q2140.23 1522.12 2139.88 1528.44 Q2141.24 1526.43 2143.3 1525.36 Q2145.36 1524.27 2147.84 1524.27 Q2153.05 1524.27 2156.06 1527.44 Q2159.09 1530.59 2159.09 1536.03 Q2159.09 1541.36 2155.94 1544.57 Q2152.8 1547.79 2147.56 1547.79 Q2141.57 1547.79 2138.4 1543.21 Q2135.23 1538.6 2135.23 1529.87 Q2135.23 1521.68 2139.11 1516.82 Q2143 1511.93 2149.55 1511.93 Q2151.31 1511.93 2153.1 1512.28 Q2154.9 1512.63 2156.85 1513.32 Z\" fill=\"#000000\" fill-rule=\"evenodd\" fill-opacity=\"1\" /><path clip-path=\"url(#clip550)\" d=\"M 0 0 M2174.16 1515.64 Q2170.55 1515.64 2168.72 1519.2 Q2166.92 1522.75 2166.92 1529.87 Q2166.92 1536.98 2168.72 1540.55 Q2170.55 1544.09 2174.16 1544.09 Q2177.8 1544.09 2179.6 1540.55 Q2181.43 1536.98 2181.43 1529.87 Q2181.43 1522.75 2179.6 1519.2 Q2177.8 1515.64 2174.16 1515.64 M2174.16 1511.93 Q2179.97 1511.93 2183.03 1516.54 Q2186.11 1521.12 2186.11 1529.87 Q2186.11 1538.6 2183.03 1543.21 Q2179.97 1547.79 2174.16 1547.79 Q2168.35 1547.79 2165.27 1543.21 Q2162.22 1538.6 2162.22 1529.87 Q2162.22 1521.12 2165.27 1516.54 Q2168.35 1511.93 2174.16 1511.93 Z\" fill=\"#000000\" fill-rule=\"evenodd\" fill-opacity=\"1\" /><polyline clip-path=\"url(#clip552)\" style=\"stroke:#000000; stroke-width:2; stroke-opacity:0.1; fill:none\" points=\"\n",
       "  174.862,1445.72 2352.76,1445.72 \n",
       "  \"/>\n",
       "<polyline clip-path=\"url(#clip552)\" style=\"stroke:#000000; stroke-width:2; stroke-opacity:0.1; fill:none\" points=\"\n",
       "  174.862,1106.28 2352.76,1106.28 \n",
       "  \"/>\n",
       "<polyline clip-path=\"url(#clip552)\" style=\"stroke:#000000; stroke-width:2; stroke-opacity:0.1; fill:none\" points=\"\n",
       "  174.862,766.846 2352.76,766.846 \n",
       "  \"/>\n",
       "<polyline clip-path=\"url(#clip552)\" style=\"stroke:#000000; stroke-width:2; stroke-opacity:0.1; fill:none\" points=\"\n",
       "  174.862,427.411 2352.76,427.411 \n",
       "  \"/>\n",
       "<polyline clip-path=\"url(#clip552)\" style=\"stroke:#000000; stroke-width:2; stroke-opacity:0.1; fill:none\" points=\"\n",
       "  174.862,87.9763 2352.76,87.9763 \n",
       "  \"/>\n",
       "<polyline clip-path=\"url(#clip550)\" style=\"stroke:#000000; stroke-width:4; stroke-opacity:1; fill:none\" points=\"\n",
       "  174.862,1486.45 174.862,47.2441 \n",
       "  \"/>\n",
       "<polyline clip-path=\"url(#clip550)\" style=\"stroke:#000000; stroke-width:4; stroke-opacity:1; fill:none\" points=\"\n",
       "  174.862,1445.72 200.997,1445.72 \n",
       "  \"/>\n",
       "<polyline clip-path=\"url(#clip550)\" style=\"stroke:#000000; stroke-width:4; stroke-opacity:1; fill:none\" points=\"\n",
       "  174.862,1106.28 200.997,1106.28 \n",
       "  \"/>\n",
       "<polyline clip-path=\"url(#clip550)\" style=\"stroke:#000000; stroke-width:4; stroke-opacity:1; fill:none\" points=\"\n",
       "  174.862,766.846 200.997,766.846 \n",
       "  \"/>\n",
       "<polyline clip-path=\"url(#clip550)\" style=\"stroke:#000000; stroke-width:4; stroke-opacity:1; fill:none\" points=\"\n",
       "  174.862,427.411 200.997,427.411 \n",
       "  \"/>\n",
       "<polyline clip-path=\"url(#clip550)\" style=\"stroke:#000000; stroke-width:4; stroke-opacity:1; fill:none\" points=\"\n",
       "  174.862,87.9763 200.997,87.9763 \n",
       "  \"/>\n",
       "<path clip-path=\"url(#clip550)\" d=\"M 0 0 M62.9365 1431.51 Q59.3254 1431.51 57.4967 1435.08 Q55.6912 1438.62 55.6912 1445.75 Q55.6912 1452.86 57.4967 1456.42 Q59.3254 1459.96 62.9365 1459.96 Q66.5707 1459.96 68.3763 1456.42 Q70.205 1452.86 70.205 1445.75 Q70.205 1438.62 68.3763 1435.08 Q66.5707 1431.51 62.9365 1431.51 M62.9365 1427.81 Q68.7467 1427.81 71.8022 1432.42 Q74.8809 1437 74.8809 1445.75 Q74.8809 1454.48 71.8022 1459.08 Q68.7467 1463.67 62.9365 1463.67 Q57.1264 1463.67 54.0477 1459.08 Q50.9921 1454.48 50.9921 1445.75 Q50.9921 1437 54.0477 1432.42 Q57.1264 1427.81 62.9365 1427.81 Z\" fill=\"#000000\" fill-rule=\"evenodd\" fill-opacity=\"1\" /><path clip-path=\"url(#clip550)\" d=\"M 0 0 M79.9503 1457.12 L84.8345 1457.12 L84.8345 1463 L79.9503 1463 L79.9503 1457.12 Z\" fill=\"#000000\" fill-rule=\"evenodd\" fill-opacity=\"1\" /><path clip-path=\"url(#clip550)\" d=\"M 0 0 M99.9039 1431.51 Q96.2928 1431.51 94.4641 1435.08 Q92.6586 1438.62 92.6586 1445.75 Q92.6586 1452.86 94.4641 1456.42 Q96.2928 1459.96 99.9039 1459.96 Q103.538 1459.96 105.344 1456.42 Q107.172 1452.86 107.172 1445.75 Q107.172 1438.62 105.344 1435.08 Q103.538 1431.51 99.9039 1431.51 M99.9039 1427.81 Q105.714 1427.81 108.77 1432.42 Q111.848 1437 111.848 1445.75 Q111.848 1454.48 108.77 1459.08 Q105.714 1463.67 99.9039 1463.67 Q94.0937 1463.67 91.0151 1459.08 Q87.9595 1454.48 87.9595 1445.75 Q87.9595 1437 91.0151 1432.42 Q94.0937 1427.81 99.9039 1427.81 Z\" fill=\"#000000\" fill-rule=\"evenodd\" fill-opacity=\"1\" /><path clip-path=\"url(#clip550)\" d=\"M 0 0 M126.918 1431.51 Q123.307 1431.51 121.478 1435.08 Q119.672 1438.62 119.672 1445.75 Q119.672 1452.86 121.478 1456.42 Q123.307 1459.96 126.918 1459.96 Q130.552 1459.96 132.357 1456.42 Q134.186 1452.86 134.186 1445.75 Q134.186 1438.62 132.357 1435.08 Q130.552 1431.51 126.918 1431.51 M126.918 1427.81 Q132.728 1427.81 135.783 1432.42 Q138.862 1437 138.862 1445.75 Q138.862 1454.48 135.783 1459.08 Q132.728 1463.67 126.918 1463.67 Q121.107 1463.67 118.029 1459.08 Q114.973 1454.48 114.973 1445.75 Q114.973 1437 118.029 1432.42 Q121.107 1427.81 126.918 1427.81 Z\" fill=\"#000000\" fill-rule=\"evenodd\" fill-opacity=\"1\" /><path clip-path=\"url(#clip550)\" d=\"M 0 0 M65.5291 1092.08 Q61.918 1092.08 60.0893 1095.64 Q58.2838 1099.19 58.2838 1106.32 Q58.2838 1113.42 60.0893 1116.99 Q61.918 1120.53 65.5291 1120.53 Q69.1633 1120.53 70.9689 1116.99 Q72.7976 1113.42 72.7976 1106.32 Q72.7976 1099.19 70.9689 1095.64 Q69.1633 1092.08 65.5291 1092.08 M65.5291 1088.38 Q71.3392 1088.38 74.3948 1092.98 Q77.4735 1097.57 77.4735 1106.32 Q77.4735 1115.04 74.3948 1119.65 Q71.3392 1124.23 65.5291 1124.23 Q59.7189 1124.23 56.6402 1119.65 Q53.5847 1115.04 53.5847 1106.32 Q53.5847 1097.57 56.6402 1092.98 Q59.7189 1088.38 65.5291 1088.38 Z\" fill=\"#000000\" fill-rule=\"evenodd\" fill-opacity=\"1\" /><path clip-path=\"url(#clip550)\" d=\"M 0 0 M82.5429 1117.68 L87.4271 1117.68 L87.4271 1123.56 L82.5429 1123.56 L82.5429 1117.68 Z\" fill=\"#000000\" fill-rule=\"evenodd\" fill-opacity=\"1\" /><path clip-path=\"url(#clip550)\" d=\"M 0 0 M96.5243 1119.63 L112.844 1119.63 L112.844 1123.56 L90.8993 1123.56 L90.8993 1119.63 Q93.5613 1116.87 98.1447 1112.24 Q102.751 1107.59 103.932 1106.25 Q106.177 1103.72 107.057 1101.99 Q107.959 1100.23 107.959 1098.54 Q107.959 1095.78 106.015 1094.05 Q104.094 1092.31 100.992 1092.31 Q98.7928 1092.31 96.3391 1093.07 Q93.9086 1093.84 91.1308 1095.39 L91.1308 1090.67 Q93.9549 1089.53 96.4085 1088.95 Q98.8622 1088.38 100.899 1088.38 Q106.27 1088.38 109.464 1091.06 Q112.658 1093.75 112.658 1098.24 Q112.658 1100.37 111.848 1102.29 Q111.061 1104.19 108.955 1106.78 Q108.376 1107.45 105.274 1110.67 Q102.172 1113.86 96.5243 1119.63 Z\" fill=\"#000000\" fill-rule=\"evenodd\" fill-opacity=\"1\" /><path clip-path=\"url(#clip550)\" d=\"M 0 0 M117.959 1089 L136.316 1089 L136.316 1092.94 L122.242 1092.94 L122.242 1101.41 Q123.26 1101.06 124.279 1100.9 Q125.297 1100.71 126.316 1100.71 Q132.103 1100.71 135.482 1103.89 Q138.862 1107.06 138.862 1112.47 Q138.862 1118.05 135.39 1121.15 Q131.918 1124.23 125.598 1124.23 Q123.422 1124.23 121.154 1123.86 Q118.908 1123.49 116.501 1122.75 L116.501 1118.05 Q118.584 1119.19 120.807 1119.74 Q123.029 1120.3 125.506 1120.3 Q129.51 1120.3 131.848 1118.19 Q134.186 1116.08 134.186 1112.47 Q134.186 1108.86 131.848 1106.76 Q129.51 1104.65 125.506 1104.65 Q123.631 1104.65 121.756 1105.07 Q119.904 1105.48 117.959 1106.36 L117.959 1089 Z\" fill=\"#000000\" fill-rule=\"evenodd\" fill-opacity=\"1\" /><path clip-path=\"url(#clip550)\" d=\"M 0 0 M63.9319 752.645 Q60.3208 752.645 58.4921 756.209 Q56.6865 759.751 56.6865 766.881 Q56.6865 773.987 58.4921 777.552 Q60.3208 781.094 63.9319 781.094 Q67.5661 781.094 69.3717 777.552 Q71.2004 773.987 71.2004 766.881 Q71.2004 759.751 69.3717 756.209 Q67.5661 752.645 63.9319 752.645 M63.9319 748.941 Q69.742 748.941 72.7976 753.547 Q75.8763 758.131 75.8763 766.881 Q75.8763 775.608 72.7976 780.214 Q69.742 784.797 63.9319 784.797 Q58.1217 784.797 55.043 780.214 Q51.9875 775.608 51.9875 766.881 Q51.9875 758.131 55.043 753.547 Q58.1217 748.941 63.9319 748.941 Z\" fill=\"#000000\" fill-rule=\"evenodd\" fill-opacity=\"1\" /><path clip-path=\"url(#clip550)\" d=\"M 0 0 M80.9457 778.246 L85.8299 778.246 L85.8299 784.126 L80.9457 784.126 L80.9457 778.246 Z\" fill=\"#000000\" fill-rule=\"evenodd\" fill-opacity=\"1\" /><path clip-path=\"url(#clip550)\" d=\"M 0 0 M90.9456 749.566 L109.302 749.566 L109.302 753.501 L95.228 753.501 L95.228 761.973 Q96.2465 761.626 97.265 761.464 Q98.2835 761.279 99.3021 761.279 Q105.089 761.279 108.469 764.45 Q111.848 767.621 111.848 773.038 Q111.848 778.617 108.376 781.719 Q104.904 784.797 98.5845 784.797 Q96.4085 784.797 94.14 784.427 Q91.8947 784.057 89.4873 783.316 L89.4873 778.617 Q91.5706 779.751 93.7928 780.307 Q96.015 780.862 98.4919 780.862 Q102.496 780.862 104.834 778.756 Q107.172 776.649 107.172 773.038 Q107.172 769.427 104.834 767.321 Q102.496 765.214 98.4919 765.214 Q96.6169 765.214 94.7419 765.631 Q92.89 766.047 90.9456 766.927 L90.9456 749.566 Z\" fill=\"#000000\" fill-rule=\"evenodd\" fill-opacity=\"1\" /><path clip-path=\"url(#clip550)\" d=\"M 0 0 M126.918 752.645 Q123.307 752.645 121.478 756.209 Q119.672 759.751 119.672 766.881 Q119.672 773.987 121.478 777.552 Q123.307 781.094 126.918 781.094 Q130.552 781.094 132.357 777.552 Q134.186 773.987 134.186 766.881 Q134.186 759.751 132.357 756.209 Q130.552 752.645 126.918 752.645 M126.918 748.941 Q132.728 748.941 135.783 753.547 Q138.862 758.131 138.862 766.881 Q138.862 775.608 135.783 780.214 Q132.728 784.797 126.918 784.797 Q121.107 784.797 118.029 780.214 Q114.973 775.608 114.973 766.881 Q114.973 758.131 118.029 753.547 Q121.107 748.941 126.918 748.941 Z\" fill=\"#000000\" fill-rule=\"evenodd\" fill-opacity=\"1\" /><path clip-path=\"url(#clip550)\" d=\"M 0 0 M64.8346 413.21 Q61.2236 413.21 59.3949 416.775 Q57.5893 420.316 57.5893 427.446 Q57.5893 434.552 59.3949 438.117 Q61.2236 441.659 64.8346 441.659 Q68.4689 441.659 70.2744 438.117 Q72.1031 434.552 72.1031 427.446 Q72.1031 420.316 70.2744 416.775 Q68.4689 413.21 64.8346 413.21 M64.8346 409.506 Q70.6448 409.506 73.7003 414.113 Q76.779 418.696 76.779 427.446 Q76.779 436.173 73.7003 440.779 Q70.6448 445.362 64.8346 445.362 Q59.0245 445.362 55.9458 440.779 Q52.8903 436.173 52.8903 427.446 Q52.8903 418.696 55.9458 414.113 Q59.0245 409.506 64.8346 409.506 Z\" fill=\"#000000\" fill-rule=\"evenodd\" fill-opacity=\"1\" /><path clip-path=\"url(#clip550)\" d=\"M 0 0 M81.8484 438.812 L86.7327 438.812 L86.7327 444.691 L81.8484 444.691 L81.8484 438.812 Z\" fill=\"#000000\" fill-rule=\"evenodd\" fill-opacity=\"1\" /><path clip-path=\"url(#clip550)\" d=\"M 0 0 M90.6215 410.131 L112.844 410.131 L112.844 412.122 L100.297 444.691 L95.4132 444.691 L107.219 414.066 L90.6215 414.066 L90.6215 410.131 Z\" fill=\"#000000\" fill-rule=\"evenodd\" fill-opacity=\"1\" /><path clip-path=\"url(#clip550)\" d=\"M 0 0 M117.959 410.131 L136.316 410.131 L136.316 414.066 L122.242 414.066 L122.242 422.538 Q123.26 422.191 124.279 422.029 Q125.297 421.844 126.316 421.844 Q132.103 421.844 135.482 425.015 Q138.862 428.187 138.862 433.603 Q138.862 439.182 135.39 442.284 Q131.918 445.362 125.598 445.362 Q123.422 445.362 121.154 444.992 Q118.908 444.622 116.501 443.881 L116.501 439.182 Q118.584 440.316 120.807 440.872 Q123.029 441.427 125.506 441.427 Q129.51 441.427 131.848 439.321 Q134.186 437.214 134.186 433.603 Q134.186 429.992 131.848 427.886 Q129.51 425.779 125.506 425.779 Q123.631 425.779 121.756 426.196 Q119.904 426.613 117.959 427.492 L117.959 410.131 Z\" fill=\"#000000\" fill-rule=\"evenodd\" fill-opacity=\"1\" /><path clip-path=\"url(#clip550)\" d=\"M 0 0 M54.9736 101.321 L62.6124 101.321 L62.6124 74.9555 L54.3023 76.6222 L54.3023 72.3629 L62.5661 70.6963 L67.242 70.6963 L67.242 101.321 L74.8809 101.321 L74.8809 105.256 L54.9736 105.256 L54.9736 101.321 Z\" fill=\"#000000\" fill-rule=\"evenodd\" fill-opacity=\"1\" /><path clip-path=\"url(#clip550)\" d=\"M 0 0 M79.9503 99.3767 L84.8345 99.3767 L84.8345 105.256 L79.9503 105.256 L79.9503 99.3767 Z\" fill=\"#000000\" fill-rule=\"evenodd\" fill-opacity=\"1\" /><path clip-path=\"url(#clip550)\" d=\"M 0 0 M99.9039 73.775 Q96.2928 73.775 94.4641 77.3398 Q92.6586 80.8814 92.6586 88.011 Q92.6586 95.1174 94.4641 98.6822 Q96.2928 102.224 99.9039 102.224 Q103.538 102.224 105.344 98.6822 Q107.172 95.1174 107.172 88.011 Q107.172 80.8814 105.344 77.3398 Q103.538 73.775 99.9039 73.775 M99.9039 70.0713 Q105.714 70.0713 108.77 74.6777 Q111.848 79.261 111.848 88.011 Q111.848 96.7378 108.77 101.344 Q105.714 105.928 99.9039 105.928 Q94.0937 105.928 91.0151 101.344 Q87.9595 96.7378 87.9595 88.011 Q87.9595 79.261 91.0151 74.6777 Q94.0937 70.0713 99.9039 70.0713 Z\" fill=\"#000000\" fill-rule=\"evenodd\" fill-opacity=\"1\" /><path clip-path=\"url(#clip550)\" d=\"M 0 0 M126.918 73.775 Q123.307 73.775 121.478 77.3398 Q119.672 80.8814 119.672 88.011 Q119.672 95.1174 121.478 98.6822 Q123.307 102.224 126.918 102.224 Q130.552 102.224 132.357 98.6822 Q134.186 95.1174 134.186 88.011 Q134.186 80.8814 132.357 77.3398 Q130.552 73.775 126.918 73.775 M126.918 70.0713 Q132.728 70.0713 135.783 74.6777 Q138.862 79.261 138.862 88.011 Q138.862 96.7378 135.783 101.344 Q132.728 105.928 126.918 105.928 Q121.107 105.928 118.029 101.344 Q114.973 96.7378 114.973 88.011 Q114.973 79.261 118.029 74.6777 Q121.107 70.0713 126.918 70.0713 Z\" fill=\"#000000\" fill-rule=\"evenodd\" fill-opacity=\"1\" /><circle clip-path=\"url(#clip552)\" cx=\"236.501\" cy=\"1367.06\" r=\"14\" fill=\"#009af9\" fill-rule=\"evenodd\" fill-opacity=\"1\" stroke=\"#000000\" stroke-opacity=\"1\" stroke-width=\"3.2\"/>\n",
       "<circle clip-path=\"url(#clip552)\" cx=\"269.113\" cy=\"1434.25\" r=\"14\" fill=\"#009af9\" fill-rule=\"evenodd\" fill-opacity=\"1\" stroke=\"#000000\" stroke-opacity=\"1\" stroke-width=\"3.2\"/>\n",
       "<circle clip-path=\"url(#clip552)\" cx=\"301.726\" cy=\"1438.59\" r=\"14\" fill=\"#009af9\" fill-rule=\"evenodd\" fill-opacity=\"1\" stroke=\"#000000\" stroke-opacity=\"1\" stroke-width=\"3.2\"/>\n",
       "<circle clip-path=\"url(#clip552)\" cx=\"334.339\" cy=\"95.377\" r=\"14\" fill=\"#009af9\" fill-rule=\"evenodd\" fill-opacity=\"1\" stroke=\"#000000\" stroke-opacity=\"1\" stroke-width=\"3.2\"/>\n",
       "<circle clip-path=\"url(#clip552)\" cx=\"366.952\" cy=\"1445.59\" r=\"14\" fill=\"#009af9\" fill-rule=\"evenodd\" fill-opacity=\"1\" stroke=\"#000000\" stroke-opacity=\"1\" stroke-width=\"3.2\"/>\n",
       "<circle clip-path=\"url(#clip552)\" cx=\"399.565\" cy=\"1438.42\" r=\"14\" fill=\"#009af9\" fill-rule=\"evenodd\" fill-opacity=\"1\" stroke=\"#000000\" stroke-opacity=\"1\" stroke-width=\"3.2\"/>\n",
       "<circle clip-path=\"url(#clip552)\" cx=\"432.178\" cy=\"88.8084\" r=\"14\" fill=\"#009af9\" fill-rule=\"evenodd\" fill-opacity=\"1\" stroke=\"#000000\" stroke-opacity=\"1\" stroke-width=\"3.2\"/>\n",
       "<circle clip-path=\"url(#clip552)\" cx=\"464.791\" cy=\"1353.07\" r=\"14\" fill=\"#009af9\" fill-rule=\"evenodd\" fill-opacity=\"1\" stroke=\"#000000\" stroke-opacity=\"1\" stroke-width=\"3.2\"/>\n",
       "<circle clip-path=\"url(#clip552)\" cx=\"497.404\" cy=\"1437.27\" r=\"14\" fill=\"#009af9\" fill-rule=\"evenodd\" fill-opacity=\"1\" stroke=\"#000000\" stroke-opacity=\"1\" stroke-width=\"3.2\"/>\n",
       "<circle clip-path=\"url(#clip552)\" cx=\"530.017\" cy=\"96.7655\" r=\"14\" fill=\"#009af9\" fill-rule=\"evenodd\" fill-opacity=\"1\" stroke=\"#000000\" stroke-opacity=\"1\" stroke-width=\"3.2\"/>\n",
       "<circle clip-path=\"url(#clip552)\" cx=\"562.63\" cy=\"1438.35\" r=\"14\" fill=\"#009af9\" fill-rule=\"evenodd\" fill-opacity=\"1\" stroke=\"#000000\" stroke-opacity=\"1\" stroke-width=\"3.2\"/>\n",
       "<circle clip-path=\"url(#clip552)\" cx=\"595.243\" cy=\"96.5672\" r=\"14\" fill=\"#009af9\" fill-rule=\"evenodd\" fill-opacity=\"1\" stroke=\"#000000\" stroke-opacity=\"1\" stroke-width=\"3.2\"/>\n",
       "<circle clip-path=\"url(#clip552)\" cx=\"627.856\" cy=\"1437.84\" r=\"14\" fill=\"#009af9\" fill-rule=\"evenodd\" fill-opacity=\"1\" stroke=\"#000000\" stroke-opacity=\"1\" stroke-width=\"3.2\"/>\n",
       "<circle clip-path=\"url(#clip552)\" cx=\"660.469\" cy=\"89.8527\" r=\"14\" fill=\"#009af9\" fill-rule=\"evenodd\" fill-opacity=\"1\" stroke=\"#000000\" stroke-opacity=\"1\" stroke-width=\"3.2\"/>\n",
       "<circle clip-path=\"url(#clip552)\" cx=\"693.082\" cy=\"1438.47\" r=\"14\" fill=\"#009af9\" fill-rule=\"evenodd\" fill-opacity=\"1\" stroke=\"#000000\" stroke-opacity=\"1\" stroke-width=\"3.2\"/>\n",
       "<circle clip-path=\"url(#clip552)\" cx=\"725.695\" cy=\"87.9763\" r=\"14\" fill=\"#009af9\" fill-rule=\"evenodd\" fill-opacity=\"1\" stroke=\"#000000\" stroke-opacity=\"1\" stroke-width=\"3.2\"/>\n",
       "<circle clip-path=\"url(#clip552)\" cx=\"758.308\" cy=\"1438.44\" r=\"14\" fill=\"#009af9\" fill-rule=\"evenodd\" fill-opacity=\"1\" stroke=\"#000000\" stroke-opacity=\"1\" stroke-width=\"3.2\"/>\n",
       "<circle clip-path=\"url(#clip552)\" cx=\"790.921\" cy=\"1438.23\" r=\"14\" fill=\"#009af9\" fill-rule=\"evenodd\" fill-opacity=\"1\" stroke=\"#000000\" stroke-opacity=\"1\" stroke-width=\"3.2\"/>\n",
       "<circle clip-path=\"url(#clip552)\" cx=\"823.534\" cy=\"87.9766\" r=\"14\" fill=\"#009af9\" fill-rule=\"evenodd\" fill-opacity=\"1\" stroke=\"#000000\" stroke-opacity=\"1\" stroke-width=\"3.2\"/>\n",
       "<circle clip-path=\"url(#clip552)\" cx=\"856.147\" cy=\"94.7286\" r=\"14\" fill=\"#009af9\" fill-rule=\"evenodd\" fill-opacity=\"1\" stroke=\"#000000\" stroke-opacity=\"1\" stroke-width=\"3.2\"/>\n",
       "<circle clip-path=\"url(#clip552)\" cx=\"888.76\" cy=\"1436.56\" r=\"14\" fill=\"#009af9\" fill-rule=\"evenodd\" fill-opacity=\"1\" stroke=\"#000000\" stroke-opacity=\"1\" stroke-width=\"3.2\"/>\n",
       "<circle clip-path=\"url(#clip552)\" cx=\"921.373\" cy=\"1444.37\" r=\"14\" fill=\"#009af9\" fill-rule=\"evenodd\" fill-opacity=\"1\" stroke=\"#000000\" stroke-opacity=\"1\" stroke-width=\"3.2\"/>\n",
       "<circle clip-path=\"url(#clip552)\" cx=\"953.986\" cy=\"1445.72\" r=\"14\" fill=\"#009af9\" fill-rule=\"evenodd\" fill-opacity=\"1\" stroke=\"#000000\" stroke-opacity=\"1\" stroke-width=\"3.2\"/>\n",
       "<circle clip-path=\"url(#clip552)\" cx=\"986.599\" cy=\"89.3676\" r=\"14\" fill=\"#009af9\" fill-rule=\"evenodd\" fill-opacity=\"1\" stroke=\"#000000\" stroke-opacity=\"1\" stroke-width=\"3.2\"/>\n",
       "<circle clip-path=\"url(#clip552)\" cx=\"1019.21\" cy=\"1445.71\" r=\"14\" fill=\"#009af9\" fill-rule=\"evenodd\" fill-opacity=\"1\" stroke=\"#000000\" stroke-opacity=\"1\" stroke-width=\"3.2\"/>\n",
       "<circle clip-path=\"url(#clip552)\" cx=\"1051.82\" cy=\"90.0815\" r=\"14\" fill=\"#009af9\" fill-rule=\"evenodd\" fill-opacity=\"1\" stroke=\"#000000\" stroke-opacity=\"1\" stroke-width=\"3.2\"/>\n",
       "<circle clip-path=\"url(#clip552)\" cx=\"1084.44\" cy=\"1445.1\" r=\"14\" fill=\"#009af9\" fill-rule=\"evenodd\" fill-opacity=\"1\" stroke=\"#000000\" stroke-opacity=\"1\" stroke-width=\"3.2\"/>\n",
       "<circle clip-path=\"url(#clip552)\" cx=\"1117.05\" cy=\"89.8359\" r=\"14\" fill=\"#009af9\" fill-rule=\"evenodd\" fill-opacity=\"1\" stroke=\"#000000\" stroke-opacity=\"1\" stroke-width=\"3.2\"/>\n",
       "<circle clip-path=\"url(#clip552)\" cx=\"1149.66\" cy=\"1438.09\" r=\"14\" fill=\"#009af9\" fill-rule=\"evenodd\" fill-opacity=\"1\" stroke=\"#000000\" stroke-opacity=\"1\" stroke-width=\"3.2\"/>\n",
       "<circle clip-path=\"url(#clip552)\" cx=\"1182.28\" cy=\"95.97\" r=\"14\" fill=\"#009af9\" fill-rule=\"evenodd\" fill-opacity=\"1\" stroke=\"#000000\" stroke-opacity=\"1\" stroke-width=\"3.2\"/>\n",
       "<circle clip-path=\"url(#clip552)\" cx=\"1214.89\" cy=\"87.9765\" r=\"14\" fill=\"#009af9\" fill-rule=\"evenodd\" fill-opacity=\"1\" stroke=\"#000000\" stroke-opacity=\"1\" stroke-width=\"3.2\"/>\n",
       "<circle clip-path=\"url(#clip552)\" cx=\"1247.5\" cy=\"1437.1\" r=\"14\" fill=\"#009af9\" fill-rule=\"evenodd\" fill-opacity=\"1\" stroke=\"#000000\" stroke-opacity=\"1\" stroke-width=\"3.2\"/>\n",
       "<circle clip-path=\"url(#clip552)\" cx=\"1280.12\" cy=\"91.7612\" r=\"14\" fill=\"#009af9\" fill-rule=\"evenodd\" fill-opacity=\"1\" stroke=\"#000000\" stroke-opacity=\"1\" stroke-width=\"3.2\"/>\n",
       "<circle clip-path=\"url(#clip552)\" cx=\"1312.73\" cy=\"1445.72\" r=\"14\" fill=\"#009af9\" fill-rule=\"evenodd\" fill-opacity=\"1\" stroke=\"#000000\" stroke-opacity=\"1\" stroke-width=\"3.2\"/>\n",
       "<circle clip-path=\"url(#clip552)\" cx=\"1345.34\" cy=\"1437.04\" r=\"14\" fill=\"#009af9\" fill-rule=\"evenodd\" fill-opacity=\"1\" stroke=\"#000000\" stroke-opacity=\"1\" stroke-width=\"3.2\"/>\n",
       "<circle clip-path=\"url(#clip552)\" cx=\"1377.95\" cy=\"1438.59\" r=\"14\" fill=\"#009af9\" fill-rule=\"evenodd\" fill-opacity=\"1\" stroke=\"#000000\" stroke-opacity=\"1\" stroke-width=\"3.2\"/>\n",
       "<circle clip-path=\"url(#clip552)\" cx=\"1410.57\" cy=\"1440.82\" r=\"14\" fill=\"#009af9\" fill-rule=\"evenodd\" fill-opacity=\"1\" stroke=\"#000000\" stroke-opacity=\"1\" stroke-width=\"3.2\"/>\n",
       "<circle clip-path=\"url(#clip552)\" cx=\"1443.18\" cy=\"154.537\" r=\"14\" fill=\"#009af9\" fill-rule=\"evenodd\" fill-opacity=\"1\" stroke=\"#000000\" stroke-opacity=\"1\" stroke-width=\"3.2\"/>\n",
       "<circle clip-path=\"url(#clip552)\" cx=\"1475.79\" cy=\"87.99\" r=\"14\" fill=\"#009af9\" fill-rule=\"evenodd\" fill-opacity=\"1\" stroke=\"#000000\" stroke-opacity=\"1\" stroke-width=\"3.2\"/>\n",
       "<circle clip-path=\"url(#clip552)\" cx=\"1508.41\" cy=\"1438.25\" r=\"14\" fill=\"#009af9\" fill-rule=\"evenodd\" fill-opacity=\"1\" stroke=\"#000000\" stroke-opacity=\"1\" stroke-width=\"3.2\"/>\n",
       "<circle clip-path=\"url(#clip552)\" cx=\"1541.02\" cy=\"88.3942\" r=\"14\" fill=\"#009af9\" fill-rule=\"evenodd\" fill-opacity=\"1\" stroke=\"#000000\" stroke-opacity=\"1\" stroke-width=\"3.2\"/>\n",
       "<circle clip-path=\"url(#clip552)\" cx=\"1573.63\" cy=\"1438.11\" r=\"14\" fill=\"#009af9\" fill-rule=\"evenodd\" fill-opacity=\"1\" stroke=\"#000000\" stroke-opacity=\"1\" stroke-width=\"3.2\"/>\n",
       "<circle clip-path=\"url(#clip552)\" cx=\"1606.25\" cy=\"87.9767\" r=\"14\" fill=\"#009af9\" fill-rule=\"evenodd\" fill-opacity=\"1\" stroke=\"#000000\" stroke-opacity=\"1\" stroke-width=\"3.2\"/>\n",
       "<circle clip-path=\"url(#clip552)\" cx=\"1638.86\" cy=\"1438.28\" r=\"14\" fill=\"#009af9\" fill-rule=\"evenodd\" fill-opacity=\"1\" stroke=\"#000000\" stroke-opacity=\"1\" stroke-width=\"3.2\"/>\n",
       "<circle clip-path=\"url(#clip552)\" cx=\"1671.47\" cy=\"95.5175\" r=\"14\" fill=\"#009af9\" fill-rule=\"evenodd\" fill-opacity=\"1\" stroke=\"#000000\" stroke-opacity=\"1\" stroke-width=\"3.2\"/>\n",
       "<circle clip-path=\"url(#clip552)\" cx=\"1704.08\" cy=\"1436.86\" r=\"14\" fill=\"#009af9\" fill-rule=\"evenodd\" fill-opacity=\"1\" stroke=\"#000000\" stroke-opacity=\"1\" stroke-width=\"3.2\"/>\n",
       "<circle clip-path=\"url(#clip552)\" cx=\"1736.7\" cy=\"1438.24\" r=\"14\" fill=\"#009af9\" fill-rule=\"evenodd\" fill-opacity=\"1\" stroke=\"#000000\" stroke-opacity=\"1\" stroke-width=\"3.2\"/>\n",
       "<circle clip-path=\"url(#clip552)\" cx=\"1769.31\" cy=\"89.4265\" r=\"14\" fill=\"#009af9\" fill-rule=\"evenodd\" fill-opacity=\"1\" stroke=\"#000000\" stroke-opacity=\"1\" stroke-width=\"3.2\"/>\n",
       "<circle clip-path=\"url(#clip552)\" cx=\"1801.92\" cy=\"1438.6\" r=\"14\" fill=\"#009af9\" fill-rule=\"evenodd\" fill-opacity=\"1\" stroke=\"#000000\" stroke-opacity=\"1\" stroke-width=\"3.2\"/>\n",
       "<circle clip-path=\"url(#clip552)\" cx=\"1834.54\" cy=\"1437.3\" r=\"14\" fill=\"#009af9\" fill-rule=\"evenodd\" fill-opacity=\"1\" stroke=\"#000000\" stroke-opacity=\"1\" stroke-width=\"3.2\"/>\n",
       "<circle clip-path=\"url(#clip552)\" cx=\"1867.15\" cy=\"89.8067\" r=\"14\" fill=\"#009af9\" fill-rule=\"evenodd\" fill-opacity=\"1\" stroke=\"#000000\" stroke-opacity=\"1\" stroke-width=\"3.2\"/>\n",
       "<circle clip-path=\"url(#clip552)\" cx=\"1899.76\" cy=\"88.8137\" r=\"14\" fill=\"#009af9\" fill-rule=\"evenodd\" fill-opacity=\"1\" stroke=\"#000000\" stroke-opacity=\"1\" stroke-width=\"3.2\"/>\n",
       "<circle clip-path=\"url(#clip552)\" cx=\"1932.37\" cy=\"88.7176\" r=\"14\" fill=\"#009af9\" fill-rule=\"evenodd\" fill-opacity=\"1\" stroke=\"#000000\" stroke-opacity=\"1\" stroke-width=\"3.2\"/>\n",
       "<circle clip-path=\"url(#clip552)\" cx=\"1964.99\" cy=\"87.9764\" r=\"14\" fill=\"#009af9\" fill-rule=\"evenodd\" fill-opacity=\"1\" stroke=\"#000000\" stroke-opacity=\"1\" stroke-width=\"3.2\"/>\n",
       "<circle clip-path=\"url(#clip552)\" cx=\"1997.6\" cy=\"88.6472\" r=\"14\" fill=\"#009af9\" fill-rule=\"evenodd\" fill-opacity=\"1\" stroke=\"#000000\" stroke-opacity=\"1\" stroke-width=\"3.2\"/>\n",
       "<circle clip-path=\"url(#clip552)\" cx=\"2030.21\" cy=\"95.7832\" r=\"14\" fill=\"#009af9\" fill-rule=\"evenodd\" fill-opacity=\"1\" stroke=\"#000000\" stroke-opacity=\"1\" stroke-width=\"3.2\"/>\n",
       "<circle clip-path=\"url(#clip552)\" cx=\"2062.83\" cy=\"87.9773\" r=\"14\" fill=\"#009af9\" fill-rule=\"evenodd\" fill-opacity=\"1\" stroke=\"#000000\" stroke-opacity=\"1\" stroke-width=\"3.2\"/>\n",
       "<circle clip-path=\"url(#clip552)\" cx=\"2095.44\" cy=\"1438.01\" r=\"14\" fill=\"#009af9\" fill-rule=\"evenodd\" fill-opacity=\"1\" stroke=\"#000000\" stroke-opacity=\"1\" stroke-width=\"3.2\"/>\n",
       "<circle clip-path=\"url(#clip552)\" cx=\"2128.05\" cy=\"90.1203\" r=\"14\" fill=\"#009af9\" fill-rule=\"evenodd\" fill-opacity=\"1\" stroke=\"#000000\" stroke-opacity=\"1\" stroke-width=\"3.2\"/>\n",
       "<circle clip-path=\"url(#clip552)\" cx=\"2160.67\" cy=\"1436.8\" r=\"14\" fill=\"#009af9\" fill-rule=\"evenodd\" fill-opacity=\"1\" stroke=\"#000000\" stroke-opacity=\"1\" stroke-width=\"3.2\"/>\n",
       "<circle clip-path=\"url(#clip552)\" cx=\"2193.28\" cy=\"1439.07\" r=\"14\" fill=\"#009af9\" fill-rule=\"evenodd\" fill-opacity=\"1\" stroke=\"#000000\" stroke-opacity=\"1\" stroke-width=\"3.2\"/>\n",
       "<circle clip-path=\"url(#clip552)\" cx=\"2225.89\" cy=\"1438.08\" r=\"14\" fill=\"#009af9\" fill-rule=\"evenodd\" fill-opacity=\"1\" stroke=\"#000000\" stroke-opacity=\"1\" stroke-width=\"3.2\"/>\n",
       "<circle clip-path=\"url(#clip552)\" cx=\"2258.5\" cy=\"1437.82\" r=\"14\" fill=\"#009af9\" fill-rule=\"evenodd\" fill-opacity=\"1\" stroke=\"#000000\" stroke-opacity=\"1\" stroke-width=\"3.2\"/>\n",
       "<circle clip-path=\"url(#clip552)\" cx=\"2291.12\" cy=\"1438.51\" r=\"14\" fill=\"#009af9\" fill-rule=\"evenodd\" fill-opacity=\"1\" stroke=\"#000000\" stroke-opacity=\"1\" stroke-width=\"3.2\"/>\n",
       "<polyline clip-path=\"url(#clip552)\" style=\"stroke:#e26f46; stroke-width:4; stroke-opacity:1; fill:none\" points=\"\n",
       "  236.501,1445.72 269.113,1445.72 301.726,1445.72 334.339,87.9763 366.952,1445.72 399.565,1445.72 432.178,87.9763 464.791,1445.72 497.404,1445.72 530.017,87.9763 \n",
       "  562.63,1445.72 595.243,87.9763 627.856,1445.72 660.469,87.9763 693.082,1445.72 725.695,87.9763 758.308,1445.72 790.921,1445.72 823.534,87.9763 856.147,87.9763 \n",
       "  888.76,1445.72 921.373,1445.72 953.986,1445.72 986.599,87.9763 1019.21,1445.72 1051.82,87.9763 1084.44,1445.72 1117.05,87.9763 1149.66,1445.72 1182.28,87.9763 \n",
       "  1214.89,87.9763 1247.5,1445.72 1280.12,87.9763 1312.73,1445.72 1345.34,1445.72 1377.95,1445.72 1410.57,1445.72 1443.18,87.9763 1475.79,87.9763 1508.41,1445.72 \n",
       "  1541.02,87.9763 1573.63,1445.72 1606.25,87.9763 1638.86,1445.72 1671.47,87.9763 1704.08,1445.72 1736.7,1445.72 1769.31,87.9763 1801.92,1445.72 1834.54,1445.72 \n",
       "  1867.15,87.9763 1899.76,87.9763 1932.37,87.9763 1964.99,87.9763 1997.6,87.9763 2030.21,87.9763 2062.83,87.9763 2095.44,1445.72 2128.05,87.9763 2160.67,1445.72 \n",
       "  2193.28,1445.72 2225.89,1445.72 2258.5,1445.72 2291.12,1445.72 \n",
       "  \"/>\n",
       "<path clip-path=\"url(#clip550)\" d=\"\n",
       "M1987.15 276.658 L2280.16 276.658 L2280.16 95.2176 L1987.15 95.2176  Z\n",
       "  \" fill=\"#ffffff\" fill-rule=\"evenodd\" fill-opacity=\"1\"/>\n",
       "<polyline clip-path=\"url(#clip550)\" style=\"stroke:#000000; stroke-width:4; stroke-opacity:1; fill:none\" points=\"\n",
       "  1987.15,276.658 2280.16,276.658 2280.16,95.2176 1987.15,95.2176 1987.15,276.658 \n",
       "  \"/>\n",
       "<circle clip-path=\"url(#clip550)\" cx=\"2083.95\" cy=\"155.698\" r=\"23\" fill=\"#009af9\" fill-rule=\"evenodd\" fill-opacity=\"1\" stroke=\"#000000\" stroke-opacity=\"1\" stroke-width=\"5.12\"/>\n",
       "<path clip-path=\"url(#clip550)\" d=\"M 0 0 M2194.59 175.385 Q2192.78 180.015 2191.07 181.427 Q2189.35 182.839 2186.48 182.839 L2183.08 182.839 L2183.08 179.274 L2185.58 179.274 Q2187.34 179.274 2188.31 178.44 Q2189.29 177.607 2190.47 174.505 L2191.23 172.561 L2180.74 147.052 L2185.26 147.052 L2193.36 167.329 L2201.46 147.052 L2205.97 147.052 L2194.59 175.385 Z\" fill=\"#000000\" fill-rule=\"evenodd\" fill-opacity=\"1\" /><path clip-path=\"url(#clip550)\" d=\"M 0 0 M2211.85 169.042 L2219.49 169.042 L2219.49 142.677 L2211.18 144.343 L2211.18 140.084 L2219.45 138.418 L2224.12 138.418 L2224.12 169.042 L2231.76 169.042 L2231.76 172.978 L2211.85 172.978 L2211.85 169.042 Z\" fill=\"#000000\" fill-rule=\"evenodd\" fill-opacity=\"1\" /><polyline clip-path=\"url(#clip550)\" style=\"stroke:#e26f46; stroke-width:4; stroke-opacity:1; fill:none\" points=\"\n",
       "  2011.35,216.178 2156.54,216.178 \n",
       "  \"/>\n",
       "<path clip-path=\"url(#clip550)\" d=\"M 0 0 M2194.59 235.865 Q2192.78 240.495 2191.07 241.907 Q2189.35 243.319 2186.48 243.319 L2183.08 243.319 L2183.08 239.754 L2185.58 239.754 Q2187.34 239.754 2188.31 238.92 Q2189.29 238.087 2190.47 234.985 L2191.23 233.041 L2180.74 207.532 L2185.26 207.532 L2193.36 227.809 L2201.46 207.532 L2205.97 207.532 L2194.59 235.865 Z\" fill=\"#000000\" fill-rule=\"evenodd\" fill-opacity=\"1\" /><path clip-path=\"url(#clip550)\" d=\"M 0 0 M2215.07 229.522 L2231.39 229.522 L2231.39 233.458 L2209.45 233.458 L2209.45 229.522 Q2212.11 226.768 2216.69 222.138 Q2221.3 217.485 2222.48 216.143 Q2224.72 213.62 2225.6 211.884 Q2226.51 210.124 2226.51 208.435 Q2226.51 205.68 2224.56 203.944 Q2222.64 202.208 2219.54 202.208 Q2217.34 202.208 2214.89 202.972 Q2212.46 203.735 2209.68 205.286 L2209.68 200.564 Q2212.5 199.43 2214.96 198.851 Q2217.41 198.273 2219.45 198.273 Q2224.82 198.273 2228.01 200.958 Q2231.21 203.643 2231.21 208.134 Q2231.21 210.263 2230.4 212.185 Q2229.61 214.083 2227.5 216.675 Q2226.92 217.347 2223.82 220.564 Q2220.72 223.759 2215.07 229.522 Z\" fill=\"#000000\" fill-rule=\"evenodd\" fill-opacity=\"1\" /></svg>\n"
      ]
     },
     "execution_count": 302,
     "metadata": {},
     "output_type": "execute_result"
    }
   ],
   "source": [
    "np=min(ntest,64)\n",
    "scatter(pred(w,b,xtst)[1:np]\n",
    "#    ,xlim=(0,np)\n",
    ")\n",
    "plot!(ytst[1:np])"
   ]
  },
  {
   "cell_type": "code",
   "execution_count": 303,
   "metadata": {},
   "outputs": [
    {
     "data": {
      "text/plain": [
       "([0 0 … 1 1; 0 0 … 1 1; … ; 0 1 … 1 1; 1 1 … 0 1], [1 0 … 1 0], [1 1 … 0 1; 1 0 … 1 1; … ; 0 0 … 1 1; 1 1 … 1 1], [0 0 … 0 1])"
      ]
     },
     "execution_count": 303,
     "metadata": {},
     "output_type": "execute_result"
    }
   ],
   "source": [
    "# accuracy\n",
    "function acc(x,y)\n",
    "    cnt = 0\n",
    "    tot = length(x[1,:])\n",
    "    for i=1:tot-1\n",
    "        chk = (pred(w,b,x[:,i])[1] - y[i][1])^2\n",
    "        if (chk < 0.5)\n",
    "            cnt += 1\n",
    "        end\n",
    "    end\n",
    "    return 1.0*cnt/tot\n",
    "end\n",
    "\n",
    "trainidx, testidx = mlp.gen_data(n, ntest)\n",
    "xtrn, ytrn, xtst, ytst = mlp.split_data(trainidx, testidx, n, ntest)"
   ]
  },
  {
   "cell_type": "code",
   "execution_count": 304,
   "metadata": {},
   "outputs": [
    {
     "data": {
      "text/plain": [
       "(0.9938598939436226, 0.9921875)"
      ]
     },
     "execution_count": 304,
     "metadata": {},
     "output_type": "execute_result"
    }
   ],
   "source": [
    "acc(xtrn,ytrn),acc(xtst,ytst)"
   ]
  },
  {
   "cell_type": "code",
   "execution_count": 305,
   "metadata": {},
   "outputs": [
    {
     "data": {
      "text/plain": [
       "(0.9938403572425336, 0.99234375)"
      ]
     },
     "execution_count": 305,
     "metadata": {},
     "output_type": "execute_result"
    }
   ],
   "source": [
    "# acc over 100 trials\n",
    "sumtrn = 0.0; sumtst = 0.0\n",
    "\n",
    "for i=1:100\n",
    "    trainidx, testidx = mlp.gen_data(n, ntest)\n",
    "    xtrn, ytrn, xtst, ytst = mlp.split_data(trainidx, testidx, n, ntest)\n",
    "    sumtrn += acc(xtrn,ytrn); sumtst += acc(xtst,ytst)\n",
    "end\n",
    "\n",
    "(sumtrn/100,sumtst/100) "
   ]
  },
  {
   "cell_type": "code",
   "execution_count": 306,
   "metadata": {},
   "outputs": [
    {
     "data": {
      "image/svg+xml": [
       "<?xml version=\"1.0\" encoding=\"utf-8\"?>\n",
       "<svg xmlns=\"http://www.w3.org/2000/svg\" xmlns:xlink=\"http://www.w3.org/1999/xlink\" width=\"600\" height=\"400\" viewBox=\"0 0 2400 1600\">\n",
       "<defs>\n",
       "  <clipPath id=\"clip590\">\n",
       "    <rect x=\"0\" y=\"0\" width=\"2400\" height=\"1600\"/>\n",
       "  </clipPath>\n",
       "</defs>\n",
       "<path clip-path=\"url(#clip590)\" d=\"\n",
       "M0 1600 L2400 1600 L2400 0 L0 0  Z\n",
       "  \" fill=\"#ffffff\" fill-rule=\"evenodd\" fill-opacity=\"1\"/>\n",
       "<defs>\n",
       "  <clipPath id=\"clip591\">\n",
       "    <rect x=\"480\" y=\"0\" width=\"1681\" height=\"1600\"/>\n",
       "  </clipPath>\n",
       "</defs>\n",
       "<path clip-path=\"url(#clip590)\" d=\"\n",
       "M148.334 1486.45 L2352.76 1486.45 L2352.76 47.2441 L148.334 47.2441  Z\n",
       "  \" fill=\"#ffffff\" fill-rule=\"evenodd\" fill-opacity=\"1\"/>\n",
       "<defs>\n",
       "  <clipPath id=\"clip592\">\n",
       "    <rect x=\"148\" y=\"47\" width=\"2205\" height=\"1440\"/>\n",
       "  </clipPath>\n",
       "</defs>\n",
       "<polyline clip-path=\"url(#clip592)\" style=\"stroke:#000000; stroke-width:2; stroke-opacity:0.1; fill:none\" points=\"\n",
       "  164.509,1486.45 164.509,47.2441 \n",
       "  \"/>\n",
       "<polyline clip-path=\"url(#clip592)\" style=\"stroke:#000000; stroke-width:2; stroke-opacity:0.1; fill:none\" points=\"\n",
       "  626.652,1486.45 626.652,47.2441 \n",
       "  \"/>\n",
       "<polyline clip-path=\"url(#clip592)\" style=\"stroke:#000000; stroke-width:2; stroke-opacity:0.1; fill:none\" points=\"\n",
       "  1088.8,1486.45 1088.8,47.2441 \n",
       "  \"/>\n",
       "<polyline clip-path=\"url(#clip592)\" style=\"stroke:#000000; stroke-width:2; stroke-opacity:0.1; fill:none\" points=\"\n",
       "  1550.94,1486.45 1550.94,47.2441 \n",
       "  \"/>\n",
       "<polyline clip-path=\"url(#clip592)\" style=\"stroke:#000000; stroke-width:2; stroke-opacity:0.1; fill:none\" points=\"\n",
       "  2013.08,1486.45 2013.08,47.2441 \n",
       "  \"/>\n",
       "<polyline clip-path=\"url(#clip590)\" style=\"stroke:#000000; stroke-width:4; stroke-opacity:1; fill:none\" points=\"\n",
       "  148.334,1486.45 2352.76,1486.45 \n",
       "  \"/>\n",
       "<polyline clip-path=\"url(#clip590)\" style=\"stroke:#000000; stroke-width:4; stroke-opacity:1; fill:none\" points=\"\n",
       "  164.509,1486.45 164.509,1469.18 \n",
       "  \"/>\n",
       "<polyline clip-path=\"url(#clip590)\" style=\"stroke:#000000; stroke-width:4; stroke-opacity:1; fill:none\" points=\"\n",
       "  626.652,1486.45 626.652,1469.18 \n",
       "  \"/>\n",
       "<polyline clip-path=\"url(#clip590)\" style=\"stroke:#000000; stroke-width:4; stroke-opacity:1; fill:none\" points=\"\n",
       "  1088.8,1486.45 1088.8,1469.18 \n",
       "  \"/>\n",
       "<polyline clip-path=\"url(#clip590)\" style=\"stroke:#000000; stroke-width:4; stroke-opacity:1; fill:none\" points=\"\n",
       "  1550.94,1486.45 1550.94,1469.18 \n",
       "  \"/>\n",
       "<polyline clip-path=\"url(#clip590)\" style=\"stroke:#000000; stroke-width:4; stroke-opacity:1; fill:none\" points=\"\n",
       "  2013.08,1486.45 2013.08,1469.18 \n",
       "  \"/>\n",
       "<path clip-path=\"url(#clip590)\" d=\"M 0 0 M164.509 1515.64 Q160.898 1515.64 159.07 1519.2 Q157.264 1522.75 157.264 1529.87 Q157.264 1536.98 159.07 1540.55 Q160.898 1544.09 164.509 1544.09 Q168.144 1544.09 169.949 1540.55 Q171.778 1536.98 171.778 1529.87 Q171.778 1522.75 169.949 1519.2 Q168.144 1515.64 164.509 1515.64 M164.509 1511.93 Q170.32 1511.93 173.375 1516.54 Q176.454 1521.12 176.454 1529.87 Q176.454 1538.6 173.375 1543.21 Q170.32 1547.79 164.509 1547.79 Q158.699 1547.79 155.621 1543.21 Q152.565 1538.6 152.565 1529.87 Q152.565 1521.12 155.621 1516.54 Q158.699 1511.93 164.509 1511.93 Z\" fill=\"#000000\" fill-rule=\"evenodd\" fill-opacity=\"1\" /><path clip-path=\"url(#clip590)\" d=\"M 0 0 M603.527 1543.18 L611.166 1543.18 L611.166 1516.82 L602.856 1518.49 L602.856 1514.23 L611.12 1512.56 L615.796 1512.56 L615.796 1543.18 L623.435 1543.18 L623.435 1547.12 L603.527 1547.12 L603.527 1543.18 Z\" fill=\"#000000\" fill-rule=\"evenodd\" fill-opacity=\"1\" /><path clip-path=\"url(#clip590)\" d=\"M 0 0 M638.504 1515.64 Q634.893 1515.64 633.064 1519.2 Q631.259 1522.75 631.259 1529.87 Q631.259 1536.98 633.064 1540.55 Q634.893 1544.09 638.504 1544.09 Q642.138 1544.09 643.944 1540.55 Q645.773 1536.98 645.773 1529.87 Q645.773 1522.75 643.944 1519.2 Q642.138 1515.64 638.504 1515.64 M638.504 1511.93 Q644.314 1511.93 647.37 1516.54 Q650.448 1521.12 650.448 1529.87 Q650.448 1538.6 647.37 1543.21 Q644.314 1547.79 638.504 1547.79 Q632.694 1547.79 629.615 1543.21 Q626.56 1538.6 626.56 1529.87 Q626.56 1521.12 629.615 1516.54 Q632.694 1511.93 638.504 1511.93 Z\" fill=\"#000000\" fill-rule=\"evenodd\" fill-opacity=\"1\" /><path clip-path=\"url(#clip590)\" d=\"M 0 0 M1069.94 1543.18 L1086.26 1543.18 L1086.26 1547.12 L1064.32 1547.12 L1064.32 1543.18 Q1066.98 1540.43 1071.56 1535.8 Q1076.17 1531.15 1077.35 1529.81 Q1079.59 1527.28 1080.47 1525.55 Q1081.38 1523.79 1081.38 1522.1 Q1081.38 1519.34 1079.43 1517.61 Q1077.51 1515.87 1074.41 1515.87 Q1072.21 1515.87 1069.76 1516.63 Q1067.33 1517.4 1064.55 1518.95 L1064.55 1514.23 Q1067.37 1513.09 1069.83 1512.51 Q1072.28 1511.93 1074.32 1511.93 Q1079.69 1511.93 1082.88 1514.62 Q1086.08 1517.31 1086.08 1521.8 Q1086.08 1523.93 1085.27 1525.85 Q1084.48 1527.74 1082.37 1530.34 Q1081.79 1531.01 1078.69 1534.23 Q1075.59 1537.42 1069.94 1543.18 Z\" fill=\"#000000\" fill-rule=\"evenodd\" fill-opacity=\"1\" /><path clip-path=\"url(#clip590)\" d=\"M 0 0 M1101.33 1515.64 Q1097.72 1515.64 1095.89 1519.2 Q1094.08 1522.75 1094.08 1529.87 Q1094.08 1536.98 1095.89 1540.55 Q1097.72 1544.09 1101.33 1544.09 Q1104.96 1544.09 1106.77 1540.55 Q1108.6 1536.98 1108.6 1529.87 Q1108.6 1522.75 1106.77 1519.2 Q1104.96 1515.64 1101.33 1515.64 M1101.33 1511.93 Q1107.14 1511.93 1110.2 1516.54 Q1113.27 1521.12 1113.27 1529.87 Q1113.27 1538.6 1110.2 1543.21 Q1107.14 1547.79 1101.33 1547.79 Q1095.52 1547.79 1092.44 1543.21 Q1089.39 1538.6 1089.39 1529.87 Q1089.39 1521.12 1092.44 1516.54 Q1095.52 1511.93 1101.33 1511.93 Z\" fill=\"#000000\" fill-rule=\"evenodd\" fill-opacity=\"1\" /><path clip-path=\"url(#clip590)\" d=\"M 0 0 M1541.68 1528.49 Q1545.04 1529.2 1546.91 1531.47 Q1548.81 1533.74 1548.81 1537.07 Q1548.81 1542.19 1545.29 1544.99 Q1541.77 1547.79 1535.29 1547.79 Q1533.11 1547.79 1530.8 1547.35 Q1528.51 1546.93 1526.05 1546.08 L1526.05 1541.56 Q1528 1542.7 1530.31 1543.28 Q1532.63 1543.86 1535.15 1543.86 Q1539.55 1543.86 1541.84 1542.12 Q1544.16 1540.38 1544.16 1537.07 Q1544.16 1534.02 1542 1532.31 Q1539.87 1530.57 1536.05 1530.57 L1532.03 1530.57 L1532.03 1526.73 L1536.24 1526.73 Q1539.69 1526.73 1541.52 1525.36 Q1543.35 1523.97 1543.35 1521.38 Q1543.35 1518.72 1541.45 1517.31 Q1539.57 1515.87 1536.05 1515.87 Q1534.13 1515.87 1531.93 1516.29 Q1529.73 1516.7 1527.1 1517.58 L1527.1 1513.42 Q1529.76 1512.68 1532.07 1512.31 Q1534.41 1511.93 1536.47 1511.93 Q1541.79 1511.93 1544.9 1514.37 Q1548 1516.77 1548 1520.89 Q1548 1523.76 1546.35 1525.75 Q1544.71 1527.72 1541.68 1528.49 Z\" fill=\"#000000\" fill-rule=\"evenodd\" fill-opacity=\"1\" /><path clip-path=\"url(#clip590)\" d=\"M 0 0 M1563.88 1515.64 Q1560.27 1515.64 1558.44 1519.2 Q1556.63 1522.75 1556.63 1529.87 Q1556.63 1536.98 1558.44 1540.55 Q1560.27 1544.09 1563.88 1544.09 Q1567.51 1544.09 1569.32 1540.55 Q1571.15 1536.98 1571.15 1529.87 Q1571.15 1522.75 1569.32 1519.2 Q1567.51 1515.64 1563.88 1515.64 M1563.88 1511.93 Q1569.69 1511.93 1572.74 1516.54 Q1575.82 1521.12 1575.82 1529.87 Q1575.82 1538.6 1572.74 1543.21 Q1569.69 1547.79 1563.88 1547.79 Q1558.07 1547.79 1554.99 1543.21 Q1551.93 1538.6 1551.93 1529.87 Q1551.93 1521.12 1554.99 1516.54 Q1558.07 1511.93 1563.88 1511.93 Z\" fill=\"#000000\" fill-rule=\"evenodd\" fill-opacity=\"1\" /><path clip-path=\"url(#clip590)\" d=\"M 0 0 M2002.58 1516.63 L1990.78 1535.08 L2002.58 1535.08 L2002.58 1516.63 M2001.36 1512.56 L2007.24 1512.56 L2007.24 1535.08 L2012.17 1535.08 L2012.17 1538.97 L2007.24 1538.97 L2007.24 1547.12 L2002.58 1547.12 L2002.58 1538.97 L1986.98 1538.97 L1986.98 1534.46 L2001.36 1512.56 Z\" fill=\"#000000\" fill-rule=\"evenodd\" fill-opacity=\"1\" /><path clip-path=\"url(#clip590)\" d=\"M 0 0 M2027.24 1515.64 Q2023.62 1515.64 2021.8 1519.2 Q2019.99 1522.75 2019.99 1529.87 Q2019.99 1536.98 2021.8 1540.55 Q2023.62 1544.09 2027.24 1544.09 Q2030.87 1544.09 2032.68 1540.55 Q2034.5 1536.98 2034.5 1529.87 Q2034.5 1522.75 2032.68 1519.2 Q2030.87 1515.64 2027.24 1515.64 M2027.24 1511.93 Q2033.05 1511.93 2036.1 1516.54 Q2039.18 1521.12 2039.18 1529.87 Q2039.18 1538.6 2036.1 1543.21 Q2033.05 1547.79 2027.24 1547.79 Q2021.43 1547.79 2018.35 1543.21 Q2015.29 1538.6 2015.29 1529.87 Q2015.29 1521.12 2018.35 1516.54 Q2021.43 1511.93 2027.24 1511.93 Z\" fill=\"#000000\" fill-rule=\"evenodd\" fill-opacity=\"1\" /><polyline clip-path=\"url(#clip592)\" style=\"stroke:#000000; stroke-width:2; stroke-opacity:0.1; fill:none\" points=\"\n",
       "  148.334,1461.73 2352.76,1461.73 \n",
       "  \"/>\n",
       "<polyline clip-path=\"url(#clip592)\" style=\"stroke:#000000; stroke-width:2; stroke-opacity:0.1; fill:none\" points=\"\n",
       "  148.334,1179.23 2352.76,1179.23 \n",
       "  \"/>\n",
       "<polyline clip-path=\"url(#clip592)\" style=\"stroke:#000000; stroke-width:2; stroke-opacity:0.1; fill:none\" points=\"\n",
       "  148.334,896.729 2352.76,896.729 \n",
       "  \"/>\n",
       "<polyline clip-path=\"url(#clip592)\" style=\"stroke:#000000; stroke-width:2; stroke-opacity:0.1; fill:none\" points=\"\n",
       "  148.334,614.23 2352.76,614.23 \n",
       "  \"/>\n",
       "<polyline clip-path=\"url(#clip592)\" style=\"stroke:#000000; stroke-width:2; stroke-opacity:0.1; fill:none\" points=\"\n",
       "  148.334,331.731 2352.76,331.731 \n",
       "  \"/>\n",
       "<polyline clip-path=\"url(#clip592)\" style=\"stroke:#000000; stroke-width:2; stroke-opacity:0.1; fill:none\" points=\"\n",
       "  148.334,49.2316 2352.76,49.2316 \n",
       "  \"/>\n",
       "<polyline clip-path=\"url(#clip590)\" style=\"stroke:#000000; stroke-width:4; stroke-opacity:1; fill:none\" points=\"\n",
       "  148.334,1486.45 148.334,47.2441 \n",
       "  \"/>\n",
       "<polyline clip-path=\"url(#clip590)\" style=\"stroke:#000000; stroke-width:4; stroke-opacity:1; fill:none\" points=\"\n",
       "  148.334,1461.73 174.787,1461.73 \n",
       "  \"/>\n",
       "<polyline clip-path=\"url(#clip590)\" style=\"stroke:#000000; stroke-width:4; stroke-opacity:1; fill:none\" points=\"\n",
       "  148.334,1179.23 174.787,1179.23 \n",
       "  \"/>\n",
       "<polyline clip-path=\"url(#clip590)\" style=\"stroke:#000000; stroke-width:4; stroke-opacity:1; fill:none\" points=\"\n",
       "  148.334,896.729 174.787,896.729 \n",
       "  \"/>\n",
       "<polyline clip-path=\"url(#clip590)\" style=\"stroke:#000000; stroke-width:4; stroke-opacity:1; fill:none\" points=\"\n",
       "  148.334,614.23 174.787,614.23 \n",
       "  \"/>\n",
       "<polyline clip-path=\"url(#clip590)\" style=\"stroke:#000000; stroke-width:4; stroke-opacity:1; fill:none\" points=\"\n",
       "  148.334,331.731 174.787,331.731 \n",
       "  \"/>\n",
       "<polyline clip-path=\"url(#clip590)\" style=\"stroke:#000000; stroke-width:4; stroke-opacity:1; fill:none\" points=\"\n",
       "  148.334,49.2316 174.787,49.2316 \n",
       "  \"/>\n",
       "<path clip-path=\"url(#clip590)\" d=\"M 0 0 M63.4226 1447.53 Q59.8115 1447.53 57.9828 1451.09 Q56.1773 1454.63 56.1773 1461.76 Q56.1773 1468.87 57.9828 1472.43 Q59.8115 1475.98 63.4226 1475.98 Q67.0569 1475.98 68.8624 1472.43 Q70.6911 1468.87 70.6911 1461.76 Q70.6911 1454.63 68.8624 1451.09 Q67.0569 1447.53 63.4226 1447.53 M63.4226 1443.82 Q69.2328 1443.82 72.2883 1448.43 Q75.367 1453.01 75.367 1461.76 Q75.367 1470.49 72.2883 1475.1 Q69.2328 1479.68 63.4226 1479.68 Q57.6125 1479.68 54.5338 1475.1 Q51.4782 1470.49 51.4782 1461.76 Q51.4782 1453.01 54.5338 1448.43 Q57.6125 1443.82 63.4226 1443.82 Z\" fill=\"#000000\" fill-rule=\"evenodd\" fill-opacity=\"1\" /><path clip-path=\"url(#clip590)\" d=\"M 0 0 M80.4364 1473.13 L85.3206 1473.13 L85.3206 1479.01 L80.4364 1479.01 L80.4364 1473.13 Z\" fill=\"#000000\" fill-rule=\"evenodd\" fill-opacity=\"1\" /><path clip-path=\"url(#clip590)\" d=\"M 0 0 M100.39 1447.53 Q96.7789 1447.53 94.9502 1451.09 Q93.1447 1454.63 93.1447 1461.76 Q93.1447 1468.87 94.9502 1472.43 Q96.7789 1475.98 100.39 1475.98 Q104.024 1475.98 105.83 1472.43 Q107.658 1468.87 107.658 1461.76 Q107.658 1454.63 105.83 1451.09 Q104.024 1447.53 100.39 1447.53 M100.39 1443.82 Q106.2 1443.82 109.256 1448.43 Q112.334 1453.01 112.334 1461.76 Q112.334 1470.49 109.256 1475.1 Q106.2 1479.68 100.39 1479.68 Q94.5799 1479.68 91.5012 1475.1 Q88.4456 1470.49 88.4456 1461.76 Q88.4456 1453.01 91.5012 1448.43 Q94.5799 1443.82 100.39 1443.82 Z\" fill=\"#000000\" fill-rule=\"evenodd\" fill-opacity=\"1\" /><path clip-path=\"url(#clip590)\" d=\"M 0 0 M64.6495 1165.03 Q61.0384 1165.03 59.2097 1168.59 Q57.4041 1172.13 57.4041 1179.26 Q57.4041 1186.37 59.2097 1189.93 Q61.0384 1193.48 64.6495 1193.48 Q68.2837 1193.48 70.0892 1189.93 Q71.9179 1186.37 71.9179 1179.26 Q71.9179 1172.13 70.0892 1168.59 Q68.2837 1165.03 64.6495 1165.03 M64.6495 1161.32 Q70.4596 1161.32 73.5152 1165.93 Q76.5938 1170.51 76.5938 1179.26 Q76.5938 1187.99 73.5152 1192.6 Q70.4596 1197.18 64.6495 1197.18 Q58.8393 1197.18 55.7606 1192.6 Q52.7051 1187.99 52.7051 1179.26 Q52.7051 1170.51 55.7606 1165.93 Q58.8393 1161.32 64.6495 1161.32 Z\" fill=\"#000000\" fill-rule=\"evenodd\" fill-opacity=\"1\" /><path clip-path=\"url(#clip590)\" d=\"M 0 0 M81.6633 1190.63 L86.5475 1190.63 L86.5475 1196.51 L81.6633 1196.51 L81.6633 1190.63 Z\" fill=\"#000000\" fill-rule=\"evenodd\" fill-opacity=\"1\" /><path clip-path=\"url(#clip590)\" d=\"M 0 0 M92.4271 1192.57 L100.066 1192.57 L100.066 1166.21 L91.7558 1167.87 L91.7558 1163.61 L100.02 1161.95 L104.696 1161.95 L104.696 1192.57 L112.334 1192.57 L112.334 1196.51 L92.4271 1196.51 L92.4271 1192.57 Z\" fill=\"#000000\" fill-rule=\"evenodd\" fill-opacity=\"1\" /><path clip-path=\"url(#clip590)\" d=\"M 0 0 M65.0198 882.528 Q61.4087 882.528 59.58 886.093 Q57.7745 889.634 57.7745 896.764 Q57.7745 903.87 59.58 907.435 Q61.4087 910.977 65.0198 910.977 Q68.6541 910.977 70.4596 907.435 Q72.2883 903.87 72.2883 896.764 Q72.2883 889.634 70.4596 886.093 Q68.6541 882.528 65.0198 882.528 M65.0198 878.824 Q70.83 878.824 73.8855 883.431 Q76.9642 888.014 76.9642 896.764 Q76.9642 905.491 73.8855 910.097 Q70.83 914.68 65.0198 914.68 Q59.2097 914.68 56.131 910.097 Q53.0754 905.491 53.0754 896.764 Q53.0754 888.014 56.131 883.431 Q59.2097 878.824 65.0198 878.824 Z\" fill=\"#000000\" fill-rule=\"evenodd\" fill-opacity=\"1\" /><path clip-path=\"url(#clip590)\" d=\"M 0 0 M82.0336 908.13 L86.9179 908.13 L86.9179 914.009 L82.0336 914.009 L82.0336 908.13 Z\" fill=\"#000000\" fill-rule=\"evenodd\" fill-opacity=\"1\" /><path clip-path=\"url(#clip590)\" d=\"M 0 0 M96.015 910.074 L112.334 910.074 L112.334 914.009 L90.3901 914.009 L90.3901 910.074 Q93.0521 907.319 97.6354 902.69 Q102.242 898.037 103.422 896.694 Q105.668 894.171 106.547 892.435 Q107.45 890.676 107.45 888.986 Q107.45 886.231 105.506 884.495 Q103.584 882.759 100.483 882.759 Q98.2835 882.759 95.8298 883.523 Q93.3993 884.287 90.6215 885.838 L90.6215 881.116 Q93.4456 879.982 95.8993 879.403 Q98.353 878.824 100.39 878.824 Q105.76 878.824 108.955 881.509 Q112.149 884.194 112.149 888.685 Q112.149 890.815 111.339 892.736 Q110.552 894.634 108.446 897.227 Q107.867 897.898 104.765 901.116 Q101.663 904.31 96.015 910.074 Z\" fill=\"#000000\" fill-rule=\"evenodd\" fill-opacity=\"1\" /><path clip-path=\"url(#clip590)\" d=\"M 0 0 M64.0708 600.029 Q60.4597 600.029 58.631 603.593 Q56.8254 607.135 56.8254 614.265 Q56.8254 621.371 58.631 624.936 Q60.4597 628.478 64.0708 628.478 Q67.705 628.478 69.5105 624.936 Q71.3392 621.371 71.3392 614.265 Q71.3392 607.135 69.5105 603.593 Q67.705 600.029 64.0708 600.029 M64.0708 596.325 Q69.8809 596.325 72.9365 600.931 Q76.0151 605.515 76.0151 614.265 Q76.0151 622.991 72.9365 627.598 Q69.8809 632.181 64.0708 632.181 Q58.2606 632.181 55.1819 627.598 Q52.1264 622.991 52.1264 614.265 Q52.1264 605.515 55.1819 600.931 Q58.2606 596.325 64.0708 596.325 Z\" fill=\"#000000\" fill-rule=\"evenodd\" fill-opacity=\"1\" /><path clip-path=\"url(#clip590)\" d=\"M 0 0 M81.0846 625.63 L85.9688 625.63 L85.9688 631.51 L81.0846 631.51 L81.0846 625.63 Z\" fill=\"#000000\" fill-rule=\"evenodd\" fill-opacity=\"1\" /><path clip-path=\"url(#clip590)\" d=\"M 0 0 M105.205 612.876 Q108.561 613.593 110.436 615.862 Q112.334 618.13 112.334 621.464 Q112.334 626.579 108.816 629.38 Q105.297 632.181 98.8159 632.181 Q96.64 632.181 94.3252 631.741 Q92.0336 631.325 89.5799 630.468 L89.5799 625.954 Q91.5243 627.089 93.8391 627.667 Q96.1539 628.246 98.6771 628.246 Q103.075 628.246 105.367 626.51 Q107.682 624.774 107.682 621.464 Q107.682 618.408 105.529 616.695 Q103.399 614.959 99.5798 614.959 L95.5521 614.959 L95.5521 611.117 L99.765 611.117 Q103.214 611.117 105.043 609.751 Q106.871 608.362 106.871 605.769 Q106.871 603.107 104.973 601.695 Q103.098 600.26 99.5798 600.26 Q97.6585 600.26 95.4595 600.677 Q93.2604 601.093 90.6215 601.973 L90.6215 597.806 Q93.2836 597.066 95.5984 596.695 Q97.9363 596.325 99.9965 596.325 Q105.321 596.325 108.422 598.755 Q111.524 601.163 111.524 605.283 Q111.524 608.154 109.881 610.144 Q108.237 612.112 105.205 612.876 Z\" fill=\"#000000\" fill-rule=\"evenodd\" fill-opacity=\"1\" /><path clip-path=\"url(#clip590)\" d=\"M 0 0 M62.9365 317.529 Q59.3254 317.529 57.4967 321.094 Q55.6912 324.636 55.6912 331.765 Q55.6912 338.872 57.4967 342.437 Q59.3254 345.978 62.9365 345.978 Q66.5707 345.978 68.3763 342.437 Q70.205 338.872 70.205 331.765 Q70.205 324.636 68.3763 321.094 Q66.5707 317.529 62.9365 317.529 M62.9365 313.826 Q68.7467 313.826 71.8022 318.432 Q74.8809 323.016 74.8809 331.765 Q74.8809 340.492 71.8022 345.099 Q68.7467 349.682 62.9365 349.682 Q57.1264 349.682 54.0477 345.099 Q50.9921 340.492 50.9921 331.765 Q50.9921 323.016 54.0477 318.432 Q57.1264 313.826 62.9365 313.826 Z\" fill=\"#000000\" fill-rule=\"evenodd\" fill-opacity=\"1\" /><path clip-path=\"url(#clip590)\" d=\"M 0 0 M79.9503 343.131 L84.8345 343.131 L84.8345 349.011 L79.9503 349.011 L79.9503 343.131 Z\" fill=\"#000000\" fill-rule=\"evenodd\" fill-opacity=\"1\" /><path clip-path=\"url(#clip590)\" d=\"M 0 0 M102.751 318.525 L90.9456 336.974 L102.751 336.974 L102.751 318.525 M101.524 314.451 L107.404 314.451 L107.404 336.974 L112.334 336.974 L112.334 340.863 L107.404 340.863 L107.404 349.011 L102.751 349.011 L102.751 340.863 L87.1493 340.863 L87.1493 336.349 L101.524 314.451 Z\" fill=\"#000000\" fill-rule=\"evenodd\" fill-opacity=\"1\" /><path clip-path=\"url(#clip590)\" d=\"M 0 0 M64.418 35.0303 Q60.8069 35.0303 58.9782 38.5951 Q57.1726 42.1367 57.1726 49.2663 Q57.1726 56.3727 58.9782 59.9375 Q60.8069 63.4792 64.418 63.4792 Q68.0522 63.4792 69.8578 59.9375 Q71.6865 56.3727 71.6865 49.2663 Q71.6865 42.1367 69.8578 38.5951 Q68.0522 35.0303 64.418 35.0303 M64.418 31.3266 Q70.2281 31.3266 73.2837 35.933 Q76.3624 40.5163 76.3624 49.2663 Q76.3624 57.9931 73.2837 62.5996 Q70.2281 67.1829 64.418 67.1829 Q58.6078 67.1829 55.5291 62.5996 Q52.4736 57.9931 52.4736 49.2663 Q52.4736 40.5163 55.5291 35.933 Q58.6078 31.3266 64.418 31.3266 Z\" fill=\"#000000\" fill-rule=\"evenodd\" fill-opacity=\"1\" /><path clip-path=\"url(#clip590)\" d=\"M 0 0 M81.4318 60.632 L86.316 60.632 L86.316 66.5116 L81.4318 66.5116 L81.4318 60.632 Z\" fill=\"#000000\" fill-rule=\"evenodd\" fill-opacity=\"1\" /><path clip-path=\"url(#clip590)\" d=\"M 0 0 M91.4317 31.9516 L109.788 31.9516 L109.788 35.8867 L95.7141 35.8867 L95.7141 44.3589 Q96.7326 44.0117 97.7511 43.8497 Q98.7696 43.6645 99.7882 43.6645 Q105.575 43.6645 108.955 46.8358 Q112.334 50.007 112.334 55.4237 Q112.334 61.0023 108.862 64.1042 Q105.39 67.1829 99.0706 67.1829 Q96.8947 67.1829 94.6262 66.8125 Q92.3808 66.4421 89.9734 65.7014 L89.9734 61.0023 Q92.0567 62.1366 94.2789 62.6922 Q96.5011 63.2477 98.978 63.2477 Q102.983 63.2477 105.321 61.1412 Q107.658 59.0348 107.658 55.4237 Q107.658 51.8126 105.321 49.7061 Q102.983 47.5996 98.978 47.5996 Q97.103 47.5996 95.228 48.0163 Q93.3762 48.433 91.4317 49.3126 L91.4317 31.9516 Z\" fill=\"#000000\" fill-rule=\"evenodd\" fill-opacity=\"1\" /><polyline clip-path=\"url(#clip592)\" style=\"stroke:#009af9; stroke-width:4; stroke-opacity:1; fill:none\" points=\"\n",
       "  256.938,87.9763 303.152,753.224 349.367,777.041 395.581,786.206 441.795,811.526 488.009,876.681 534.224,1007.26 580.438,1141.01 626.652,1193.93 672.867,1208.76 \n",
       "  719.081,1246.82 765.295,1225.56 811.509,1232.46 857.724,1234.81 903.938,1234.16 950.152,1436.59 996.367,1442.06 1042.58,1443.54 1088.8,1444.05 1135.01,1444.78 \n",
       "  1181.22,1445.02 1227.44,1445.36 1273.65,1445.39 1319.87,1445.51 1366.08,1445.53 1412.3,1445.54 1458.51,1445.55 1504.72,1445.57 1550.94,1445.59 1597.15,1445.6 \n",
       "  1643.37,1445.59 1689.58,1445.62 1735.8,1445.64 1782.01,1445.64 1828.22,1445.65 1874.44,1445.65 1920.65,1444.13 1966.87,1445.66 2013.08,1445.67 2059.3,1445.68 \n",
       "  2105.51,1445.69 2151.72,1445.69 2197.94,1445.69 2244.15,1445.7 2290.37,1445.72 \n",
       "  \"/>\n",
       "<path clip-path=\"url(#clip590)\" d=\"\n",
       "M1983.32 216.178 L2279.28 216.178 L2279.28 95.2176 L1983.32 95.2176  Z\n",
       "  \" fill=\"#ffffff\" fill-rule=\"evenodd\" fill-opacity=\"1\"/>\n",
       "<polyline clip-path=\"url(#clip590)\" style=\"stroke:#000000; stroke-width:4; stroke-opacity:1; fill:none\" points=\"\n",
       "  1983.32,216.178 2279.28,216.178 2279.28,95.2176 1983.32,95.2176 1983.32,216.178 \n",
       "  \"/>\n",
       "<polyline clip-path=\"url(#clip590)\" style=\"stroke:#009af9; stroke-width:4; stroke-opacity:1; fill:none\" points=\"\n",
       "  2007.81,155.698 2154.78,155.698 \n",
       "  \"/>\n",
       "<path clip-path=\"url(#clip590)\" d=\"M 0 0 M2193.11 175.385 Q2191.31 180.015 2189.59 181.427 Q2187.88 182.839 2185.01 182.839 L2181.61 182.839 L2181.61 179.274 L2184.11 179.274 Q2185.87 179.274 2186.84 178.44 Q2187.81 177.607 2188.99 174.505 L2189.76 172.561 L2179.27 147.052 L2183.78 147.052 L2191.89 167.329 L2199.99 147.052 L2204.5 147.052 L2193.11 175.385 Z\" fill=\"#000000\" fill-rule=\"evenodd\" fill-opacity=\"1\" /><path clip-path=\"url(#clip590)\" d=\"M 0 0 M2210.38 169.042 L2218.02 169.042 L2218.02 142.677 L2209.71 144.343 L2209.71 140.084 L2217.97 138.418 L2222.65 138.418 L2222.65 169.042 L2230.29 169.042 L2230.29 172.978 L2210.38 172.978 L2210.38 169.042 Z\" fill=\"#000000\" fill-rule=\"evenodd\" fill-opacity=\"1\" /></svg>\n"
      ]
     },
     "execution_count": 306,
     "metadata": {},
     "output_type": "execute_result"
    }
   ],
   "source": [
    "# loss change between rewiring checkpoints,\n",
    "# only loss values in rewiring iterations included\n",
    "plot(losscheck)"
   ]
  },
  {
   "cell_type": "code",
   "execution_count": null,
   "metadata": {},
   "outputs": [],
   "source": []
  }
 ],
 "metadata": {
  "kernelspec": {
   "display_name": "Julia 1.5.3",
   "language": "julia",
   "name": "julia-1.5"
  },
  "language_info": {
   "file_extension": ".jl",
   "mimetype": "application/julia",
   "name": "julia",
   "version": "1.5.3"
  }
 },
 "nbformat": 4,
 "nbformat_minor": 4
}
