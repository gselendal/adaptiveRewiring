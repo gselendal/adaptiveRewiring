{
 "cells": [
  {
   "cell_type": "code",
   "execution_count": 1,
   "metadata": {},
   "outputs": [
    {
     "name": "stderr",
     "output_type": "stream",
     "text": [
      "WARNING: replacing module rewiring.\n",
      "WARNING: replacing module metrics.\n"
     ]
    }
   ],
   "source": [
    "using Revise\n",
    "includet(\"../codebase/mlp.jl\")\n",
    "\n",
    "using Knet, Plots, Statistics, LinearAlgebra, Random, .mlp"
   ]
  },
  {
   "cell_type": "code",
   "execution_count": null,
   "metadata": {},
   "outputs": [],
   "source": [
    "n=12 # length of input bit array\n",
    "xdim = n\n",
    "h1=h2=h3=2*n # hidden layer sizes\n",
    "ydim = 1 # output is the probability for even parity\n",
    "nbatch = 100 # number of bit strings presented at each iteration\n",
    "ntest = div(2^n,8) # keep 1/8-th as test set\n",
    "niter = 5 * 10^4 # number of training iterations"
   ]
  },
  {
   "cell_type": "code",
   "execution_count": null,
   "metadata": {},
   "outputs": [],
   "source": [
    "# NN parameters\n",
    "w1 = Param(randn(h1,xdim))\n",
    "b1 = Param(randn(h1))\n",
    "w2 = Param(randn(h2,h1))\n",
    "b2 = Param(randn(h2))\n",
    "w3 = Param(randn(h3,h2))\n",
    "b3 = Param(randn(h3))\n",
    "w4 = Param(randn(1,h3))\n",
    "b4 = Param(randn(1))\n",
    "w = (w1,w2,w3,w4)\n",
    "b = (b1,b2,b3,b4)"
   ]
  },
  {
   "cell_type": "code",
   "execution_count": null,
   "metadata": {},
   "outputs": [],
   "source": [
    "trainidx, testidx = mlp.gen_data(n, ntest)\n",
    "xtrn, ytrn, xtst, ytst = mlp.split_data(trainidx, testidx, n, ntest)"
   ]
  },
  {
   "cell_type": "code",
   "execution_count": null,
   "metadata": {},
   "outputs": [],
   "source": [
    "@time w, b, losstrn, losstst, rho = mlp.backprop(w, b, niter, trainidx, testidx, n, ntest, nbatch, (xdim, h1, h2, h3, ydim), rewire = true, LR = 0.1, p = 0.1);"
   ]
  },
  {
   "cell_type": "code",
   "execution_count": null,
   "metadata": {},
   "outputs": [],
   "source": [
    "plot(losstrn)\n",
    "plot!(losstst) "
   ]
  },
  {
   "cell_type": "code",
   "execution_count": null,
   "metadata": {},
   "outputs": [],
   "source": [
    "np=min(ntest,64)\n",
    "scatter(pred(w,b,xtst)[1:np]\n",
    "#    ,xlim=(0,np)\n",
    ")\n",
    "plot!(ytst[1:np])"
   ]
  },
  {
   "cell_type": "code",
   "execution_count": null,
   "metadata": {},
   "outputs": [],
   "source": [
    "# accuracy\n",
    "function acc(w,b,x,y)\n",
    "    cnt = 0\n",
    "    tot = length(x[1,:])\n",
    "    for i=1:tot-1\n",
    "        chk = (pred(w,b,x[:,i])[1] - y[i][1])^2\n",
    "        if (chk < 0.5)\n",
    "            cnt += 1\n",
    "        end\n",
    "    end\n",
    "    return 1.0*cnt/tot\n",
    "end"
   ]
  },
  {
   "cell_type": "code",
   "execution_count": null,
   "metadata": {},
   "outputs": [],
   "source": [
    "acc(w,b,xtrn,ytrn),acc(w,b,xtst,ytst)"
   ]
  },
  {
   "cell_type": "code",
   "execution_count": null,
   "metadata": {},
   "outputs": [],
   "source": [
    "sumtrn = 0.0; sumtst = 0.0\n",
    "\n",
    "for i=1:100\n",
    "    trainidx, testidx = mlp.gen_data(n, ntest)\n",
    "    xtrn, ytrn, xtst, ytst = mlp.split_data(trainidx, testidx, n, ntest)\n",
    "    sumtrn += acc(w, b, xtrn,ytrn); sumtst += acc(w, b, xtst,ytst)\n",
    "end\n",
    "\n",
    "(sumtrn/100,sumtst/100) # (overfitted but works)"
   ]
  },
  {
   "cell_type": "code",
   "execution_count": null,
   "metadata": {},
   "outputs": [],
   "source": [
    "# distribution of weights\n",
    "histogram(reshape(w1,:,1)[:,1],normalize=:pdf)"
   ]
  },
  {
   "cell_type": "code",
   "execution_count": null,
   "metadata": {},
   "outputs": [],
   "source": [
    "heatmap(abs.(value(w2)),aspect_ratio=1)"
   ]
  },
  {
   "cell_type": "code",
   "execution_count": null,
   "metadata": {},
   "outputs": [],
   "source": [
    "heatmap(abs.(value(w3)),aspect_ratio=1)"
   ]
  },
  {
   "cell_type": "code",
   "execution_count": null,
   "metadata": {},
   "outputs": [],
   "source": [
    "heatmap(abs.(value(w4)),aspect_ratio=1)"
   ]
  },
  {
   "cell_type": "code",
   "execution_count": null,
   "metadata": {},
   "outputs": [],
   "source": [
    "plot(rho)"
   ]
  },
  {
   "cell_type": "code",
   "execution_count": null,
   "metadata": {},
   "outputs": [],
   "source": []
  },
  {
   "cell_type": "code",
   "execution_count": null,
   "metadata": {},
   "outputs": [],
   "source": []
  }
 ],
 "metadata": {
  "kernelspec": {
   "display_name": "Julia 1.5.3",
   "language": "julia",
   "name": "julia-1.5"
  },
  "language_info": {
   "file_extension": ".jl",
   "mimetype": "application/julia",
   "name": "julia",
   "version": "1.5.3"
  }
 },
 "nbformat": 4,
 "nbformat_minor": 4
}
